{
 "cells": [
  {
   "cell_type": "markdown",
   "metadata": {},
   "source": [
    "# Download the data"
   ]
  },
  {
   "cell_type": "code",
   "execution_count": 1,
   "metadata": {},
   "outputs": [
    {
     "data": {
      "application/vnd.jupyter.widget-view+json": {
       "model_id": "1da63562d69241818c06d6192a3c741f",
       "version_major": 2,
       "version_minor": 0
      },
      "text/plain": [
       "Resolving data files:   0%|          | 0/257 [00:00<?, ?it/s]"
      ]
     },
     "metadata": {},
     "output_type": "display_data"
    },
    {
     "data": {
      "application/vnd.jupyter.widget-view+json": {
       "model_id": "a5e9239136214fc193d2625508a543e8",
       "version_major": 2,
       "version_minor": 0
      },
      "text/plain": [
       "Resolving data files:   0%|          | 0/386 [00:00<?, ?it/s]"
      ]
     },
     "metadata": {},
     "output_type": "display_data"
    },
    {
     "data": {
      "application/vnd.jupyter.widget-view+json": {
       "model_id": "c4683ab858bc4d4fbf1abf42b777e3d7",
       "version_major": 2,
       "version_minor": 0
      },
      "text/plain": [
       "Downloading data:   0%|          | 0/258 [00:00<?, ?files/s]"
      ]
     },
     "metadata": {},
     "output_type": "display_data"
    },
    {
     "data": {
      "application/vnd.jupyter.widget-view+json": {
       "model_id": "98751cc83aab4e2abae00535aaa4608a",
       "version_major": 2,
       "version_minor": 0
      },
      "text/plain": [
       "Downloading data:   0%|          | 0/387 [00:00<?, ?files/s]"
      ]
     },
     "metadata": {},
     "output_type": "display_data"
    },
    {
     "data": {
      "application/vnd.jupyter.widget-view+json": {
       "model_id": "cee5b344b5e549a696340f0e00d38d94",
       "version_major": 2,
       "version_minor": 0
      },
      "text/plain": [
       "Generating train split: 0 examples [00:00, ? examples/s]"
      ]
     },
     "metadata": {},
     "output_type": "display_data"
    },
    {
     "data": {
      "application/vnd.jupyter.widget-view+json": {
       "model_id": "64162cb8747a4c7a8dda49aaf29fd7c5",
       "version_major": 2,
       "version_minor": 0
      },
      "text/plain": [
       "Generating test split: 0 examples [00:00, ? examples/s]"
      ]
     },
     "metadata": {},
     "output_type": "display_data"
    }
   ],
   "source": [
    "from datasets import load_dataset\n",
    "\n",
    "# If the dataset is gated/private, make sure you have run huggingface-cli login\n",
    "hf_dataset = load_dataset(\"datadrivenscience/ship-detection\")"
   ]
  },
  {
   "cell_type": "code",
   "execution_count": 8,
   "metadata": {},
   "outputs": [
    {
     "name": "stdout",
     "output_type": "stream",
     "text": [
      "Images extracted and resized successfully.\n"
     ]
    }
   ],
   "source": [
    "import os\n",
    "from PIL import Image\n",
    "\n",
    "# Specify the split you want to extract the images from (e.g., \"train\", \"validation\", \"test\")\n",
    "split = \"train\"\n",
    "\n",
    "# Create a directory to store the extracted images\n",
    "output_dir = \"/home/strickvl/coding/zenml-projects/end-to-end-computer-vision/data/ships\"\n",
    "os.makedirs(output_dir, exist_ok=True)\n",
    "\n",
    "# Specify the maximum size for the resized images\n",
    "max_size = (1000, 1000)\n",
    "\n",
    "# Increase the maximum image size limit\n",
    "Image.MAX_IMAGE_PIXELS = 1_000_000_000  # Adjust the limit as needed\n",
    "\n",
    "# Iterate over the examples in the specified split\n",
    "for i, example in enumerate(hf_dataset[split]):\n",
    "    # Get the image data from the example\n",
    "    image_data = example[\"image\"]\n",
    "    \n",
    "    # Resize the image while maintaining the aspect ratio\n",
    "    image_data.thumbnail(max_size)\n",
    "    \n",
    "    # Generate a unique filename for the image\n",
    "    image_filename = f\"image_{i}.png\"\n",
    "    \n",
    "    # Save the resized image data to the output directory\n",
    "    image_path = os.path.join(output_dir, image_filename)\n",
    "    image_data.save(image_path)\n",
    "\n",
    "print(\"Images extracted and resized successfully.\")"
   ]
  },
  {
   "cell_type": "markdown",
   "metadata": {},
   "source": [
    "# Setup dataset"
   ]
  },
  {
   "cell_type": "code",
   "execution_count": 10,
   "metadata": {},
   "outputs": [
    {
     "name": "stdout",
     "output_type": "stream",
     "text": [
      "   0% ||----------------|   1/256 [5.2ms elapsed, 1.3s remaining, 191.7 samples/s] "
     ]
    },
    {
     "name": "stdout",
     "output_type": "stream",
     "text": [
      " 100% |█████████████████| 256/256 [24.8ms elapsed, 0s remaining, 10.3K samples/s]  \n",
      "Name:        ships\n",
      "Media type:  image\n",
      "Num samples: 256\n",
      "Persistent:  False\n",
      "Tags:        []\n",
      "Sample fields:\n",
      "    id:       fiftyone.core.fields.ObjectIdField\n",
      "    filepath: fiftyone.core.fields.StringField\n",
      "    tags:     fiftyone.core.fields.ListField(fiftyone.core.fields.StringField)\n",
      "    metadata: fiftyone.core.fields.EmbeddedDocumentField(fiftyone.core.metadata.ImageMetadata)\n",
      "[<Sample: {\n",
      "    'id': '6627738801d54b9ea7b3c377',\n",
      "    'media_type': 'image',\n",
      "    'filepath': '/home/strickvl/coding/zenml-projects/end-to-end-computer-vision/data/ships/image_0.png',\n",
      "    'tags': [],\n",
      "    'metadata': None,\n",
      "}>, <Sample: {\n",
      "    'id': '6627738801d54b9ea7b3c378',\n",
      "    'media_type': 'image',\n",
      "    'filepath': '/home/strickvl/coding/zenml-projects/end-to-end-computer-vision/data/ships/image_1.png',\n",
      "    'tags': [],\n",
      "    'metadata': None,\n",
      "}>, <Sample: {\n",
      "    'id': '6627738801d54b9ea7b3c379',\n",
      "    'media_type': 'image',\n",
      "    'filepath': '/home/strickvl/coding/zenml-projects/end-to-end-computer-vision/data/ships/image_10.png',\n",
      "    'tags': [],\n",
      "    'metadata': None,\n",
      "}>]\n"
     ]
    }
   ],
   "source": [
    "import fiftyone as fo\n",
    "\n",
    "name = \"ships\"\n",
    "\n",
    "# Create the dataset\n",
    "dataset = fo.Dataset.from_dir(\n",
    "    dataset_dir=output_dir,\n",
    "    dataset_type=fo.types.ImageDirectory,\n",
    "    name=name,\n",
    ")\n",
    "\n",
    "# View summary info about the dataset\n",
    "print(dataset)\n",
    "\n",
    "# Print the first few samples in the dataset\n",
    "print(dataset.head())"
   ]
  },
  {
   "cell_type": "markdown",
   "metadata": {},
   "source": [
    "# Make initial predictions using pre-trained Yolov8 model"
   ]
  },
  {
   "cell_type": "code",
   "execution_count": 11,
   "metadata": {},
   "outputs": [],
   "source": [
    "# Suppress Ultralytics logging\n",
    "import os; os.environ[\"YOLO_VERBOSE\"] = \"False\"\n",
    "\n",
    "import fiftyone as fo\n",
    "import fiftyone.zoo as foz\n",
    "import fiftyone.utils.ultralytics as fou\n",
    "\n",
    "from ultralytics import YOLO"
   ]
  },
  {
   "cell_type": "code",
   "execution_count": null,
   "metadata": {},
   "outputs": [],
   "source": [
    "# YOLOv8\n",
    "model = YOLO(\"yolov8s.pt\")\n",
    "\n",
    "dataset.apply_model(model, label_field=\"boxes\")\n",
    "\n",
    "session = fo.launch_app(dataset)"
   ]
  },
  {
   "cell_type": "code",
   "execution_count": 19,
   "metadata": {},
   "outputs": [
    {
     "name": "stdout",
     "output_type": "stream",
     "text": [
      "The backend 'labelstudio' does not support attributes. Provided attributes will be ignored.\n",
      "Uploading media to Label Studio...\n",
      "Upload complete\n",
      "Launching editor at 'http://localhost:8080/projects/8'...\n",
      "{\n",
      "    \"key\": \"shipdet1\",\n",
      "    \"version\": \"0.23.8\",\n",
      "    \"timestamp\": \"2024-04-23T08:51:56.926945\",\n",
      "    \"config\": {\n",
      "        \"cls\": \"fiftyone.utils.labelstudio.LabelStudioBackendConfig\",\n",
      "        \"type\": \"annotation\",\n",
      "        \"method\": \"labelstudio\",\n",
      "        \"name\": \"labelstudio\",\n",
      "        \"label_schema\": {\n",
      "            \"new_ground_truth\": {\n",
      "                \"type\": \"detections\",\n",
      "                \"classes\": [\n",
      "                    \"ship\"\n",
      "                ],\n",
      "                \"attributes\": {},\n",
      "                \"existing_field\": false\n",
      "            }\n",
      "        },\n",
      "        \"media_field\": \"filepath\",\n",
      "        \"url\": \"http://localhost:8080\",\n",
      "        \"project_name\": null\n",
      "    }\n",
      "}\n"
     ]
    }
   ],
   "source": [
    "\n",
    "# Step 3: Send samples to Label Studio\n",
    "\n",
    "# A unique identifier for this run\n",
    "anno_key = \"shipdet1\"\n",
    "\n",
    "label_schema = {\n",
    "    \"new_ground_truth\": {\n",
    "        \"type\": \"detections\",\n",
    "        \"classes\": [\"ship\"],\n",
    "    },\n",
    "}\n",
    "\n",
    "dataset.annotate(\n",
    "    anno_key,\n",
    "    backend=\"labelstudio\",\n",
    "    label_schema=label_schema,\n",
    "    launch_editor=True,\n",
    "    url=\"http://localhost:8080\",\n",
    "    api_key=\"9896fa7abd15277ab9046842469fe3c2ec17e0bb\"\n",
    ")\n",
    "print(dataset.get_annotation_info(anno_key))\n",
    "\n",
    "# Step 4: Perform annotation in Label Studio and save the tasks"
   ]
  },
  {
   "cell_type": "code",
   "execution_count": 20,
   "metadata": {},
   "outputs": [
    {
     "name": "stdout",
     "output_type": "stream",
     "text": [
      "Downloading labels from Label Studio...\n",
      "Download complete\n",
      "Loading labels for field 'new_ground_truth'...\n",
      " 100% |███████████████████| 15/15 [12.7ms elapsed, 0s remaining, 1.2K samples/s] \n"
     ]
    },
    {
     "data": {
      "text/html": [
       "\n",
       "        <iframe\n",
       "            width=\"100%\"\n",
       "            height=\"800\"\n",
       "            src=\"http://localhost:5151/?notebook=True&subscription=1bb98b2d-af0a-4154-9edf-46a9080e7c75\"\n",
       "            frameborder=\"0\"\n",
       "            allowfullscreen\n",
       "            \n",
       "        ></iframe>\n",
       "        "
      ],
      "text/plain": [
       "<IPython.lib.display.IFrame at 0x7aa725c06170>"
      ]
     },
     "metadata": {},
     "output_type": "display_data"
    }
   ],
   "source": [
    "import fiftyone as fo\n",
    "\n",
    "# Step 5: Merge annotations back into FiftyOne dataset\n",
    "\n",
    "dataset = fo.load_dataset(name)\n",
    "dataset.load_annotations(anno_key)\n",
    "\n",
    "# Load the view that was annotated in the App\n",
    "view = dataset.load_annotation_view(anno_key)\n",
    "session = fo.launch_app(view=view)\n"
   ]
  },
  {
   "cell_type": "code",
   "execution_count": null,
   "metadata": {},
   "outputs": [],
   "source": []
  }
 ],
 "metadata": {
  "kernelspec": {
   "display_name": "ls51",
   "language": "python",
   "name": "python3"
  },
  "language_info": {
   "codemirror_mode": {
    "name": "ipython",
    "version": 3
   },
   "file_extension": ".py",
   "mimetype": "text/x-python",
   "name": "python",
   "nbconvert_exporter": "python",
   "pygments_lexer": "ipython3",
   "version": "3.10.12"
  }
 },
 "nbformat": 4,
 "nbformat_minor": 2
}
