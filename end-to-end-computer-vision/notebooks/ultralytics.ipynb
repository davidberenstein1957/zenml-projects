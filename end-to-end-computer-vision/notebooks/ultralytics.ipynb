{
 "cells": [
  {
   "cell_type": "markdown",
   "metadata": {},
   "source": [
    "# Ultralytics & Fiftyone: YOLOv5 Training and Inference"
   ]
  },
  {
   "cell_type": "code",
   "execution_count": 2,
   "metadata": {},
   "outputs": [
    {
     "name": "stdout",
     "output_type": "stream",
     "text": [
      "Migrating database to v0.23.8\n",
      "Downloading dataset to '/home/strickvl/fiftyone/quickstart'\n",
      "Downloading dataset...\n",
      " 100% |████|  187.5Mb/187.5Mb [443.0ms elapsed, 0s remaining, 423.3Mb/s]      \n",
      "Extracting dataset...\n",
      "Parsing dataset metadata\n",
      "Found 200 samples\n",
      "Dataset info written to '/home/strickvl/fiftyone/quickstart/info.json'\n",
      "Loading 'quickstart'\n",
      " 100% |███████████████████| 25/25 [132.0ms elapsed, 0s remaining, 190.8 samples/s]    \n",
      "Dataset 'quickstart-25' created\n"
     ]
    }
   ],
   "source": [
    "# Suppress Ultralytics logging\n",
    "import os; os.environ[\"YOLO_VERBOSE\"] = \"False\"\n",
    "\n",
    "import fiftyone as fo\n",
    "import fiftyone.zoo as foz\n",
    "import fiftyone.utils.ultralytics as fou\n",
    "\n",
    "from ultralytics import YOLO\n",
    "\n",
    "# Load an example dataset\n",
    "dataset = foz.load_zoo_dataset(\"quickstart\", max_samples=25)\n",
    "dataset.select_fields().keep_fields()"
   ]
  },
  {
   "cell_type": "code",
   "execution_count": null,
   "metadata": {},
   "outputs": [],
   "source": [
    "# YOLOv8\n",
    "model = YOLO(\"yolov8s.pt\")\n",
    "# model = YOLO(\"yolov8m.pt\")\n",
    "# model = YOLO(\"yolov8l.pt\")\n",
    "# model = YOLO(\"yolov8x.pt\")\n",
    "\n",
    "# YOLOv5\n",
    "# model = YOLO(\"yolov5s.pt\")\n",
    "# model = YOLO(\"yolov5m.pt\")\n",
    "# model = YOLO(\"yolov5l.pt\")\n",
    "# model = YOLO(\"yolov5x.pt\")\n",
    "\n",
    "# YOLOv9\n",
    "# model = YOLO(\"yolov9c.pt\")\n",
    "# model = YOLO(\"yolov9e.pt\")\n",
    "\n",
    "dataset.apply_model(model, label_field=\"boxes\")\n",
    "\n",
    "session = fo.launch_app(dataset)"
   ]
  },
  {
   "cell_type": "code",
   "execution_count": 4,
   "metadata": {},
   "outputs": [
    {
     "name": "stdout",
     "output_type": "stream",
     "text": [
      " 100% |███████████████████| 25/25 [246.4ms elapsed, 0s remaining, 101.5 samples/s]     \n"
     ]
    }
   ],
   "source": [
    "for sample in dataset.iter_samples(progress=True):\n",
    "    result = model(sample.filepath)[0]\n",
    "    sample[\"boxes\"] = fou.to_detections(result)\n",
    "    sample.save()"
   ]
  },
  {
   "cell_type": "code",
   "execution_count": 5,
   "metadata": {},
   "outputs": [
    {
     "data": {
      "text/plain": [
       "<Sample: {\n",
       "    'id': '66274bab431e9d625bae8433',\n",
       "    'media_type': 'image',\n",
       "    'filepath': '/home/strickvl/fiftyone/quickstart/data/000773.jpg',\n",
       "    'tags': ['validation'],\n",
       "    'metadata': None,\n",
       "    'boxes': <Detections: {\n",
       "        'detections': [\n",
       "            <Detection: {\n",
       "                'id': '66274c6b431e9d625bae84e2',\n",
       "                'attributes': {},\n",
       "                'tags': [],\n",
       "                'label': 'dog',\n",
       "                'bounding_box': [\n",
       "                    0.34100817143917084,\n",
       "                    0.41812171041965485,\n",
       "                    0.4287475645542145,\n",
       "                    0.3426543176174164,\n",
       "                ],\n",
       "                'mask': None,\n",
       "                'confidence': 0.9282082915306091,\n",
       "                'index': None,\n",
       "            }>,\n",
       "            <Detection: {\n",
       "                'id': '66274c6b431e9d625bae84e3',\n",
       "                'attributes': {},\n",
       "                'tags': [],\n",
       "                'label': 'dog',\n",
       "                'bounding_box': [\n",
       "                    0.21329393982887268,\n",
       "                    0.41850730776786804,\n",
       "                    0.2996857762336731,\n",
       "                    0.27028924226760864,\n",
       "                ],\n",
       "                'mask': None,\n",
       "                'confidence': 0.8784336447715759,\n",
       "                'index': None,\n",
       "            }>,\n",
       "            <Detection: {\n",
       "                'id': '66274c6b431e9d625bae84e4',\n",
       "                'attributes': {},\n",
       "                'tags': [],\n",
       "                'label': 'frisbee',\n",
       "                'bounding_box': [\n",
       "                    0.21127808094024658,\n",
       "                    0.5156642571091652,\n",
       "                    0.08576250076293945,\n",
       "                    0.06003062427043915,\n",
       "                ],\n",
       "                'mask': None,\n",
       "                'confidence': 0.8381363153457642,\n",
       "                'index': None,\n",
       "            }>,\n",
       "        ],\n",
       "    }>,\n",
       "}>"
      ]
     },
     "execution_count": 5,
     "metadata": {},
     "output_type": "execute_result"
    }
   ],
   "source": [
    "sample"
   ]
  },
  {
   "cell_type": "code",
   "execution_count": null,
   "metadata": {},
   "outputs": [],
   "source": [
    "dataset = foz.load_zoo_dataset(\n",
    "    \"coco-2017\",\n",
    "    split=\"validation\",\n",
    "    label_types=[\"detections\"],\n",
    "    classes=[\"cat\", \"dog\"],\n",
    "    max_samples=25,\n",
    "    dataset_name=\"coco-2017-validation-cats-dogs-detections\",\n",
    ")\n",
    "\n",
    "session = fo.launch_app(dataset)"
   ]
  },
  {
   "cell_type": "code",
   "execution_count": 25,
   "metadata": {},
   "outputs": [
    {
     "name": "stdout",
     "output_type": "stream",
     "text": [
      " 100% |███████████████████| 25/25 [381.8ms elapsed, 0s remaining, 65.5 samples/s]      \n"
     ]
    }
   ],
   "source": [
    "dataset.apply_model(model, label_field=\"boxes\")"
   ]
  },
  {
   "cell_type": "code",
   "execution_count": 27,
   "metadata": {},
   "outputs": [
    {
     "data": {
      "text/html": [
       "\n",
       "        <iframe\n",
       "            width=\"100%\"\n",
       "            height=\"800\"\n",
       "            src=\"http://localhost:5151/?notebook=True&subscription=387ee9fd-cd31-40ce-b4e8-1861f181fe66\"\n",
       "            frameborder=\"0\"\n",
       "            allowfullscreen\n",
       "            \n",
       "        ></iframe>\n",
       "        "
      ],
      "text/plain": [
       "<IPython.lib.display.IFrame at 0x754b68107730>"
      ]
     },
     "metadata": {},
     "output_type": "display_data"
    }
   ],
   "source": [
    "session = fo.launch_app(dataset)"
   ]
  },
  {
   "cell_type": "code",
   "execution_count": 28,
   "metadata": {},
   "outputs": [
    {
     "name": "stdout",
     "output_type": "stream",
     "text": [
      " 100% |███████████████████| 25/25 [281.6ms elapsed, 0s remaining, 88.8 samples/s]      \n"
     ]
    }
   ],
   "source": [
    "# convert the detections to FiftyOne format\n",
    "\n",
    "for sample in dataset.iter_samples(progress=True):\n",
    "    result = model(sample.filepath)[0]\n",
    "    sample[\"boxes\"] = fou.to_detections(result)\n",
    "    sample.save()"
   ]
  },
  {
   "cell_type": "code",
   "execution_count": 30,
   "metadata": {},
   "outputs": [
    {
     "data": {
      "text/html": [
       "<pre style=\"white-space:pre;overflow-x:auto;line-height:normal;font-family:Menlo,'DejaVu Sans Mono',consolas,'Courier New',monospace\"><span style=\"font-weight: bold\">[</span>\n",
       "    <span style=\"color: #008000; text-decoration-color: #008000\">'yolo-nas-torch'</span>,\n",
       "    <span style=\"color: #008000; text-decoration-color: #008000\">'yolov5l-coco-torch'</span>,\n",
       "    <span style=\"color: #008000; text-decoration-color: #008000\">'yolov5m-coco-torch'</span>,\n",
       "    <span style=\"color: #008000; text-decoration-color: #008000\">'yolov5n-coco-torch'</span>,\n",
       "    <span style=\"color: #008000; text-decoration-color: #008000\">'yolov5s-coco-torch'</span>,\n",
       "    <span style=\"color: #008000; text-decoration-color: #008000\">'yolov5x-coco-torch'</span>,\n",
       "    <span style=\"color: #008000; text-decoration-color: #008000\">'yolov8l-coco-torch'</span>,\n",
       "    <span style=\"color: #008000; text-decoration-color: #008000\">'yolov8l-obb-dotav1-torch'</span>,\n",
       "    <span style=\"color: #008000; text-decoration-color: #008000\">'yolov8l-seg-coco-torch'</span>,\n",
       "    <span style=\"color: #008000; text-decoration-color: #008000\">'yolov8l-world-torch'</span>,\n",
       "    <span style=\"color: #008000; text-decoration-color: #008000\">'yolov8m-coco-torch'</span>,\n",
       "    <span style=\"color: #008000; text-decoration-color: #008000\">'yolov8m-obb-dotav1-torch'</span>,\n",
       "    <span style=\"color: #008000; text-decoration-color: #008000\">'yolov8m-seg-coco-torch'</span>,\n",
       "    <span style=\"color: #008000; text-decoration-color: #008000\">'yolov8m-world-torch'</span>,\n",
       "    <span style=\"color: #008000; text-decoration-color: #008000\">'yolov8n-coco-torch'</span>,\n",
       "    <span style=\"color: #008000; text-decoration-color: #008000\">'yolov8n-obb-dotav1-torch'</span>,\n",
       "    <span style=\"color: #008000; text-decoration-color: #008000\">'yolov8n-seg-coco-torch'</span>,\n",
       "    <span style=\"color: #008000; text-decoration-color: #008000\">'yolov8s-coco-torch'</span>,\n",
       "    <span style=\"color: #008000; text-decoration-color: #008000\">'yolov8s-obb-dotav1-torch'</span>,\n",
       "    <span style=\"color: #008000; text-decoration-color: #008000\">'yolov8s-seg-coco-torch'</span>,\n",
       "    <span style=\"color: #008000; text-decoration-color: #008000\">'yolov8s-world-torch'</span>,\n",
       "    <span style=\"color: #008000; text-decoration-color: #008000\">'yolov8x-coco-torch'</span>,\n",
       "    <span style=\"color: #008000; text-decoration-color: #008000\">'yolov8x-obb-dotav1-torch'</span>,\n",
       "    <span style=\"color: #008000; text-decoration-color: #008000\">'yolov8x-seg-coco-torch'</span>,\n",
       "    <span style=\"color: #008000; text-decoration-color: #008000\">'yolov8x-world-torch'</span>,\n",
       "    <span style=\"color: #008000; text-decoration-color: #008000\">'yolov9c-coco-torch'</span>,\n",
       "    <span style=\"color: #008000; text-decoration-color: #008000\">'yolov9c-seg-coco-torch'</span>,\n",
       "    <span style=\"color: #008000; text-decoration-color: #008000\">'yolov9e-coco-torch'</span>,\n",
       "    <span style=\"color: #008000; text-decoration-color: #008000\">'yolov9e-seg-coco-torch'</span>\n",
       "<span style=\"font-weight: bold\">]</span>\n",
       "</pre>\n"
      ],
      "text/plain": [
       "\u001b[1m[\u001b[0m\n",
       "    \u001b[32m'yolo-nas-torch'\u001b[0m,\n",
       "    \u001b[32m'yolov5l-coco-torch'\u001b[0m,\n",
       "    \u001b[32m'yolov5m-coco-torch'\u001b[0m,\n",
       "    \u001b[32m'yolov5n-coco-torch'\u001b[0m,\n",
       "    \u001b[32m'yolov5s-coco-torch'\u001b[0m,\n",
       "    \u001b[32m'yolov5x-coco-torch'\u001b[0m,\n",
       "    \u001b[32m'yolov8l-coco-torch'\u001b[0m,\n",
       "    \u001b[32m'yolov8l-obb-dotav1-torch'\u001b[0m,\n",
       "    \u001b[32m'yolov8l-seg-coco-torch'\u001b[0m,\n",
       "    \u001b[32m'yolov8l-world-torch'\u001b[0m,\n",
       "    \u001b[32m'yolov8m-coco-torch'\u001b[0m,\n",
       "    \u001b[32m'yolov8m-obb-dotav1-torch'\u001b[0m,\n",
       "    \u001b[32m'yolov8m-seg-coco-torch'\u001b[0m,\n",
       "    \u001b[32m'yolov8m-world-torch'\u001b[0m,\n",
       "    \u001b[32m'yolov8n-coco-torch'\u001b[0m,\n",
       "    \u001b[32m'yolov8n-obb-dotav1-torch'\u001b[0m,\n",
       "    \u001b[32m'yolov8n-seg-coco-torch'\u001b[0m,\n",
       "    \u001b[32m'yolov8s-coco-torch'\u001b[0m,\n",
       "    \u001b[32m'yolov8s-obb-dotav1-torch'\u001b[0m,\n",
       "    \u001b[32m'yolov8s-seg-coco-torch'\u001b[0m,\n",
       "    \u001b[32m'yolov8s-world-torch'\u001b[0m,\n",
       "    \u001b[32m'yolov8x-coco-torch'\u001b[0m,\n",
       "    \u001b[32m'yolov8x-obb-dotav1-torch'\u001b[0m,\n",
       "    \u001b[32m'yolov8x-seg-coco-torch'\u001b[0m,\n",
       "    \u001b[32m'yolov8x-world-torch'\u001b[0m,\n",
       "    \u001b[32m'yolov9c-coco-torch'\u001b[0m,\n",
       "    \u001b[32m'yolov9c-seg-coco-torch'\u001b[0m,\n",
       "    \u001b[32m'yolov9e-coco-torch'\u001b[0m,\n",
       "    \u001b[32m'yolov9e-seg-coco-torch'\u001b[0m\n",
       "\u001b[1m]\u001b[0m\n"
      ]
     },
     "metadata": {},
     "output_type": "display_data"
    }
   ],
   "source": [
    "# see supported ultralytics models\n",
    "from rich import print\n",
    "print(foz.list_zoo_models(tags=\"yolo\"))"
   ]
  },
  {
   "cell_type": "code",
   "execution_count": null,
   "metadata": {},
   "outputs": [],
   "source": []
  }
 ],
 "metadata": {
  "kernelspec": {
   "display_name": "ls51",
   "language": "python",
   "name": "python3"
  },
  "language_info": {
   "codemirror_mode": {
    "name": "ipython",
    "version": 3
   },
   "file_extension": ".py",
   "mimetype": "text/x-python",
   "name": "python",
   "nbconvert_exporter": "python",
   "pygments_lexer": "ipython3",
   "version": "3.10.12"
  }
 },
 "nbformat": 4,
 "nbformat_minor": 2
}
