{
 "cells": [
  {
   "cell_type": "code",
   "execution_count": 4,
   "metadata": {},
   "outputs": [
    {
     "name": "stdout",
     "output_type": "stream",
     "text": [
      "Note: you may need to restart the kernel to use updated packages.\n",
      "Note: you may need to restart the kernel to use updated packages.\n",
      "Note: you may need to restart the kernel to use updated packages.\n"
     ]
    }
   ],
   "source": [
    "%pip install -q -U distilabel \"farm-haystack[preprocessing]\"\n",
    "%pip install -q -U \"distilabel[hf-inference-endpoints, argilla]\"\n",
    "%pip install -q -U ollama openai"
   ]
  },
  {
   "cell_type": "code",
   "execution_count": 1,
   "metadata": {},
   "outputs": [
    {
     "data": {
      "text/html": [
       "<pre style=\"white-space:pre;overflow-x:auto;line-height:normal;font-family:Menlo,'DejaVu Sans Mono',consolas,'Courier New',monospace\"><span style=\"color: #7fbfbf; text-decoration-color: #7fbfbf\">15:49:37 </span><span style=\"color: #000080; text-decoration-color: #000080\">INFO    </span> <span style=\"font-weight: bold\">[</span>PID: <span style=\"color: #008080; text-decoration-color: #008080; font-weight: bold\">12332</span><span style=\"font-weight: bold\">]</span> PyTorch version <span style=\"color: #008080; text-decoration-color: #008080; font-weight: bold\">2.1</span>.<span style=\"color: #008080; text-decoration-color: #008080; font-weight: bold\">2</span> available.                                        <a href=\"file:///home/strickvl/coding/zenml-projects/llm-lora-finetuning/datagen/lib/python3.10/site-packages/datasets/config.py\" target=\"_blank\"><span style=\"color: #7f7f7f; text-decoration-color: #7f7f7f\">config.py</span></a><span style=\"color: #7f7f7f; text-decoration-color: #7f7f7f\">:</span><a href=\"file:///home/strickvl/coding/zenml-projects/llm-lora-finetuning/datagen/lib/python3.10/site-packages/datasets/config.py#58\" target=\"_blank\"><span style=\"color: #7f7f7f; text-decoration-color: #7f7f7f\">58</span></a>\n",
       "</pre>\n"
      ],
      "text/plain": [
       "\u001b[2;36m15:49:37\u001b[0m\u001b[2;36m \u001b[0m\u001b[34mINFO    \u001b[0m \u001b[1m[\u001b[0mPID: \u001b[1;36m12332\u001b[0m\u001b[1m]\u001b[0m PyTorch version \u001b[1;36m2.1\u001b[0m.\u001b[1;36m2\u001b[0m available.                                        \u001b]8;id=413415;file:///home/strickvl/coding/zenml-projects/llm-lora-finetuning/datagen/lib/python3.10/site-packages/datasets/config.py\u001b\\\u001b[2mconfig.py\u001b[0m\u001b]8;;\u001b\\\u001b[2m:\u001b[0m\u001b]8;id=961374;file:///home/strickvl/coding/zenml-projects/llm-lora-finetuning/datagen/lib/python3.10/site-packages/datasets/config.py#58\u001b\\\u001b[2m58\u001b[0m\u001b]8;;\u001b\\\n"
      ]
     },
     "metadata": {},
     "output_type": "display_data"
    }
   ],
   "source": [
    "import os\n",
    "from typing import Dict\n",
    "\n",
    "from distilabel.llm import OllamaLLM\n",
    "from distilabel.pipeline import Pipeline, pipeline\n",
    "from distilabel.tasks import TextGenerationTask, SelfInstructTask, Prompt\n",
    "\n",
    "from datasets import Dataset\n",
    "from haystack.nodes import PDFToTextConverter, PreProcessor"
   ]
  },
  {
   "cell_type": "code",
   "execution_count": 18,
   "metadata": {},
   "outputs": [],
   "source": [
    "os.environ['OPENAI_API_KEY'] = \"MY_KEY_GOES_HERE\""
   ]
  },
  {
   "cell_type": "code",
   "execution_count": 3,
   "metadata": {},
   "outputs": [],
   "source": [
    "class QuestionAnsweringTask(TextGenerationTask):\n",
    "    def generate_prompt(self, question: str) -> str:\n",
    "        return Prompt(\n",
    "            system_prompt=self.system_prompt,\n",
    "            formatted_prompt=question,\n",
    "        ).format_as(\n",
    "            \"openai\"\n",
    "        )  # type: ignore\n",
    "\n",
    "    def parse_output(self, output: str) -> Dict[str, str]:\n",
    "        return {\"answer\": output.strip()}\n",
    "\n",
    "    @property\n",
    "    def input_args_names(self) -> list[str]:\n",
    "        return [\"question\"]\n",
    "\n",
    "    @property\n",
    "    def output_args_names(self) -> list[str]:\n",
    "        return [\"answer\"]"
   ]
  },
  {
   "cell_type": "code",
   "execution_count": 4,
   "metadata": {},
   "outputs": [],
   "source": [
    "from distilabel.llm import OllamaLLM\n",
    "\n",
    "llm = OllamaLLM(\n",
    "    model=\"mixtral\",  # should be deployed via `ollama notus:7b-v1-q5_K_M`\n",
    "    task=QuestionAnsweringTask(),\n",
    "    prompt_format=\"openai\",\n",
    ")"
   ]
  },
  {
   "cell_type": "code",
   "execution_count": 17,
   "metadata": {},
   "outputs": [
    {
     "data": {
      "text/plain": [
       "'The second most populated city in Denmark is Aarhus. The most populated city in Denmark is Copenhagen, which is also the capital of the country. Aarhus is an important port and the second largest city in Denmark, located on the east coast of the Jutland peninsula. It has a population of approximately 270,000 people.'"
      ]
     },
     "execution_count": 17,
     "metadata": {},
     "output_type": "execute_result"
    }
   ],
   "source": [
    "generation = llm.generate(\n",
    "    [{\"question\": \"What's the second most populated city in Denmark?\"}]\n",
    ")\n",
    "\n",
    "generation[0][0][\"parsed_output\"][\"answer\"]"
   ]
  },
  {
   "cell_type": "code",
   "execution_count": 21,
   "metadata": {},
   "outputs": [
    {
     "name": "stdout",
     "output_type": "stream",
     "text": [
      "\u001b[2K\u001b[32m⠸\u001b[0m Installing integrations.....\n",
      "\u001b[1A\u001b[2K"
     ]
    }
   ],
   "source": [
    "!zenml integration install s3 -y"
   ]
  },
  {
   "cell_type": "code",
   "execution_count": 8,
   "metadata": {},
   "outputs": [
    {
     "name": "stdout",
     "output_type": "stream",
     "text": [
      "\u001b[33mCould not import GCP service connector: No module named 'google.api_core'.\u001b[0m\n",
      "\u001b[33mCould not import Azure service connector: No module named 'azure.identity'.\u001b[0m\n",
      "\u001b[33mCould not import Kubernetes service connector: No module named 'kubernetes'.\u001b[0m\n",
      "\u001b[33mCould not import HyperAI service connector: No module named 'paramiko'.\u001b[0m\n"
     ]
    }
   ],
   "source": [
    "from zenml.client import Client\n",
    "\n",
    "artifact = Client().get_artifact_version('86ba966e-66d1-4c79-a464-8bfff65300a0')\n",
    "loaded_artifact = artifact.load()"
   ]
  },
  {
   "cell_type": "code",
   "execution_count": 9,
   "metadata": {},
   "outputs": [
    {
     "name": "stderr",
     "output_type": "stream",
     "text": [
      "Preprocessing:   0%|          | 0/165 [00:00<?, ?docs/s]"
     ]
    },
    {
     "data": {
      "text/html": [
       "<pre style=\"white-space:pre;overflow-x:auto;line-height:normal;font-family:Menlo,'DejaVu Sans Mono',consolas,'Courier New',monospace\"><span style=\"color: #7fbfbf; text-decoration-color: #7fbfbf\">15:35:41 </span><span style=\"color: #800000; text-decoration-color: #800000\">WARNING </span> <span style=\"font-weight: bold\">[</span>PID: <span style=\"color: #008080; text-decoration-color: #008080; font-weight: bold\">11692</span><span style=\"font-weight: bold\">]</span> We found one or more sentences whose split count is higher than  <a href=\"file:///home/strickvl/coding/zenml-projects/llm-lora-finetuning/datagen/lib/python3.10/site-packages/haystack/nodes/preprocessor/preprocessor.py\" target=\"_blank\"><span style=\"color: #7f7f7f; text-decoration-color: #7f7f7f\">preprocessor.py</span></a><span style=\"color: #7f7f7f; text-decoration-color: #7f7f7f\">:</span><a href=\"file:///home/strickvl/coding/zenml-projects/llm-lora-finetuning/datagen/lib/python3.10/site-packages/haystack/nodes/preprocessor/preprocessor.py#516\" target=\"_blank\"><span style=\"color: #7f7f7f; text-decoration-color: #7f7f7f\">516</span></a>\n",
       "<span style=\"color: #7fbfbf; text-decoration-color: #7fbfbf\">         </span>         the split length.                                                             <span style=\"color: #7f7f7f; text-decoration-color: #7f7f7f\">                   </span>\n",
       "</pre>\n"
      ],
      "text/plain": [
       "\u001b[2;36m15:35:41\u001b[0m\u001b[2;36m \u001b[0m\u001b[31mWARNING \u001b[0m \u001b[1m[\u001b[0mPID: \u001b[1;36m11692\u001b[0m\u001b[1m]\u001b[0m We found one or more sentences whose split count is higher than  \u001b]8;id=965334;file:///home/strickvl/coding/zenml-projects/llm-lora-finetuning/datagen/lib/python3.10/site-packages/haystack/nodes/preprocessor/preprocessor.py\u001b\\\u001b[2mpreprocessor.py\u001b[0m\u001b]8;;\u001b\\\u001b[2m:\u001b[0m\u001b]8;id=358233;file:///home/strickvl/coding/zenml-projects/llm-lora-finetuning/datagen/lib/python3.10/site-packages/haystack/nodes/preprocessor/preprocessor.py#516\u001b\\\u001b[2m516\u001b[0m\u001b]8;;\u001b\\\n",
       "\u001b[2;36m         \u001b[0m         the split length.                                                             \u001b[2m                   \u001b[0m\n"
      ]
     },
     "metadata": {},
     "output_type": "display_data"
    },
    {
     "name": "stdout",
     "output_type": "stream",
     "text": [
      "\u001b[33mWe found one or more sentences whose split count is higher than the split length.\u001b[0m\n"
     ]
    },
    {
     "name": "stderr",
     "output_type": "stream",
     "text": [
      "Preprocessing: 100%|██████████| 165/165 [00:00<00:00, 390.05docs/s]\n"
     ]
    }
   ],
   "source": [
    "preprocessor = PreProcessor(\n",
    "    clean_empty_lines=True,\n",
    "    clean_whitespace=True,\n",
    "    clean_header_footer=True,\n",
    "    split_by=\"word\",\n",
    "    split_length=150,\n",
    "    split_respect_sentence_boundary=True,\n",
    ")\n",
    "raw_texts = [{\"content\": doc.page_content} for doc in loaded_artifact]\n",
    "docs = preprocessor.process(raw_texts)"
   ]
  },
  {
   "cell_type": "code",
   "execution_count": 10,
   "metadata": {},
   "outputs": [
    {
     "data": {
      "text/plain": [
       "'An end-to-end project\\n\\nPut your new knowledge in action with an end-to-end project\\n\\nThat was awesome! We learned so many advanced MLOps production concepts:\\n\\nThe value of deploying ZenML\\u200b\\n\\nAbstracting infrastructure configuration into stacks\\u200b\\n\\n\\u200bConnecting remote storage\\u200b\\n\\n\\u200bOrchestrating on the cloud\\u200b\\n\\n\\u200bConfiguring the pipeline to scale compute\\u200b\\n\\n\\u200bConnecting a git repository\\u200b\\n\\nWe will now combine all of these concepts into an end-to-end MLOps project powered by ZenML.\\n\\nGet started\\n\\nStart with a f'"
      ]
     },
     "execution_count": 10,
     "metadata": {},
     "output_type": "execute_result"
    }
   ],
   "source": [
    "inputs = [doc.content for doc in docs]\n",
    "inputs[0][0:500]"
   ]
  },
  {
   "cell_type": "code",
   "execution_count": 11,
   "metadata": {},
   "outputs": [
    {
     "data": {
      "text/plain": [
       "Dataset({\n",
       "    features: ['input'],\n",
       "    num_rows: 50\n",
       "})"
      ]
     },
     "execution_count": 11,
     "metadata": {},
     "output_type": "execute_result"
    }
   ],
   "source": [
    "instructions_dataset = Dataset.from_dict({\"input\": inputs[0:50]})\n",
    "\n",
    "instructions_dataset"
   ]
  },
  {
   "cell_type": "code",
   "execution_count": 12,
   "metadata": {},
   "outputs": [],
   "source": [
    "instructions_task = SelfInstructTask(\n",
    "    application_description=\"An assistant that can answer questions about the open-source MLOps framework ZenML.\"\n",
    ")"
   ]
  },
  {
   "cell_type": "code",
   "execution_count": 13,
   "metadata": {},
   "outputs": [],
   "source": [
    "instructions_generator = OllamaLLM(\n",
    "    model=\"mixtral\",\n",
    "    task=instructions_task,\n",
    ")\n",
    "\n",
    "instructions_pipeline = Pipeline(generator=instructions_generator)"
   ]
  },
  {
   "cell_type": "code",
   "execution_count": 14,
   "metadata": {},
   "outputs": [
    {
     "data": {
      "text/html": [
       "<pre style=\"white-space:pre;overflow-x:auto;line-height:normal;font-family:Menlo,'DejaVu Sans Mono',consolas,'Courier New',monospace\"><span style=\"color: #7fbfbf; text-decoration-color: #7fbfbf\">15:35:42 </span><span style=\"color: #000080; text-decoration-color: #000080\">INFO    </span> <span style=\"font-weight: bold\">[</span>PID: <span style=\"color: #008080; text-decoration-color: #008080; font-weight: bold\">11692</span><span style=\"font-weight: bold\">]</span> Executing dry-run<span style=\"color: #808000; text-decoration-color: #808000\">...</span>                                                 <a href=\"file:///home/strickvl/coding/zenml-projects/llm-lora-finetuning/datagen/lib/python3.10/site-packages/distilabel/pipeline.py\" target=\"_blank\"><span style=\"color: #7f7f7f; text-decoration-color: #7f7f7f\">pipeline.py</span></a><span style=\"color: #7f7f7f; text-decoration-color: #7f7f7f\">:</span><a href=\"file:///home/strickvl/coding/zenml-projects/llm-lora-finetuning/datagen/lib/python3.10/site-packages/distilabel/pipeline.py#747\" target=\"_blank\"><span style=\"color: #7f7f7f; text-decoration-color: #7f7f7f\">747</span></a>\n",
       "</pre>\n"
      ],
      "text/plain": [
       "\u001b[2;36m15:35:42\u001b[0m\u001b[2;36m \u001b[0m\u001b[34mINFO    \u001b[0m \u001b[1m[\u001b[0mPID: \u001b[1;36m11692\u001b[0m\u001b[1m]\u001b[0m Executing dry-run\u001b[33m...\u001b[0m                                                 \u001b]8;id=120821;file:///home/strickvl/coding/zenml-projects/llm-lora-finetuning/datagen/lib/python3.10/site-packages/distilabel/pipeline.py\u001b\\\u001b[2mpipeline.py\u001b[0m\u001b]8;;\u001b\\\u001b[2m:\u001b[0m\u001b]8;id=894906;file:///home/strickvl/coding/zenml-projects/llm-lora-finetuning/datagen/lib/python3.10/site-packages/distilabel/pipeline.py#747\u001b\\\u001b[2m747\u001b[0m\u001b]8;;\u001b\\\n"
      ]
     },
     "metadata": {},
     "output_type": "display_data"
    },
    {
     "name": "stdout",
     "output_type": "stream",
     "text": [
      "\u001b[1;35mExecuting dry-run...\u001b[0m\n"
     ]
    },
    {
     "data": {
      "text/html": [
       "<pre style=\"white-space:pre;overflow-x:auto;line-height:normal;font-family:Menlo,'DejaVu Sans Mono',consolas,'Courier New',monospace\"><span style=\"color: #7fbfbf; text-decoration-color: #7fbfbf\">         </span><span style=\"color: #000080; text-decoration-color: #000080\">INFO    </span> <span style=\"font-weight: bold\">[</span>PID: <span style=\"color: #008080; text-decoration-color: #008080; font-weight: bold\">11692</span><span style=\"font-weight: bold\">]</span> Processing batch <span style=\"color: #008080; text-decoration-color: #008080; font-weight: bold\">1</span> of <span style=\"color: #008080; text-decoration-color: #008080; font-weight: bold\">1</span><span style=\"color: #808000; text-decoration-color: #808000\">...</span>                                           <a href=\"file:///home/strickvl/coding/zenml-projects/llm-lora-finetuning/datagen/lib/python3.10/site-packages/distilabel/pipeline.py\" target=\"_blank\"><span style=\"color: #7f7f7f; text-decoration-color: #7f7f7f\">pipeline.py</span></a><span style=\"color: #7f7f7f; text-decoration-color: #7f7f7f\">:</span><a href=\"file:///home/strickvl/coding/zenml-projects/llm-lora-finetuning/datagen/lib/python3.10/site-packages/distilabel/pipeline.py#577\" target=\"_blank\"><span style=\"color: #7f7f7f; text-decoration-color: #7f7f7f\">577</span></a>\n",
       "</pre>\n"
      ],
      "text/plain": [
       "\u001b[2;36m        \u001b[0m\u001b[2;36m \u001b[0m\u001b[34mINFO    \u001b[0m \u001b[1m[\u001b[0mPID: \u001b[1;36m11692\u001b[0m\u001b[1m]\u001b[0m Processing batch \u001b[1;36m1\u001b[0m of \u001b[1;36m1\u001b[0m\u001b[33m...\u001b[0m                                           \u001b]8;id=922405;file:///home/strickvl/coding/zenml-projects/llm-lora-finetuning/datagen/lib/python3.10/site-packages/distilabel/pipeline.py\u001b\\\u001b[2mpipeline.py\u001b[0m\u001b]8;;\u001b\\\u001b[2m:\u001b[0m\u001b]8;id=501033;file:///home/strickvl/coding/zenml-projects/llm-lora-finetuning/datagen/lib/python3.10/site-packages/distilabel/pipeline.py#577\u001b\\\u001b[2m577\u001b[0m\u001b]8;;\u001b\\\n"
      ]
     },
     "metadata": {},
     "output_type": "display_data"
    },
    {
     "name": "stdout",
     "output_type": "stream",
     "text": [
      "\u001b[1;35mProcessing batch 1 of 1...\u001b[0m\n"
     ]
    },
    {
     "data": {
      "text/html": [
       "<pre style=\"white-space:pre;overflow-x:auto;line-height:normal;font-family:Menlo,'DejaVu Sans Mono',consolas,'Courier New',monospace\"><span style=\"color: #7fbfbf; text-decoration-color: #7fbfbf\">         </span><span style=\"color: #000080; text-decoration-color: #000080\">INFO    </span> <span style=\"font-weight: bold\">[</span>PID: <span style=\"color: #008080; text-decoration-color: #008080; font-weight: bold\">11692</span><span style=\"font-weight: bold\">]</span> Calling generator for batch <span style=\"color: #008080; text-decoration-color: #008080; font-weight: bold\">1</span><span style=\"color: #808000; text-decoration-color: #808000\">...</span>                                     <a href=\"file:///home/strickvl/coding/zenml-projects/llm-lora-finetuning/datagen/lib/python3.10/site-packages/distilabel/pipeline.py\" target=\"_blank\"><span style=\"color: #7f7f7f; text-decoration-color: #7f7f7f\">pipeline.py</span></a><span style=\"color: #7f7f7f; text-decoration-color: #7f7f7f\">:</span><a href=\"file:///home/strickvl/coding/zenml-projects/llm-lora-finetuning/datagen/lib/python3.10/site-packages/distilabel/pipeline.py#581\" target=\"_blank\"><span style=\"color: #7f7f7f; text-decoration-color: #7f7f7f\">581</span></a>\n",
       "</pre>\n"
      ],
      "text/plain": [
       "\u001b[2;36m        \u001b[0m\u001b[2;36m \u001b[0m\u001b[34mINFO    \u001b[0m \u001b[1m[\u001b[0mPID: \u001b[1;36m11692\u001b[0m\u001b[1m]\u001b[0m Calling generator for batch \u001b[1;36m1\u001b[0m\u001b[33m...\u001b[0m                                     \u001b]8;id=684653;file:///home/strickvl/coding/zenml-projects/llm-lora-finetuning/datagen/lib/python3.10/site-packages/distilabel/pipeline.py\u001b\\\u001b[2mpipeline.py\u001b[0m\u001b]8;;\u001b\\\u001b[2m:\u001b[0m\u001b]8;id=344177;file:///home/strickvl/coding/zenml-projects/llm-lora-finetuning/datagen/lib/python3.10/site-packages/distilabel/pipeline.py#581\u001b\\\u001b[2m581\u001b[0m\u001b]8;;\u001b\\\n"
      ]
     },
     "metadata": {},
     "output_type": "display_data"
    },
    {
     "name": "stdout",
     "output_type": "stream",
     "text": [
      "\u001b[1;35mCalling generator for batch 1...\u001b[0m\n"
     ]
    },
    {
     "data": {
      "text/html": [
       "<pre style=\"white-space:pre;overflow-x:auto;line-height:normal;font-family:Menlo,'DejaVu Sans Mono',consolas,'Courier New',monospace\">\n",
       "</pre>\n"
      ],
      "text/plain": [
       "\n"
      ]
     },
     "metadata": {},
     "output_type": "display_data"
    },
    {
     "data": {
      "application/vnd.jupyter.widget-view+json": {
       "model_id": "abe6a788d65b43a3970b158ff80e56ef",
       "version_major": 2,
       "version_minor": 0
      },
      "text/plain": [
       "Flattening the indices:   0%|          | 0/1 [00:00<?, ? examples/s]"
      ]
     },
     "metadata": {},
     "output_type": "display_data"
    },
    {
     "data": {
      "text/html": [
       "<pre style=\"white-space:pre;overflow-x:auto;line-height:normal;font-family:Menlo,'DejaVu Sans Mono',consolas,'Courier New',monospace\"><span style=\"color: #7fbfbf; text-decoration-color: #7fbfbf\">15:35:44 </span><span style=\"color: #000080; text-decoration-color: #000080\">INFO    </span> <span style=\"font-weight: bold\">[</span>PID: <span style=\"color: #008080; text-decoration-color: #008080; font-weight: bold\">11692</span><span style=\"font-weight: bold\">]</span> Dry-run executed with no issues. Starting the actual generation<span style=\"color: #808000; text-decoration-color: #808000\">...</span>   <a href=\"file:///home/strickvl/coding/zenml-projects/llm-lora-finetuning/datagen/lib/python3.10/site-packages/distilabel/pipeline.py\" target=\"_blank\"><span style=\"color: #7f7f7f; text-decoration-color: #7f7f7f\">pipeline.py</span></a><span style=\"color: #7f7f7f; text-decoration-color: #7f7f7f\">:</span><a href=\"file:///home/strickvl/coding/zenml-projects/llm-lora-finetuning/datagen/lib/python3.10/site-packages/distilabel/pipeline.py#749\" target=\"_blank\"><span style=\"color: #7f7f7f; text-decoration-color: #7f7f7f\">749</span></a>\n",
       "</pre>\n"
      ],
      "text/plain": [
       "\u001b[2;36m15:35:44\u001b[0m\u001b[2;36m \u001b[0m\u001b[34mINFO    \u001b[0m \u001b[1m[\u001b[0mPID: \u001b[1;36m11692\u001b[0m\u001b[1m]\u001b[0m Dry-run executed with no issues. Starting the actual generation\u001b[33m...\u001b[0m   \u001b]8;id=697491;file:///home/strickvl/coding/zenml-projects/llm-lora-finetuning/datagen/lib/python3.10/site-packages/distilabel/pipeline.py\u001b\\\u001b[2mpipeline.py\u001b[0m\u001b]8;;\u001b\\\u001b[2m:\u001b[0m\u001b]8;id=635807;file:///home/strickvl/coding/zenml-projects/llm-lora-finetuning/datagen/lib/python3.10/site-packages/distilabel/pipeline.py#749\u001b\\\u001b[2m749\u001b[0m\u001b]8;;\u001b\\\n"
      ]
     },
     "metadata": {},
     "output_type": "display_data"
    },
    {
     "name": "stdout",
     "output_type": "stream",
     "text": [
      "\u001b[1;35mDry-run executed with no issues. Starting the actual generation...\u001b[0m\n"
     ]
    },
    {
     "data": {
      "application/vnd.jupyter.widget-view+json": {
       "model_id": "fb826013d598436589758c2dc8d35d45",
       "version_major": 2,
       "version_minor": 0
      },
      "text/plain": [
       "Output()"
      ]
     },
     "metadata": {},
     "output_type": "display_data"
    },
    {
     "data": {
      "text/html": [
       "<pre style=\"white-space:pre;overflow-x:auto;line-height:normal;font-family:Menlo,'DejaVu Sans Mono',consolas,'Courier New',monospace\"><span style=\"color: #7fbfbf; text-decoration-color: #7fbfbf\">         </span><span style=\"color: #000080; text-decoration-color: #000080\">INFO    </span> <span style=\"font-weight: bold\">[</span>PID: <span style=\"color: #008080; text-decoration-color: #008080; font-weight: bold\">11692</span><span style=\"font-weight: bold\">]</span> Processing batch <span style=\"color: #008080; text-decoration-color: #008080; font-weight: bold\">1</span> of <span style=\"color: #008080; text-decoration-color: #008080; font-weight: bold\">7</span><span style=\"color: #808000; text-decoration-color: #808000\">...</span>                                           <a href=\"file:///home/strickvl/coding/zenml-projects/llm-lora-finetuning/datagen/lib/python3.10/site-packages/distilabel/pipeline.py\" target=\"_blank\"><span style=\"color: #7f7f7f; text-decoration-color: #7f7f7f\">pipeline.py</span></a><span style=\"color: #7f7f7f; text-decoration-color: #7f7f7f\">:</span><a href=\"file:///home/strickvl/coding/zenml-projects/llm-lora-finetuning/datagen/lib/python3.10/site-packages/distilabel/pipeline.py#577\" target=\"_blank\"><span style=\"color: #7f7f7f; text-decoration-color: #7f7f7f\">577</span></a>\n",
       "</pre>\n"
      ],
      "text/plain": [
       "\u001b[2;36m        \u001b[0m\u001b[2;36m \u001b[0m\u001b[34mINFO    \u001b[0m \u001b[1m[\u001b[0mPID: \u001b[1;36m11692\u001b[0m\u001b[1m]\u001b[0m Processing batch \u001b[1;36m1\u001b[0m of \u001b[1;36m7\u001b[0m\u001b[33m...\u001b[0m                                           \u001b]8;id=559380;file:///home/strickvl/coding/zenml-projects/llm-lora-finetuning/datagen/lib/python3.10/site-packages/distilabel/pipeline.py\u001b\\\u001b[2mpipeline.py\u001b[0m\u001b]8;;\u001b\\\u001b[2m:\u001b[0m\u001b]8;id=904242;file:///home/strickvl/coding/zenml-projects/llm-lora-finetuning/datagen/lib/python3.10/site-packages/distilabel/pipeline.py#577\u001b\\\u001b[2m577\u001b[0m\u001b]8;;\u001b\\\n"
      ]
     },
     "metadata": {},
     "output_type": "display_data"
    },
    {
     "name": "stdout",
     "output_type": "stream",
     "text": [
      "\u001b[1;35mProcessing batch 1 of 7...\u001b[0m\n"
     ]
    },
    {
     "data": {
      "text/html": [
       "<pre style=\"white-space:pre;overflow-x:auto;line-height:normal;font-family:Menlo,'DejaVu Sans Mono',consolas,'Courier New',monospace\"><span style=\"color: #7fbfbf; text-decoration-color: #7fbfbf\">         </span><span style=\"color: #000080; text-decoration-color: #000080\">INFO    </span> <span style=\"font-weight: bold\">[</span>PID: <span style=\"color: #008080; text-decoration-color: #008080; font-weight: bold\">11692</span><span style=\"font-weight: bold\">]</span> Calling generator for batch <span style=\"color: #008080; text-decoration-color: #008080; font-weight: bold\">1</span><span style=\"color: #808000; text-decoration-color: #808000\">...</span>                                     <a href=\"file:///home/strickvl/coding/zenml-projects/llm-lora-finetuning/datagen/lib/python3.10/site-packages/distilabel/pipeline.py\" target=\"_blank\"><span style=\"color: #7f7f7f; text-decoration-color: #7f7f7f\">pipeline.py</span></a><span style=\"color: #7f7f7f; text-decoration-color: #7f7f7f\">:</span><a href=\"file:///home/strickvl/coding/zenml-projects/llm-lora-finetuning/datagen/lib/python3.10/site-packages/distilabel/pipeline.py#581\" target=\"_blank\"><span style=\"color: #7f7f7f; text-decoration-color: #7f7f7f\">581</span></a>\n",
       "</pre>\n"
      ],
      "text/plain": [
       "\u001b[2;36m        \u001b[0m\u001b[2;36m \u001b[0m\u001b[34mINFO    \u001b[0m \u001b[1m[\u001b[0mPID: \u001b[1;36m11692\u001b[0m\u001b[1m]\u001b[0m Calling generator for batch \u001b[1;36m1\u001b[0m\u001b[33m...\u001b[0m                                     \u001b]8;id=990962;file:///home/strickvl/coding/zenml-projects/llm-lora-finetuning/datagen/lib/python3.10/site-packages/distilabel/pipeline.py\u001b\\\u001b[2mpipeline.py\u001b[0m\u001b]8;;\u001b\\\u001b[2m:\u001b[0m\u001b]8;id=980260;file:///home/strickvl/coding/zenml-projects/llm-lora-finetuning/datagen/lib/python3.10/site-packages/distilabel/pipeline.py#581\u001b\\\u001b[2m581\u001b[0m\u001b]8;;\u001b\\\n"
      ]
     },
     "metadata": {},
     "output_type": "display_data"
    },
    {
     "name": "stdout",
     "output_type": "stream",
     "text": [
      "\u001b[1;35mCalling generator for batch 1...\u001b[0m\n"
     ]
    },
    {
     "data": {
      "text/html": [
       "<pre style=\"white-space:pre;overflow-x:auto;line-height:normal;font-family:Menlo,'DejaVu Sans Mono',consolas,'Courier New',monospace\"><span style=\"color: #7fbfbf; text-decoration-color: #7fbfbf\">15:36:00 </span><span style=\"color: #000080; text-decoration-color: #000080\">INFO    </span> <span style=\"font-weight: bold\">[</span>PID: <span style=\"color: #008080; text-decoration-color: #008080; font-weight: bold\">11692</span><span style=\"font-weight: bold\">]</span> Processing batch <span style=\"color: #008080; text-decoration-color: #008080; font-weight: bold\">2</span> of <span style=\"color: #008080; text-decoration-color: #008080; font-weight: bold\">7</span><span style=\"color: #808000; text-decoration-color: #808000\">...</span>                                           <a href=\"file:///home/strickvl/coding/zenml-projects/llm-lora-finetuning/datagen/lib/python3.10/site-packages/distilabel/pipeline.py\" target=\"_blank\"><span style=\"color: #7f7f7f; text-decoration-color: #7f7f7f\">pipeline.py</span></a><span style=\"color: #7f7f7f; text-decoration-color: #7f7f7f\">:</span><a href=\"file:///home/strickvl/coding/zenml-projects/llm-lora-finetuning/datagen/lib/python3.10/site-packages/distilabel/pipeline.py#577\" target=\"_blank\"><span style=\"color: #7f7f7f; text-decoration-color: #7f7f7f\">577</span></a>\n",
       "</pre>\n"
      ],
      "text/plain": [
       "\u001b[2;36m15:36:00\u001b[0m\u001b[2;36m \u001b[0m\u001b[34mINFO    \u001b[0m \u001b[1m[\u001b[0mPID: \u001b[1;36m11692\u001b[0m\u001b[1m]\u001b[0m Processing batch \u001b[1;36m2\u001b[0m of \u001b[1;36m7\u001b[0m\u001b[33m...\u001b[0m                                           \u001b]8;id=239215;file:///home/strickvl/coding/zenml-projects/llm-lora-finetuning/datagen/lib/python3.10/site-packages/distilabel/pipeline.py\u001b\\\u001b[2mpipeline.py\u001b[0m\u001b]8;;\u001b\\\u001b[2m:\u001b[0m\u001b]8;id=802275;file:///home/strickvl/coding/zenml-projects/llm-lora-finetuning/datagen/lib/python3.10/site-packages/distilabel/pipeline.py#577\u001b\\\u001b[2m577\u001b[0m\u001b]8;;\u001b\\\n"
      ]
     },
     "metadata": {},
     "output_type": "display_data"
    },
    {
     "name": "stdout",
     "output_type": "stream",
     "text": [
      "\u001b[1;35mProcessing batch 2 of 7...\u001b[0m\n"
     ]
    },
    {
     "data": {
      "text/html": [
       "<pre style=\"white-space:pre;overflow-x:auto;line-height:normal;font-family:Menlo,'DejaVu Sans Mono',consolas,'Courier New',monospace\"><span style=\"color: #7fbfbf; text-decoration-color: #7fbfbf\">         </span><span style=\"color: #000080; text-decoration-color: #000080\">INFO    </span> <span style=\"font-weight: bold\">[</span>PID: <span style=\"color: #008080; text-decoration-color: #008080; font-weight: bold\">11692</span><span style=\"font-weight: bold\">]</span> Calling generator for batch <span style=\"color: #008080; text-decoration-color: #008080; font-weight: bold\">2</span><span style=\"color: #808000; text-decoration-color: #808000\">...</span>                                     <a href=\"file:///home/strickvl/coding/zenml-projects/llm-lora-finetuning/datagen/lib/python3.10/site-packages/distilabel/pipeline.py\" target=\"_blank\"><span style=\"color: #7f7f7f; text-decoration-color: #7f7f7f\">pipeline.py</span></a><span style=\"color: #7f7f7f; text-decoration-color: #7f7f7f\">:</span><a href=\"file:///home/strickvl/coding/zenml-projects/llm-lora-finetuning/datagen/lib/python3.10/site-packages/distilabel/pipeline.py#581\" target=\"_blank\"><span style=\"color: #7f7f7f; text-decoration-color: #7f7f7f\">581</span></a>\n",
       "</pre>\n"
      ],
      "text/plain": [
       "\u001b[2;36m        \u001b[0m\u001b[2;36m \u001b[0m\u001b[34mINFO    \u001b[0m \u001b[1m[\u001b[0mPID: \u001b[1;36m11692\u001b[0m\u001b[1m]\u001b[0m Calling generator for batch \u001b[1;36m2\u001b[0m\u001b[33m...\u001b[0m                                     \u001b]8;id=242216;file:///home/strickvl/coding/zenml-projects/llm-lora-finetuning/datagen/lib/python3.10/site-packages/distilabel/pipeline.py\u001b\\\u001b[2mpipeline.py\u001b[0m\u001b]8;;\u001b\\\u001b[2m:\u001b[0m\u001b]8;id=582703;file:///home/strickvl/coding/zenml-projects/llm-lora-finetuning/datagen/lib/python3.10/site-packages/distilabel/pipeline.py#581\u001b\\\u001b[2m581\u001b[0m\u001b]8;;\u001b\\\n"
      ]
     },
     "metadata": {},
     "output_type": "display_data"
    },
    {
     "name": "stdout",
     "output_type": "stream",
     "text": [
      "\u001b[1;35mCalling generator for batch 2...\u001b[0m\n"
     ]
    },
    {
     "data": {
      "text/html": [
       "<pre style=\"white-space:pre;overflow-x:auto;line-height:normal;font-family:Menlo,'DejaVu Sans Mono',consolas,'Courier New',monospace\"><span style=\"color: #7fbfbf; text-decoration-color: #7fbfbf\">15:36:18 </span><span style=\"color: #000080; text-decoration-color: #000080\">INFO    </span> <span style=\"font-weight: bold\">[</span>PID: <span style=\"color: #008080; text-decoration-color: #008080; font-weight: bold\">11692</span><span style=\"font-weight: bold\">]</span> Processing batch <span style=\"color: #008080; text-decoration-color: #008080; font-weight: bold\">3</span> of <span style=\"color: #008080; text-decoration-color: #008080; font-weight: bold\">7</span><span style=\"color: #808000; text-decoration-color: #808000\">...</span>                                           <a href=\"file:///home/strickvl/coding/zenml-projects/llm-lora-finetuning/datagen/lib/python3.10/site-packages/distilabel/pipeline.py\" target=\"_blank\"><span style=\"color: #7f7f7f; text-decoration-color: #7f7f7f\">pipeline.py</span></a><span style=\"color: #7f7f7f; text-decoration-color: #7f7f7f\">:</span><a href=\"file:///home/strickvl/coding/zenml-projects/llm-lora-finetuning/datagen/lib/python3.10/site-packages/distilabel/pipeline.py#577\" target=\"_blank\"><span style=\"color: #7f7f7f; text-decoration-color: #7f7f7f\">577</span></a>\n",
       "</pre>\n"
      ],
      "text/plain": [
       "\u001b[2;36m15:36:18\u001b[0m\u001b[2;36m \u001b[0m\u001b[34mINFO    \u001b[0m \u001b[1m[\u001b[0mPID: \u001b[1;36m11692\u001b[0m\u001b[1m]\u001b[0m Processing batch \u001b[1;36m3\u001b[0m of \u001b[1;36m7\u001b[0m\u001b[33m...\u001b[0m                                           \u001b]8;id=201521;file:///home/strickvl/coding/zenml-projects/llm-lora-finetuning/datagen/lib/python3.10/site-packages/distilabel/pipeline.py\u001b\\\u001b[2mpipeline.py\u001b[0m\u001b]8;;\u001b\\\u001b[2m:\u001b[0m\u001b]8;id=456430;file:///home/strickvl/coding/zenml-projects/llm-lora-finetuning/datagen/lib/python3.10/site-packages/distilabel/pipeline.py#577\u001b\\\u001b[2m577\u001b[0m\u001b]8;;\u001b\\\n"
      ]
     },
     "metadata": {},
     "output_type": "display_data"
    },
    {
     "name": "stdout",
     "output_type": "stream",
     "text": [
      "\u001b[1;35mProcessing batch 3 of 7...\u001b[0m\n"
     ]
    },
    {
     "data": {
      "text/html": [
       "<pre style=\"white-space:pre;overflow-x:auto;line-height:normal;font-family:Menlo,'DejaVu Sans Mono',consolas,'Courier New',monospace\"><span style=\"color: #7fbfbf; text-decoration-color: #7fbfbf\">         </span><span style=\"color: #000080; text-decoration-color: #000080\">INFO    </span> <span style=\"font-weight: bold\">[</span>PID: <span style=\"color: #008080; text-decoration-color: #008080; font-weight: bold\">11692</span><span style=\"font-weight: bold\">]</span> Calling generator for batch <span style=\"color: #008080; text-decoration-color: #008080; font-weight: bold\">3</span><span style=\"color: #808000; text-decoration-color: #808000\">...</span>                                     <a href=\"file:///home/strickvl/coding/zenml-projects/llm-lora-finetuning/datagen/lib/python3.10/site-packages/distilabel/pipeline.py\" target=\"_blank\"><span style=\"color: #7f7f7f; text-decoration-color: #7f7f7f\">pipeline.py</span></a><span style=\"color: #7f7f7f; text-decoration-color: #7f7f7f\">:</span><a href=\"file:///home/strickvl/coding/zenml-projects/llm-lora-finetuning/datagen/lib/python3.10/site-packages/distilabel/pipeline.py#581\" target=\"_blank\"><span style=\"color: #7f7f7f; text-decoration-color: #7f7f7f\">581</span></a>\n",
       "</pre>\n"
      ],
      "text/plain": [
       "\u001b[2;36m        \u001b[0m\u001b[2;36m \u001b[0m\u001b[34mINFO    \u001b[0m \u001b[1m[\u001b[0mPID: \u001b[1;36m11692\u001b[0m\u001b[1m]\u001b[0m Calling generator for batch \u001b[1;36m3\u001b[0m\u001b[33m...\u001b[0m                                     \u001b]8;id=453540;file:///home/strickvl/coding/zenml-projects/llm-lora-finetuning/datagen/lib/python3.10/site-packages/distilabel/pipeline.py\u001b\\\u001b[2mpipeline.py\u001b[0m\u001b]8;;\u001b\\\u001b[2m:\u001b[0m\u001b]8;id=584645;file:///home/strickvl/coding/zenml-projects/llm-lora-finetuning/datagen/lib/python3.10/site-packages/distilabel/pipeline.py#581\u001b\\\u001b[2m581\u001b[0m\u001b]8;;\u001b\\\n"
      ]
     },
     "metadata": {},
     "output_type": "display_data"
    },
    {
     "name": "stdout",
     "output_type": "stream",
     "text": [
      "\u001b[1;35mCalling generator for batch 3...\u001b[0m\n"
     ]
    },
    {
     "data": {
      "text/html": [
       "<pre style=\"white-space:pre;overflow-x:auto;line-height:normal;font-family:Menlo,'DejaVu Sans Mono',consolas,'Courier New',monospace\"><span style=\"color: #7fbfbf; text-decoration-color: #7fbfbf\">15:36:37 </span><span style=\"color: #000080; text-decoration-color: #000080\">INFO    </span> <span style=\"font-weight: bold\">[</span>PID: <span style=\"color: #008080; text-decoration-color: #008080; font-weight: bold\">11692</span><span style=\"font-weight: bold\">]</span> Processing batch <span style=\"color: #008080; text-decoration-color: #008080; font-weight: bold\">4</span> of <span style=\"color: #008080; text-decoration-color: #008080; font-weight: bold\">7</span><span style=\"color: #808000; text-decoration-color: #808000\">...</span>                                           <a href=\"file:///home/strickvl/coding/zenml-projects/llm-lora-finetuning/datagen/lib/python3.10/site-packages/distilabel/pipeline.py\" target=\"_blank\"><span style=\"color: #7f7f7f; text-decoration-color: #7f7f7f\">pipeline.py</span></a><span style=\"color: #7f7f7f; text-decoration-color: #7f7f7f\">:</span><a href=\"file:///home/strickvl/coding/zenml-projects/llm-lora-finetuning/datagen/lib/python3.10/site-packages/distilabel/pipeline.py#577\" target=\"_blank\"><span style=\"color: #7f7f7f; text-decoration-color: #7f7f7f\">577</span></a>\n",
       "</pre>\n"
      ],
      "text/plain": [
       "\u001b[2;36m15:36:37\u001b[0m\u001b[2;36m \u001b[0m\u001b[34mINFO    \u001b[0m \u001b[1m[\u001b[0mPID: \u001b[1;36m11692\u001b[0m\u001b[1m]\u001b[0m Processing batch \u001b[1;36m4\u001b[0m of \u001b[1;36m7\u001b[0m\u001b[33m...\u001b[0m                                           \u001b]8;id=866971;file:///home/strickvl/coding/zenml-projects/llm-lora-finetuning/datagen/lib/python3.10/site-packages/distilabel/pipeline.py\u001b\\\u001b[2mpipeline.py\u001b[0m\u001b]8;;\u001b\\\u001b[2m:\u001b[0m\u001b]8;id=145184;file:///home/strickvl/coding/zenml-projects/llm-lora-finetuning/datagen/lib/python3.10/site-packages/distilabel/pipeline.py#577\u001b\\\u001b[2m577\u001b[0m\u001b]8;;\u001b\\\n"
      ]
     },
     "metadata": {},
     "output_type": "display_data"
    },
    {
     "name": "stdout",
     "output_type": "stream",
     "text": [
      "\u001b[1;35mProcessing batch 4 of 7...\u001b[0m\n"
     ]
    },
    {
     "data": {
      "text/html": [
       "<pre style=\"white-space:pre;overflow-x:auto;line-height:normal;font-family:Menlo,'DejaVu Sans Mono',consolas,'Courier New',monospace\"><span style=\"color: #7fbfbf; text-decoration-color: #7fbfbf\">         </span><span style=\"color: #000080; text-decoration-color: #000080\">INFO    </span> <span style=\"font-weight: bold\">[</span>PID: <span style=\"color: #008080; text-decoration-color: #008080; font-weight: bold\">11692</span><span style=\"font-weight: bold\">]</span> Calling generator for batch <span style=\"color: #008080; text-decoration-color: #008080; font-weight: bold\">4</span><span style=\"color: #808000; text-decoration-color: #808000\">...</span>                                     <a href=\"file:///home/strickvl/coding/zenml-projects/llm-lora-finetuning/datagen/lib/python3.10/site-packages/distilabel/pipeline.py\" target=\"_blank\"><span style=\"color: #7f7f7f; text-decoration-color: #7f7f7f\">pipeline.py</span></a><span style=\"color: #7f7f7f; text-decoration-color: #7f7f7f\">:</span><a href=\"file:///home/strickvl/coding/zenml-projects/llm-lora-finetuning/datagen/lib/python3.10/site-packages/distilabel/pipeline.py#581\" target=\"_blank\"><span style=\"color: #7f7f7f; text-decoration-color: #7f7f7f\">581</span></a>\n",
       "</pre>\n"
      ],
      "text/plain": [
       "\u001b[2;36m        \u001b[0m\u001b[2;36m \u001b[0m\u001b[34mINFO    \u001b[0m \u001b[1m[\u001b[0mPID: \u001b[1;36m11692\u001b[0m\u001b[1m]\u001b[0m Calling generator for batch \u001b[1;36m4\u001b[0m\u001b[33m...\u001b[0m                                     \u001b]8;id=761712;file:///home/strickvl/coding/zenml-projects/llm-lora-finetuning/datagen/lib/python3.10/site-packages/distilabel/pipeline.py\u001b\\\u001b[2mpipeline.py\u001b[0m\u001b]8;;\u001b\\\u001b[2m:\u001b[0m\u001b]8;id=74054;file:///home/strickvl/coding/zenml-projects/llm-lora-finetuning/datagen/lib/python3.10/site-packages/distilabel/pipeline.py#581\u001b\\\u001b[2m581\u001b[0m\u001b]8;;\u001b\\\n"
      ]
     },
     "metadata": {},
     "output_type": "display_data"
    },
    {
     "name": "stdout",
     "output_type": "stream",
     "text": [
      "\u001b[1;35mCalling generator for batch 4...\u001b[0m\n"
     ]
    },
    {
     "data": {
      "text/html": [
       "<pre style=\"white-space:pre;overflow-x:auto;line-height:normal;font-family:Menlo,'DejaVu Sans Mono',consolas,'Courier New',monospace\"><span style=\"color: #7fbfbf; text-decoration-color: #7fbfbf\">15:36:57 </span><span style=\"color: #000080; text-decoration-color: #000080\">INFO    </span> <span style=\"font-weight: bold\">[</span>PID: <span style=\"color: #008080; text-decoration-color: #008080; font-weight: bold\">11692</span><span style=\"font-weight: bold\">]</span> Processing batch <span style=\"color: #008080; text-decoration-color: #008080; font-weight: bold\">5</span> of <span style=\"color: #008080; text-decoration-color: #008080; font-weight: bold\">7</span><span style=\"color: #808000; text-decoration-color: #808000\">...</span>                                           <a href=\"file:///home/strickvl/coding/zenml-projects/llm-lora-finetuning/datagen/lib/python3.10/site-packages/distilabel/pipeline.py\" target=\"_blank\"><span style=\"color: #7f7f7f; text-decoration-color: #7f7f7f\">pipeline.py</span></a><span style=\"color: #7f7f7f; text-decoration-color: #7f7f7f\">:</span><a href=\"file:///home/strickvl/coding/zenml-projects/llm-lora-finetuning/datagen/lib/python3.10/site-packages/distilabel/pipeline.py#577\" target=\"_blank\"><span style=\"color: #7f7f7f; text-decoration-color: #7f7f7f\">577</span></a>\n",
       "</pre>\n"
      ],
      "text/plain": [
       "\u001b[2;36m15:36:57\u001b[0m\u001b[2;36m \u001b[0m\u001b[34mINFO    \u001b[0m \u001b[1m[\u001b[0mPID: \u001b[1;36m11692\u001b[0m\u001b[1m]\u001b[0m Processing batch \u001b[1;36m5\u001b[0m of \u001b[1;36m7\u001b[0m\u001b[33m...\u001b[0m                                           \u001b]8;id=816237;file:///home/strickvl/coding/zenml-projects/llm-lora-finetuning/datagen/lib/python3.10/site-packages/distilabel/pipeline.py\u001b\\\u001b[2mpipeline.py\u001b[0m\u001b]8;;\u001b\\\u001b[2m:\u001b[0m\u001b]8;id=770614;file:///home/strickvl/coding/zenml-projects/llm-lora-finetuning/datagen/lib/python3.10/site-packages/distilabel/pipeline.py#577\u001b\\\u001b[2m577\u001b[0m\u001b]8;;\u001b\\\n"
      ]
     },
     "metadata": {},
     "output_type": "display_data"
    },
    {
     "name": "stdout",
     "output_type": "stream",
     "text": [
      "\u001b[1;35mProcessing batch 5 of 7...\u001b[0m\n"
     ]
    },
    {
     "data": {
      "text/html": [
       "<pre style=\"white-space:pre;overflow-x:auto;line-height:normal;font-family:Menlo,'DejaVu Sans Mono',consolas,'Courier New',monospace\"><span style=\"color: #7fbfbf; text-decoration-color: #7fbfbf\">         </span><span style=\"color: #000080; text-decoration-color: #000080\">INFO    </span> <span style=\"font-weight: bold\">[</span>PID: <span style=\"color: #008080; text-decoration-color: #008080; font-weight: bold\">11692</span><span style=\"font-weight: bold\">]</span> Calling generator for batch <span style=\"color: #008080; text-decoration-color: #008080; font-weight: bold\">5</span><span style=\"color: #808000; text-decoration-color: #808000\">...</span>                                     <a href=\"file:///home/strickvl/coding/zenml-projects/llm-lora-finetuning/datagen/lib/python3.10/site-packages/distilabel/pipeline.py\" target=\"_blank\"><span style=\"color: #7f7f7f; text-decoration-color: #7f7f7f\">pipeline.py</span></a><span style=\"color: #7f7f7f; text-decoration-color: #7f7f7f\">:</span><a href=\"file:///home/strickvl/coding/zenml-projects/llm-lora-finetuning/datagen/lib/python3.10/site-packages/distilabel/pipeline.py#581\" target=\"_blank\"><span style=\"color: #7f7f7f; text-decoration-color: #7f7f7f\">581</span></a>\n",
       "</pre>\n"
      ],
      "text/plain": [
       "\u001b[2;36m        \u001b[0m\u001b[2;36m \u001b[0m\u001b[34mINFO    \u001b[0m \u001b[1m[\u001b[0mPID: \u001b[1;36m11692\u001b[0m\u001b[1m]\u001b[0m Calling generator for batch \u001b[1;36m5\u001b[0m\u001b[33m...\u001b[0m                                     \u001b]8;id=761068;file:///home/strickvl/coding/zenml-projects/llm-lora-finetuning/datagen/lib/python3.10/site-packages/distilabel/pipeline.py\u001b\\\u001b[2mpipeline.py\u001b[0m\u001b]8;;\u001b\\\u001b[2m:\u001b[0m\u001b]8;id=970295;file:///home/strickvl/coding/zenml-projects/llm-lora-finetuning/datagen/lib/python3.10/site-packages/distilabel/pipeline.py#581\u001b\\\u001b[2m581\u001b[0m\u001b]8;;\u001b\\\n"
      ]
     },
     "metadata": {},
     "output_type": "display_data"
    },
    {
     "name": "stdout",
     "output_type": "stream",
     "text": [
      "\u001b[1;35mCalling generator for batch 5...\u001b[0m\n"
     ]
    },
    {
     "data": {
      "text/html": [
       "<pre style=\"white-space:pre;overflow-x:auto;line-height:normal;font-family:Menlo,'DejaVu Sans Mono',consolas,'Courier New',monospace\"><span style=\"color: #7fbfbf; text-decoration-color: #7fbfbf\">15:37:18 </span><span style=\"color: #000080; text-decoration-color: #000080\">INFO    </span> <span style=\"font-weight: bold\">[</span>PID: <span style=\"color: #008080; text-decoration-color: #008080; font-weight: bold\">11692</span><span style=\"font-weight: bold\">]</span> Processing batch <span style=\"color: #008080; text-decoration-color: #008080; font-weight: bold\">6</span> of <span style=\"color: #008080; text-decoration-color: #008080; font-weight: bold\">7</span><span style=\"color: #808000; text-decoration-color: #808000\">...</span>                                           <a href=\"file:///home/strickvl/coding/zenml-projects/llm-lora-finetuning/datagen/lib/python3.10/site-packages/distilabel/pipeline.py\" target=\"_blank\"><span style=\"color: #7f7f7f; text-decoration-color: #7f7f7f\">pipeline.py</span></a><span style=\"color: #7f7f7f; text-decoration-color: #7f7f7f\">:</span><a href=\"file:///home/strickvl/coding/zenml-projects/llm-lora-finetuning/datagen/lib/python3.10/site-packages/distilabel/pipeline.py#577\" target=\"_blank\"><span style=\"color: #7f7f7f; text-decoration-color: #7f7f7f\">577</span></a>\n",
       "</pre>\n"
      ],
      "text/plain": [
       "\u001b[2;36m15:37:18\u001b[0m\u001b[2;36m \u001b[0m\u001b[34mINFO    \u001b[0m \u001b[1m[\u001b[0mPID: \u001b[1;36m11692\u001b[0m\u001b[1m]\u001b[0m Processing batch \u001b[1;36m6\u001b[0m of \u001b[1;36m7\u001b[0m\u001b[33m...\u001b[0m                                           \u001b]8;id=360824;file:///home/strickvl/coding/zenml-projects/llm-lora-finetuning/datagen/lib/python3.10/site-packages/distilabel/pipeline.py\u001b\\\u001b[2mpipeline.py\u001b[0m\u001b]8;;\u001b\\\u001b[2m:\u001b[0m\u001b]8;id=43342;file:///home/strickvl/coding/zenml-projects/llm-lora-finetuning/datagen/lib/python3.10/site-packages/distilabel/pipeline.py#577\u001b\\\u001b[2m577\u001b[0m\u001b]8;;\u001b\\\n"
      ]
     },
     "metadata": {},
     "output_type": "display_data"
    },
    {
     "name": "stdout",
     "output_type": "stream",
     "text": [
      "\u001b[1;35mProcessing batch 6 of 7...\u001b[0m\n"
     ]
    },
    {
     "data": {
      "text/html": [
       "<pre style=\"white-space:pre;overflow-x:auto;line-height:normal;font-family:Menlo,'DejaVu Sans Mono',consolas,'Courier New',monospace\"><span style=\"color: #7fbfbf; text-decoration-color: #7fbfbf\">         </span><span style=\"color: #000080; text-decoration-color: #000080\">INFO    </span> <span style=\"font-weight: bold\">[</span>PID: <span style=\"color: #008080; text-decoration-color: #008080; font-weight: bold\">11692</span><span style=\"font-weight: bold\">]</span> Calling generator for batch <span style=\"color: #008080; text-decoration-color: #008080; font-weight: bold\">6</span><span style=\"color: #808000; text-decoration-color: #808000\">...</span>                                     <a href=\"file:///home/strickvl/coding/zenml-projects/llm-lora-finetuning/datagen/lib/python3.10/site-packages/distilabel/pipeline.py\" target=\"_blank\"><span style=\"color: #7f7f7f; text-decoration-color: #7f7f7f\">pipeline.py</span></a><span style=\"color: #7f7f7f; text-decoration-color: #7f7f7f\">:</span><a href=\"file:///home/strickvl/coding/zenml-projects/llm-lora-finetuning/datagen/lib/python3.10/site-packages/distilabel/pipeline.py#581\" target=\"_blank\"><span style=\"color: #7f7f7f; text-decoration-color: #7f7f7f\">581</span></a>\n",
       "</pre>\n"
      ],
      "text/plain": [
       "\u001b[2;36m        \u001b[0m\u001b[2;36m \u001b[0m\u001b[34mINFO    \u001b[0m \u001b[1m[\u001b[0mPID: \u001b[1;36m11692\u001b[0m\u001b[1m]\u001b[0m Calling generator for batch \u001b[1;36m6\u001b[0m\u001b[33m...\u001b[0m                                     \u001b]8;id=324513;file:///home/strickvl/coding/zenml-projects/llm-lora-finetuning/datagen/lib/python3.10/site-packages/distilabel/pipeline.py\u001b\\\u001b[2mpipeline.py\u001b[0m\u001b]8;;\u001b\\\u001b[2m:\u001b[0m\u001b]8;id=68328;file:///home/strickvl/coding/zenml-projects/llm-lora-finetuning/datagen/lib/python3.10/site-packages/distilabel/pipeline.py#581\u001b\\\u001b[2m581\u001b[0m\u001b]8;;\u001b\\\n"
      ]
     },
     "metadata": {},
     "output_type": "display_data"
    },
    {
     "name": "stdout",
     "output_type": "stream",
     "text": [
      "\u001b[1;35mCalling generator for batch 6...\u001b[0m\n"
     ]
    },
    {
     "data": {
      "text/html": [
       "<pre style=\"white-space:pre;overflow-x:auto;line-height:normal;font-family:Menlo,'DejaVu Sans Mono',consolas,'Courier New',monospace\"><span style=\"color: #7fbfbf; text-decoration-color: #7fbfbf\">15:37:43 </span><span style=\"color: #000080; text-decoration-color: #000080\">INFO    </span> <span style=\"font-weight: bold\">[</span>PID: <span style=\"color: #008080; text-decoration-color: #008080; font-weight: bold\">11692</span><span style=\"font-weight: bold\">]</span> Processing batch <span style=\"color: #008080; text-decoration-color: #008080; font-weight: bold\">7</span> of <span style=\"color: #008080; text-decoration-color: #008080; font-weight: bold\">7</span><span style=\"color: #808000; text-decoration-color: #808000\">...</span>                                           <a href=\"file:///home/strickvl/coding/zenml-projects/llm-lora-finetuning/datagen/lib/python3.10/site-packages/distilabel/pipeline.py\" target=\"_blank\"><span style=\"color: #7f7f7f; text-decoration-color: #7f7f7f\">pipeline.py</span></a><span style=\"color: #7f7f7f; text-decoration-color: #7f7f7f\">:</span><a href=\"file:///home/strickvl/coding/zenml-projects/llm-lora-finetuning/datagen/lib/python3.10/site-packages/distilabel/pipeline.py#577\" target=\"_blank\"><span style=\"color: #7f7f7f; text-decoration-color: #7f7f7f\">577</span></a>\n",
       "</pre>\n"
      ],
      "text/plain": [
       "\u001b[2;36m15:37:43\u001b[0m\u001b[2;36m \u001b[0m\u001b[34mINFO    \u001b[0m \u001b[1m[\u001b[0mPID: \u001b[1;36m11692\u001b[0m\u001b[1m]\u001b[0m Processing batch \u001b[1;36m7\u001b[0m of \u001b[1;36m7\u001b[0m\u001b[33m...\u001b[0m                                           \u001b]8;id=245472;file:///home/strickvl/coding/zenml-projects/llm-lora-finetuning/datagen/lib/python3.10/site-packages/distilabel/pipeline.py\u001b\\\u001b[2mpipeline.py\u001b[0m\u001b]8;;\u001b\\\u001b[2m:\u001b[0m\u001b]8;id=701481;file:///home/strickvl/coding/zenml-projects/llm-lora-finetuning/datagen/lib/python3.10/site-packages/distilabel/pipeline.py#577\u001b\\\u001b[2m577\u001b[0m\u001b]8;;\u001b\\\n"
      ]
     },
     "metadata": {},
     "output_type": "display_data"
    },
    {
     "name": "stdout",
     "output_type": "stream",
     "text": [
      "\u001b[1;35mProcessing batch 7 of 7...\u001b[0m\n"
     ]
    },
    {
     "data": {
      "text/html": [
       "<pre style=\"white-space:pre;overflow-x:auto;line-height:normal;font-family:Menlo,'DejaVu Sans Mono',consolas,'Courier New',monospace\"><span style=\"color: #7fbfbf; text-decoration-color: #7fbfbf\">         </span><span style=\"color: #000080; text-decoration-color: #000080\">INFO    </span> <span style=\"font-weight: bold\">[</span>PID: <span style=\"color: #008080; text-decoration-color: #008080; font-weight: bold\">11692</span><span style=\"font-weight: bold\">]</span> Calling generator for batch <span style=\"color: #008080; text-decoration-color: #008080; font-weight: bold\">7</span><span style=\"color: #808000; text-decoration-color: #808000\">...</span>                                     <a href=\"file:///home/strickvl/coding/zenml-projects/llm-lora-finetuning/datagen/lib/python3.10/site-packages/distilabel/pipeline.py\" target=\"_blank\"><span style=\"color: #7f7f7f; text-decoration-color: #7f7f7f\">pipeline.py</span></a><span style=\"color: #7f7f7f; text-decoration-color: #7f7f7f\">:</span><a href=\"file:///home/strickvl/coding/zenml-projects/llm-lora-finetuning/datagen/lib/python3.10/site-packages/distilabel/pipeline.py#581\" target=\"_blank\"><span style=\"color: #7f7f7f; text-decoration-color: #7f7f7f\">581</span></a>\n",
       "</pre>\n"
      ],
      "text/plain": [
       "\u001b[2;36m        \u001b[0m\u001b[2;36m \u001b[0m\u001b[34mINFO    \u001b[0m \u001b[1m[\u001b[0mPID: \u001b[1;36m11692\u001b[0m\u001b[1m]\u001b[0m Calling generator for batch \u001b[1;36m7\u001b[0m\u001b[33m...\u001b[0m                                     \u001b]8;id=763439;file:///home/strickvl/coding/zenml-projects/llm-lora-finetuning/datagen/lib/python3.10/site-packages/distilabel/pipeline.py\u001b\\\u001b[2mpipeline.py\u001b[0m\u001b]8;;\u001b\\\u001b[2m:\u001b[0m\u001b]8;id=239425;file:///home/strickvl/coding/zenml-projects/llm-lora-finetuning/datagen/lib/python3.10/site-packages/distilabel/pipeline.py#581\u001b\\\u001b[2m581\u001b[0m\u001b]8;;\u001b\\\n"
      ]
     },
     "metadata": {},
     "output_type": "display_data"
    },
    {
     "name": "stdout",
     "output_type": "stream",
     "text": [
      "\u001b[1;35mCalling generator for batch 7...\u001b[0m\n"
     ]
    },
    {
     "data": {
      "text/html": [
       "<pre style=\"white-space:pre;overflow-x:auto;line-height:normal;font-family:Menlo,'DejaVu Sans Mono',consolas,'Courier New',monospace\"></pre>\n"
      ],
      "text/plain": []
     },
     "metadata": {},
     "output_type": "display_data"
    },
    {
     "data": {
      "text/html": [
       "<pre style=\"white-space:pre;overflow-x:auto;line-height:normal;font-family:Menlo,'DejaVu Sans Mono',consolas,'Courier New',monospace\">\n",
       "</pre>\n"
      ],
      "text/plain": [
       "\n"
      ]
     },
     "metadata": {},
     "output_type": "display_data"
    },
    {
     "data": {
      "application/vnd.jupyter.widget-view+json": {
       "model_id": "458edb5e1fbd481980b71b6dd7cd0a9a",
       "version_major": 2,
       "version_minor": 0
      },
      "text/plain": [
       "Flattening the indices:   0%|          | 0/50 [00:00<?, ? examples/s]"
      ]
     },
     "metadata": {},
     "output_type": "display_data"
    },
    {
     "data": {
      "application/vnd.jupyter.widget-view+json": {
       "model_id": "eb171da5b9104e0a98643b1f37d365d4",
       "version_major": 2,
       "version_minor": 0
      },
      "text/plain": [
       "Saving the dataset (0/1 shards):   0%|          | 0/50 [00:00<?, ? examples/s]"
      ]
     },
     "metadata": {},
     "output_type": "display_data"
    },
    {
     "data": {
      "text/html": [
       "<pre style=\"white-space:pre;overflow-x:auto;line-height:normal;font-family:Menlo,'DejaVu Sans Mono',consolas,'Courier New',monospace\"><span style=\"color: #7fbfbf; text-decoration-color: #7fbfbf\">15:37:48 </span><span style=\"color: #000080; text-decoration-color: #000080\">INFO    </span> <span style=\"font-weight: bold\">[</span>PID: <span style=\"color: #008080; text-decoration-color: #008080; font-weight: bold\">11692</span><span style=\"font-weight: bold\">]</span> Checkpoint saved to disk:                                             <a href=\"file:///home/strickvl/coding/zenml-projects/llm-lora-finetuning/datagen/lib/python3.10/site-packages/distilabel/dataset.py\" target=\"_blank\"><span style=\"color: #7f7f7f; text-decoration-color: #7f7f7f\">dataset.py</span></a><span style=\"color: #7f7f7f; text-decoration-color: #7f7f7f\">:</span><a href=\"file:///home/strickvl/coding/zenml-projects/llm-lora-finetuning/datagen/lib/python3.10/site-packages/distilabel/dataset.py#423\" target=\"_blank\"><span style=\"color: #7f7f7f; text-decoration-color: #7f7f7f\">423</span></a>\n",
       "<span style=\"color: #7fbfbf; text-decoration-color: #7fbfbf\">         </span>         <span style=\"color: #800080; text-decoration-color: #800080\">/home/strickvl/coding/zenml-projects/llm-lora-finetuning/data_generation/</span><span style=\"color: #ff00ff; text-decoration-color: #ff00ff\">ckpt.</span>     <span style=\"color: #7f7f7f; text-decoration-color: #7f7f7f\">              </span>\n",
       "</pre>\n"
      ],
      "text/plain": [
       "\u001b[2;36m15:37:48\u001b[0m\u001b[2;36m \u001b[0m\u001b[34mINFO    \u001b[0m \u001b[1m[\u001b[0mPID: \u001b[1;36m11692\u001b[0m\u001b[1m]\u001b[0m Checkpoint saved to disk:                                             \u001b]8;id=1898;file:///home/strickvl/coding/zenml-projects/llm-lora-finetuning/datagen/lib/python3.10/site-packages/distilabel/dataset.py\u001b\\\u001b[2mdataset.py\u001b[0m\u001b]8;;\u001b\\\u001b[2m:\u001b[0m\u001b]8;id=561116;file:///home/strickvl/coding/zenml-projects/llm-lora-finetuning/datagen/lib/python3.10/site-packages/distilabel/dataset.py#423\u001b\\\u001b[2m423\u001b[0m\u001b]8;;\u001b\\\n",
       "\u001b[2;36m         \u001b[0m         \u001b[35m/home/strickvl/coding/zenml-projects/llm-lora-finetuning/data_generation/\u001b[0m\u001b[95mckpt.\u001b[0m     \u001b[2m              \u001b[0m\n"
      ]
     },
     "metadata": {},
     "output_type": "display_data"
    },
    {
     "name": "stdout",
     "output_type": "stream",
     "text": [
      "\u001b[1;35mCheckpoint saved to disk: /home/strickvl/coding/zenml-projects/llm-lora-finetuning/data_generation/ckpt.\u001b[0m\n"
     ]
    },
    {
     "data": {
      "text/html": [
       "<pre style=\"white-space:pre;overflow-x:auto;line-height:normal;font-family:Menlo,'DejaVu Sans Mono',consolas,'Courier New',monospace\"><span style=\"color: #7fbfbf; text-decoration-color: #7fbfbf\">         </span><span style=\"color: #000080; text-decoration-color: #000080\">INFO    </span> <span style=\"font-weight: bold\">[</span>PID: <span style=\"color: #008080; text-decoration-color: #008080; font-weight: bold\">11692</span><span style=\"font-weight: bold\">]</span> Final dataset saved at                                               <a href=\"file:///home/strickvl/coding/zenml-projects/llm-lora-finetuning/datagen/lib/python3.10/site-packages/distilabel/pipeline.py\" target=\"_blank\"><span style=\"color: #7f7f7f; text-decoration-color: #7f7f7f\">pipeline.py</span></a><span style=\"color: #7f7f7f; text-decoration-color: #7f7f7f\">:</span><a href=\"file:///home/strickvl/coding/zenml-projects/llm-lora-finetuning/datagen/lib/python3.10/site-packages/distilabel/pipeline.py#658\" target=\"_blank\"><span style=\"color: #7f7f7f; text-decoration-color: #7f7f7f\">658</span></a>\n",
       "<span style=\"color: #7fbfbf; text-decoration-color: #7fbfbf\">         </span>         <span style=\"color: #800080; text-decoration-color: #800080\">/home/strickvl/coding/zenml-projects/llm-lora-finetuning/data_generation/</span><span style=\"color: #ff00ff; text-decoration-color: #ff00ff\">ckpt</span>     <span style=\"color: #7f7f7f; text-decoration-color: #7f7f7f\">               </span>\n",
       "</pre>\n"
      ],
      "text/plain": [
       "\u001b[2;36m        \u001b[0m\u001b[2;36m \u001b[0m\u001b[34mINFO    \u001b[0m \u001b[1m[\u001b[0mPID: \u001b[1;36m11692\u001b[0m\u001b[1m]\u001b[0m Final dataset saved at                                               \u001b]8;id=564421;file:///home/strickvl/coding/zenml-projects/llm-lora-finetuning/datagen/lib/python3.10/site-packages/distilabel/pipeline.py\u001b\\\u001b[2mpipeline.py\u001b[0m\u001b]8;;\u001b\\\u001b[2m:\u001b[0m\u001b]8;id=132620;file:///home/strickvl/coding/zenml-projects/llm-lora-finetuning/datagen/lib/python3.10/site-packages/distilabel/pipeline.py#658\u001b\\\u001b[2m658\u001b[0m\u001b]8;;\u001b\\\n",
       "\u001b[2;36m         \u001b[0m         \u001b[35m/home/strickvl/coding/zenml-projects/llm-lora-finetuning/data_generation/\u001b[0m\u001b[95mckpt\u001b[0m     \u001b[2m               \u001b[0m\n"
      ]
     },
     "metadata": {},
     "output_type": "display_data"
    },
    {
     "name": "stdout",
     "output_type": "stream",
     "text": [
      "\u001b[1;35mFinal dataset saved at /home/strickvl/coding/zenml-projects/llm-lora-finetuning/data_generation/ckpt\u001b[0m\n"
     ]
    },
    {
     "data": {
      "text/html": [
       "<pre style=\"white-space:pre;overflow-x:auto;line-height:normal;font-family:Menlo,'DejaVu Sans Mono',consolas,'Courier New',monospace\">\n",
       "</pre>\n"
      ],
      "text/plain": [
       "\n"
      ]
     },
     "metadata": {},
     "output_type": "display_data"
    }
   ],
   "source": [
    "generated_instructions = instructions_pipeline.generate(\n",
    "    dataset=instructions_dataset, num_generations=1, batch_size=8\n",
    ")"
   ]
  },
  {
   "cell_type": "code",
   "execution_count": 15,
   "metadata": {},
   "outputs": [
    {
     "name": "stdout",
     "output_type": "stream",
     "text": [
      "Number of generated instructions: 196\n",
      "\"Can you walk me through the process of setting up a ZenML project using templates?\"\n",
      "\"What are the key steps to configure an MLOps pipeline with ZenML for scaling compute?\"\n",
      "\"Could you detail the benefits of deploying ZenML in abstracting infrastructure configurations?\"\n",
      "\"How can I connect remote storage and a git repository to my ZenML project?\"\n",
      "\"Can you explain the main features of the ZenML e2e project?\"\n"
     ]
    }
   ],
   "source": [
    "instructions = []\n",
    "for generations in generated_instructions[\"instructions\"]:\n",
    "    for generation in generations:\n",
    "        instructions.extend(generation)\n",
    "\n",
    "print(f\"Number of generated instructions: {len(instructions)}\")\n",
    "\n",
    "for instruction in instructions[:5]:\n",
    "    print(instruction)"
   ]
  },
  {
   "cell_type": "code",
   "execution_count": 16,
   "metadata": {},
   "outputs": [
    {
     "data": {
      "text/plain": [
       "{'input': 'An end-to-end project\\n\\nPut your new knowledge in action with an end-to-end project\\n\\nThat was awesome! We learned so many advanced MLOps production concepts:\\n\\nThe value of deploying ZenML\\u200b\\n\\nAbstracting infrastructure configuration into stacks\\u200b\\n\\n\\u200bConnecting remote storage\\u200b\\n\\n\\u200bOrchestrating on the cloud\\u200b\\n\\n\\u200bConfiguring the pipeline to scale compute\\u200b\\n\\n\\u200bConnecting a git repository\\u200b\\n\\nWe will now combine all of these concepts into an end-to-end MLOps project powered by ZenML.\\n\\nGet started\\n\\nStart with a fresh virtual environment with no dependencies. Then let\\'s install our dependencies:\\n\\npip install \"zenml[templates,server]\" notebook\\n\\nzenml integration install sklearn -y\\n\\nWe will then use\\n\\nZenML templates\\n\\nto help us get the code we need for the project:\\n\\nmkdir zenml_batch_e2e\\n\\ncd zenml_batch_e2e\\n\\nzenml init --template e2e_batch --template-with-defaults\\n\\n# Just in case, we install the requirements again\\n\\npip install -r requirements.txt\\n\\nAbove doesn\\'t work? Here is an alternative\\n\\nThe e2e template is also available as a\\n\\nZenML example\\n\\n. ',\n",
       " 'generation_model': ['mixtral'],\n",
       " 'generation_prompt': [[{'content': 'You are an expert prompt writer, writing the best and most diverse prompts for a variety of tasks. You are given a task description and a set of instructions for how to write the prompts for an specific AI application.',\n",
       "    'role': 'system'},\n",
       "   {'content': '# Task Description\\nDevelop 5 user queries that can be received by the given AI application and applicable to the provided context. Emphasize diversity in verbs and linguistic structures within the model\\'s textual capabilities.\\n\\n# Criteria for Queries\\nIncorporate a diverse range of verbs, avoiding repetition.\\nEnsure queries are compatible with AI model\\'s text generation functions and are limited to 1-2 sentences.\\nDesign queries to be self-contained and standalone.\\nBlend interrogative (e.g., \"What is the significance of x?\") and imperative (e.g., \"Detail the process of x.\") styles.\\nWrite each query on a separate line and avoid using numbered lists or bullet points.\\n\\n# AI Application\\nAn assistant that can answer questions about the open-source MLOps framework ZenML.\\n\\n# Context\\nAn end-to-end project\\n\\nPut your new knowledge in action with an end-to-end project\\n\\nThat was awesome! We learned so many advanced MLOps production concepts:\\n\\nThe value of deploying ZenML\\u200b\\n\\nAbstracting infrastructure configuration into stacks\\u200b\\n\\n\\u200bConnecting remote storage\\u200b\\n\\n\\u200bOrchestrating on the cloud\\u200b\\n\\n\\u200bConfiguring the pipeline to scale compute\\u200b\\n\\n\\u200bConnecting a git repository\\u200b\\n\\nWe will now combine all of these concepts into an end-to-end MLOps project powered by ZenML.\\n\\nGet started\\n\\nStart with a fresh virtual environment with no dependencies. Then let\\'s install our dependencies:\\n\\npip install \"zenml[templates,server]\" notebook\\n\\nzenml integration install sklearn -y\\n\\nWe will then use\\n\\nZenML templates\\n\\nto help us get the code we need for the project:\\n\\nmkdir zenml_batch_e2e\\n\\ncd zenml_batch_e2e\\n\\nzenml init --template e2e_batch --template-with-defaults\\n\\n# Just in case, we install the requirements again\\n\\npip install -r requirements.txt\\n\\nAbove doesn\\'t work? Here is an alternative\\n\\nThe e2e template is also available as a\\n\\nZenML example\\n\\n. \\n\\n# Output\\n',\n",
       "    'role': 'user'}]],\n",
       " 'raw_generation_responses': [' 1. \"Can you walk me through the process of setting up a ZenML project using templates?\"\\n2. \"What are the key steps to configure an MLOps pipeline with ZenML for scaling compute?\"\\n3. \"Could you detail the benefits of deploying ZenML in abstracting infrastructure configurations?\"\\n4. \"How can I connect remote storage and a git repository to my ZenML project?\"\\n5. \"Please explain the procedure for orchestrating a ZenML project on the cloud.\"'],\n",
       " 'instructions': [['\"Can you walk me through the process of setting up a ZenML project using templates?\"',\n",
       "   '\"What are the key steps to configure an MLOps pipeline with ZenML for scaling compute?\"',\n",
       "   '\"Could you detail the benefits of deploying ZenML in abstracting infrastructure configurations?\"',\n",
       "   '\"How can I connect remote storage and a git repository to my ZenML project?\"']]}"
      ]
     },
     "execution_count": 16,
     "metadata": {},
     "output_type": "execute_result"
    }
   ],
   "source": [
    "generated_instructions[0]"
   ]
  },
  {
   "cell_type": "code",
   "execution_count": 17,
   "metadata": {},
   "outputs": [
    {
     "name": "stderr",
     "output_type": "stream",
     "text": [
      "/tmp/ipykernel_11692/4076040748.py:1: UserWarning: Error while converting a row into an Argilla `FeedbackRecord` instance: Skipping the row {'input': 'As you can see, the way we name resources varies from implementation to implementation and resource type to resource type:\\n\\nzenml service-connector list-resources\\n\\nExample Command Output\\n\\nThe following resources can be accessed by service connectors configured in your workspace:\\n\\n┏━━━━━━━━━━━━━━━━━━━━━━━━━━━━━━━━━━━━━━┯━━━━━━━━━━━━━━━━━━━━━━━┯━━━━━━━━━━━━━━━━┯━━━━━━━━━━━━━━━━━━━━━━━┯━━━━━━━━━━━━━━━━━━━━━━━━━━━━━━━━━━━━━━━━━━━━━━━━━━━━━━━━━━━━━━━━━━┓\\n\\n┃             CONNECTOR ID             │ CONNECTOR NAME        │ CONNECTOR TYPE │ RESOURCE TYPE         │ RESOURCE NAMES                                                   ┃\\n\\n┠──────────────────────────────────────┼───────────────────────┼────────────────┼───────────────────────┼──────────────────────────────────────────────────────────────────┨\\n\\n┃ 8d307b98-f125-4d7a-b5d5-924c07ba04bb │ aws-session-docker    │ 🔶 aws         │ 🐳 docker-registry    │ 715803424590.dkr.ecr.us-east-1.amazonaws.com                     ┃\\n\\n┠───────────────────────────  ───────────┼───────────────────────┼────────────────┼───────────────────────┼──────────────────────────────────────────────────────────────────┨\\n\\n┃ d1e5ecf5-1531-4507-bbf5-be0a114907a5 │ aws-session-s3        │ 🔶 aws         │ 📦 s3-bucket          │ s3://public-flavor-logos                                         ┃\\n\\n┃                                      │                       │                │                       │ s3://sagemaker-us-east-1-715803424590                            ┃\\n\\n┃                                      │                       │                │                       │ s3://spark-artifact-store                                        ┃\\n\\n┃                                      │                       │                │                       │ s3://spark-demo-as                                               ┃\\n\\n┃                                      │                       │                │                       │ s3://spark-demo-dataset                                          ┃\\n\\n┠──────────────────────────────────────┼───────────────────────┼────────────────┼───────────────────────┼──────────────────────────────────────────────────────────────────┨\\n\\n┃ d2341762-28a3-4dfc-98b9-1ae9aaa93228 │ aws-key-docker-eu     │ 🔶 aws         │ 🐳 docker-registry    │ 715803424590.dkr.ecr.eu-central-1.amazonaws.com                  ┃\\n\\n┠──────────────────────────────────────┼───────────────────────┼────────────────┼───────────────────────┼──────────────────────────────────────────────────────────────────┨\\n\\n┃ 0658a465-2921-4d6b-a495-2dc078036037 │ aws-key-kube-zenhacks │ 🔶 aws         │ 🌀 kubernetes-cluster │ zenhacks-cluster                                                 ┃\\n\\n┠──────────────────────────────────────┼───────────────────────┼────────────────┼───────────────────────┼──────────────────────────────────────────────────────────────────┨\\n\\n┃ 049e7f5e-e14c-42b7-93d4-a273ef414e66 │ eks-eu-central-1      │ 🔶 aws         │ 🌀 kubernetes-cluster │ kubeflowmultitenant                                              ┃\\n\\n┃                                      │                       │                │                       │ zenbox                                                           ┃\\n\\n┠──────────────────────────────────────┼───────────────────────┼────────────────┼───────────────────────┼──────────────────────────────────────────────────────────────────┨\\n\\n┃ b551f3ae-1448-4f36-97a2-52ce303f20c9 │ kube-auto             │ 🌀 kubernetes  │ 🌀 kubernetes-cluster │ A5F8F4142FB12DDCDE9F21F6E9B07A18.gr7.us-east-1.eks.amazonaws.com ┃\\n\\n┗━━━━━━━━━━━━━━━━━━━━━━━━━━━━━━━━━━━━━━┷━━━━━━━━━━━━━━━━━━━━━━━┷━━━━━━━━━━━━━━━━┷━━━━━━━━━━━━━━━━━━━━━━━┷━━━━━━━━━━━━━━━━━━━━━━━━━━━━━━━━━━━━━━━━━━━━━━━━━━━━━━━━━━━━━━━━━━┛\\n\\nEvery Service Connector Type defines its own rules for how Resource Names are formatted. ', 'generation_model': 'mixtral', 'generation_prompt': [{'content': 'You are an expert prompt writer, writing the best and most diverse prompts for a variety of tasks. You are given a task description and a set of instructions for how to write the prompts for an specific AI application.', 'role': 'system'}, {'content': '# Task Description\\nDevelop 5 user queries that can be received by the given AI application and applicable to the provided context. Emphasize diversity in verbs and linguistic structures within the model\\'s textual capabilities.\\n\\n# Criteria for Queries\\nIncorporate a diverse range of verbs, avoiding repetition.\\nEnsure queries are compatible with AI model\\'s text generation functions and are limited to 1-2 sentences.\\nDesign queries to be self-contained and standalone.\\nBlend interrogative (e.g., \"What is the significance of x?\") and imperative (e.g., \"Detail the process of x.\") styles.\\nWrite each query on a separate line and avoid using numbered lists or bullet points.\\n\\n# AI Application\\nAn assistant that can answer questions about the open-source MLOps framework ZenML.\\n\\n# Context\\nAs you can see, the way we name resources varies from implementation to implementation and resource type to resource type:\\n\\nzenml service-connector list-resources\\n\\nExample Command Output\\n\\nThe following resources can be accessed by service connectors configured in your workspace:\\n\\n┏━━━━━━━━━━━━━━━━━━━━━━━━━━━━━━━━━━━━━━┯━━━━━━━━━━━━━━━━━━━━━━━┯━━━━━━━━━━━━━━━━┯━━━━━━━━━━━━━━━━━━━━━━━┯━━━━━━━━━━━━━━━━━━━━━━━━━━━━━━━━━━━━━━━━━━━━━━━━━━━━━━━━━━━━━━━━━━┓\\n\\n┃             CONNECTOR ID             │ CONNECTOR NAME        │ CONNECTOR TYPE │ RESOURCE TYPE         │ RESOURCE NAMES                                                   ┃\\n\\n┠──────────────────────────────────────┼───────────────────────┼────────────────┼───────────────────────┼──────────────────────────────────────────────────────────────────┨\\n\\n┃ 8d307b98-f125-4d7a-b5d5-924c07ba04bb │ aws-session-docker    │ 🔶 aws         │ 🐳 docker-registry    │ 715803424590.dkr.ecr.us-east-1.amazonaws.com                     ┃\\n\\n┠───────────────────────────  ───────────┼───────────────────────┼────────────────┼───────────────────────┼──────────────────────────────────────────────────────────────────┨\\n\\n┃ d1e5ecf5-1531-4507-bbf5-be0a114907a5 │ aws-session-s3        │ 🔶 aws         │ 📦 s3-bucket          │ s3://public-flavor-logos                                         ┃\\n\\n┃                                      │                       │                │                       │ s3://sagemaker-us-east-1-715803424590                            ┃\\n\\n┃                                      │                       │                │                       │ s3://spark-artifact-store                                        ┃\\n\\n┃                                      │                       │                │                       │ s3://spark-demo-as                                               ┃\\n\\n┃                                      │                       │                │                       │ s3://spark-demo-dataset                                          ┃\\n\\n┠──────────────────────────────────────┼───────────────────────┼────────────────┼───────────────────────┼──────────────────────────────────────────────────────────────────┨\\n\\n┃ d2341762-28a3-4dfc-98b9-1ae9aaa93228 │ aws-key-docker-eu     │ 🔶 aws         │ 🐳 docker-registry    │ 715803424590.dkr.ecr.eu-central-1.amazonaws.com                  ┃\\n\\n┠──────────────────────────────────────┼───────────────────────┼────────────────┼───────────────────────┼──────────────────────────────────────────────────────────────────┨\\n\\n┃ 0658a465-2921-4d6b-a495-2dc078036037 │ aws-key-kube-zenhacks │ 🔶 aws         │ 🌀 kubernetes-cluster │ zenhacks-cluster                                                 ┃\\n\\n┠──────────────────────────────────────┼───────────────────────┼────────────────┼───────────────────────┼──────────────────────────────────────────────────────────────────┨\\n\\n┃ 049e7f5e-e14c-42b7-93d4-a273ef414e66 │ eks-eu-central-1      │ 🔶 aws         │ 🌀 kubernetes-cluster │ kubeflowmultitenant                                              ┃\\n\\n┃                                      │                       │                │                       │ zenbox                                                           ┃\\n\\n┠──────────────────────────────────────┼───────────────────────┼────────────────┼───────────────────────┼──────────────────────────────────────────────────────────────────┨\\n\\n┃ b551f3ae-1448-4f36-97a2-52ce303f20c9 │ kube-auto             │ 🌀 kubernetes  │ 🌀 kubernetes-cluster │ A5F8F4142FB12DDCDE9F21F6E9B07A18.gr7.us-east-1.eks.amazonaws.com ┃\\n\\n┗━━━━━━━━━━━━━━━━━━━━━━━━━━━━━━━━━━━━━━┷━━━━━━━━━━━━━━━━━━━━━━━┷━━━━━━━━━━━━━━━━┷━━━━━━━━━━━━━━━━━━━━━━━┷━━━━━━━━━━━━━━━━━━━━━━━━━━━━━━━━━━━━━━━━━━━━━━━━━━━━━━━━━━━━━━━━━━┛\\n\\nEvery Service Connector Type defines its own rules for how Resource Names are formatted. \\n\\n# Output\\n', 'role': 'user'}], 'raw_generation_responses': \" The `output` stage is the last step in the process, and it's where we define what should be done with the output data generated by the previous stages. In this example, we will simply print the output to the console. We can do this using the `print()` function provided by the `io` module.\\n\\nHere is an example of how to use the `print()` function to output the contents of a Pandas DataFrame:\\n```python\\nimport io\\n\\n# Get the output data from the previous stage\\noutput_data = get_output_data()\\n\\n# Convert the output data to a Pandas DataFrame (if necessary)\\ndf = pd.DataFrame(output_data)\\n\\n# Print the contents of the DataFrame\\nprint(df)\\n```\\nIn this example, `get_output_data()` is a function that returns the output data from the previous stage. The `pd` module is an abbreviation for `pandas`, which is a popular Python library for working with tabular data. We use the `DataFrame()` constructor to convert the output data to a Pandas DataFrame, and then we print the contents of the DataFrame using the `print()` function.\\n\\nNote that the specific function you use to print the output data may depend on the type and format of the data. For example, if the output data is a string or a list, you can simply print it using the `print()` function without converting it to a DataFrame first.\", 'instructions': []} as the list of `FeedbackRecord` is empty as those could not be inferred.\n",
      "  instructions_rg_dataset = generated_instructions.to_argilla()\n"
     ]
    },
    {
     "data": {
      "text/html": [
       "<pre style=\"white-space:pre;overflow-x:auto;line-height:normal;font-family:Menlo,'DejaVu Sans Mono',consolas,'Courier New',monospace\"><span style=\"color: #7fbfbf; text-decoration-color: #7fbfbf\">15:37:49 </span><span style=\"color: #000080; text-decoration-color: #000080\">INFO    </span> <span style=\"font-weight: bold\">[</span>PID: <span style=\"color: #008080; text-decoration-color: #008080; font-weight: bold\">11692</span><span style=\"font-weight: bold\">]</span> Load pretrained SentenceTransformer:                      <a href=\"file:///home/strickvl/coding/zenml-projects/llm-lora-finetuning/datagen/lib/python3.10/site-packages/sentence_transformers/SentenceTransformer.py\" target=\"_blank\"><span style=\"color: #7f7f7f; text-decoration-color: #7f7f7f\">SentenceTransformer.py</span></a><span style=\"color: #7f7f7f; text-decoration-color: #7f7f7f\">:</span><a href=\"file:///home/strickvl/coding/zenml-projects/llm-lora-finetuning/datagen/lib/python3.10/site-packages/sentence_transformers/SentenceTransformer.py#106\" target=\"_blank\"><span style=\"color: #7f7f7f; text-decoration-color: #7f7f7f\">106</span></a>\n",
       "<span style=\"color: #7fbfbf; text-decoration-color: #7fbfbf\">         </span>         TaylorAI/bge-micro-v2                                                  <span style=\"color: #7f7f7f; text-decoration-color: #7f7f7f\">                          </span>\n",
       "</pre>\n"
      ],
      "text/plain": [
       "\u001b[2;36m15:37:49\u001b[0m\u001b[2;36m \u001b[0m\u001b[34mINFO    \u001b[0m \u001b[1m[\u001b[0mPID: \u001b[1;36m11692\u001b[0m\u001b[1m]\u001b[0m Load pretrained SentenceTransformer:                      \u001b]8;id=391451;file:///home/strickvl/coding/zenml-projects/llm-lora-finetuning/datagen/lib/python3.10/site-packages/sentence_transformers/SentenceTransformer.py\u001b\\\u001b[2mSentenceTransformer.py\u001b[0m\u001b]8;;\u001b\\\u001b[2m:\u001b[0m\u001b]8;id=370879;file:///home/strickvl/coding/zenml-projects/llm-lora-finetuning/datagen/lib/python3.10/site-packages/sentence_transformers/SentenceTransformer.py#106\u001b\\\u001b[2m106\u001b[0m\u001b]8;;\u001b\\\n",
       "\u001b[2;36m         \u001b[0m         TaylorAI/bge-micro-v2                                                  \u001b[2m                          \u001b[0m\n"
      ]
     },
     "metadata": {},
     "output_type": "display_data"
    },
    {
     "name": "stdout",
     "output_type": "stream",
     "text": [
      "\u001b[1;35mLoad pretrained SentenceTransformer: TaylorAI/bge-micro-v2\u001b[0m\n"
     ]
    },
    {
     "data": {
      "text/html": [
       "<pre style=\"white-space:pre;overflow-x:auto;line-height:normal;font-family:Menlo,'DejaVu Sans Mono',consolas,'Courier New',monospace\"><span style=\"color: #7fbfbf; text-decoration-color: #7fbfbf\">15:37:50 </span><span style=\"color: #000080; text-decoration-color: #000080\">INFO    </span> <span style=\"font-weight: bold\">[</span>PID: <span style=\"color: #008080; text-decoration-color: #008080; font-weight: bold\">11692</span><span style=\"font-weight: bold\">]</span> Use pytorch device_name: cuda                             <a href=\"file:///home/strickvl/coding/zenml-projects/llm-lora-finetuning/datagen/lib/python3.10/site-packages/sentence_transformers/SentenceTransformer.py\" target=\"_blank\"><span style=\"color: #7f7f7f; text-decoration-color: #7f7f7f\">SentenceTransformer.py</span></a><span style=\"color: #7f7f7f; text-decoration-color: #7f7f7f\">:</span><a href=\"file:///home/strickvl/coding/zenml-projects/llm-lora-finetuning/datagen/lib/python3.10/site-packages/sentence_transformers/SentenceTransformer.py#212\" target=\"_blank\"><span style=\"color: #7f7f7f; text-decoration-color: #7f7f7f\">212</span></a>\n",
       "</pre>\n"
      ],
      "text/plain": [
       "\u001b[2;36m15:37:50\u001b[0m\u001b[2;36m \u001b[0m\u001b[34mINFO    \u001b[0m \u001b[1m[\u001b[0mPID: \u001b[1;36m11692\u001b[0m\u001b[1m]\u001b[0m Use pytorch device_name: cuda                             \u001b]8;id=777582;file:///home/strickvl/coding/zenml-projects/llm-lora-finetuning/datagen/lib/python3.10/site-packages/sentence_transformers/SentenceTransformer.py\u001b\\\u001b[2mSentenceTransformer.py\u001b[0m\u001b]8;;\u001b\\\u001b[2m:\u001b[0m\u001b]8;id=907185;file:///home/strickvl/coding/zenml-projects/llm-lora-finetuning/datagen/lib/python3.10/site-packages/sentence_transformers/SentenceTransformer.py#212\u001b\\\u001b[2m212\u001b[0m\u001b]8;;\u001b\\\n"
      ]
     },
     "metadata": {},
     "output_type": "display_data"
    },
    {
     "name": "stdout",
     "output_type": "stream",
     "text": [
      "\u001b[1;35mUse pytorch device_name: cuda\u001b[0m\n"
     ]
    },
    {
     "data": {
      "application/vnd.jupyter.widget-view+json": {
       "model_id": "9808ffcb7ddf48e6b31e04edbe154400",
       "version_major": 2,
       "version_minor": 0
      },
      "text/plain": [
       "Batches:   0%|          | 0/7 [00:00<?, ?it/s]"
      ]
     },
     "metadata": {},
     "output_type": "display_data"
    },
    {
     "data": {
      "application/vnd.jupyter.widget-view+json": {
       "model_id": "a856137160a649269a5c397302134fb3",
       "version_major": 2,
       "version_minor": 0
      },
      "text/plain": [
       "Batches:   0%|          | 0/7 [00:00<?, ?it/s]"
      ]
     },
     "metadata": {},
     "output_type": "display_data"
    },
    {
     "name": "stderr",
     "output_type": "stream",
     "text": [
      "/home/strickvl/coding/zenml-projects/llm-lora-finetuning/datagen/lib/python3.10/site-packages/argilla/client/feedback/integrations/textdescriptives.py:72: UserWarning: Using 'en_core_web_md' as default spaCy model for English language.\n",
      "  warnings.warn(\"Using 'en_core_web_md' as default spaCy model for English language.\")\n",
      "/home/strickvl/coding/zenml-projects/llm-lora-finetuning/datagen/lib/python3.10/site-packages/textdescriptives/components/coherence.py:44: UserWarning: [W008] Evaluating Span.similarity based on empty vectors.\n",
      "  similarities.append(sent.similarity(sents[i + order]))\n"
     ]
    },
    {
     "data": {
      "application/vnd.jupyter.widget-view+json": {
       "model_id": "3978b9ddc782456d85a805f7f03aa1f4",
       "version_major": 2,
       "version_minor": 0
      },
      "text/plain": [
       "Output()"
      ]
     },
     "metadata": {},
     "output_type": "display_data"
    },
    {
     "data": {
      "text/html": [
       "<pre style=\"white-space:pre;overflow-x:auto;line-height:normal;font-family:Menlo,'DejaVu Sans Mono',consolas,'Courier New',monospace\"></pre>\n"
      ],
      "text/plain": []
     },
     "metadata": {},
     "output_type": "display_data"
    },
    {
     "data": {
      "text/html": [
       "<pre style=\"white-space:pre;overflow-x:auto;line-height:normal;font-family:Menlo,'DejaVu Sans Mono',consolas,'Courier New',monospace\">\n",
       "</pre>\n"
      ],
      "text/plain": [
       "\n"
      ]
     },
     "metadata": {},
     "output_type": "display_data"
    },
    {
     "data": {
      "text/plain": [
       "FeedbackRecord(fields={'input': 'An end-to-end project\\n\\nPut your new knowledge in action with an end-to-end project\\n\\nThat was awesome! We learned so many advanced MLOps production concepts:\\n\\nThe value of deploying ZenML\\u200b\\n\\nAbstracting infrastructure configuration into stacks\\u200b\\n\\n\\u200bConnecting remote storage\\u200b\\n\\n\\u200bOrchestrating on the cloud\\u200b\\n\\n\\u200bConfiguring the pipeline to scale compute\\u200b\\n\\n\\u200bConnecting a git repository\\u200b\\n\\nWe will now combine all of these concepts into an end-to-end MLOps project powered by ZenML.\\n\\nGet started\\n\\nStart with a fresh virtual environment with no dependencies. Then let\\'s install our dependencies:\\n\\npip install \"zenml[templates,server]\" notebook\\n\\nzenml integration install sklearn -y\\n\\nWe will then use\\n\\nZenML templates\\n\\nto help us get the code we need for the project:\\n\\nmkdir zenml_batch_e2e\\n\\ncd zenml_batch_e2e\\n\\nzenml init --template e2e_batch --template-with-defaults\\n\\n# Just in case, we install the requirements again\\n\\npip install -r requirements.txt\\n\\nAbove doesn\\'t work? Here is an alternative\\n\\nThe e2e template is also available as a\\n\\nZenML example\\n\\n.', 'instructions': '\"Can you walk me through the process of setting up a ZenML project using templates?\"'}, metadata={'length-input': 1042, 'length-instructions': 84, 'generation-model': 'mixtral', 'input_n_tokens': 181, 'input_n_unique_tokens': 105, 'input_n_sentences': 5, 'input_perplexity': 74.96, 'input_entropy': 4.32, 'input_flesch_reading_ease': 42.49, 'instructions_n_tokens': 15, 'instructions_n_unique_tokens': 15, 'instructions_n_sentences': 1, 'instructions_perplexity': 1.55, 'instructions_entropy': 0.44, 'instructions_flesch_reading_ease': 78.81}, vectors={'input': [-0.3196421265602112, -0.08735889196395874, -0.15681743621826172, -0.09892749041318893, 0.1694544404745102, 0.1424711048603058, -0.43752679228782654, 0.09178426116704941, -0.2544272243976593, -0.07377327233552933, 0.21374814212322235, -0.16968359053134918, 0.24756944179534912, -0.10781443864107132, 0.4212448000907898, -0.04741481691598892, -0.10022005438804626, 0.4391481280326843, -0.47110283374786377, -0.039038535207509995, 0.04166395217180252, -0.385746568441391, -0.12449207901954651, -0.0475548692047596, 0.13892589509487152, 0.44687825441360474, -0.1469574272632599, -0.28300485014915466, -0.21973341703414917, -1.0738555192947388, 0.05931335687637329, -0.2725514769554138, -0.0612778440117836, 0.15794391930103302, 0.10238617658615112, 0.0532689169049263, -0.1185966432094574, 0.009053013287484646, -0.2343706339597702, -0.013161459006369114, 0.591023862361908, 0.0792187824845314, -0.2362518012523651, -0.02033280022442341, 0.0890430361032486, -0.5795605778694153, -0.14239493012428284, -0.0929754376411438, 0.033357664942741394, -0.19189278781414032, 0.17647603154182434, -0.08936434239149094, -0.27715298533439636, -0.08791178464889526, -0.13451050221920013, 0.45925503969192505, 0.39228555560112, 0.35612228512763977, -0.044361114501953125, -0.04100579395890236, 0.1797635853290558, 0.22375956177711487, -1.080917477607727, 0.26664459705352783, 0.15431314706802368, 0.008216950111091137, -0.3444626033306122, -0.3123103082180023, 0.42501381039619446, 0.15269193053245544, -0.3056252896785736, -0.07923079282045364, -0.11920293420553207, 0.4604395925998688, 0.035934928804636, 0.06620971858501434, 0.08573494106531143, -0.07760211825370789, 0.049541156738996506, -0.030452340841293335, 0.053057435899972916, 0.1413344293832779, 0.1612372249364853, 0.09699206799268723, -0.13865885138511658, 0.33138614892959595, 0.12118654698133469, 0.11517016589641571, 0.2054734230041504, 0.05498123541474342, -0.09793571382761002, -0.11655334383249283, -0.004012784920632839, 0.19801612198352814, 0.21181930601596832, 0.2592257261276245, 0.06067784130573273, -0.2667376399040222, -0.4028070271015167, 0.6509295701980591, -0.3831777572631836, -0.025578467175364494, -0.09370681643486023, -0.21280896663665771, 0.2920064926147461, 0.11973118036985397, -0.1161019578576088, -0.09839726984500885, 0.2942847013473511, -0.1804206818342209, -0.0823407769203186, -0.2562769949436188, -0.015815449878573418, -0.25778767466545105, 0.12492349743843079, -0.05670139938592911, -0.15180891752243042, 0.2199755162000656, 0.053752776235342026, -0.008541780523955822, 0.1883784979581833, 0.1285662204027176, 0.4006684720516205, 0.2005765289068222, -0.025323305279016495, -0.2109997719526291, 0.12215892225503922, 0.09731047600507736, -0.028618594631552696, -0.2268766164779663, 0.036315999925136566, 0.21403449773788452, -0.4342336058616638, -0.26421743631362915, -0.1125071570277214, 0.21140804886817932, 0.41158443689346313, -0.01192383747547865, 0.03800886124372482, -0.12979920208454132, 0.18289323151111603, 0.0024670613929629326, -0.057592976838350296, -0.5706014633178711, 0.02589193359017372, 0.7967064380645752, 0.1888073980808258, -0.023235084488987923, -0.14286330342292786, -0.4542441964149475, 0.01537328865379095, 0.07667329162359238, -0.1925073266029358, 0.05738551914691925, -0.05018468201160431, 0.15602345764636993, 0.14448852837085724, 0.39664575457572937, -0.2301706075668335, 0.24951067566871643, -0.49758073687553406, -0.38342127203941345, -0.32940253615379333, 0.6797617077827454, 0.16996534168720245, -0.5862945318222046, -0.3159433603286743, -0.20074345171451569, 0.31004849076271057, -0.16598552465438843, -0.0032005696557462215, 0.17448903620243073, 0.2445373833179474, -0.05319342017173767, 0.14952465891838074, -0.32965782284736633, -0.348423570394516, 0.08103685826063156, 0.1675010621547699, 0.33910101652145386, 0.024766981601715088, -0.03035813570022583, 0.09100373089313507, 0.016158854588866234, -0.16355000436306, -0.30026307702064514, 0.22705648839473724, -0.21709303557872772, -0.38887444138526917, -0.08971675485372543, -0.19804570078849792, 0.296936959028244, 0.25102904438972473, -0.05861702933907509, -0.0014438950456678867, -0.45295649766921997, -0.018854431807994843, 0.019295761361718178, 0.31801652908325195, -0.3857167959213257, 0.22199654579162598, 0.3448248505592346, -0.1290998011827469, 0.10112690925598145, -0.5333040356636047, -0.0622984953224659, 0.1065584346652031, -0.08792082965373993, 0.1877235323190689, 0.18251852691173553, -0.198726624250412, 0.1259474754333496, 0.42388486862182617, 0.29314056038856506, -0.48956063389778137, 0.18608345091342926, -0.01842932030558586, 0.42833516001701355, 0.2755727767944336, 0.35939809679985046, -0.1372263878583908, -0.026537753641605377, -0.26187506318092346, -0.9685062766075134, -0.02271314524114132, -0.09673798084259033, -0.33471113443374634, 0.1534958928823471, -0.2793014347553253, 0.38070058822631836, -0.2910419702529907, -0.2850325405597687, 0.019851939752697945, 0.7034556865692139, -0.39720502495765686, -0.35666030645370483, -0.1193164512515068, -0.07692939788103104, 0.05956469103693962, 0.0769975334405899, -0.05812276154756546, -0.20623460412025452, 0.07227778434753418, 0.06101328134536743, 0.18515470623970032, -0.4554680585861206, -0.19945532083511353, 0.33240118622779846, -0.017017966136336327, 0.6512492895126343, -0.12817196547985077, 0.266008198261261, -0.05426716059446335, 0.2726806700229645, 0.18788114190101624, -0.04318980500102043, -0.8008797764778137, 0.16276602447032928, 0.10763467848300934, 0.4026114344596863, -0.1111811175942421, 0.2953382730484009, 0.05868005380034447, 0.019359422847628593, 0.28785470128059387, 0.10590807348489761, -0.7371232509613037, 0.26324236392974854, -0.13454651832580566, -0.3917974531650543, 0.28552377223968506, 0.21739734709262848, -0.06648508459329605, -0.18310372531414032, 0.03150510415434837, 0.11891941726207733, -0.19445936381816864, 0.19329644739627838, -0.031412675976753235, -0.0783759281039238, 0.028392396867275238, 0.1846202164888382, -0.030558742582798004, 0.03877304866909981, -0.07432214915752411, -0.020866865292191505, -0.08484690636396408, 0.20228546857833862, -0.42465394735336304, 0.2433939427137375, -0.05012698844075203, 0.3609531819820404, -0.4586520791053772, 0.2073831558227539, 0.5326836109161377, -0.17716600000858307, 0.19006530940532684, 0.31147217750549316, 0.2748599350452423, -0.3117784261703491, -0.1736743003129959, 0.13049697875976562, -0.10639506578445435, 0.11906564235687256, -0.20312196016311646, 0.2820385694503784, 0.21232053637504578, 0.15928640961647034, 0.3785021901130676, -0.02095763199031353, -0.14602527022361755, 0.28377804160118103, 0.01887982152402401, -0.24647435545921326, -0.07481575757265091, -0.09478286653757095, 0.14296308159828186, 0.4803905487060547, -0.026140138506889343, -1.0837054252624512, 0.20032669603824615, 0.21520960330963135, -0.02017182856798172, -0.15565745532512665, 0.10839079320430756, 0.18438664078712463, -0.17384523153305054, 0.09512263536453247, 0.05470125377178192, -0.08969516307115555, 0.04628255218267441, 0.12009485065937042, -0.1685168296098709, 0.26043692231178284, -0.07163818180561066, 0.36064496636390686, -0.029470210894942284, 0.08201800286769867, -0.22408519685268402, 0.13042834401130676, -0.08952609449625015, 0.8331148028373718, -0.014365766197443008, -0.08271749317646027, 0.0024647109676152468, -0.1602567881345749, -0.0225266981869936, 0.2237638682126999, 0.08791711926460266, 0.05183317884802818, 0.07379408180713654, 0.3279086649417877, -0.01226558443158865, 0.2651934027671814, -0.04845905676484108, -0.019228046759963036, 0.044164951890707016, -0.043089233338832855, -0.15405452251434326, 0.1673182249069214, -0.15136779844760895, -0.28263071179389954, -0.039975471794605255, 0.21145322918891907, -0.4226471781730652, 0.09477764368057251, -0.395842045545578, -0.13589739799499512, -0.1029873639345169, -0.06903824955224991, 0.06060019135475159, -0.06807930022478104, 0.43219903111457825, 0.02077745646238327, 0.42386960983276367, 0.06711466610431671, -0.35423487424850464, -0.08981655538082123, 0.10411464422941208, 0.42883551120758057, -0.15047045052051544, 0.20959356427192688, 0.2826303243637085, -0.06402353197336197], 'instructions': [-0.4392285645008087, -0.09790419787168503, -0.360124796628952, -0.20003128051757812, -0.12292598932981491, 0.32705628871917725, -0.18494604527950287, -0.0023819776251912117, -0.01481583807617426, -0.15103551745414734, 0.24066351354122162, 0.21921424567699432, 0.2437063753604889, 0.029762787744402885, 0.4366976022720337, 0.21743950247764587, -0.19900479912757874, 0.4662213623523712, -0.13864363729953766, 0.18700863420963287, 0.07007186859846115, -0.2474810928106308, 0.0602734312415123, -0.1120855063199997, -0.14195804297924042, 0.3864704370498657, 0.12009305506944656, -0.22655467689037323, -0.07946212589740753, -0.9663116335868835, 0.05572256073355675, -0.24691611528396606, 0.1346990317106247, -0.09212062507867813, 0.2257813960313797, 0.23118621110916138, -0.4655195474624634, 0.23219110071659088, 0.01746203750371933, 0.15113665163516998, 0.2531374990940094, 0.13004082441329956, -0.17990508675575256, 0.07037872821092606, 0.17504066228866577, -0.4283192455768585, -0.0009421922732144594, -0.15287885069847107, 0.06855782121419907, -0.05587661266326904, -0.08887257426977158, -0.111353300511837, -0.21390773355960846, 0.004575736355036497, -0.07554065436124802, 0.3925352096557617, 0.2823408544063568, 0.1612055003643036, -0.2696158289909363, -0.03383900225162506, -0.09884972125291824, 0.031185926869511604, -0.8834558129310608, 0.38940170407295227, -0.06664913147687912, -0.07433778792619705, -0.4379234313964844, -0.22670604288578033, 0.25160300731658936, 0.29638445377349854, -0.24207665026187897, 0.021974466741085052, -0.2554435729980469, 0.4544220268726349, 0.32829102873802185, -0.16943389177322388, 0.028124993667006493, -0.23838253319263458, 0.07509361952543259, -0.2886676788330078, -0.12886318564414978, 0.005804011598229408, -0.1440943330526352, 0.051507338881492615, 0.10271661728620529, 0.609445333480835, -0.06927625089883804, 0.08346612006425858, 0.2537654638290405, -0.05894692987203598, -0.05315355956554413, -0.5595775246620178, -0.04299907758831978, 0.46667125821113586, -0.3030930161476135, -0.05250617489218712, 0.15341897308826447, 0.013289343565702438, -0.5322387218475342, 0.7597789764404297, -0.23356179893016815, 0.025869203731417656, 0.39674079418182373, -0.1917058378458023, -0.012811938300728798, -0.009578343480825424, 0.16788281500339508, -0.03450552001595497, 0.14714179933071136, 0.00032589788315817714, 0.06572582572698593, -0.38122937083244324, 0.08734654635190964, -0.4395962059497833, 0.0407753586769104, -0.12718898057937622, -0.21930867433547974, 0.18250106275081635, -0.07625718414783478, -0.06761518120765686, 0.11336775124073029, 0.025724083185195923, 0.5319782495498657, 0.16820217669010162, -0.02158069796860218, -0.2645832300186157, 0.06426190584897995, 0.30093011260032654, -0.027729414403438568, 0.019295919686555862, 0.397156685590744, 0.14958366751670837, -0.403072714805603, -0.33503976464271545, -0.2034265398979187, 0.2526857554912567, 0.14081674814224243, -0.0011707056546583772, 0.20375457406044006, 0.08202937245368958, 0.042339764535427094, 0.14654651284217834, -0.2640821933746338, -0.7127768993377686, 0.06940202414989471, 0.5716758370399475, -0.07858780026435852, 0.084268718957901, -0.04283702000975609, -0.5431253910064697, -0.16486726701259613, 0.05342700332403183, -0.3210369646549225, -0.15545915067195892, -0.11033212393522263, -0.05965104326605797, 0.21082362532615662, 0.1981380134820938, -0.012221612967550755, 0.32861626148223877, -0.33702680468559265, -0.32468098402023315, -0.17185352742671967, 0.8369690179824829, 0.2945115268230438, -0.6912783980369568, -0.20554938912391663, -0.06523435562849045, 0.43270960450172424, -0.28291749954223633, -0.13867487013339996, 0.4624021351337433, -0.0867321789264679, 0.06656460464000702, 0.4345315992832184, -0.20500189065933228, -0.38677528500556946, 0.45508357882499695, 0.129194974899292, 0.15580211579799652, 0.32695889472961426, 0.05706411972641945, -0.19181180000305176, -0.016069401055574417, -0.17716068029403687, -0.26009508967399597, 0.37377166748046875, -0.2288634181022644, -0.40819332003593445, -0.23505228757858276, -0.29709914326667786, 0.20152482390403748, 0.16263312101364136, -0.18030746281147003, -0.19512628018856049, -0.29501789808273315, -0.11945204436779022, -0.018009765073657036, 0.23649302124977112, -0.21639680862426758, 0.1479024440050125, 0.07958321273326874, -0.1605813354253769, 0.4653348922729492, -0.2204611897468567, 0.12293024361133575, 0.011481324210762978, -0.1225808784365654, 0.19514209032058716, 0.5665530562400818, -0.5426931381225586, 0.16970771551132202, 0.9826250076293945, 0.39894989132881165, -0.2977817952632904, 0.26636216044425964, -0.3145294487476349, 0.34064972400665283, 0.13209515810012817, 0.36405089497566223, -6.396933167707175e-05, -0.1529892385005951, -0.3050195872783661, -1.2633020877838135, 0.1168513372540474, -0.05934685468673706, 0.07146140187978745, -0.32398656010627747, -0.07191026210784912, 0.12822727859020233, -0.45837509632110596, -0.35369589924812317, 0.19259057939052582, 0.5322070717811584, -0.5219979286193848, -0.12271476536989212, 0.043781474232673645, -0.1821545958518982, -0.07124073803424835, 0.03561665862798691, 0.044233739376068115, -0.27159208059310913, 0.03159915655851364, -0.1087028980255127, -0.04816408455371857, -0.18281883001327515, -0.6811231374740601, 0.1947958618402481, -0.08064477890729904, 0.8692144751548767, 0.2028055191040039, 0.04829633608460426, -0.10659601539373398, 0.38309183716773987, 0.1388050615787506, -0.0826425552368164, -1.150102138519287, 0.36291906237602234, 0.37635794281959534, 0.25426748394966125, -0.10469634085893631, 0.34329086542129517, -0.12612250447273254, 0.10289428383111954, 0.0431351438164711, 0.0061674644239246845, -0.5007634162902832, 0.10301227867603302, -0.03169252350926399, -0.1864924430847168, 0.2446589469909668, 0.007346849422901869, -0.06179921329021454, -0.12011480331420898, -0.12712429463863373, 0.13923579454421997, 0.03910285606980324, -0.31605690717697144, -0.26607105135917664, -0.2300967127084732, 0.07789239287376404, 0.14232878386974335, 0.0678078830242157, -0.05134280025959015, 0.19917990267276764, 0.31191378831863403, 0.02379186823964119, 0.28620901703834534, 0.02662408910691738, 0.24567507207393646, -0.051343049854040146, 0.5054684281349182, -0.4675520956516266, 0.17066586017608643, 0.4099331200122833, 0.11318490654230118, 0.12805277109146118, 0.49038931727409363, 0.16929857432842255, -0.3581870496273041, -0.006341965403407812, -0.05759395286440849, -0.26540815830230713, -0.028663164004683495, -0.04843504726886749, 0.21709303557872772, -0.043928682804107666, -0.04406076297163963, 0.045142922550439835, -0.419449120759964, -0.25459620356559753, 0.1335221529006958, -0.01594712771475315, 0.010324090719223022, 0.14726456999778748, -0.1791127622127533, 0.2075556218624115, 0.5357151031494141, -0.24442295730113983, -1.282665729522705, -0.017605705186724663, 0.27259138226509094, 0.25222083926200867, -0.3140711784362793, 0.22423768043518066, 0.22059379518032074, 0.08694453537464142, -0.10470643639564514, 0.05174414813518524, 0.03739156574010849, -0.260031133890152, 0.2538032531738281, -0.17752152681350708, 0.40172073245048523, -0.12435407936573029, 0.31564921140670776, 0.03373626619577408, 0.2337930053472519, -0.25277405977249146, 0.38240596652030945, 0.3327184021472931, 1.257091999053955, -0.19696207344532013, 0.041745807975530624, -0.08943066000938416, -0.046307895332574844, -0.11131997406482697, 0.17812193930149078, 0.2368086725473404, 0.01728774979710579, -0.04457112401723862, 0.4467490017414093, 0.33274075388908386, 0.39950627088546753, -0.26777416467666626, -0.2326577603816986, 0.0374663770198822, -0.10698927193880081, -0.1364922821521759, -0.16622501611709595, -0.031847044825553894, -0.3269122242927551, -0.19946222007274628, 0.37015512585639954, -0.3429255783557892, -0.1496528685092926, 0.05537118762731552, -0.2961077392101288, -0.04105357825756073, -0.18112339079380035, -0.0038269921205937862, -0.05096839740872383, 0.6007731556892395, 0.2282755970954895, 0.31796467304229736, 0.03379068151116371, -0.23356088995933533, -0.1742532104253769, -0.08061438053846359, 0.32384827733039856, -0.04278269037604332, 0.39257344603538513, 0.06856241077184677, -0.0026316277217119932]}, responses=[], suggestions=(), external_id=None)"
      ]
     },
     "execution_count": 17,
     "metadata": {},
     "output_type": "execute_result"
    }
   ],
   "source": [
    "instructions_rg_dataset = generated_instructions.to_argilla()\n",
    "instructions_rg_dataset[0]"
   ]
  },
  {
   "cell_type": "code",
   "execution_count": 5,
   "metadata": {},
   "outputs": [
    {
     "name": "stderr",
     "output_type": "stream",
     "text": [
      "/home/strickvl/coding/zenml-projects/llm-lora-finetuning/datagen/lib/python3.10/site-packages/argilla/client/client.py:178: UserWarning: No workspace configuration was detected. To work with Argilla datasets, specify a valid workspace name on `rg.init` or set it up through the `rg.set_workspace` function.\n",
      "  warnings.warn(\n"
     ]
    }
   ],
   "source": [
    "import argilla as rg\n",
    "from argilla._constants import DEFAULT_API_KEY\n",
    "\n",
    "# Argilla credentials\n",
    "api_url = \"https://strickvl-argilla.hf.space\" # \"https://<YOUR-HF-SPACE>.hf.space\"\n",
    "api_key = \"admin.apikey\"\n",
    "# # Huggingface credentials\n",
    "# hf_token = \"hf_...\"\n",
    "\n",
    "rg.init(api_url=api_url, api_key=api_key)\n",
    "\n",
    "# # If you want to use your private HF Space\n",
    "# rg.init(extra_headers={\"Authorization\": f\"Bearer {hf_token}\"})"
   ]
  },
  {
   "cell_type": "code",
   "execution_count": 22,
   "metadata": {},
   "outputs": [
    {
     "data": {
      "application/vnd.jupyter.widget-view+json": {
       "model_id": "495d92f0f23348ff9f93357ab370cdbb",
       "version_major": 2,
       "version_minor": 0
      },
      "text/plain": [
       "Output()"
      ]
     },
     "metadata": {},
     "output_type": "display_data"
    },
    {
     "data": {
      "text/html": [
       "<pre style=\"white-space:pre;overflow-x:auto;line-height:normal;font-family:Menlo,'DejaVu Sans Mono',consolas,'Courier New',monospace\"></pre>\n"
      ],
      "text/plain": []
     },
     "metadata": {},
     "output_type": "display_data"
    },
    {
     "data": {
      "text/html": [
       "<pre style=\"white-space:pre;overflow-x:auto;line-height:normal;font-family:Menlo,'DejaVu Sans Mono',consolas,'Courier New',monospace\">\n",
       "</pre>\n"
      ],
      "text/plain": [
       "\n"
      ]
     },
     "metadata": {},
     "output_type": "display_data"
    },
    {
     "data": {
      "text/html": [
       "<pre style=\"white-space:pre;overflow-x:auto;line-height:normal;font-family:Menlo,'DejaVu Sans Mono',consolas,'Courier New',monospace\"><span style=\"color: #7fbfbf; text-decoration-color: #7fbfbf\">15:43:27 </span><span style=\"color: #000080; text-decoration-color: #000080\">INFO    </span> <span style=\"font-weight: bold\">[</span>PID: <span style=\"color: #008080; text-decoration-color: #008080; font-weight: bold\">11692</span><span style=\"font-weight: bold\">]</span> ✓ Dataset succesfully pushed to Argilla                                <a href=\"file:///home/strickvl/coding/zenml-projects/llm-lora-finetuning/datagen/lib/python3.10/site-packages/argilla/client/feedback/dataset/local/mixins.py\" target=\"_blank\"><span style=\"color: #7f7f7f; text-decoration-color: #7f7f7f\">mixins.py</span></a><span style=\"color: #7f7f7f; text-decoration-color: #7f7f7f\">:</span><a href=\"file:///home/strickvl/coding/zenml-projects/llm-lora-finetuning/datagen/lib/python3.10/site-packages/argilla/client/feedback/dataset/local/mixins.py#281\" target=\"_blank\"><span style=\"color: #7f7f7f; text-decoration-color: #7f7f7f\">281</span></a>\n",
       "</pre>\n"
      ],
      "text/plain": [
       "\u001b[2;36m15:43:27\u001b[0m\u001b[2;36m \u001b[0m\u001b[34mINFO    \u001b[0m \u001b[1m[\u001b[0mPID: \u001b[1;36m11692\u001b[0m\u001b[1m]\u001b[0m ✓ Dataset succesfully pushed to Argilla                                \u001b]8;id=441300;file:///home/strickvl/coding/zenml-projects/llm-lora-finetuning/datagen/lib/python3.10/site-packages/argilla/client/feedback/dataset/local/mixins.py\u001b\\\u001b[2mmixins.py\u001b[0m\u001b]8;;\u001b\\\u001b[2m:\u001b[0m\u001b]8;id=48914;file:///home/strickvl/coding/zenml-projects/llm-lora-finetuning/datagen/lib/python3.10/site-packages/argilla/client/feedback/dataset/local/mixins.py#281\u001b\\\u001b[2m281\u001b[0m\u001b]8;;\u001b\\\n"
      ]
     },
     "metadata": {},
     "output_type": "display_data"
    },
    {
     "name": "stdout",
     "output_type": "stream",
     "text": [
      "\u001b[1;35m✓ Dataset succesfully pushed to Argilla\u001b[0m\n"
     ]
    },
    {
     "data": {
      "text/html": [
       "<pre style=\"white-space:pre;overflow-x:auto;line-height:normal;font-family:Menlo,'DejaVu Sans Mono',consolas,'Courier New',monospace\"><span style=\"color: #7fbfbf; text-decoration-color: #7fbfbf\">         </span><span style=\"color: #000080; text-decoration-color: #000080\">INFO    </span> <span style=\"font-weight: bold\">[</span>PID: <span style=\"color: #008080; text-decoration-color: #008080; font-weight: bold\">11692</span><span style=\"font-weight: bold\">]</span> <span style=\"color: #800080; text-decoration-color: #800080; font-weight: bold\">RemoteFeedbackDataset</span><span style=\"font-weight: bold\">(</span>                                                 <a href=\"file:///home/strickvl/coding/zenml-projects/llm-lora-finetuning/datagen/lib/python3.10/site-packages/argilla/client/feedback/dataset/local/mixins.py\" target=\"_blank\"><span style=\"color: #7f7f7f; text-decoration-color: #7f7f7f\">mixins.py</span></a><span style=\"color: #7f7f7f; text-decoration-color: #7f7f7f\">:</span><a href=\"file:///home/strickvl/coding/zenml-projects/llm-lora-finetuning/datagen/lib/python3.10/site-packages/argilla/client/feedback/dataset/local/mixins.py#282\" target=\"_blank\"><span style=\"color: #7f7f7f; text-decoration-color: #7f7f7f\">282</span></a>\n",
       "<span style=\"color: #7fbfbf; text-decoration-color: #7fbfbf\">         </span>            <span style=\"color: #808000; text-decoration-color: #808000\">id</span>=<span style=\"color: #ffff00; text-decoration-color: #ffff00\">f7ad81b5</span><span style=\"color: #ffff00; text-decoration-color: #ffff00\">-a82e-49a5-9497-faccf1fdb6cd</span>                                          <span style=\"color: #7f7f7f; text-decoration-color: #7f7f7f\">             </span>\n",
       "<span style=\"color: #7fbfbf; text-decoration-color: #7fbfbf\">         </span>            <span style=\"color: #808000; text-decoration-color: #808000\">name</span>=<span style=\"color: #800080; text-decoration-color: #800080\">ollama_instructions</span>                                                         <span style=\"color: #7f7f7f; text-decoration-color: #7f7f7f\">             </span>\n",
       "<span style=\"color: #7fbfbf; text-decoration-color: #7fbfbf\">         </span>            <span style=\"color: #808000; text-decoration-color: #808000\">workspace</span>=<span style=\"color: #800080; text-decoration-color: #800080; font-weight: bold\">Workspace</span><span style=\"font-weight: bold\">(</span><span style=\"color: #808000; text-decoration-color: #808000\">id</span>=<span style=\"color: #ffff00; text-decoration-color: #ffff00\">a4eef5c0</span><span style=\"color: #ffff00; text-decoration-color: #ffff00\">-a51c-4cce-81a7-8c5b23ce6afa</span>, <span style=\"color: #808000; text-decoration-color: #808000\">name</span>=<span style=\"color: #800080; text-decoration-color: #800080\">admin</span>,         <span style=\"color: #7f7f7f; text-decoration-color: #7f7f7f\">             </span>\n",
       "<span style=\"color: #7fbfbf; text-decoration-color: #7fbfbf\">         </span>         <span style=\"color: #808000; text-decoration-color: #808000\">inserted_at</span>=<span style=\"color: #008080; text-decoration-color: #008080; font-weight: bold\">2024</span>-<span style=\"color: #008080; text-decoration-color: #008080; font-weight: bold\">03</span>-<span style=\"color: #008080; text-decoration-color: #008080; font-weight: bold\">20</span> <span style=\"color: #00ff00; text-decoration-color: #00ff00; font-weight: bold\">12:52:24</span>.<span style=\"color: #008080; text-decoration-color: #008080; font-weight: bold\">433299</span>, <span style=\"color: #808000; text-decoration-color: #808000\">updated_at</span>=<span style=\"color: #008080; text-decoration-color: #008080; font-weight: bold\">2024</span>-<span style=\"color: #008080; text-decoration-color: #008080; font-weight: bold\">03</span>-<span style=\"color: #008080; text-decoration-color: #008080; font-weight: bold\">20</span> <span style=\"color: #00ff00; text-decoration-color: #00ff00; font-weight: bold\">12:52:24</span>.<span style=\"color: #008080; text-decoration-color: #008080; font-weight: bold\">433299</span><span style=\"font-weight: bold\">)</span>      <span style=\"color: #7f7f7f; text-decoration-color: #7f7f7f\">             </span>\n",
       "<span style=\"color: #7fbfbf; text-decoration-color: #7fbfbf\">         </span>            <span style=\"color: #808000; text-decoration-color: #808000\">url</span>=<span style=\"color: #0000ff; text-decoration-color: #0000ff; text-decoration: underline\">https://strickvl-argilla.hf.space/dataset/f7ad81b5-a82e-49a5-9497-faccf1fdb6</span> <span style=\"color: #7f7f7f; text-decoration-color: #7f7f7f\">             </span>\n",
       "<span style=\"color: #7fbfbf; text-decoration-color: #7fbfbf\">         </span>         <span style=\"color: #0000ff; text-decoration-color: #0000ff; text-decoration: underline\">cd/annotation-mode</span>                                                                  <span style=\"color: #7f7f7f; text-decoration-color: #7f7f7f\">             </span>\n",
       "<span style=\"color: #7fbfbf; text-decoration-color: #7fbfbf\">         </span>            <span style=\"color: #808000; text-decoration-color: #808000\">fields</span>=<span style=\"font-weight: bold\">[</span><span style=\"color: #800080; text-decoration-color: #800080; font-weight: bold\">RemoteTextField</span><span style=\"font-weight: bold\">(</span><span style=\"color: #808000; text-decoration-color: #808000\">id</span>=<span style=\"color: #800080; text-decoration-color: #800080; font-weight: bold\">UUID</span><span style=\"font-weight: bold\">(</span><span style=\"color: #008000; text-decoration-color: #008000\">'e220a39e-6de1-4e04-8e95-4493910e0def'</span><span style=\"font-weight: bold\">)</span>,         <span style=\"color: #7f7f7f; text-decoration-color: #7f7f7f\">             </span>\n",
       "<span style=\"color: #7fbfbf; text-decoration-color: #7fbfbf\">         </span>         <span style=\"color: #808000; text-decoration-color: #808000\">client</span>=<span style=\"color: #800080; text-decoration-color: #800080; font-style: italic\">None</span>, <span style=\"color: #808000; text-decoration-color: #808000\">name</span>=<span style=\"color: #008000; text-decoration-color: #008000\">'input'</span>, <span style=\"color: #808000; text-decoration-color: #808000\">title</span>=<span style=\"color: #008000; text-decoration-color: #008000\">'input'</span>, <span style=\"color: #808000; text-decoration-color: #808000\">required</span>=<span style=\"color: #00ff00; text-decoration-color: #00ff00; font-style: italic\">True</span>, <span style=\"color: #808000; text-decoration-color: #808000\">type</span>=<span style=\"color: #008000; text-decoration-color: #008000\">'text'</span>,               <span style=\"color: #7f7f7f; text-decoration-color: #7f7f7f\">             </span>\n",
       "<span style=\"color: #7fbfbf; text-decoration-color: #7fbfbf\">         </span>         <span style=\"color: #808000; text-decoration-color: #808000\">use_markdown</span>=<span style=\"color: #00ff00; text-decoration-color: #00ff00; font-style: italic\">True</span><span style=\"font-weight: bold\">)</span>,                                                                 <span style=\"color: #7f7f7f; text-decoration-color: #7f7f7f\">             </span>\n",
       "<span style=\"color: #7fbfbf; text-decoration-color: #7fbfbf\">         </span>         <span style=\"color: #800080; text-decoration-color: #800080; font-weight: bold\">RemoteTextField</span><span style=\"font-weight: bold\">(</span><span style=\"color: #808000; text-decoration-color: #808000\">id</span>=<span style=\"color: #800080; text-decoration-color: #800080; font-weight: bold\">UUID</span><span style=\"font-weight: bold\">(</span><span style=\"color: #008000; text-decoration-color: #008000\">'5facf295-2d48-4eca-b20c-3697433c4310'</span><span style=\"font-weight: bold\">)</span>, <span style=\"color: #808000; text-decoration-color: #808000\">client</span>=<span style=\"color: #800080; text-decoration-color: #800080; font-style: italic\">None</span>,       <span style=\"color: #7f7f7f; text-decoration-color: #7f7f7f\">             </span>\n",
       "<span style=\"color: #7fbfbf; text-decoration-color: #7fbfbf\">         </span>         <span style=\"color: #808000; text-decoration-color: #808000\">name</span>=<span style=\"color: #008000; text-decoration-color: #008000\">'instructions'</span>, <span style=\"color: #808000; text-decoration-color: #808000\">title</span>=<span style=\"color: #008000; text-decoration-color: #008000\">'instructions'</span>, <span style=\"color: #808000; text-decoration-color: #808000\">required</span>=<span style=\"color: #00ff00; text-decoration-color: #00ff00; font-style: italic\">True</span>, <span style=\"color: #808000; text-decoration-color: #808000\">type</span>=<span style=\"color: #008000; text-decoration-color: #008000\">'text'</span>,              <span style=\"color: #7f7f7f; text-decoration-color: #7f7f7f\">             </span>\n",
       "<span style=\"color: #7fbfbf; text-decoration-color: #7fbfbf\">         </span>         <span style=\"color: #808000; text-decoration-color: #808000\">use_markdown</span>=<span style=\"color: #ff0000; text-decoration-color: #ff0000; font-style: italic\">False</span><span style=\"font-weight: bold\">)]</span>                                                                <span style=\"color: #7f7f7f; text-decoration-color: #7f7f7f\">             </span>\n",
       "<span style=\"color: #7fbfbf; text-decoration-color: #7fbfbf\">         </span>            <span style=\"color: #808000; text-decoration-color: #808000\">questions</span>=<span style=\"font-weight: bold\">[</span><span style=\"color: #800080; text-decoration-color: #800080; font-weight: bold\">RemoteRatingQuestion</span><span style=\"font-weight: bold\">(</span><span style=\"color: #808000; text-decoration-color: #808000\">id</span>=<span style=\"color: #800080; text-decoration-color: #800080; font-weight: bold\">UUID</span><span style=\"font-weight: bold\">(</span><span style=\"color: #008000; text-decoration-color: #008000\">'78614ca7-ec9c-43cf-b604-4c20c6d1b77b'</span><span style=\"font-weight: bold\">)</span>, <span style=\"color: #7f7f7f; text-decoration-color: #7f7f7f\">             </span>\n",
       "<span style=\"color: #7fbfbf; text-decoration-color: #7fbfbf\">         </span>         <span style=\"color: #808000; text-decoration-color: #808000\">client</span>=<span style=\"color: #800080; text-decoration-color: #800080; font-style: italic\">None</span>, <span style=\"color: #808000; text-decoration-color: #808000\">name</span>=<span style=\"color: #008000; text-decoration-color: #008000\">'instruction-rating'</span>, <span style=\"color: #808000; text-decoration-color: #808000\">title</span>=<span style=\"color: #008000; text-decoration-color: #008000\">'How would you rate the generated </span>    <span style=\"color: #7f7f7f; text-decoration-color: #7f7f7f\">             </span>\n",
       "<span style=\"color: #7fbfbf; text-decoration-color: #7fbfbf\">         </span>         <span style=\"color: #008000; text-decoration-color: #008000\">instruction?'</span>, <span style=\"color: #808000; text-decoration-color: #808000\">description</span>=<span style=\"color: #800080; text-decoration-color: #800080; font-style: italic\">None</span>, <span style=\"color: #808000; text-decoration-color: #808000\">required</span>=<span style=\"color: #00ff00; text-decoration-color: #00ff00; font-style: italic\">True</span>, <span style=\"color: #808000; text-decoration-color: #808000\">type</span>=<span style=\"color: #008000; text-decoration-color: #008000\">'rating'</span>, <span style=\"color: #808000; text-decoration-color: #808000\">values</span>=<span style=\"font-weight: bold\">[</span><span style=\"color: #008080; text-decoration-color: #008080; font-weight: bold\">1</span>, <span style=\"color: #008080; text-decoration-color: #008080; font-weight: bold\">2</span>, <span style=\"color: #008080; text-decoration-color: #008080; font-weight: bold\">3</span>, <span style=\"color: #008080; text-decoration-color: #008080; font-weight: bold\">4</span>,  <span style=\"color: #7f7f7f; text-decoration-color: #7f7f7f\">             </span>\n",
       "<span style=\"color: #7fbfbf; text-decoration-color: #7fbfbf\">         </span>         <span style=\"color: #008080; text-decoration-color: #008080; font-weight: bold\">5</span>, <span style=\"color: #008080; text-decoration-color: #008080; font-weight: bold\">6</span>, <span style=\"color: #008080; text-decoration-color: #008080; font-weight: bold\">7</span>, <span style=\"color: #008080; text-decoration-color: #008080; font-weight: bold\">8</span>, <span style=\"color: #008080; text-decoration-color: #008080; font-weight: bold\">9</span>, <span style=\"color: #008080; text-decoration-color: #008080; font-weight: bold\">10</span><span style=\"font-weight: bold\">])]</span>                                                                <span style=\"color: #7f7f7f; text-decoration-color: #7f7f7f\">             </span>\n",
       "<span style=\"color: #7fbfbf; text-decoration-color: #7fbfbf\">         </span>            <span style=\"color: #808000; text-decoration-color: #808000\">guidelines</span>=<span style=\"color: #800080; text-decoration-color: #800080; font-style: italic\">None</span>                                                                  <span style=\"color: #7f7f7f; text-decoration-color: #7f7f7f\">             </span>\n",
       "<span style=\"color: #7fbfbf; text-decoration-color: #7fbfbf\">         </span>            <span style=\"color: #808000; text-decoration-color: #808000\">metadata_properties</span>=<span style=\"font-weight: bold\">[</span><span style=\"color: #800080; text-decoration-color: #800080; font-weight: bold\">RemoteIntegerMetadataProperty</span><span style=\"font-weight: bold\">(</span><span style=\"color: #808000; text-decoration-color: #808000\">id</span>=<span style=\"color: #800080; text-decoration-color: #800080; font-weight: bold\">UUID</span><span style=\"font-weight: bold\">(</span><span style=\"color: #008000; text-decoration-color: #008000\">'eefb7081-ff5d-4d32-9</span> <span style=\"color: #7f7f7f; text-decoration-color: #7f7f7f\">             </span>\n",
       "<span style=\"color: #7fbfbf; text-decoration-color: #7fbfbf\">         </span>         <span style=\"color: #008000; text-decoration-color: #008000\">451-563552758f96'</span><span style=\"font-weight: bold\">)</span>, <span style=\"color: #808000; text-decoration-color: #808000\">client</span>=<span style=\"font-weight: bold\">&lt;</span><span style=\"color: #ff00ff; text-decoration-color: #ff00ff; font-weight: bold\">httpx.Client</span><span style=\"color: #000000; text-decoration-color: #000000\"> object at </span><span style=\"color: #008080; text-decoration-color: #008080; font-weight: bold\">0x7dae81eff640</span><span style=\"color: #000000; text-decoration-color: #000000\">&gt;, </span>                <span style=\"color: #7f7f7f; text-decoration-color: #7f7f7f\">             </span>\n",
       "<span style=\"color: #7fbfbf; text-decoration-color: #7fbfbf\">         </span>         <span style=\"color: #808000; text-decoration-color: #808000\">name</span><span style=\"color: #000000; text-decoration-color: #000000\">=</span><span style=\"color: #008000; text-decoration-color: #008000\">'length-input'</span><span style=\"color: #000000; text-decoration-color: #000000\">, </span><span style=\"color: #808000; text-decoration-color: #808000\">title</span><span style=\"color: #000000; text-decoration-color: #000000\">=</span><span style=\"color: #008000; text-decoration-color: #008000\">'length-input'</span><span style=\"color: #000000; text-decoration-color: #000000\">, </span><span style=\"color: #808000; text-decoration-color: #808000\">visible_for_annotators</span><span style=\"color: #000000; text-decoration-color: #000000\">=</span><span style=\"color: #00ff00; text-decoration-color: #00ff00; font-style: italic\">True</span><span style=\"color: #000000; text-decoration-color: #000000\">, </span>            <span style=\"color: #7f7f7f; text-decoration-color: #7f7f7f\">             </span>\n",
       "<span style=\"color: #7fbfbf; text-decoration-color: #7fbfbf\">         </span>         <span style=\"color: #808000; text-decoration-color: #808000\">type</span><span style=\"color: #000000; text-decoration-color: #000000\">=</span><span style=\"color: #008000; text-decoration-color: #008000\">'integer'</span><span style=\"color: #000000; text-decoration-color: #000000\">, </span><span style=\"color: #808000; text-decoration-color: #808000\">min</span><span style=\"color: #000000; text-decoration-color: #000000\">=</span><span style=\"color: #800080; text-decoration-color: #800080; font-style: italic\">None</span><span style=\"color: #000000; text-decoration-color: #000000\">, </span><span style=\"color: #808000; text-decoration-color: #808000\">max</span><span style=\"color: #000000; text-decoration-color: #000000\">=</span><span style=\"color: #800080; text-decoration-color: #800080; font-style: italic\">None</span><span style=\"color: #000000; text-decoration-color: #000000; font-weight: bold\">)</span><span style=\"color: #000000; text-decoration-color: #000000\">, </span>                                               <span style=\"color: #7f7f7f; text-decoration-color: #7f7f7f\">             </span>\n",
       "<span style=\"color: #7fbfbf; text-decoration-color: #7fbfbf\">         </span>         <span style=\"color: #800080; text-decoration-color: #800080; font-weight: bold\">RemoteIntegerMetadataProperty</span><span style=\"color: #000000; text-decoration-color: #000000; font-weight: bold\">(</span><span style=\"color: #808000; text-decoration-color: #808000\">id</span><span style=\"color: #000000; text-decoration-color: #000000\">=</span><span style=\"color: #800080; text-decoration-color: #800080; font-weight: bold\">UUID</span><span style=\"color: #000000; text-decoration-color: #000000; font-weight: bold\">(</span><span style=\"color: #008000; text-decoration-color: #008000\">'1bc96ffd-63d5-4d1d-a996-a42d7f5ef2c0'</span><span style=\"color: #000000; text-decoration-color: #000000; font-weight: bold\">)</span><span style=\"color: #000000; text-decoration-color: #000000\">, </span>     <span style=\"color: #7f7f7f; text-decoration-color: #7f7f7f\">             </span>\n",
       "<span style=\"color: #7fbfbf; text-decoration-color: #7fbfbf\">         </span>         <span style=\"color: #808000; text-decoration-color: #808000\">client</span><span style=\"color: #000000; text-decoration-color: #000000\">=&lt;httpx.Client object at </span><span style=\"color: #008080; text-decoration-color: #008080; font-weight: bold\">0x7dae81eff640</span><span style=\"color: #000000; text-decoration-color: #000000\">&gt;, </span><span style=\"color: #808000; text-decoration-color: #808000\">name</span><span style=\"color: #000000; text-decoration-color: #000000\">=</span><span style=\"color: #008000; text-decoration-color: #008000\">'length-instruction'</span><span style=\"color: #000000; text-decoration-color: #000000\">, </span>         <span style=\"color: #7f7f7f; text-decoration-color: #7f7f7f\">             </span>\n",
       "<span style=\"color: #7fbfbf; text-decoration-color: #7fbfbf\">         </span>         <span style=\"color: #808000; text-decoration-color: #808000\">title</span><span style=\"color: #000000; text-decoration-color: #000000\">=</span><span style=\"color: #008000; text-decoration-color: #008000\">'length-instruction'</span><span style=\"color: #000000; text-decoration-color: #000000\">, </span><span style=\"color: #808000; text-decoration-color: #808000\">visible_for_annotators</span><span style=\"color: #000000; text-decoration-color: #000000\">=</span><span style=\"color: #00ff00; text-decoration-color: #00ff00; font-style: italic\">True</span><span style=\"color: #000000; text-decoration-color: #000000\">, </span><span style=\"color: #808000; text-decoration-color: #808000\">type</span><span style=\"color: #000000; text-decoration-color: #000000\">=</span><span style=\"color: #008000; text-decoration-color: #008000\">'integer'</span><span style=\"color: #000000; text-decoration-color: #000000\">, </span><span style=\"color: #808000; text-decoration-color: #808000\">min</span><span style=\"color: #000000; text-decoration-color: #000000\">=</span><span style=\"color: #800080; text-decoration-color: #800080; font-style: italic\">None</span><span style=\"color: #000000; text-decoration-color: #000000\">, </span> <span style=\"color: #7f7f7f; text-decoration-color: #7f7f7f\">             </span>\n",
       "<span style=\"color: #7fbfbf; text-decoration-color: #7fbfbf\">         </span>         <span style=\"color: #808000; text-decoration-color: #808000\">max</span><span style=\"color: #000000; text-decoration-color: #000000\">=</span><span style=\"color: #800080; text-decoration-color: #800080; font-style: italic\">None</span><span style=\"color: #000000; text-decoration-color: #000000; font-weight: bold\">)</span><span style=\"color: #000000; text-decoration-color: #000000\">, </span>                                                                         <span style=\"color: #7f7f7f; text-decoration-color: #7f7f7f\">             </span>\n",
       "<span style=\"color: #7fbfbf; text-decoration-color: #7fbfbf\">         </span>         <span style=\"color: #800080; text-decoration-color: #800080; font-weight: bold\">RemoteIntegerMetadataProperty</span><span style=\"color: #000000; text-decoration-color: #000000; font-weight: bold\">(</span><span style=\"color: #808000; text-decoration-color: #808000\">id</span><span style=\"color: #000000; text-decoration-color: #000000\">=</span><span style=\"color: #800080; text-decoration-color: #800080; font-weight: bold\">UUID</span><span style=\"color: #000000; text-decoration-color: #000000; font-weight: bold\">(</span><span style=\"color: #008000; text-decoration-color: #008000\">'d3ab74f9-1b13-407e-9ffd-f9f308c40534'</span><span style=\"color: #000000; text-decoration-color: #000000; font-weight: bold\">)</span><span style=\"color: #000000; text-decoration-color: #000000\">, </span>     <span style=\"color: #7f7f7f; text-decoration-color: #7f7f7f\">             </span>\n",
       "<span style=\"color: #7fbfbf; text-decoration-color: #7fbfbf\">         </span>         <span style=\"color: #808000; text-decoration-color: #808000\">client</span><span style=\"color: #000000; text-decoration-color: #000000\">=&lt;httpx.Client object at </span><span style=\"color: #008080; text-decoration-color: #008080; font-weight: bold\">0x7dae81eff640</span><span style=\"color: #000000; text-decoration-color: #000000\">&gt;, </span><span style=\"color: #808000; text-decoration-color: #808000\">name</span><span style=\"color: #000000; text-decoration-color: #000000\">=</span><span style=\"color: #008000; text-decoration-color: #008000\">'input_n_tokens'</span><span style=\"color: #000000; text-decoration-color: #000000\">, </span><span style=\"color: #808000; text-decoration-color: #808000\">title</span><span style=\"color: #000000; text-decoration-color: #000000\">=</span><span style=\"color: #008000; text-decoration-color: #008000\">'Input</span> <span style=\"color: #7f7f7f; text-decoration-color: #7f7f7f\">             </span>\n",
       "<span style=\"color: #7fbfbf; text-decoration-color: #7fbfbf\">         </span>         <span style=\"color: #008000; text-decoration-color: #008000\">N Tokens'</span><span style=\"color: #000000; text-decoration-color: #000000\">, </span><span style=\"color: #808000; text-decoration-color: #808000\">visible_for_annotators</span><span style=\"color: #000000; text-decoration-color: #000000\">=</span><span style=\"color: #00ff00; text-decoration-color: #00ff00; font-style: italic\">True</span><span style=\"color: #000000; text-decoration-color: #000000\">, </span><span style=\"color: #808000; text-decoration-color: #808000\">type</span><span style=\"color: #000000; text-decoration-color: #000000\">=</span><span style=\"color: #008000; text-decoration-color: #008000\">'integer'</span><span style=\"color: #000000; text-decoration-color: #000000\">, </span><span style=\"color: #808000; text-decoration-color: #808000\">min</span><span style=\"color: #000000; text-decoration-color: #000000\">=</span><span style=\"color: #800080; text-decoration-color: #800080; font-style: italic\">None</span><span style=\"color: #000000; text-decoration-color: #000000\">, </span><span style=\"color: #808000; text-decoration-color: #808000\">max</span><span style=\"color: #000000; text-decoration-color: #000000\">=</span><span style=\"color: #800080; text-decoration-color: #800080; font-style: italic\">None</span><span style=\"color: #000000; text-decoration-color: #000000; font-weight: bold\">)</span><span style=\"color: #000000; text-decoration-color: #000000\">, </span>       <span style=\"color: #7f7f7f; text-decoration-color: #7f7f7f\">             </span>\n",
       "<span style=\"color: #7fbfbf; text-decoration-color: #7fbfbf\">         </span>         <span style=\"color: #800080; text-decoration-color: #800080; font-weight: bold\">RemoteIntegerMetadataProperty</span><span style=\"color: #000000; text-decoration-color: #000000; font-weight: bold\">(</span><span style=\"color: #808000; text-decoration-color: #808000\">id</span><span style=\"color: #000000; text-decoration-color: #000000\">=</span><span style=\"color: #800080; text-decoration-color: #800080; font-weight: bold\">UUID</span><span style=\"color: #000000; text-decoration-color: #000000; font-weight: bold\">(</span><span style=\"color: #008000; text-decoration-color: #008000\">'34687791-a6a3-454c-b5d1-bfd9e58fa0a8'</span><span style=\"color: #000000; text-decoration-color: #000000; font-weight: bold\">)</span><span style=\"color: #000000; text-decoration-color: #000000\">, </span>     <span style=\"color: #7f7f7f; text-decoration-color: #7f7f7f\">             </span>\n",
       "<span style=\"color: #7fbfbf; text-decoration-color: #7fbfbf\">         </span>         <span style=\"color: #808000; text-decoration-color: #808000\">client</span><span style=\"color: #000000; text-decoration-color: #000000\">=&lt;httpx.Client object at </span><span style=\"color: #008080; text-decoration-color: #008080; font-weight: bold\">0x7dae81eff640</span><span style=\"color: #000000; text-decoration-color: #000000\">&gt;, </span><span style=\"color: #808000; text-decoration-color: #808000\">name</span><span style=\"color: #000000; text-decoration-color: #000000\">=</span><span style=\"color: #008000; text-decoration-color: #008000\">'input_n_unique_tokens'</span><span style=\"color: #000000; text-decoration-color: #000000\">, </span>      <span style=\"color: #7f7f7f; text-decoration-color: #7f7f7f\">             </span>\n",
       "<span style=\"color: #7fbfbf; text-decoration-color: #7fbfbf\">         </span>         <span style=\"color: #808000; text-decoration-color: #808000\">title</span><span style=\"color: #000000; text-decoration-color: #000000\">=</span><span style=\"color: #008000; text-decoration-color: #008000\">'Input N Unique Tokens'</span><span style=\"color: #000000; text-decoration-color: #000000\">, </span><span style=\"color: #808000; text-decoration-color: #808000\">visible_for_annotators</span><span style=\"color: #000000; text-decoration-color: #000000\">=</span><span style=\"color: #00ff00; text-decoration-color: #00ff00; font-style: italic\">True</span><span style=\"color: #000000; text-decoration-color: #000000\">, </span><span style=\"color: #808000; text-decoration-color: #808000\">type</span><span style=\"color: #000000; text-decoration-color: #000000\">=</span><span style=\"color: #008000; text-decoration-color: #008000\">'integer'</span><span style=\"color: #000000; text-decoration-color: #000000\">, </span>        <span style=\"color: #7f7f7f; text-decoration-color: #7f7f7f\">             </span>\n",
       "<span style=\"color: #7fbfbf; text-decoration-color: #7fbfbf\">         </span>         <span style=\"color: #808000; text-decoration-color: #808000\">min</span><span style=\"color: #000000; text-decoration-color: #000000\">=</span><span style=\"color: #800080; text-decoration-color: #800080; font-style: italic\">None</span><span style=\"color: #000000; text-decoration-color: #000000\">, </span><span style=\"color: #808000; text-decoration-color: #808000\">max</span><span style=\"color: #000000; text-decoration-color: #000000\">=</span><span style=\"color: #800080; text-decoration-color: #800080; font-style: italic\">None</span><span style=\"color: #000000; text-decoration-color: #000000; font-weight: bold\">)</span><span style=\"color: #000000; text-decoration-color: #000000\">, </span>                                                               <span style=\"color: #7f7f7f; text-decoration-color: #7f7f7f\">             </span>\n",
       "<span style=\"color: #7fbfbf; text-decoration-color: #7fbfbf\">         </span>         <span style=\"color: #800080; text-decoration-color: #800080; font-weight: bold\">RemoteIntegerMetadataProperty</span><span style=\"color: #000000; text-decoration-color: #000000; font-weight: bold\">(</span><span style=\"color: #808000; text-decoration-color: #808000\">id</span><span style=\"color: #000000; text-decoration-color: #000000\">=</span><span style=\"color: #800080; text-decoration-color: #800080; font-weight: bold\">UUID</span><span style=\"color: #000000; text-decoration-color: #000000; font-weight: bold\">(</span><span style=\"color: #008000; text-decoration-color: #008000\">'c28fd479-cf78-4ee1-a2cf-5c0fc7dd96ad'</span><span style=\"color: #000000; text-decoration-color: #000000; font-weight: bold\">)</span><span style=\"color: #000000; text-decoration-color: #000000\">, </span>     <span style=\"color: #7f7f7f; text-decoration-color: #7f7f7f\">             </span>\n",
       "<span style=\"color: #7fbfbf; text-decoration-color: #7fbfbf\">         </span>         <span style=\"color: #808000; text-decoration-color: #808000\">client</span><span style=\"color: #000000; text-decoration-color: #000000\">=&lt;httpx.Client object at </span><span style=\"color: #008080; text-decoration-color: #008080; font-weight: bold\">0x7dae81eff640</span><span style=\"color: #000000; text-decoration-color: #000000\">&gt;, </span><span style=\"color: #808000; text-decoration-color: #808000\">name</span><span style=\"color: #000000; text-decoration-color: #000000\">=</span><span style=\"color: #008000; text-decoration-color: #008000\">'input_n_sentences'</span><span style=\"color: #000000; text-decoration-color: #000000\">, </span>          <span style=\"color: #7f7f7f; text-decoration-color: #7f7f7f\">             </span>\n",
       "<span style=\"color: #7fbfbf; text-decoration-color: #7fbfbf\">         </span>         <span style=\"color: #808000; text-decoration-color: #808000\">title</span><span style=\"color: #000000; text-decoration-color: #000000\">=</span><span style=\"color: #008000; text-decoration-color: #008000\">'Input N Sentences'</span><span style=\"color: #000000; text-decoration-color: #000000\">, </span><span style=\"color: #808000; text-decoration-color: #808000\">visible_for_annotators</span><span style=\"color: #000000; text-decoration-color: #000000\">=</span><span style=\"color: #00ff00; text-decoration-color: #00ff00; font-style: italic\">True</span><span style=\"color: #000000; text-decoration-color: #000000\">, </span><span style=\"color: #808000; text-decoration-color: #808000\">type</span><span style=\"color: #000000; text-decoration-color: #000000\">=</span><span style=\"color: #008000; text-decoration-color: #008000\">'integer'</span><span style=\"color: #000000; text-decoration-color: #000000\">, </span><span style=\"color: #808000; text-decoration-color: #808000\">min</span><span style=\"color: #000000; text-decoration-color: #000000\">=</span><span style=\"color: #800080; text-decoration-color: #800080; font-style: italic\">None</span><span style=\"color: #000000; text-decoration-color: #000000\">, </span>  <span style=\"color: #7f7f7f; text-decoration-color: #7f7f7f\">             </span>\n",
       "<span style=\"color: #7fbfbf; text-decoration-color: #7fbfbf\">         </span>         <span style=\"color: #808000; text-decoration-color: #808000\">max</span><span style=\"color: #000000; text-decoration-color: #000000\">=</span><span style=\"color: #800080; text-decoration-color: #800080; font-style: italic\">None</span><span style=\"color: #000000; text-decoration-color: #000000; font-weight: bold\">)</span><span style=\"color: #000000; text-decoration-color: #000000\">, </span>                                                                         <span style=\"color: #7f7f7f; text-decoration-color: #7f7f7f\">             </span>\n",
       "<span style=\"color: #7fbfbf; text-decoration-color: #7fbfbf\">         </span>         <span style=\"color: #800080; text-decoration-color: #800080; font-weight: bold\">RemoteFloatMetadataProperty</span><span style=\"color: #000000; text-decoration-color: #000000; font-weight: bold\">(</span><span style=\"color: #808000; text-decoration-color: #808000\">id</span><span style=\"color: #000000; text-decoration-color: #000000\">=</span><span style=\"color: #800080; text-decoration-color: #800080; font-weight: bold\">UUID</span><span style=\"color: #000000; text-decoration-color: #000000; font-weight: bold\">(</span><span style=\"color: #008000; text-decoration-color: #008000\">'76722fe8-f4e7-4896-8698-41c4e65513b7'</span><span style=\"color: #000000; text-decoration-color: #000000; font-weight: bold\">)</span><span style=\"color: #000000; text-decoration-color: #000000\">, </span>       <span style=\"color: #7f7f7f; text-decoration-color: #7f7f7f\">             </span>\n",
       "<span style=\"color: #7fbfbf; text-decoration-color: #7fbfbf\">         </span>         <span style=\"color: #808000; text-decoration-color: #808000\">client</span><span style=\"color: #000000; text-decoration-color: #000000\">=&lt;httpx.Client object at </span><span style=\"color: #008080; text-decoration-color: #008080; font-weight: bold\">0x7dae81eff640</span><span style=\"color: #000000; text-decoration-color: #000000\">&gt;, </span><span style=\"color: #808000; text-decoration-color: #808000\">name</span><span style=\"color: #000000; text-decoration-color: #000000\">=</span><span style=\"color: #008000; text-decoration-color: #008000\">'input_perplexity'</span><span style=\"color: #000000; text-decoration-color: #000000\">, </span>           <span style=\"color: #7f7f7f; text-decoration-color: #7f7f7f\">             </span>\n",
       "<span style=\"color: #7fbfbf; text-decoration-color: #7fbfbf\">         </span>         <span style=\"color: #808000; text-decoration-color: #808000\">title</span><span style=\"color: #000000; text-decoration-color: #000000\">=</span><span style=\"color: #008000; text-decoration-color: #008000\">'Input Perplexity'</span><span style=\"color: #000000; text-decoration-color: #000000\">, </span><span style=\"color: #808000; text-decoration-color: #808000\">visible_for_annotators</span><span style=\"color: #000000; text-decoration-color: #000000\">=</span><span style=\"color: #00ff00; text-decoration-color: #00ff00; font-style: italic\">True</span><span style=\"color: #000000; text-decoration-color: #000000\">, </span><span style=\"color: #808000; text-decoration-color: #808000\">type</span><span style=\"color: #000000; text-decoration-color: #000000\">=</span><span style=\"color: #008000; text-decoration-color: #008000\">'float'</span><span style=\"color: #000000; text-decoration-color: #000000\">, </span><span style=\"color: #808000; text-decoration-color: #808000\">min</span><span style=\"color: #000000; text-decoration-color: #000000\">=</span><span style=\"color: #800080; text-decoration-color: #800080; font-style: italic\">None</span><span style=\"color: #000000; text-decoration-color: #000000\">, </span>     <span style=\"color: #7f7f7f; text-decoration-color: #7f7f7f\">             </span>\n",
       "<span style=\"color: #7fbfbf; text-decoration-color: #7fbfbf\">         </span>         <span style=\"color: #808000; text-decoration-color: #808000\">max</span><span style=\"color: #000000; text-decoration-color: #000000\">=</span><span style=\"color: #800080; text-decoration-color: #800080; font-style: italic\">None</span><span style=\"color: #000000; text-decoration-color: #000000; font-weight: bold\">)</span><span style=\"color: #000000; text-decoration-color: #000000\">, </span>                                                                         <span style=\"color: #7f7f7f; text-decoration-color: #7f7f7f\">             </span>\n",
       "<span style=\"color: #7fbfbf; text-decoration-color: #7fbfbf\">         </span>         <span style=\"color: #800080; text-decoration-color: #800080; font-weight: bold\">RemoteFloatMetadataProperty</span><span style=\"color: #000000; text-decoration-color: #000000; font-weight: bold\">(</span><span style=\"color: #808000; text-decoration-color: #808000\">id</span><span style=\"color: #000000; text-decoration-color: #000000\">=</span><span style=\"color: #800080; text-decoration-color: #800080; font-weight: bold\">UUID</span><span style=\"color: #000000; text-decoration-color: #000000; font-weight: bold\">(</span><span style=\"color: #008000; text-decoration-color: #008000\">'95316c0a-ed0e-4eee-a802-b070c8647530'</span><span style=\"color: #000000; text-decoration-color: #000000; font-weight: bold\">)</span><span style=\"color: #000000; text-decoration-color: #000000\">, </span>       <span style=\"color: #7f7f7f; text-decoration-color: #7f7f7f\">             </span>\n",
       "<span style=\"color: #7fbfbf; text-decoration-color: #7fbfbf\">         </span>         <span style=\"color: #808000; text-decoration-color: #808000\">client</span><span style=\"color: #000000; text-decoration-color: #000000\">=&lt;httpx.Client object at </span><span style=\"color: #008080; text-decoration-color: #008080; font-weight: bold\">0x7dae81eff640</span><span style=\"color: #000000; text-decoration-color: #000000\">&gt;, </span><span style=\"color: #808000; text-decoration-color: #808000\">name</span><span style=\"color: #000000; text-decoration-color: #000000\">=</span><span style=\"color: #008000; text-decoration-color: #008000\">'input_entropy'</span><span style=\"color: #000000; text-decoration-color: #000000\">, </span><span style=\"color: #808000; text-decoration-color: #808000\">title</span><span style=\"color: #000000; text-decoration-color: #000000\">=</span><span style=\"color: #008000; text-decoration-color: #008000\">'Input </span> <span style=\"color: #7f7f7f; text-decoration-color: #7f7f7f\">             </span>\n",
       "<span style=\"color: #7fbfbf; text-decoration-color: #7fbfbf\">         </span>         <span style=\"color: #008000; text-decoration-color: #008000\">Entropy'</span><span style=\"color: #000000; text-decoration-color: #000000\">, </span><span style=\"color: #808000; text-decoration-color: #808000\">visible_for_annotators</span><span style=\"color: #000000; text-decoration-color: #000000\">=</span><span style=\"color: #00ff00; text-decoration-color: #00ff00; font-style: italic\">True</span><span style=\"color: #000000; text-decoration-color: #000000\">, </span><span style=\"color: #808000; text-decoration-color: #808000\">type</span><span style=\"color: #000000; text-decoration-color: #000000\">=</span><span style=\"color: #008000; text-decoration-color: #008000\">'float'</span><span style=\"color: #000000; text-decoration-color: #000000\">, </span><span style=\"color: #808000; text-decoration-color: #808000\">min</span><span style=\"color: #000000; text-decoration-color: #000000\">=</span><span style=\"color: #800080; text-decoration-color: #800080; font-style: italic\">None</span><span style=\"color: #000000; text-decoration-color: #000000\">, </span><span style=\"color: #808000; text-decoration-color: #808000\">max</span><span style=\"color: #000000; text-decoration-color: #000000\">=</span><span style=\"color: #800080; text-decoration-color: #800080; font-style: italic\">None</span><span style=\"color: #000000; text-decoration-color: #000000; font-weight: bold\">)</span><span style=\"color: #000000; text-decoration-color: #000000\">, </span>          <span style=\"color: #7f7f7f; text-decoration-color: #7f7f7f\">             </span>\n",
       "<span style=\"color: #7fbfbf; text-decoration-color: #7fbfbf\">         </span>         <span style=\"color: #800080; text-decoration-color: #800080; font-weight: bold\">RemoteFloatMetadataProperty</span><span style=\"color: #000000; text-decoration-color: #000000; font-weight: bold\">(</span><span style=\"color: #808000; text-decoration-color: #808000\">id</span><span style=\"color: #000000; text-decoration-color: #000000\">=</span><span style=\"color: #800080; text-decoration-color: #800080; font-weight: bold\">UUID</span><span style=\"color: #000000; text-decoration-color: #000000; font-weight: bold\">(</span><span style=\"color: #008000; text-decoration-color: #008000\">'194e8892-9479-4949-859f-72f8f968089b'</span><span style=\"color: #000000; text-decoration-color: #000000; font-weight: bold\">)</span><span style=\"color: #000000; text-decoration-color: #000000\">, </span>       <span style=\"color: #7f7f7f; text-decoration-color: #7f7f7f\">             </span>\n",
       "<span style=\"color: #7fbfbf; text-decoration-color: #7fbfbf\">         </span>         <span style=\"color: #808000; text-decoration-color: #808000\">client</span><span style=\"color: #000000; text-decoration-color: #000000\">=&lt;httpx.Client object at </span><span style=\"color: #008080; text-decoration-color: #008080; font-weight: bold\">0x7dae81eff640</span><span style=\"color: #000000; text-decoration-color: #000000\">&gt;, </span><span style=\"color: #808000; text-decoration-color: #808000\">name</span><span style=\"color: #000000; text-decoration-color: #000000\">=</span><span style=\"color: #008000; text-decoration-color: #008000\">'input_flesch_reading_ease'</span><span style=\"color: #000000; text-decoration-color: #000000\">, </span>  <span style=\"color: #7f7f7f; text-decoration-color: #7f7f7f\">             </span>\n",
       "<span style=\"color: #7fbfbf; text-decoration-color: #7fbfbf\">         </span>         <span style=\"color: #808000; text-decoration-color: #808000\">title</span><span style=\"color: #000000; text-decoration-color: #000000\">=</span><span style=\"color: #008000; text-decoration-color: #008000\">'Input Flesch Reading Ease'</span><span style=\"color: #000000; text-decoration-color: #000000\">, </span><span style=\"color: #808000; text-decoration-color: #808000\">visible_for_annotators</span><span style=\"color: #000000; text-decoration-color: #000000\">=</span><span style=\"color: #00ff00; text-decoration-color: #00ff00; font-style: italic\">True</span><span style=\"color: #000000; text-decoration-color: #000000\">, </span><span style=\"color: #808000; text-decoration-color: #808000\">type</span><span style=\"color: #000000; text-decoration-color: #000000\">=</span><span style=\"color: #008000; text-decoration-color: #008000\">'float'</span><span style=\"color: #000000; text-decoration-color: #000000\">, </span>      <span style=\"color: #7f7f7f; text-decoration-color: #7f7f7f\">             </span>\n",
       "<span style=\"color: #7fbfbf; text-decoration-color: #7fbfbf\">         </span>         <span style=\"color: #808000; text-decoration-color: #808000\">min</span><span style=\"color: #000000; text-decoration-color: #000000\">=</span><span style=\"color: #800080; text-decoration-color: #800080; font-style: italic\">None</span><span style=\"color: #000000; text-decoration-color: #000000\">, </span><span style=\"color: #808000; text-decoration-color: #808000\">max</span><span style=\"color: #000000; text-decoration-color: #000000\">=</span><span style=\"color: #800080; text-decoration-color: #800080; font-style: italic\">None</span><span style=\"color: #000000; text-decoration-color: #000000; font-weight: bold\">)</span><span style=\"color: #000000; text-decoration-color: #000000\">, </span>                                                               <span style=\"color: #7f7f7f; text-decoration-color: #7f7f7f\">             </span>\n",
       "<span style=\"color: #7fbfbf; text-decoration-color: #7fbfbf\">         </span>         <span style=\"color: #800080; text-decoration-color: #800080; font-weight: bold\">RemoteIntegerMetadataProperty</span><span style=\"color: #000000; text-decoration-color: #000000; font-weight: bold\">(</span><span style=\"color: #808000; text-decoration-color: #808000\">id</span><span style=\"color: #000000; text-decoration-color: #000000\">=</span><span style=\"color: #800080; text-decoration-color: #800080; font-weight: bold\">UUID</span><span style=\"color: #000000; text-decoration-color: #000000; font-weight: bold\">(</span><span style=\"color: #008000; text-decoration-color: #008000\">'a9ef9f93-2f66-4f96-be4f-9cc6f2bec8df'</span><span style=\"color: #000000; text-decoration-color: #000000; font-weight: bold\">)</span><span style=\"color: #000000; text-decoration-color: #000000\">, </span>     <span style=\"color: #7f7f7f; text-decoration-color: #7f7f7f\">             </span>\n",
       "<span style=\"color: #7fbfbf; text-decoration-color: #7fbfbf\">         </span>         <span style=\"color: #808000; text-decoration-color: #808000\">client</span><span style=\"color: #000000; text-decoration-color: #000000\">=&lt;httpx.Client object at </span><span style=\"color: #008080; text-decoration-color: #008080; font-weight: bold\">0x7dae81eff640</span><span style=\"color: #000000; text-decoration-color: #000000\">&gt;, </span><span style=\"color: #808000; text-decoration-color: #808000\">name</span><span style=\"color: #000000; text-decoration-color: #000000\">=</span><span style=\"color: #008000; text-decoration-color: #008000\">'instructions_n_tokens'</span><span style=\"color: #000000; text-decoration-color: #000000\">, </span>      <span style=\"color: #7f7f7f; text-decoration-color: #7f7f7f\">             </span>\n",
       "<span style=\"color: #7fbfbf; text-decoration-color: #7fbfbf\">         </span>         <span style=\"color: #808000; text-decoration-color: #808000\">title</span><span style=\"color: #000000; text-decoration-color: #000000\">=</span><span style=\"color: #008000; text-decoration-color: #008000\">'Instructions N Tokens'</span><span style=\"color: #000000; text-decoration-color: #000000\">, </span><span style=\"color: #808000; text-decoration-color: #808000\">visible_for_annotators</span><span style=\"color: #000000; text-decoration-color: #000000\">=</span><span style=\"color: #00ff00; text-decoration-color: #00ff00; font-style: italic\">True</span><span style=\"color: #000000; text-decoration-color: #000000\">, </span><span style=\"color: #808000; text-decoration-color: #808000\">type</span><span style=\"color: #000000; text-decoration-color: #000000\">=</span><span style=\"color: #008000; text-decoration-color: #008000\">'integer'</span><span style=\"color: #000000; text-decoration-color: #000000\">, </span>        <span style=\"color: #7f7f7f; text-decoration-color: #7f7f7f\">             </span>\n",
       "<span style=\"color: #7fbfbf; text-decoration-color: #7fbfbf\">         </span>         <span style=\"color: #808000; text-decoration-color: #808000\">min</span><span style=\"color: #000000; text-decoration-color: #000000\">=</span><span style=\"color: #800080; text-decoration-color: #800080; font-style: italic\">None</span><span style=\"color: #000000; text-decoration-color: #000000\">, </span><span style=\"color: #808000; text-decoration-color: #808000\">max</span><span style=\"color: #000000; text-decoration-color: #000000\">=</span><span style=\"color: #800080; text-decoration-color: #800080; font-style: italic\">None</span><span style=\"color: #000000; text-decoration-color: #000000; font-weight: bold\">)</span><span style=\"color: #000000; text-decoration-color: #000000\">, </span>                                                               <span style=\"color: #7f7f7f; text-decoration-color: #7f7f7f\">             </span>\n",
       "<span style=\"color: #7fbfbf; text-decoration-color: #7fbfbf\">         </span>         <span style=\"color: #800080; text-decoration-color: #800080; font-weight: bold\">RemoteIntegerMetadataProperty</span><span style=\"color: #000000; text-decoration-color: #000000; font-weight: bold\">(</span><span style=\"color: #808000; text-decoration-color: #808000\">id</span><span style=\"color: #000000; text-decoration-color: #000000\">=</span><span style=\"color: #800080; text-decoration-color: #800080; font-weight: bold\">UUID</span><span style=\"color: #000000; text-decoration-color: #000000; font-weight: bold\">(</span><span style=\"color: #008000; text-decoration-color: #008000\">'6efb82c5-0ee1-48ef-961f-ea713c7bb2d4'</span><span style=\"color: #000000; text-decoration-color: #000000; font-weight: bold\">)</span><span style=\"color: #000000; text-decoration-color: #000000\">, </span>     <span style=\"color: #7f7f7f; text-decoration-color: #7f7f7f\">             </span>\n",
       "<span style=\"color: #7fbfbf; text-decoration-color: #7fbfbf\">         </span>         <span style=\"color: #808000; text-decoration-color: #808000\">client</span><span style=\"color: #000000; text-decoration-color: #000000\">=&lt;httpx.Client object at </span><span style=\"color: #008080; text-decoration-color: #008080; font-weight: bold\">0x7dae81eff640</span><span style=\"color: #000000; text-decoration-color: #000000\">&gt;, </span>                                    <span style=\"color: #7f7f7f; text-decoration-color: #7f7f7f\">             </span>\n",
       "<span style=\"color: #7fbfbf; text-decoration-color: #7fbfbf\">         </span>         <span style=\"color: #808000; text-decoration-color: #808000\">name</span><span style=\"color: #000000; text-decoration-color: #000000\">=</span><span style=\"color: #008000; text-decoration-color: #008000\">'instructions_n_unique_tokens'</span><span style=\"color: #000000; text-decoration-color: #000000\">, </span><span style=\"color: #808000; text-decoration-color: #808000\">title</span><span style=\"color: #000000; text-decoration-color: #000000\">=</span><span style=\"color: #008000; text-decoration-color: #008000\">'Instructions N Unique Tokens'</span><span style=\"color: #000000; text-decoration-color: #000000\">, </span>         <span style=\"color: #7f7f7f; text-decoration-color: #7f7f7f\">             </span>\n",
       "<span style=\"color: #7fbfbf; text-decoration-color: #7fbfbf\">         </span>         <span style=\"color: #808000; text-decoration-color: #808000\">visible_for_annotators</span><span style=\"color: #000000; text-decoration-color: #000000\">=</span><span style=\"color: #00ff00; text-decoration-color: #00ff00; font-style: italic\">True</span><span style=\"color: #000000; text-decoration-color: #000000\">, </span><span style=\"color: #808000; text-decoration-color: #808000\">type</span><span style=\"color: #000000; text-decoration-color: #000000\">=</span><span style=\"color: #008000; text-decoration-color: #008000\">'integer'</span><span style=\"color: #000000; text-decoration-color: #000000\">, </span><span style=\"color: #808000; text-decoration-color: #808000\">min</span><span style=\"color: #000000; text-decoration-color: #000000\">=</span><span style=\"color: #800080; text-decoration-color: #800080; font-style: italic\">None</span><span style=\"color: #000000; text-decoration-color: #000000\">, </span><span style=\"color: #808000; text-decoration-color: #808000\">max</span><span style=\"color: #000000; text-decoration-color: #000000\">=</span><span style=\"color: #800080; text-decoration-color: #800080; font-style: italic\">None</span><span style=\"color: #000000; text-decoration-color: #000000; font-weight: bold\">)</span><span style=\"color: #000000; text-decoration-color: #000000\">, </span>                  <span style=\"color: #7f7f7f; text-decoration-color: #7f7f7f\">             </span>\n",
       "<span style=\"color: #7fbfbf; text-decoration-color: #7fbfbf\">         </span>         <span style=\"color: #800080; text-decoration-color: #800080; font-weight: bold\">RemoteIntegerMetadataProperty</span><span style=\"color: #000000; text-decoration-color: #000000; font-weight: bold\">(</span><span style=\"color: #808000; text-decoration-color: #808000\">id</span><span style=\"color: #000000; text-decoration-color: #000000\">=</span><span style=\"color: #800080; text-decoration-color: #800080; font-weight: bold\">UUID</span><span style=\"color: #000000; text-decoration-color: #000000; font-weight: bold\">(</span><span style=\"color: #008000; text-decoration-color: #008000\">'f4333090-8039-464e-b628-feff64ae75a7'</span><span style=\"color: #000000; text-decoration-color: #000000; font-weight: bold\">)</span><span style=\"color: #000000; text-decoration-color: #000000\">, </span>     <span style=\"color: #7f7f7f; text-decoration-color: #7f7f7f\">             </span>\n",
       "<span style=\"color: #7fbfbf; text-decoration-color: #7fbfbf\">         </span>         <span style=\"color: #808000; text-decoration-color: #808000\">client</span><span style=\"color: #000000; text-decoration-color: #000000\">=&lt;httpx.Client object at </span><span style=\"color: #008080; text-decoration-color: #008080; font-weight: bold\">0x7dae81eff640</span><span style=\"color: #000000; text-decoration-color: #000000\">&gt;, </span><span style=\"color: #808000; text-decoration-color: #808000\">name</span><span style=\"color: #000000; text-decoration-color: #000000\">=</span><span style=\"color: #008000; text-decoration-color: #008000\">'instructions_n_sentences'</span><span style=\"color: #000000; text-decoration-color: #000000\">, </span>   <span style=\"color: #7f7f7f; text-decoration-color: #7f7f7f\">             </span>\n",
       "<span style=\"color: #7fbfbf; text-decoration-color: #7fbfbf\">         </span>         <span style=\"color: #808000; text-decoration-color: #808000\">title</span><span style=\"color: #000000; text-decoration-color: #000000\">=</span><span style=\"color: #008000; text-decoration-color: #008000\">'Instructions N Sentences'</span><span style=\"color: #000000; text-decoration-color: #000000\">, </span><span style=\"color: #808000; text-decoration-color: #808000\">visible_for_annotators</span><span style=\"color: #000000; text-decoration-color: #000000\">=</span><span style=\"color: #00ff00; text-decoration-color: #00ff00; font-style: italic\">True</span><span style=\"color: #000000; text-decoration-color: #000000\">, </span><span style=\"color: #808000; text-decoration-color: #808000\">type</span><span style=\"color: #000000; text-decoration-color: #000000\">=</span><span style=\"color: #008000; text-decoration-color: #008000\">'integer'</span><span style=\"color: #000000; text-decoration-color: #000000\">, </span>     <span style=\"color: #7f7f7f; text-decoration-color: #7f7f7f\">             </span>\n",
       "<span style=\"color: #7fbfbf; text-decoration-color: #7fbfbf\">         </span>         <span style=\"color: #808000; text-decoration-color: #808000\">min</span><span style=\"color: #000000; text-decoration-color: #000000\">=</span><span style=\"color: #800080; text-decoration-color: #800080; font-style: italic\">None</span><span style=\"color: #000000; text-decoration-color: #000000\">, </span><span style=\"color: #808000; text-decoration-color: #808000\">max</span><span style=\"color: #000000; text-decoration-color: #000000\">=</span><span style=\"color: #800080; text-decoration-color: #800080; font-style: italic\">None</span><span style=\"color: #000000; text-decoration-color: #000000; font-weight: bold\">)</span><span style=\"color: #000000; text-decoration-color: #000000\">, </span>                                                               <span style=\"color: #7f7f7f; text-decoration-color: #7f7f7f\">             </span>\n",
       "<span style=\"color: #7fbfbf; text-decoration-color: #7fbfbf\">         </span>         <span style=\"color: #800080; text-decoration-color: #800080; font-weight: bold\">RemoteFloatMetadataProperty</span><span style=\"color: #000000; text-decoration-color: #000000; font-weight: bold\">(</span><span style=\"color: #808000; text-decoration-color: #808000\">id</span><span style=\"color: #000000; text-decoration-color: #000000\">=</span><span style=\"color: #800080; text-decoration-color: #800080; font-weight: bold\">UUID</span><span style=\"color: #000000; text-decoration-color: #000000; font-weight: bold\">(</span><span style=\"color: #008000; text-decoration-color: #008000\">'c9d98b46-28a0-4b46-99b5-9004c091841c'</span><span style=\"color: #000000; text-decoration-color: #000000; font-weight: bold\">)</span><span style=\"color: #000000; text-decoration-color: #000000\">, </span>       <span style=\"color: #7f7f7f; text-decoration-color: #7f7f7f\">             </span>\n",
       "<span style=\"color: #7fbfbf; text-decoration-color: #7fbfbf\">         </span>         <span style=\"color: #808000; text-decoration-color: #808000\">client</span><span style=\"color: #000000; text-decoration-color: #000000\">=&lt;httpx.Client object at </span><span style=\"color: #008080; text-decoration-color: #008080; font-weight: bold\">0x7dae81eff640</span><span style=\"color: #000000; text-decoration-color: #000000\">&gt;, </span><span style=\"color: #808000; text-decoration-color: #808000\">name</span><span style=\"color: #000000; text-decoration-color: #000000\">=</span><span style=\"color: #008000; text-decoration-color: #008000\">'instructions_perplexity'</span><span style=\"color: #000000; text-decoration-color: #000000\">, </span>    <span style=\"color: #7f7f7f; text-decoration-color: #7f7f7f\">             </span>\n",
       "<span style=\"color: #7fbfbf; text-decoration-color: #7fbfbf\">         </span>         <span style=\"color: #808000; text-decoration-color: #808000\">title</span><span style=\"color: #000000; text-decoration-color: #000000\">=</span><span style=\"color: #008000; text-decoration-color: #008000\">'Instructions Perplexity'</span><span style=\"color: #000000; text-decoration-color: #000000\">, </span><span style=\"color: #808000; text-decoration-color: #808000\">visible_for_annotators</span><span style=\"color: #000000; text-decoration-color: #000000\">=</span><span style=\"color: #00ff00; text-decoration-color: #00ff00; font-style: italic\">True</span><span style=\"color: #000000; text-decoration-color: #000000\">, </span><span style=\"color: #808000; text-decoration-color: #808000\">type</span><span style=\"color: #000000; text-decoration-color: #000000\">=</span><span style=\"color: #008000; text-decoration-color: #008000\">'float'</span><span style=\"color: #000000; text-decoration-color: #000000\">, </span>        <span style=\"color: #7f7f7f; text-decoration-color: #7f7f7f\">             </span>\n",
       "<span style=\"color: #7fbfbf; text-decoration-color: #7fbfbf\">         </span>         <span style=\"color: #808000; text-decoration-color: #808000\">min</span><span style=\"color: #000000; text-decoration-color: #000000\">=</span><span style=\"color: #800080; text-decoration-color: #800080; font-style: italic\">None</span><span style=\"color: #000000; text-decoration-color: #000000\">, </span><span style=\"color: #808000; text-decoration-color: #808000\">max</span><span style=\"color: #000000; text-decoration-color: #000000\">=</span><span style=\"color: #800080; text-decoration-color: #800080; font-style: italic\">None</span><span style=\"color: #000000; text-decoration-color: #000000; font-weight: bold\">)</span><span style=\"color: #000000; text-decoration-color: #000000\">, </span>                                                               <span style=\"color: #7f7f7f; text-decoration-color: #7f7f7f\">             </span>\n",
       "<span style=\"color: #7fbfbf; text-decoration-color: #7fbfbf\">         </span>         <span style=\"color: #800080; text-decoration-color: #800080; font-weight: bold\">RemoteFloatMetadataProperty</span><span style=\"color: #000000; text-decoration-color: #000000; font-weight: bold\">(</span><span style=\"color: #808000; text-decoration-color: #808000\">id</span><span style=\"color: #000000; text-decoration-color: #000000\">=</span><span style=\"color: #800080; text-decoration-color: #800080; font-weight: bold\">UUID</span><span style=\"color: #000000; text-decoration-color: #000000; font-weight: bold\">(</span><span style=\"color: #008000; text-decoration-color: #008000\">'32c2ff04-57c1-446d-8588-f9eae42b92c3'</span><span style=\"color: #000000; text-decoration-color: #000000; font-weight: bold\">)</span><span style=\"color: #000000; text-decoration-color: #000000\">, </span>       <span style=\"color: #7f7f7f; text-decoration-color: #7f7f7f\">             </span>\n",
       "<span style=\"color: #7fbfbf; text-decoration-color: #7fbfbf\">         </span>         <span style=\"color: #808000; text-decoration-color: #808000\">client</span><span style=\"color: #000000; text-decoration-color: #000000\">=&lt;httpx.Client object at </span><span style=\"color: #008080; text-decoration-color: #008080; font-weight: bold\">0x7dae81eff640</span><span style=\"color: #000000; text-decoration-color: #000000\">&gt;, </span><span style=\"color: #808000; text-decoration-color: #808000\">name</span><span style=\"color: #000000; text-decoration-color: #000000\">=</span><span style=\"color: #008000; text-decoration-color: #008000\">'instructions_entropy'</span><span style=\"color: #000000; text-decoration-color: #000000\">, </span>       <span style=\"color: #7f7f7f; text-decoration-color: #7f7f7f\">             </span>\n",
       "<span style=\"color: #7fbfbf; text-decoration-color: #7fbfbf\">         </span>         <span style=\"color: #808000; text-decoration-color: #808000\">title</span><span style=\"color: #000000; text-decoration-color: #000000\">=</span><span style=\"color: #008000; text-decoration-color: #008000\">'Instructions Entropy'</span><span style=\"color: #000000; text-decoration-color: #000000\">, </span><span style=\"color: #808000; text-decoration-color: #808000\">visible_for_annotators</span><span style=\"color: #000000; text-decoration-color: #000000\">=</span><span style=\"color: #00ff00; text-decoration-color: #00ff00; font-style: italic\">True</span><span style=\"color: #000000; text-decoration-color: #000000\">, </span><span style=\"color: #808000; text-decoration-color: #808000\">type</span><span style=\"color: #000000; text-decoration-color: #000000\">=</span><span style=\"color: #008000; text-decoration-color: #008000\">'float'</span><span style=\"color: #000000; text-decoration-color: #000000\">, </span><span style=\"color: #808000; text-decoration-color: #808000\">min</span><span style=\"color: #000000; text-decoration-color: #000000\">=</span><span style=\"color: #800080; text-decoration-color: #800080; font-style: italic\">None</span><span style=\"color: #000000; text-decoration-color: #000000\">, </span> <span style=\"color: #7f7f7f; text-decoration-color: #7f7f7f\">             </span>\n",
       "<span style=\"color: #7fbfbf; text-decoration-color: #7fbfbf\">         </span>         <span style=\"color: #808000; text-decoration-color: #808000\">max</span><span style=\"color: #000000; text-decoration-color: #000000\">=</span><span style=\"color: #800080; text-decoration-color: #800080; font-style: italic\">None</span><span style=\"color: #000000; text-decoration-color: #000000; font-weight: bold\">)</span><span style=\"color: #000000; text-decoration-color: #000000\">, </span>                                                                         <span style=\"color: #7f7f7f; text-decoration-color: #7f7f7f\">             </span>\n",
       "<span style=\"color: #7fbfbf; text-decoration-color: #7fbfbf\">         </span>         <span style=\"color: #800080; text-decoration-color: #800080; font-weight: bold\">RemoteFloatMetadataProperty</span><span style=\"color: #000000; text-decoration-color: #000000; font-weight: bold\">(</span><span style=\"color: #808000; text-decoration-color: #808000\">id</span><span style=\"color: #000000; text-decoration-color: #000000\">=</span><span style=\"color: #800080; text-decoration-color: #800080; font-weight: bold\">UUID</span><span style=\"color: #000000; text-decoration-color: #000000; font-weight: bold\">(</span><span style=\"color: #008000; text-decoration-color: #008000\">'2a0c92f5-72d3-44ff-aa3a-dc9045b7815c'</span><span style=\"color: #000000; text-decoration-color: #000000; font-weight: bold\">)</span><span style=\"color: #000000; text-decoration-color: #000000\">, </span>       <span style=\"color: #7f7f7f; text-decoration-color: #7f7f7f\">             </span>\n",
       "<span style=\"color: #7fbfbf; text-decoration-color: #7fbfbf\">         </span>         <span style=\"color: #808000; text-decoration-color: #808000\">client</span><span style=\"color: #000000; text-decoration-color: #000000\">=&lt;httpx.Client object at </span><span style=\"color: #008080; text-decoration-color: #008080; font-weight: bold\">0x7dae81eff640</span><span style=\"font-weight: bold\">&gt;</span>,                                     <span style=\"color: #7f7f7f; text-decoration-color: #7f7f7f\">             </span>\n",
       "<span style=\"color: #7fbfbf; text-decoration-color: #7fbfbf\">         </span>         <span style=\"color: #808000; text-decoration-color: #808000\">name</span>=<span style=\"color: #008000; text-decoration-color: #008000\">'instructions_flesch_reading_ease'</span>, <span style=\"color: #808000; text-decoration-color: #808000\">title</span>=<span style=\"color: #008000; text-decoration-color: #008000\">'Instructions Flesch Reading Ease'</span>,  <span style=\"color: #7f7f7f; text-decoration-color: #7f7f7f\">             </span>\n",
       "<span style=\"color: #7fbfbf; text-decoration-color: #7fbfbf\">         </span>         <span style=\"color: #808000; text-decoration-color: #808000\">visible_for_annotators</span>=<span style=\"color: #00ff00; text-decoration-color: #00ff00; font-style: italic\">True</span>, <span style=\"color: #808000; text-decoration-color: #808000\">type</span>=<span style=\"color: #008000; text-decoration-color: #008000\">'float'</span>, <span style=\"color: #808000; text-decoration-color: #808000\">min</span>=<span style=\"color: #800080; text-decoration-color: #800080; font-style: italic\">None</span>, <span style=\"color: #808000; text-decoration-color: #808000\">max</span>=<span style=\"color: #800080; text-decoration-color: #800080; font-style: italic\">None</span><span style=\"font-weight: bold\">)]</span>                     <span style=\"color: #7f7f7f; text-decoration-color: #7f7f7f\">             </span>\n",
       "<span style=\"color: #7fbfbf; text-decoration-color: #7fbfbf\">         </span>            <span style=\"color: #808000; text-decoration-color: #808000\">vectors_settings</span>=<span style=\"font-weight: bold\">[</span><span style=\"color: #800080; text-decoration-color: #800080; font-weight: bold\">RemoteVectorSettings</span><span style=\"font-weight: bold\">(</span><span style=\"color: #808000; text-decoration-color: #808000\">name</span>=<span style=\"color: #008000; text-decoration-color: #008000\">'input'</span>, <span style=\"color: #808000; text-decoration-color: #808000\">title</span>=<span style=\"color: #008000; text-decoration-color: #008000\">'input'</span>,              <span style=\"color: #7f7f7f; text-decoration-color: #7f7f7f\">             </span>\n",
       "<span style=\"color: #7fbfbf; text-decoration-color: #7fbfbf\">         </span>         <span style=\"color: #808000; text-decoration-color: #808000\">dimensions</span>=<span style=\"color: #008080; text-decoration-color: #008080; font-weight: bold\">384</span>, <span style=\"color: #808000; text-decoration-color: #808000\">id</span>=<span style=\"color: #800080; text-decoration-color: #800080; font-weight: bold\">UUID</span><span style=\"font-weight: bold\">(</span><span style=\"color: #008000; text-decoration-color: #008000\">'5d6b43da-e1a8-4c46-82d0-0739ba78990a'</span><span style=\"font-weight: bold\">)</span>,                    <span style=\"color: #7f7f7f; text-decoration-color: #7f7f7f\">             </span>\n",
       "<span style=\"color: #7fbfbf; text-decoration-color: #7fbfbf\">         </span>         <span style=\"color: #808000; text-decoration-color: #808000\">inserted_at</span>=<span style=\"color: #800080; text-decoration-color: #800080; font-weight: bold\">datetime</span><span style=\"color: #800080; text-decoration-color: #800080; font-weight: bold\">.datetime</span><span style=\"font-weight: bold\">(</span><span style=\"color: #008080; text-decoration-color: #008080; font-weight: bold\">2024</span>, <span style=\"color: #008080; text-decoration-color: #008080; font-weight: bold\">3</span>, <span style=\"color: #008080; text-decoration-color: #008080; font-weight: bold\">20</span>, <span style=\"color: #008080; text-decoration-color: #008080; font-weight: bold\">14</span>, <span style=\"color: #008080; text-decoration-color: #008080; font-weight: bold\">43</span>, <span style=\"color: #008080; text-decoration-color: #008080; font-weight: bold\">12</span>, <span style=\"color: #008080; text-decoration-color: #008080; font-weight: bold\">304046</span><span style=\"font-weight: bold\">)</span>,                     <span style=\"color: #7f7f7f; text-decoration-color: #7f7f7f\">             </span>\n",
       "<span style=\"color: #7fbfbf; text-decoration-color: #7fbfbf\">         </span>         <span style=\"color: #808000; text-decoration-color: #808000\">updated_at</span>=<span style=\"color: #800080; text-decoration-color: #800080; font-weight: bold\">datetime</span><span style=\"color: #800080; text-decoration-color: #800080; font-weight: bold\">.datetime</span><span style=\"font-weight: bold\">(</span><span style=\"color: #008080; text-decoration-color: #008080; font-weight: bold\">2024</span>, <span style=\"color: #008080; text-decoration-color: #008080; font-weight: bold\">3</span>, <span style=\"color: #008080; text-decoration-color: #008080; font-weight: bold\">20</span>, <span style=\"color: #008080; text-decoration-color: #008080; font-weight: bold\">14</span>, <span style=\"color: #008080; text-decoration-color: #008080; font-weight: bold\">43</span>, <span style=\"color: #008080; text-decoration-color: #008080; font-weight: bold\">12</span>, <span style=\"color: #008080; text-decoration-color: #008080; font-weight: bold\">304046</span><span style=\"font-weight: bold\">))</span>,                     <span style=\"color: #7f7f7f; text-decoration-color: #7f7f7f\">             </span>\n",
       "<span style=\"color: #7fbfbf; text-decoration-color: #7fbfbf\">         </span>         <span style=\"color: #800080; text-decoration-color: #800080; font-weight: bold\">RemoteVectorSettings</span><span style=\"font-weight: bold\">(</span><span style=\"color: #808000; text-decoration-color: #808000\">name</span>=<span style=\"color: #008000; text-decoration-color: #008000\">'instructions'</span>, <span style=\"color: #808000; text-decoration-color: #808000\">title</span>=<span style=\"color: #008000; text-decoration-color: #008000\">'instructions'</span>, <span style=\"color: #808000; text-decoration-color: #808000\">dimensions</span>=<span style=\"color: #008080; text-decoration-color: #008080; font-weight: bold\">384</span>,     <span style=\"color: #7f7f7f; text-decoration-color: #7f7f7f\">             </span>\n",
       "<span style=\"color: #7fbfbf; text-decoration-color: #7fbfbf\">         </span>         <span style=\"color: #808000; text-decoration-color: #808000\">id</span>=<span style=\"color: #800080; text-decoration-color: #800080; font-weight: bold\">UUID</span><span style=\"font-weight: bold\">(</span><span style=\"color: #008000; text-decoration-color: #008000\">'5b88e2ba-88ac-4453-b5b4-bf13e023f08a'</span><span style=\"font-weight: bold\">)</span>,                                    <span style=\"color: #7f7f7f; text-decoration-color: #7f7f7f\">             </span>\n",
       "<span style=\"color: #7fbfbf; text-decoration-color: #7fbfbf\">         </span>         <span style=\"color: #808000; text-decoration-color: #808000\">inserted_at</span>=<span style=\"color: #800080; text-decoration-color: #800080; font-weight: bold\">datetime</span><span style=\"color: #800080; text-decoration-color: #800080; font-weight: bold\">.datetime</span><span style=\"font-weight: bold\">(</span><span style=\"color: #008080; text-decoration-color: #008080; font-weight: bold\">2024</span>, <span style=\"color: #008080; text-decoration-color: #008080; font-weight: bold\">3</span>, <span style=\"color: #008080; text-decoration-color: #008080; font-weight: bold\">20</span>, <span style=\"color: #008080; text-decoration-color: #008080; font-weight: bold\">14</span>, <span style=\"color: #008080; text-decoration-color: #008080; font-weight: bold\">43</span>, <span style=\"color: #008080; text-decoration-color: #008080; font-weight: bold\">12</span>, <span style=\"color: #008080; text-decoration-color: #008080; font-weight: bold\">486750</span><span style=\"font-weight: bold\">)</span>,                     <span style=\"color: #7f7f7f; text-decoration-color: #7f7f7f\">             </span>\n",
       "<span style=\"color: #7fbfbf; text-decoration-color: #7fbfbf\">         </span>         <span style=\"color: #808000; text-decoration-color: #808000\">updated_at</span>=<span style=\"color: #800080; text-decoration-color: #800080; font-weight: bold\">datetime</span><span style=\"color: #800080; text-decoration-color: #800080; font-weight: bold\">.datetime</span><span style=\"font-weight: bold\">(</span><span style=\"color: #008080; text-decoration-color: #008080; font-weight: bold\">2024</span>, <span style=\"color: #008080; text-decoration-color: #008080; font-weight: bold\">3</span>, <span style=\"color: #008080; text-decoration-color: #008080; font-weight: bold\">20</span>, <span style=\"color: #008080; text-decoration-color: #008080; font-weight: bold\">14</span>, <span style=\"color: #008080; text-decoration-color: #008080; font-weight: bold\">43</span>, <span style=\"color: #008080; text-decoration-color: #008080; font-weight: bold\">12</span>, <span style=\"color: #008080; text-decoration-color: #008080; font-weight: bold\">486750</span><span style=\"font-weight: bold\">))]</span>                     <span style=\"color: #7f7f7f; text-decoration-color: #7f7f7f\">             </span>\n",
       "<span style=\"color: #7fbfbf; text-decoration-color: #7fbfbf\">         </span>         <span style=\"font-weight: bold\">)</span>                                                                                   <span style=\"color: #7f7f7f; text-decoration-color: #7f7f7f\">             </span>\n",
       "</pre>\n"
      ],
      "text/plain": [
       "\u001b[2;36m        \u001b[0m\u001b[2;36m \u001b[0m\u001b[34mINFO    \u001b[0m \u001b[1m[\u001b[0mPID: \u001b[1;36m11692\u001b[0m\u001b[1m]\u001b[0m \u001b[1;35mRemoteFeedbackDataset\u001b[0m\u001b[1m(\u001b[0m                                                 \u001b]8;id=560213;file:///home/strickvl/coding/zenml-projects/llm-lora-finetuning/datagen/lib/python3.10/site-packages/argilla/client/feedback/dataset/local/mixins.py\u001b\\\u001b[2mmixins.py\u001b[0m\u001b]8;;\u001b\\\u001b[2m:\u001b[0m\u001b]8;id=505218;file:///home/strickvl/coding/zenml-projects/llm-lora-finetuning/datagen/lib/python3.10/site-packages/argilla/client/feedback/dataset/local/mixins.py#282\u001b\\\u001b[2m282\u001b[0m\u001b]8;;\u001b\\\n",
       "\u001b[2;36m         \u001b[0m            \u001b[33mid\u001b[0m=\u001b[93mf7ad81b5\u001b[0m\u001b[93m-a82e-49a5-9497-faccf1fdb6cd\u001b[0m                                          \u001b[2m             \u001b[0m\n",
       "\u001b[2;36m         \u001b[0m            \u001b[33mname\u001b[0m=\u001b[35mollama_instructions\u001b[0m                                                         \u001b[2m             \u001b[0m\n",
       "\u001b[2;36m         \u001b[0m            \u001b[33mworkspace\u001b[0m=\u001b[1;35mWorkspace\u001b[0m\u001b[1m(\u001b[0m\u001b[33mid\u001b[0m=\u001b[93ma4eef5c0\u001b[0m\u001b[93m-a51c-4cce-81a7-8c5b23ce6afa\u001b[0m, \u001b[33mname\u001b[0m=\u001b[35madmin\u001b[0m,         \u001b[2m             \u001b[0m\n",
       "\u001b[2;36m         \u001b[0m         \u001b[33minserted_at\u001b[0m=\u001b[1;36m2024\u001b[0m-\u001b[1;36m03\u001b[0m-\u001b[1;36m20\u001b[0m \u001b[1;92m12:52:24\u001b[0m.\u001b[1;36m433299\u001b[0m, \u001b[33mupdated_at\u001b[0m=\u001b[1;36m2024\u001b[0m-\u001b[1;36m03\u001b[0m-\u001b[1;36m20\u001b[0m \u001b[1;92m12:52:24\u001b[0m.\u001b[1;36m433299\u001b[0m\u001b[1m)\u001b[0m      \u001b[2m             \u001b[0m\n",
       "\u001b[2;36m         \u001b[0m            \u001b[33murl\u001b[0m=\u001b[4;94mhttps\u001b[0m\u001b[4;94m://strickvl-argilla.hf.space/dataset/f7ad81b5-a82e-49a5-9497-faccf1fdb6\u001b[0m \u001b[2m             \u001b[0m\n",
       "\u001b[2;36m         \u001b[0m         \u001b[4;94mcd/annotation-mode\u001b[0m                                                                  \u001b[2m             \u001b[0m\n",
       "\u001b[2;36m         \u001b[0m            \u001b[33mfields\u001b[0m=\u001b[1m[\u001b[0m\u001b[1;35mRemoteTextField\u001b[0m\u001b[1m(\u001b[0m\u001b[33mid\u001b[0m=\u001b[1;35mUUID\u001b[0m\u001b[1m(\u001b[0m\u001b[32m'e220a39e-6de1-4e04-8e95-4493910e0def'\u001b[0m\u001b[1m)\u001b[0m,         \u001b[2m             \u001b[0m\n",
       "\u001b[2;36m         \u001b[0m         \u001b[33mclient\u001b[0m=\u001b[3;35mNone\u001b[0m, \u001b[33mname\u001b[0m=\u001b[32m'input'\u001b[0m, \u001b[33mtitle\u001b[0m=\u001b[32m'input'\u001b[0m, \u001b[33mrequired\u001b[0m=\u001b[3;92mTrue\u001b[0m, \u001b[33mtype\u001b[0m=\u001b[32m'text'\u001b[0m,               \u001b[2m             \u001b[0m\n",
       "\u001b[2;36m         \u001b[0m         \u001b[33muse_markdown\u001b[0m=\u001b[3;92mTrue\u001b[0m\u001b[1m)\u001b[0m,                                                                 \u001b[2m             \u001b[0m\n",
       "\u001b[2;36m         \u001b[0m         \u001b[1;35mRemoteTextField\u001b[0m\u001b[1m(\u001b[0m\u001b[33mid\u001b[0m=\u001b[1;35mUUID\u001b[0m\u001b[1m(\u001b[0m\u001b[32m'5facf295-2d48-4eca-b20c-3697433c4310'\u001b[0m\u001b[1m)\u001b[0m, \u001b[33mclient\u001b[0m=\u001b[3;35mNone\u001b[0m,       \u001b[2m             \u001b[0m\n",
       "\u001b[2;36m         \u001b[0m         \u001b[33mname\u001b[0m=\u001b[32m'instructions'\u001b[0m, \u001b[33mtitle\u001b[0m=\u001b[32m'instructions'\u001b[0m, \u001b[33mrequired\u001b[0m=\u001b[3;92mTrue\u001b[0m, \u001b[33mtype\u001b[0m=\u001b[32m'text'\u001b[0m,              \u001b[2m             \u001b[0m\n",
       "\u001b[2;36m         \u001b[0m         \u001b[33muse_markdown\u001b[0m=\u001b[3;91mFalse\u001b[0m\u001b[1m)\u001b[0m\u001b[1m]\u001b[0m                                                                \u001b[2m             \u001b[0m\n",
       "\u001b[2;36m         \u001b[0m            \u001b[33mquestions\u001b[0m=\u001b[1m[\u001b[0m\u001b[1;35mRemoteRatingQuestion\u001b[0m\u001b[1m(\u001b[0m\u001b[33mid\u001b[0m=\u001b[1;35mUUID\u001b[0m\u001b[1m(\u001b[0m\u001b[32m'78614ca7-ec9c-43cf-b604-4c20c6d1b77b'\u001b[0m\u001b[1m)\u001b[0m, \u001b[2m             \u001b[0m\n",
       "\u001b[2;36m         \u001b[0m         \u001b[33mclient\u001b[0m=\u001b[3;35mNone\u001b[0m, \u001b[33mname\u001b[0m=\u001b[32m'instruction-rating'\u001b[0m, \u001b[33mtitle\u001b[0m=\u001b[32m'How would you rate the generated \u001b[0m    \u001b[2m             \u001b[0m\n",
       "\u001b[2;36m         \u001b[0m         \u001b[32minstruction?'\u001b[0m, \u001b[33mdescription\u001b[0m=\u001b[3;35mNone\u001b[0m, \u001b[33mrequired\u001b[0m=\u001b[3;92mTrue\u001b[0m, \u001b[33mtype\u001b[0m=\u001b[32m'rating'\u001b[0m, \u001b[33mvalues\u001b[0m=\u001b[1m[\u001b[0m\u001b[1;36m1\u001b[0m, \u001b[1;36m2\u001b[0m, \u001b[1;36m3\u001b[0m, \u001b[1;36m4\u001b[0m,  \u001b[2m             \u001b[0m\n",
       "\u001b[2;36m         \u001b[0m         \u001b[1;36m5\u001b[0m, \u001b[1;36m6\u001b[0m, \u001b[1;36m7\u001b[0m, \u001b[1;36m8\u001b[0m, \u001b[1;36m9\u001b[0m, \u001b[1;36m10\u001b[0m\u001b[1m]\u001b[0m\u001b[1m)\u001b[0m\u001b[1m]\u001b[0m                                                                \u001b[2m             \u001b[0m\n",
       "\u001b[2;36m         \u001b[0m            \u001b[33mguidelines\u001b[0m=\u001b[3;35mNone\u001b[0m                                                                  \u001b[2m             \u001b[0m\n",
       "\u001b[2;36m         \u001b[0m            \u001b[33mmetadata_properties\u001b[0m=\u001b[1m[\u001b[0m\u001b[1;35mRemoteIntegerMetadataProperty\u001b[0m\u001b[1m(\u001b[0m\u001b[33mid\u001b[0m=\u001b[1;35mUUID\u001b[0m\u001b[1m(\u001b[0m\u001b[32m'eefb7081-ff5d-4d32-9\u001b[0m \u001b[2m             \u001b[0m\n",
       "\u001b[2;36m         \u001b[0m         \u001b[32m451-563552758f96'\u001b[0m\u001b[1m)\u001b[0m, \u001b[33mclient\u001b[0m=\u001b[1m<\u001b[0m\u001b[1;95mhttpx.Client\u001b[0m\u001b[39m object at \u001b[0m\u001b[1;36m0x7dae81eff640\u001b[0m\u001b[39m>, \u001b[0m                \u001b[2m             \u001b[0m\n",
       "\u001b[2;36m         \u001b[0m         \u001b[33mname\u001b[0m\u001b[39m=\u001b[0m\u001b[32m'length-input'\u001b[0m\u001b[39m, \u001b[0m\u001b[33mtitle\u001b[0m\u001b[39m=\u001b[0m\u001b[32m'length-input'\u001b[0m\u001b[39m, \u001b[0m\u001b[33mvisible_for_annotators\u001b[0m\u001b[39m=\u001b[0m\u001b[3;92mTrue\u001b[0m\u001b[39m, \u001b[0m            \u001b[2m             \u001b[0m\n",
       "\u001b[2;36m         \u001b[0m         \u001b[33mtype\u001b[0m\u001b[39m=\u001b[0m\u001b[32m'integer'\u001b[0m\u001b[39m, \u001b[0m\u001b[33mmin\u001b[0m\u001b[39m=\u001b[0m\u001b[3;35mNone\u001b[0m\u001b[39m, \u001b[0m\u001b[33mmax\u001b[0m\u001b[39m=\u001b[0m\u001b[3;35mNone\u001b[0m\u001b[1;39m)\u001b[0m\u001b[39m, \u001b[0m                                               \u001b[2m             \u001b[0m\n",
       "\u001b[2;36m         \u001b[0m         \u001b[1;35mRemoteIntegerMetadataProperty\u001b[0m\u001b[1;39m(\u001b[0m\u001b[33mid\u001b[0m\u001b[39m=\u001b[0m\u001b[1;35mUUID\u001b[0m\u001b[1;39m(\u001b[0m\u001b[32m'1bc96ffd-63d5-4d1d-a996-a42d7f5ef2c0'\u001b[0m\u001b[1;39m)\u001b[0m\u001b[39m, \u001b[0m     \u001b[2m             \u001b[0m\n",
       "\u001b[2;36m         \u001b[0m         \u001b[33mclient\u001b[0m\u001b[39m=<httpx.Client object at \u001b[0m\u001b[1;36m0x7dae81eff640\u001b[0m\u001b[39m>, \u001b[0m\u001b[33mname\u001b[0m\u001b[39m=\u001b[0m\u001b[32m'length-instruction'\u001b[0m\u001b[39m, \u001b[0m         \u001b[2m             \u001b[0m\n",
       "\u001b[2;36m         \u001b[0m         \u001b[33mtitle\u001b[0m\u001b[39m=\u001b[0m\u001b[32m'length-instruction'\u001b[0m\u001b[39m, \u001b[0m\u001b[33mvisible_for_annotators\u001b[0m\u001b[39m=\u001b[0m\u001b[3;92mTrue\u001b[0m\u001b[39m, \u001b[0m\u001b[33mtype\u001b[0m\u001b[39m=\u001b[0m\u001b[32m'integer'\u001b[0m\u001b[39m, \u001b[0m\u001b[33mmin\u001b[0m\u001b[39m=\u001b[0m\u001b[3;35mNone\u001b[0m\u001b[39m, \u001b[0m \u001b[2m             \u001b[0m\n",
       "\u001b[2;36m         \u001b[0m         \u001b[33mmax\u001b[0m\u001b[39m=\u001b[0m\u001b[3;35mNone\u001b[0m\u001b[1;39m)\u001b[0m\u001b[39m, \u001b[0m                                                                         \u001b[2m             \u001b[0m\n",
       "\u001b[2;36m         \u001b[0m         \u001b[1;35mRemoteIntegerMetadataProperty\u001b[0m\u001b[1;39m(\u001b[0m\u001b[33mid\u001b[0m\u001b[39m=\u001b[0m\u001b[1;35mUUID\u001b[0m\u001b[1;39m(\u001b[0m\u001b[32m'd3ab74f9-1b13-407e-9ffd-f9f308c40534'\u001b[0m\u001b[1;39m)\u001b[0m\u001b[39m, \u001b[0m     \u001b[2m             \u001b[0m\n",
       "\u001b[2;36m         \u001b[0m         \u001b[33mclient\u001b[0m\u001b[39m=<httpx.Client object at \u001b[0m\u001b[1;36m0x7dae81eff640\u001b[0m\u001b[39m>, \u001b[0m\u001b[33mname\u001b[0m\u001b[39m=\u001b[0m\u001b[32m'input_n_tokens'\u001b[0m\u001b[39m, \u001b[0m\u001b[33mtitle\u001b[0m\u001b[39m=\u001b[0m\u001b[32m'Input\u001b[0m \u001b[2m             \u001b[0m\n",
       "\u001b[2;36m         \u001b[0m         \u001b[32mN Tokens'\u001b[0m\u001b[39m, \u001b[0m\u001b[33mvisible_for_annotators\u001b[0m\u001b[39m=\u001b[0m\u001b[3;92mTrue\u001b[0m\u001b[39m, \u001b[0m\u001b[33mtype\u001b[0m\u001b[39m=\u001b[0m\u001b[32m'integer'\u001b[0m\u001b[39m, \u001b[0m\u001b[33mmin\u001b[0m\u001b[39m=\u001b[0m\u001b[3;35mNone\u001b[0m\u001b[39m, \u001b[0m\u001b[33mmax\u001b[0m\u001b[39m=\u001b[0m\u001b[3;35mNone\u001b[0m\u001b[1;39m)\u001b[0m\u001b[39m, \u001b[0m       \u001b[2m             \u001b[0m\n",
       "\u001b[2;36m         \u001b[0m         \u001b[1;35mRemoteIntegerMetadataProperty\u001b[0m\u001b[1;39m(\u001b[0m\u001b[33mid\u001b[0m\u001b[39m=\u001b[0m\u001b[1;35mUUID\u001b[0m\u001b[1;39m(\u001b[0m\u001b[32m'34687791-a6a3-454c-b5d1-bfd9e58fa0a8'\u001b[0m\u001b[1;39m)\u001b[0m\u001b[39m, \u001b[0m     \u001b[2m             \u001b[0m\n",
       "\u001b[2;36m         \u001b[0m         \u001b[33mclient\u001b[0m\u001b[39m=<httpx.Client object at \u001b[0m\u001b[1;36m0x7dae81eff640\u001b[0m\u001b[39m>, \u001b[0m\u001b[33mname\u001b[0m\u001b[39m=\u001b[0m\u001b[32m'input_n_unique_tokens'\u001b[0m\u001b[39m, \u001b[0m      \u001b[2m             \u001b[0m\n",
       "\u001b[2;36m         \u001b[0m         \u001b[33mtitle\u001b[0m\u001b[39m=\u001b[0m\u001b[32m'Input N Unique Tokens'\u001b[0m\u001b[39m, \u001b[0m\u001b[33mvisible_for_annotators\u001b[0m\u001b[39m=\u001b[0m\u001b[3;92mTrue\u001b[0m\u001b[39m, \u001b[0m\u001b[33mtype\u001b[0m\u001b[39m=\u001b[0m\u001b[32m'integer'\u001b[0m\u001b[39m, \u001b[0m        \u001b[2m             \u001b[0m\n",
       "\u001b[2;36m         \u001b[0m         \u001b[33mmin\u001b[0m\u001b[39m=\u001b[0m\u001b[3;35mNone\u001b[0m\u001b[39m, \u001b[0m\u001b[33mmax\u001b[0m\u001b[39m=\u001b[0m\u001b[3;35mNone\u001b[0m\u001b[1;39m)\u001b[0m\u001b[39m, \u001b[0m                                                               \u001b[2m             \u001b[0m\n",
       "\u001b[2;36m         \u001b[0m         \u001b[1;35mRemoteIntegerMetadataProperty\u001b[0m\u001b[1;39m(\u001b[0m\u001b[33mid\u001b[0m\u001b[39m=\u001b[0m\u001b[1;35mUUID\u001b[0m\u001b[1;39m(\u001b[0m\u001b[32m'c28fd479-cf78-4ee1-a2cf-5c0fc7dd96ad'\u001b[0m\u001b[1;39m)\u001b[0m\u001b[39m, \u001b[0m     \u001b[2m             \u001b[0m\n",
       "\u001b[2;36m         \u001b[0m         \u001b[33mclient\u001b[0m\u001b[39m=<httpx.Client object at \u001b[0m\u001b[1;36m0x7dae81eff640\u001b[0m\u001b[39m>, \u001b[0m\u001b[33mname\u001b[0m\u001b[39m=\u001b[0m\u001b[32m'input_n_sentences'\u001b[0m\u001b[39m, \u001b[0m          \u001b[2m             \u001b[0m\n",
       "\u001b[2;36m         \u001b[0m         \u001b[33mtitle\u001b[0m\u001b[39m=\u001b[0m\u001b[32m'Input N Sentences'\u001b[0m\u001b[39m, \u001b[0m\u001b[33mvisible_for_annotators\u001b[0m\u001b[39m=\u001b[0m\u001b[3;92mTrue\u001b[0m\u001b[39m, \u001b[0m\u001b[33mtype\u001b[0m\u001b[39m=\u001b[0m\u001b[32m'integer'\u001b[0m\u001b[39m, \u001b[0m\u001b[33mmin\u001b[0m\u001b[39m=\u001b[0m\u001b[3;35mNone\u001b[0m\u001b[39m, \u001b[0m  \u001b[2m             \u001b[0m\n",
       "\u001b[2;36m         \u001b[0m         \u001b[33mmax\u001b[0m\u001b[39m=\u001b[0m\u001b[3;35mNone\u001b[0m\u001b[1;39m)\u001b[0m\u001b[39m, \u001b[0m                                                                         \u001b[2m             \u001b[0m\n",
       "\u001b[2;36m         \u001b[0m         \u001b[1;35mRemoteFloatMetadataProperty\u001b[0m\u001b[1;39m(\u001b[0m\u001b[33mid\u001b[0m\u001b[39m=\u001b[0m\u001b[1;35mUUID\u001b[0m\u001b[1;39m(\u001b[0m\u001b[32m'76722fe8-f4e7-4896-8698-41c4e65513b7'\u001b[0m\u001b[1;39m)\u001b[0m\u001b[39m, \u001b[0m       \u001b[2m             \u001b[0m\n",
       "\u001b[2;36m         \u001b[0m         \u001b[33mclient\u001b[0m\u001b[39m=<httpx.Client object at \u001b[0m\u001b[1;36m0x7dae81eff640\u001b[0m\u001b[39m>, \u001b[0m\u001b[33mname\u001b[0m\u001b[39m=\u001b[0m\u001b[32m'input_perplexity'\u001b[0m\u001b[39m, \u001b[0m           \u001b[2m             \u001b[0m\n",
       "\u001b[2;36m         \u001b[0m         \u001b[33mtitle\u001b[0m\u001b[39m=\u001b[0m\u001b[32m'Input Perplexity'\u001b[0m\u001b[39m, \u001b[0m\u001b[33mvisible_for_annotators\u001b[0m\u001b[39m=\u001b[0m\u001b[3;92mTrue\u001b[0m\u001b[39m, \u001b[0m\u001b[33mtype\u001b[0m\u001b[39m=\u001b[0m\u001b[32m'float'\u001b[0m\u001b[39m, \u001b[0m\u001b[33mmin\u001b[0m\u001b[39m=\u001b[0m\u001b[3;35mNone\u001b[0m\u001b[39m, \u001b[0m     \u001b[2m             \u001b[0m\n",
       "\u001b[2;36m         \u001b[0m         \u001b[33mmax\u001b[0m\u001b[39m=\u001b[0m\u001b[3;35mNone\u001b[0m\u001b[1;39m)\u001b[0m\u001b[39m, \u001b[0m                                                                         \u001b[2m             \u001b[0m\n",
       "\u001b[2;36m         \u001b[0m         \u001b[1;35mRemoteFloatMetadataProperty\u001b[0m\u001b[1;39m(\u001b[0m\u001b[33mid\u001b[0m\u001b[39m=\u001b[0m\u001b[1;35mUUID\u001b[0m\u001b[1;39m(\u001b[0m\u001b[32m'95316c0a-ed0e-4eee-a802-b070c8647530'\u001b[0m\u001b[1;39m)\u001b[0m\u001b[39m, \u001b[0m       \u001b[2m             \u001b[0m\n",
       "\u001b[2;36m         \u001b[0m         \u001b[33mclient\u001b[0m\u001b[39m=<httpx.Client object at \u001b[0m\u001b[1;36m0x7dae81eff640\u001b[0m\u001b[39m>, \u001b[0m\u001b[33mname\u001b[0m\u001b[39m=\u001b[0m\u001b[32m'input_entropy'\u001b[0m\u001b[39m, \u001b[0m\u001b[33mtitle\u001b[0m\u001b[39m=\u001b[0m\u001b[32m'Input \u001b[0m \u001b[2m             \u001b[0m\n",
       "\u001b[2;36m         \u001b[0m         \u001b[32mEntropy'\u001b[0m\u001b[39m, \u001b[0m\u001b[33mvisible_for_annotators\u001b[0m\u001b[39m=\u001b[0m\u001b[3;92mTrue\u001b[0m\u001b[39m, \u001b[0m\u001b[33mtype\u001b[0m\u001b[39m=\u001b[0m\u001b[32m'float'\u001b[0m\u001b[39m, \u001b[0m\u001b[33mmin\u001b[0m\u001b[39m=\u001b[0m\u001b[3;35mNone\u001b[0m\u001b[39m, \u001b[0m\u001b[33mmax\u001b[0m\u001b[39m=\u001b[0m\u001b[3;35mNone\u001b[0m\u001b[1;39m)\u001b[0m\u001b[39m, \u001b[0m          \u001b[2m             \u001b[0m\n",
       "\u001b[2;36m         \u001b[0m         \u001b[1;35mRemoteFloatMetadataProperty\u001b[0m\u001b[1;39m(\u001b[0m\u001b[33mid\u001b[0m\u001b[39m=\u001b[0m\u001b[1;35mUUID\u001b[0m\u001b[1;39m(\u001b[0m\u001b[32m'194e8892-9479-4949-859f-72f8f968089b'\u001b[0m\u001b[1;39m)\u001b[0m\u001b[39m, \u001b[0m       \u001b[2m             \u001b[0m\n",
       "\u001b[2;36m         \u001b[0m         \u001b[33mclient\u001b[0m\u001b[39m=<httpx.Client object at \u001b[0m\u001b[1;36m0x7dae81eff640\u001b[0m\u001b[39m>, \u001b[0m\u001b[33mname\u001b[0m\u001b[39m=\u001b[0m\u001b[32m'input_flesch_reading_ease'\u001b[0m\u001b[39m, \u001b[0m  \u001b[2m             \u001b[0m\n",
       "\u001b[2;36m         \u001b[0m         \u001b[33mtitle\u001b[0m\u001b[39m=\u001b[0m\u001b[32m'Input Flesch Reading Ease'\u001b[0m\u001b[39m, \u001b[0m\u001b[33mvisible_for_annotators\u001b[0m\u001b[39m=\u001b[0m\u001b[3;92mTrue\u001b[0m\u001b[39m, \u001b[0m\u001b[33mtype\u001b[0m\u001b[39m=\u001b[0m\u001b[32m'float'\u001b[0m\u001b[39m, \u001b[0m      \u001b[2m             \u001b[0m\n",
       "\u001b[2;36m         \u001b[0m         \u001b[33mmin\u001b[0m\u001b[39m=\u001b[0m\u001b[3;35mNone\u001b[0m\u001b[39m, \u001b[0m\u001b[33mmax\u001b[0m\u001b[39m=\u001b[0m\u001b[3;35mNone\u001b[0m\u001b[1;39m)\u001b[0m\u001b[39m, \u001b[0m                                                               \u001b[2m             \u001b[0m\n",
       "\u001b[2;36m         \u001b[0m         \u001b[1;35mRemoteIntegerMetadataProperty\u001b[0m\u001b[1;39m(\u001b[0m\u001b[33mid\u001b[0m\u001b[39m=\u001b[0m\u001b[1;35mUUID\u001b[0m\u001b[1;39m(\u001b[0m\u001b[32m'a9ef9f93-2f66-4f96-be4f-9cc6f2bec8df'\u001b[0m\u001b[1;39m)\u001b[0m\u001b[39m, \u001b[0m     \u001b[2m             \u001b[0m\n",
       "\u001b[2;36m         \u001b[0m         \u001b[33mclient\u001b[0m\u001b[39m=<httpx.Client object at \u001b[0m\u001b[1;36m0x7dae81eff640\u001b[0m\u001b[39m>, \u001b[0m\u001b[33mname\u001b[0m\u001b[39m=\u001b[0m\u001b[32m'instructions_n_tokens'\u001b[0m\u001b[39m, \u001b[0m      \u001b[2m             \u001b[0m\n",
       "\u001b[2;36m         \u001b[0m         \u001b[33mtitle\u001b[0m\u001b[39m=\u001b[0m\u001b[32m'Instructions N Tokens'\u001b[0m\u001b[39m, \u001b[0m\u001b[33mvisible_for_annotators\u001b[0m\u001b[39m=\u001b[0m\u001b[3;92mTrue\u001b[0m\u001b[39m, \u001b[0m\u001b[33mtype\u001b[0m\u001b[39m=\u001b[0m\u001b[32m'integer'\u001b[0m\u001b[39m, \u001b[0m        \u001b[2m             \u001b[0m\n",
       "\u001b[2;36m         \u001b[0m         \u001b[33mmin\u001b[0m\u001b[39m=\u001b[0m\u001b[3;35mNone\u001b[0m\u001b[39m, \u001b[0m\u001b[33mmax\u001b[0m\u001b[39m=\u001b[0m\u001b[3;35mNone\u001b[0m\u001b[1;39m)\u001b[0m\u001b[39m, \u001b[0m                                                               \u001b[2m             \u001b[0m\n",
       "\u001b[2;36m         \u001b[0m         \u001b[1;35mRemoteIntegerMetadataProperty\u001b[0m\u001b[1;39m(\u001b[0m\u001b[33mid\u001b[0m\u001b[39m=\u001b[0m\u001b[1;35mUUID\u001b[0m\u001b[1;39m(\u001b[0m\u001b[32m'6efb82c5-0ee1-48ef-961f-ea713c7bb2d4'\u001b[0m\u001b[1;39m)\u001b[0m\u001b[39m, \u001b[0m     \u001b[2m             \u001b[0m\n",
       "\u001b[2;36m         \u001b[0m         \u001b[33mclient\u001b[0m\u001b[39m=<httpx.Client object at \u001b[0m\u001b[1;36m0x7dae81eff640\u001b[0m\u001b[39m>, \u001b[0m                                    \u001b[2m             \u001b[0m\n",
       "\u001b[2;36m         \u001b[0m         \u001b[33mname\u001b[0m\u001b[39m=\u001b[0m\u001b[32m'instructions_n_unique_tokens'\u001b[0m\u001b[39m, \u001b[0m\u001b[33mtitle\u001b[0m\u001b[39m=\u001b[0m\u001b[32m'Instructions N Unique Tokens'\u001b[0m\u001b[39m, \u001b[0m         \u001b[2m             \u001b[0m\n",
       "\u001b[2;36m         \u001b[0m         \u001b[33mvisible_for_annotators\u001b[0m\u001b[39m=\u001b[0m\u001b[3;92mTrue\u001b[0m\u001b[39m, \u001b[0m\u001b[33mtype\u001b[0m\u001b[39m=\u001b[0m\u001b[32m'integer'\u001b[0m\u001b[39m, \u001b[0m\u001b[33mmin\u001b[0m\u001b[39m=\u001b[0m\u001b[3;35mNone\u001b[0m\u001b[39m, \u001b[0m\u001b[33mmax\u001b[0m\u001b[39m=\u001b[0m\u001b[3;35mNone\u001b[0m\u001b[1;39m)\u001b[0m\u001b[39m, \u001b[0m                  \u001b[2m             \u001b[0m\n",
       "\u001b[2;36m         \u001b[0m         \u001b[1;35mRemoteIntegerMetadataProperty\u001b[0m\u001b[1;39m(\u001b[0m\u001b[33mid\u001b[0m\u001b[39m=\u001b[0m\u001b[1;35mUUID\u001b[0m\u001b[1;39m(\u001b[0m\u001b[32m'f4333090-8039-464e-b628-feff64ae75a7'\u001b[0m\u001b[1;39m)\u001b[0m\u001b[39m, \u001b[0m     \u001b[2m             \u001b[0m\n",
       "\u001b[2;36m         \u001b[0m         \u001b[33mclient\u001b[0m\u001b[39m=<httpx.Client object at \u001b[0m\u001b[1;36m0x7dae81eff640\u001b[0m\u001b[39m>, \u001b[0m\u001b[33mname\u001b[0m\u001b[39m=\u001b[0m\u001b[32m'instructions_n_sentences'\u001b[0m\u001b[39m, \u001b[0m   \u001b[2m             \u001b[0m\n",
       "\u001b[2;36m         \u001b[0m         \u001b[33mtitle\u001b[0m\u001b[39m=\u001b[0m\u001b[32m'Instructions N Sentences'\u001b[0m\u001b[39m, \u001b[0m\u001b[33mvisible_for_annotators\u001b[0m\u001b[39m=\u001b[0m\u001b[3;92mTrue\u001b[0m\u001b[39m, \u001b[0m\u001b[33mtype\u001b[0m\u001b[39m=\u001b[0m\u001b[32m'integer'\u001b[0m\u001b[39m, \u001b[0m     \u001b[2m             \u001b[0m\n",
       "\u001b[2;36m         \u001b[0m         \u001b[33mmin\u001b[0m\u001b[39m=\u001b[0m\u001b[3;35mNone\u001b[0m\u001b[39m, \u001b[0m\u001b[33mmax\u001b[0m\u001b[39m=\u001b[0m\u001b[3;35mNone\u001b[0m\u001b[1;39m)\u001b[0m\u001b[39m, \u001b[0m                                                               \u001b[2m             \u001b[0m\n",
       "\u001b[2;36m         \u001b[0m         \u001b[1;35mRemoteFloatMetadataProperty\u001b[0m\u001b[1;39m(\u001b[0m\u001b[33mid\u001b[0m\u001b[39m=\u001b[0m\u001b[1;35mUUID\u001b[0m\u001b[1;39m(\u001b[0m\u001b[32m'c9d98b46-28a0-4b46-99b5-9004c091841c'\u001b[0m\u001b[1;39m)\u001b[0m\u001b[39m, \u001b[0m       \u001b[2m             \u001b[0m\n",
       "\u001b[2;36m         \u001b[0m         \u001b[33mclient\u001b[0m\u001b[39m=<httpx.Client object at \u001b[0m\u001b[1;36m0x7dae81eff640\u001b[0m\u001b[39m>, \u001b[0m\u001b[33mname\u001b[0m\u001b[39m=\u001b[0m\u001b[32m'instructions_perplexity'\u001b[0m\u001b[39m, \u001b[0m    \u001b[2m             \u001b[0m\n",
       "\u001b[2;36m         \u001b[0m         \u001b[33mtitle\u001b[0m\u001b[39m=\u001b[0m\u001b[32m'Instructions Perplexity'\u001b[0m\u001b[39m, \u001b[0m\u001b[33mvisible_for_annotators\u001b[0m\u001b[39m=\u001b[0m\u001b[3;92mTrue\u001b[0m\u001b[39m, \u001b[0m\u001b[33mtype\u001b[0m\u001b[39m=\u001b[0m\u001b[32m'float'\u001b[0m\u001b[39m, \u001b[0m        \u001b[2m             \u001b[0m\n",
       "\u001b[2;36m         \u001b[0m         \u001b[33mmin\u001b[0m\u001b[39m=\u001b[0m\u001b[3;35mNone\u001b[0m\u001b[39m, \u001b[0m\u001b[33mmax\u001b[0m\u001b[39m=\u001b[0m\u001b[3;35mNone\u001b[0m\u001b[1;39m)\u001b[0m\u001b[39m, \u001b[0m                                                               \u001b[2m             \u001b[0m\n",
       "\u001b[2;36m         \u001b[0m         \u001b[1;35mRemoteFloatMetadataProperty\u001b[0m\u001b[1;39m(\u001b[0m\u001b[33mid\u001b[0m\u001b[39m=\u001b[0m\u001b[1;35mUUID\u001b[0m\u001b[1;39m(\u001b[0m\u001b[32m'32c2ff04-57c1-446d-8588-f9eae42b92c3'\u001b[0m\u001b[1;39m)\u001b[0m\u001b[39m, \u001b[0m       \u001b[2m             \u001b[0m\n",
       "\u001b[2;36m         \u001b[0m         \u001b[33mclient\u001b[0m\u001b[39m=<httpx.Client object at \u001b[0m\u001b[1;36m0x7dae81eff640\u001b[0m\u001b[39m>, \u001b[0m\u001b[33mname\u001b[0m\u001b[39m=\u001b[0m\u001b[32m'instructions_entropy'\u001b[0m\u001b[39m, \u001b[0m       \u001b[2m             \u001b[0m\n",
       "\u001b[2;36m         \u001b[0m         \u001b[33mtitle\u001b[0m\u001b[39m=\u001b[0m\u001b[32m'Instructions Entropy'\u001b[0m\u001b[39m, \u001b[0m\u001b[33mvisible_for_annotators\u001b[0m\u001b[39m=\u001b[0m\u001b[3;92mTrue\u001b[0m\u001b[39m, \u001b[0m\u001b[33mtype\u001b[0m\u001b[39m=\u001b[0m\u001b[32m'float'\u001b[0m\u001b[39m, \u001b[0m\u001b[33mmin\u001b[0m\u001b[39m=\u001b[0m\u001b[3;35mNone\u001b[0m\u001b[39m, \u001b[0m \u001b[2m             \u001b[0m\n",
       "\u001b[2;36m         \u001b[0m         \u001b[33mmax\u001b[0m\u001b[39m=\u001b[0m\u001b[3;35mNone\u001b[0m\u001b[1;39m)\u001b[0m\u001b[39m, \u001b[0m                                                                         \u001b[2m             \u001b[0m\n",
       "\u001b[2;36m         \u001b[0m         \u001b[1;35mRemoteFloatMetadataProperty\u001b[0m\u001b[1;39m(\u001b[0m\u001b[33mid\u001b[0m\u001b[39m=\u001b[0m\u001b[1;35mUUID\u001b[0m\u001b[1;39m(\u001b[0m\u001b[32m'2a0c92f5-72d3-44ff-aa3a-dc9045b7815c'\u001b[0m\u001b[1;39m)\u001b[0m\u001b[39m, \u001b[0m       \u001b[2m             \u001b[0m\n",
       "\u001b[2;36m         \u001b[0m         \u001b[33mclient\u001b[0m\u001b[39m=<httpx.Client object at \u001b[0m\u001b[1;36m0x7dae81eff640\u001b[0m\u001b[1m>\u001b[0m,                                     \u001b[2m             \u001b[0m\n",
       "\u001b[2;36m         \u001b[0m         \u001b[33mname\u001b[0m=\u001b[32m'instructions_flesch_reading_ease'\u001b[0m, \u001b[33mtitle\u001b[0m=\u001b[32m'Instructions Flesch Reading Ease'\u001b[0m,  \u001b[2m             \u001b[0m\n",
       "\u001b[2;36m         \u001b[0m         \u001b[33mvisible_for_annotators\u001b[0m=\u001b[3;92mTrue\u001b[0m, \u001b[33mtype\u001b[0m=\u001b[32m'float'\u001b[0m, \u001b[33mmin\u001b[0m=\u001b[3;35mNone\u001b[0m, \u001b[33mmax\u001b[0m=\u001b[3;35mNone\u001b[0m\u001b[1m)\u001b[0m\u001b[1m]\u001b[0m                     \u001b[2m             \u001b[0m\n",
       "\u001b[2;36m         \u001b[0m            \u001b[33mvectors_settings\u001b[0m=\u001b[1m[\u001b[0m\u001b[1;35mRemoteVectorSettings\u001b[0m\u001b[1m(\u001b[0m\u001b[33mname\u001b[0m=\u001b[32m'input'\u001b[0m, \u001b[33mtitle\u001b[0m=\u001b[32m'input'\u001b[0m,              \u001b[2m             \u001b[0m\n",
       "\u001b[2;36m         \u001b[0m         \u001b[33mdimensions\u001b[0m=\u001b[1;36m384\u001b[0m, \u001b[33mid\u001b[0m=\u001b[1;35mUUID\u001b[0m\u001b[1m(\u001b[0m\u001b[32m'5d6b43da-e1a8-4c46-82d0-0739ba78990a'\u001b[0m\u001b[1m)\u001b[0m,                    \u001b[2m             \u001b[0m\n",
       "\u001b[2;36m         \u001b[0m         \u001b[33minserted_at\u001b[0m=\u001b[1;35mdatetime\u001b[0m\u001b[1;35m.datetime\u001b[0m\u001b[1m(\u001b[0m\u001b[1;36m2024\u001b[0m, \u001b[1;36m3\u001b[0m, \u001b[1;36m20\u001b[0m, \u001b[1;36m14\u001b[0m, \u001b[1;36m43\u001b[0m, \u001b[1;36m12\u001b[0m, \u001b[1;36m304046\u001b[0m\u001b[1m)\u001b[0m,                     \u001b[2m             \u001b[0m\n",
       "\u001b[2;36m         \u001b[0m         \u001b[33mupdated_at\u001b[0m=\u001b[1;35mdatetime\u001b[0m\u001b[1;35m.datetime\u001b[0m\u001b[1m(\u001b[0m\u001b[1;36m2024\u001b[0m, \u001b[1;36m3\u001b[0m, \u001b[1;36m20\u001b[0m, \u001b[1;36m14\u001b[0m, \u001b[1;36m43\u001b[0m, \u001b[1;36m12\u001b[0m, \u001b[1;36m304046\u001b[0m\u001b[1m)\u001b[0m\u001b[1m)\u001b[0m,                     \u001b[2m             \u001b[0m\n",
       "\u001b[2;36m         \u001b[0m         \u001b[1;35mRemoteVectorSettings\u001b[0m\u001b[1m(\u001b[0m\u001b[33mname\u001b[0m=\u001b[32m'instructions'\u001b[0m, \u001b[33mtitle\u001b[0m=\u001b[32m'instructions'\u001b[0m, \u001b[33mdimensions\u001b[0m=\u001b[1;36m384\u001b[0m,     \u001b[2m             \u001b[0m\n",
       "\u001b[2;36m         \u001b[0m         \u001b[33mid\u001b[0m=\u001b[1;35mUUID\u001b[0m\u001b[1m(\u001b[0m\u001b[32m'5b88e2ba-88ac-4453-b5b4-bf13e023f08a'\u001b[0m\u001b[1m)\u001b[0m,                                    \u001b[2m             \u001b[0m\n",
       "\u001b[2;36m         \u001b[0m         \u001b[33minserted_at\u001b[0m=\u001b[1;35mdatetime\u001b[0m\u001b[1;35m.datetime\u001b[0m\u001b[1m(\u001b[0m\u001b[1;36m2024\u001b[0m, \u001b[1;36m3\u001b[0m, \u001b[1;36m20\u001b[0m, \u001b[1;36m14\u001b[0m, \u001b[1;36m43\u001b[0m, \u001b[1;36m12\u001b[0m, \u001b[1;36m486750\u001b[0m\u001b[1m)\u001b[0m,                     \u001b[2m             \u001b[0m\n",
       "\u001b[2;36m         \u001b[0m         \u001b[33mupdated_at\u001b[0m=\u001b[1;35mdatetime\u001b[0m\u001b[1;35m.datetime\u001b[0m\u001b[1m(\u001b[0m\u001b[1;36m2024\u001b[0m, \u001b[1;36m3\u001b[0m, \u001b[1;36m20\u001b[0m, \u001b[1;36m14\u001b[0m, \u001b[1;36m43\u001b[0m, \u001b[1;36m12\u001b[0m, \u001b[1;36m486750\u001b[0m\u001b[1m)\u001b[0m\u001b[1m)\u001b[0m\u001b[1m]\u001b[0m                     \u001b[2m             \u001b[0m\n",
       "\u001b[2;36m         \u001b[0m         \u001b[1m)\u001b[0m                                                                                   \u001b[2m             \u001b[0m\n"
      ]
     },
     "metadata": {},
     "output_type": "display_data"
    },
    {
     "name": "stdout",
     "output_type": "stream",
     "text": [
      "\u001b[1;35mRemoteFeedbackDataset(\n",
      "   id=f7ad81b5-a82e-49a5-9497-faccf1fdb6cd\n",
      "   name=ollama_instructions\n",
      "   workspace=Workspace(id=a4eef5c0-a51c-4cce-81a7-8c5b23ce6afa, name=admin, inserted_at=2024-03-20 12:52:24.433299, updated_at=2024-03-20 12:52:24.433299)\n",
      "   url=https://strickvl-argilla.hf.space/dataset/f7ad81b5-a82e-49a5-9497-faccf1fdb6cd/annotation-mode\n",
      "   fields=[RemoteTextField(id=UUID('e220a39e-6de1-4e04-8e95-4493910e0def'), client=None, name='input', title='input', required=True, type='text', use_markdown=True), RemoteTextField(id=UUID('5facf295-2d48-4eca-b20c-3697433c4310'), client=None, name='instructions', title='instructions', required=True, type='text', use_markdown=False)]\n",
      "   questions=[RemoteRatingQuestion(id=UUID('78614ca7-ec9c-43cf-b604-4c20c6d1b77b'), client=None, name='instruction-rating', title='How would you rate the generated instruction?', description=None, required=True, type='rating', values=[1, 2, 3, 4, 5, 6, 7, 8, 9, 10])]\n",
      "   guidelines=None\n",
      "   metadata_properties=[RemoteIntegerMetadataProperty(id=UUID('eefb7081-ff5d-4d32-9451-563552758f96'), client=<httpx.Client object at 0x7dae81eff640>, name='length-input', title='length-input', visible_for_annotators=True, type='integer', min=None, max=None), RemoteIntegerMetadataProperty(id=UUID('1bc96ffd-63d5-4d1d-a996-a42d7f5ef2c0'), client=<httpx.Client object at 0x7dae81eff640>, name='length-instruction', title='length-instruction', visible_for_annotators=True, type='integer', min=None, max=None), RemoteIntegerMetadataProperty(id=UUID('d3ab74f9-1b13-407e-9ffd-f9f308c40534'), client=<httpx.Client object at 0x7dae81eff640>, name='input_n_tokens', title='Input N Tokens', visible_for_annotators=True, type='integer', min=None, max=None), RemoteIntegerMetadataProperty(id=UUID('34687791-a6a3-454c-b5d1-bfd9e58fa0a8'), client=<httpx.Client object at 0x7dae81eff640>, name='input_n_unique_tokens', title='Input N Unique Tokens', visible_for_annotators=True, type='integer', min=None, max=None), RemoteIntegerMetadataProperty(id=UUID('c28fd479-cf78-4ee1-a2cf-5c0fc7dd96ad'), client=<httpx.Client object at 0x7dae81eff640>, name='input_n_sentences', title='Input N Sentences', visible_for_annotators=True, type='integer', min=None, max=None), RemoteFloatMetadataProperty(id=UUID('76722fe8-f4e7-4896-8698-41c4e65513b7'), client=<httpx.Client object at 0x7dae81eff640>, name='input_perplexity', title='Input Perplexity', visible_for_annotators=True, type='float', min=None, max=None), RemoteFloatMetadataProperty(id=UUID('95316c0a-ed0e-4eee-a802-b070c8647530'), client=<httpx.Client object at 0x7dae81eff640>, name='input_entropy', title='Input Entropy', visible_for_annotators=True, type='float', min=None, max=None), RemoteFloatMetadataProperty(id=UUID('194e8892-9479-4949-859f-72f8f968089b'), client=<httpx.Client object at 0x7dae81eff640>, name='input_flesch_reading_ease', title='Input Flesch Reading Ease', visible_for_annotators=True, type='float', min=None, max=None), RemoteIntegerMetadataProperty(id=UUID('a9ef9f93-2f66-4f96-be4f-9cc6f2bec8df'), client=<httpx.Client object at 0x7dae81eff640>, name='instructions_n_tokens', title='Instructions N Tokens', visible_for_annotators=True, type='integer', min=None, max=None), RemoteIntegerMetadataProperty(id=UUID('6efb82c5-0ee1-48ef-961f-ea713c7bb2d4'), client=<httpx.Client object at 0x7dae81eff640>, name='instructions_n_unique_tokens', title='Instructions N Unique Tokens', visible_for_annotators=True, type='integer', min=None, max=None), RemoteIntegerMetadataProperty(id=UUID('f4333090-8039-464e-b628-feff64ae75a7'), client=<httpx.Client object at 0x7dae81eff640>, name='instructions_n_sentences', title='Instructions N Sentences', visible_for_annotators=True, type='integer', min=None, max=None), RemoteFloatMetadataProperty(id=UUID('c9d98b46-28a0-4b46-99b5-9004c091841c'), client=<httpx.Client object at 0x7dae81eff640>, name='instructions_perplexity', title='Instructions Perplexity', visible_for_annotators=True, type='float', min=None, max=None), RemoteFloatMetadataProperty(id=UUID('32c2ff04-57c1-446d-8588-f9eae42b92c3'), client=<httpx.Client object at 0x7dae81eff640>, name='instructions_entropy', title='Instructions Entropy', visible_for_annotators=True, type='float', min=None, max=None), RemoteFloatMetadataProperty(id=UUID('2a0c92f5-72d3-44ff-aa3a-dc9045b7815c'), client=<httpx.Client object at 0x7dae81eff640>, name='instructions_flesch_reading_ease', title='Instructions Flesch Reading Ease', visible_for_annotators=True, type='float', min=None, max=None)]\n",
      "   vectors_settings=[RemoteVectorSettings(name='input', title='input', dimensions=384, id=UUID('5d6b43da-e1a8-4c46-82d0-0739ba78990a'), inserted_at=datetime.datetime(2024, 3, 20, 14, 43, 12, 304046), updated_at=datetime.datetime(2024, 3, 20, 14, 43, 12, 304046)), RemoteVectorSettings(name='instructions', title='instructions', dimensions=384, id=UUID('5b88e2ba-88ac-4453-b5b4-bf13e023f08a'), inserted_at=datetime.datetime(2024, 3, 20, 14, 43, 12, 486750), updated_at=datetime.datetime(2024, 3, 20, 14, 43, 12, 486750))]\n",
      ")\u001b[0m\n"
     ]
    },
    {
     "data": {
      "text/plain": [
       "RemoteFeedbackDataset(\n",
       "   id=f7ad81b5-a82e-49a5-9497-faccf1fdb6cd\n",
       "   name=ollama_instructions\n",
       "   workspace=Workspace(id=a4eef5c0-a51c-4cce-81a7-8c5b23ce6afa, name=admin, inserted_at=2024-03-20 12:52:24.433299, updated_at=2024-03-20 12:52:24.433299)\n",
       "   url=https://strickvl-argilla.hf.space/dataset/f7ad81b5-a82e-49a5-9497-faccf1fdb6cd/annotation-mode\n",
       "   fields=[RemoteTextField(id=UUID('e220a39e-6de1-4e04-8e95-4493910e0def'), client=None, name='input', title='input', required=True, type='text', use_markdown=True), RemoteTextField(id=UUID('5facf295-2d48-4eca-b20c-3697433c4310'), client=None, name='instructions', title='instructions', required=True, type='text', use_markdown=False)]\n",
       "   questions=[RemoteRatingQuestion(id=UUID('78614ca7-ec9c-43cf-b604-4c20c6d1b77b'), client=None, name='instruction-rating', title='How would you rate the generated instruction?', description=None, required=True, type='rating', values=[1, 2, 3, 4, 5, 6, 7, 8, 9, 10])]\n",
       "   guidelines=None\n",
       "   metadata_properties=[RemoteIntegerMetadataProperty(id=UUID('eefb7081-ff5d-4d32-9451-563552758f96'), client=<httpx.Client object at 0x7dae81eff640>, name='length-input', title='length-input', visible_for_annotators=True, type='integer', min=None, max=None), RemoteIntegerMetadataProperty(id=UUID('1bc96ffd-63d5-4d1d-a996-a42d7f5ef2c0'), client=<httpx.Client object at 0x7dae81eff640>, name='length-instruction', title='length-instruction', visible_for_annotators=True, type='integer', min=None, max=None), RemoteIntegerMetadataProperty(id=UUID('d3ab74f9-1b13-407e-9ffd-f9f308c40534'), client=<httpx.Client object at 0x7dae81eff640>, name='input_n_tokens', title='Input N Tokens', visible_for_annotators=True, type='integer', min=None, max=None), RemoteIntegerMetadataProperty(id=UUID('34687791-a6a3-454c-b5d1-bfd9e58fa0a8'), client=<httpx.Client object at 0x7dae81eff640>, name='input_n_unique_tokens', title='Input N Unique Tokens', visible_for_annotators=True, type='integer', min=None, max=None), RemoteIntegerMetadataProperty(id=UUID('c28fd479-cf78-4ee1-a2cf-5c0fc7dd96ad'), client=<httpx.Client object at 0x7dae81eff640>, name='input_n_sentences', title='Input N Sentences', visible_for_annotators=True, type='integer', min=None, max=None), RemoteFloatMetadataProperty(id=UUID('76722fe8-f4e7-4896-8698-41c4e65513b7'), client=<httpx.Client object at 0x7dae81eff640>, name='input_perplexity', title='Input Perplexity', visible_for_annotators=True, type='float', min=None, max=None), RemoteFloatMetadataProperty(id=UUID('95316c0a-ed0e-4eee-a802-b070c8647530'), client=<httpx.Client object at 0x7dae81eff640>, name='input_entropy', title='Input Entropy', visible_for_annotators=True, type='float', min=None, max=None), RemoteFloatMetadataProperty(id=UUID('194e8892-9479-4949-859f-72f8f968089b'), client=<httpx.Client object at 0x7dae81eff640>, name='input_flesch_reading_ease', title='Input Flesch Reading Ease', visible_for_annotators=True, type='float', min=None, max=None), RemoteIntegerMetadataProperty(id=UUID('a9ef9f93-2f66-4f96-be4f-9cc6f2bec8df'), client=<httpx.Client object at 0x7dae81eff640>, name='instructions_n_tokens', title='Instructions N Tokens', visible_for_annotators=True, type='integer', min=None, max=None), RemoteIntegerMetadataProperty(id=UUID('6efb82c5-0ee1-48ef-961f-ea713c7bb2d4'), client=<httpx.Client object at 0x7dae81eff640>, name='instructions_n_unique_tokens', title='Instructions N Unique Tokens', visible_for_annotators=True, type='integer', min=None, max=None), RemoteIntegerMetadataProperty(id=UUID('f4333090-8039-464e-b628-feff64ae75a7'), client=<httpx.Client object at 0x7dae81eff640>, name='instructions_n_sentences', title='Instructions N Sentences', visible_for_annotators=True, type='integer', min=None, max=None), RemoteFloatMetadataProperty(id=UUID('c9d98b46-28a0-4b46-99b5-9004c091841c'), client=<httpx.Client object at 0x7dae81eff640>, name='instructions_perplexity', title='Instructions Perplexity', visible_for_annotators=True, type='float', min=None, max=None), RemoteFloatMetadataProperty(id=UUID('32c2ff04-57c1-446d-8588-f9eae42b92c3'), client=<httpx.Client object at 0x7dae81eff640>, name='instructions_entropy', title='Instructions Entropy', visible_for_annotators=True, type='float', min=None, max=None), RemoteFloatMetadataProperty(id=UUID('2a0c92f5-72d3-44ff-aa3a-dc9045b7815c'), client=<httpx.Client object at 0x7dae81eff640>, name='instructions_flesch_reading_ease', title='Instructions Flesch Reading Ease', visible_for_annotators=True, type='float', min=None, max=None)]\n",
       "   vectors_settings=[RemoteVectorSettings(name='input', title='input', dimensions=384, id=UUID('5d6b43da-e1a8-4c46-82d0-0739ba78990a'), inserted_at=datetime.datetime(2024, 3, 20, 14, 43, 12, 304046), updated_at=datetime.datetime(2024, 3, 20, 14, 43, 12, 304046)), RemoteVectorSettings(name='instructions', title='instructions', dimensions=384, id=UUID('5b88e2ba-88ac-4453-b5b4-bf13e023f08a'), inserted_at=datetime.datetime(2024, 3, 20, 14, 43, 12, 486750), updated_at=datetime.datetime(2024, 3, 20, 14, 43, 12, 486750))]\n",
       ")"
      ]
     },
     "execution_count": 22,
     "metadata": {},
     "output_type": "execute_result"
    }
   ],
   "source": [
    "instructions_rg_dataset.push_to_argilla(name=f\"ollama_instructions\", workspace=\"admin\")"
   ]
  },
  {
   "cell_type": "code",
   "execution_count": 8,
   "metadata": {},
   "outputs": [
    {
     "data": {
      "text/html": [
       "<pre style=\"white-space:pre;overflow-x:auto;line-height:normal;font-family:Menlo,'DejaVu Sans Mono',consolas,'Courier New',monospace\"><span style=\"color: #7fbfbf; text-decoration-color: #7fbfbf\">15:51:13 </span><span style=\"color: #000080; text-decoration-color: #000080\">INFO    </span> <span style=\"font-weight: bold\">[</span>PID: <span style=\"color: #008080; text-decoration-color: #008080; font-weight: bold\">12332</span><span style=\"font-weight: bold\">]</span> Since no `labeller` was provided, `OpenAILLM` will be used as the    <a href=\"file:///home/strickvl/coding/zenml-projects/llm-lora-finetuning/datagen/lib/python3.10/site-packages/distilabel/pipeline.py\" target=\"_blank\"><span style=\"color: #7f7f7f; text-decoration-color: #7f7f7f\">pipeline.py</span></a><span style=\"color: #7f7f7f; text-decoration-color: #7f7f7f\">:</span><a href=\"file:///home/strickvl/coding/zenml-projects/llm-lora-finetuning/datagen/lib/python3.10/site-packages/distilabel/pipeline.py#838\" target=\"_blank\"><span style=\"color: #7f7f7f; text-decoration-color: #7f7f7f\">838</span></a>\n",
       "<span style=\"color: #7fbfbf; text-decoration-color: #7fbfbf\">         </span>         default labeller with `UltraFeedback`.                                            <span style=\"color: #7f7f7f; text-decoration-color: #7f7f7f\">               </span>\n",
       "</pre>\n"
      ],
      "text/plain": [
       "\u001b[2;36m15:51:13\u001b[0m\u001b[2;36m \u001b[0m\u001b[34mINFO    \u001b[0m \u001b[1m[\u001b[0mPID: \u001b[1;36m12332\u001b[0m\u001b[1m]\u001b[0m Since no `labeller` was provided, `OpenAILLM` will be used as the    \u001b]8;id=855322;file:///home/strickvl/coding/zenml-projects/llm-lora-finetuning/datagen/lib/python3.10/site-packages/distilabel/pipeline.py\u001b\\\u001b[2mpipeline.py\u001b[0m\u001b]8;;\u001b\\\u001b[2m:\u001b[0m\u001b]8;id=254582;file:///home/strickvl/coding/zenml-projects/llm-lora-finetuning/datagen/lib/python3.10/site-packages/distilabel/pipeline.py#838\u001b\\\u001b[2m838\u001b[0m\u001b]8;;\u001b\\\n",
       "\u001b[2;36m         \u001b[0m         default labeller with `UltraFeedback`.                                            \u001b[2m               \u001b[0m\n"
      ]
     },
     "metadata": {},
     "output_type": "display_data"
    }
   ],
   "source": [
    "preference_pipeline = pipeline(\n",
    "    \"preference\",\n",
    "    \"instruction-following\",\n",
    "    generator=OllamaLLM(\n",
    "        model=\"mixtral\",\n",
    "        task=TextGenerationTask(),\n",
    "        max_new_tokens=256,\n",
    "        num_threads=2,\n",
    "        temperature=0.3,\n",
    "    ),\n",
    "    max_new_tokens=256,\n",
    "    num_threads=2,\n",
    "    api_key=os.getenv(\"OPENAI_API_KEY\", None),\n",
    "    temperature=0.0,\n",
    ")"
   ]
  },
  {
   "cell_type": "code",
   "execution_count": 9,
   "metadata": {},
   "outputs": [
    {
     "data": {
      "text/plain": [
       "Dataset({\n",
       "    features: ['input', 'instructions', 'instruction-rating', 'instruction-rating-suggestion', 'instruction-rating-suggestion-metadata', 'external_id', 'metadata', 'vectors'],\n",
       "    num_rows: 100\n",
       "})"
      ]
     },
     "execution_count": 9,
     "metadata": {},
     "output_type": "execute_result"
    }
   ],
   "source": [
    "remote_dataset = rg.FeedbackDataset.from_argilla(\n",
    "    \"ollama_instructions\", workspace=\"admin\"\n",
    ")\n",
    "instructions_dataset = remote_dataset.pull(max_records=100)  # get first 100 records\n",
    "\n",
    "instructions_dataset = instructions_dataset.format_as(\"datasets\")\n",
    "instructions_dataset"
   ]
  },
  {
   "cell_type": "code",
   "execution_count": 10,
   "metadata": {},
   "outputs": [
    {
     "data": {
      "text/plain": [
       "{'input': 'An end-to-end project\\n\\nPut your new knowledge in action with an end-to-end project\\n\\nThat was awesome! We learned so many advanced MLOps production concepts:\\n\\nThe value of deploying ZenML\\u200b\\n\\nAbstracting infrastructure configuration into stacks\\u200b\\n\\n\\u200bConnecting remote storage\\u200b\\n\\n\\u200bOrchestrating on the cloud\\u200b\\n\\n\\u200bConfiguring the pipeline to scale compute\\u200b\\n\\n\\u200bConnecting a git repository\\u200b\\n\\nWe will now combine all of these concepts into an end-to-end MLOps project powered by ZenML.\\n\\nGet started\\n\\nStart with a fresh virtual environment with no dependencies. Then let\\'s install our dependencies:\\n\\npip install \"zenml[templates,server]\" notebook\\n\\nzenml integration install sklearn -y\\n\\nWe will then use\\n\\nZenML templates\\n\\nto help us get the code we need for the project:\\n\\nmkdir zenml_batch_e2e\\n\\ncd zenml_batch_e2e\\n\\nzenml init --template e2e_batch --template-with-defaults\\n\\n# Just in case, we install the requirements again\\n\\npip install -r requirements.txt\\n\\nAbove doesn\\'t work? Here is an alternative\\n\\nThe e2e template is also available as a\\n\\nZenML example\\n\\n.',\n",
       " 'instructions': '\"Can you walk me through the process of setting up a ZenML project using templates?\"',\n",
       " 'instruction-rating': [],\n",
       " 'instruction-rating-suggestion': None,\n",
       " 'instruction-rating-suggestion-metadata': {'type': None,\n",
       "  'score': None,\n",
       "  'agent': None},\n",
       " 'external_id': None,\n",
       " 'metadata': '{\"length-input\": 1042, \"length-instructions\": 84, \"generation-model\": \"mixtral\", \"input_n_tokens\": 181, \"input_n_unique_tokens\": 105, \"input_n_sentences\": 5, \"input_perplexity\": 74.96, \"input_entropy\": 4.32, \"input_flesch_reading_ease\": 42.49, \"instructions_n_tokens\": 15, \"instructions_n_unique_tokens\": 15, \"instructions_n_sentences\": 1, \"instructions_perplexity\": 1.55, \"instructions_entropy\": 0.44, \"instructions_flesch_reading_ease\": 78.81}',\n",
       " 'vectors': {'input': None, 'instructions': None}}"
      ]
     },
     "execution_count": 10,
     "metadata": {},
     "output_type": "execute_result"
    }
   ],
   "source": [
    "instructions_dataset[0]"
   ]
  },
  {
   "cell_type": "code",
   "execution_count": 12,
   "metadata": {},
   "outputs": [],
   "source": [
    "instructions_dataset = instructions_dataset.rename_columns({\"input\": \"context\", \"instructions\": \"input\"})"
   ]
  },
  {
   "cell_type": "code",
   "execution_count": 13,
   "metadata": {},
   "outputs": [
    {
     "data": {
      "text/html": [
       "<pre style=\"white-space:pre;overflow-x:auto;line-height:normal;font-family:Menlo,'DejaVu Sans Mono',consolas,'Courier New',monospace\"><span style=\"color: #7fbfbf; text-decoration-color: #7fbfbf\">15:52:52 </span><span style=\"color: #000080; text-decoration-color: #000080\">INFO    </span> <span style=\"font-weight: bold\">[</span>PID: <span style=\"color: #008080; text-decoration-color: #008080; font-weight: bold\">12332</span><span style=\"font-weight: bold\">]</span> Executing dry-run<span style=\"color: #808000; text-decoration-color: #808000\">...</span>                                                 <a href=\"file:///home/strickvl/coding/zenml-projects/llm-lora-finetuning/datagen/lib/python3.10/site-packages/distilabel/pipeline.py\" target=\"_blank\"><span style=\"color: #7f7f7f; text-decoration-color: #7f7f7f\">pipeline.py</span></a><span style=\"color: #7f7f7f; text-decoration-color: #7f7f7f\">:</span><a href=\"file:///home/strickvl/coding/zenml-projects/llm-lora-finetuning/datagen/lib/python3.10/site-packages/distilabel/pipeline.py#747\" target=\"_blank\"><span style=\"color: #7f7f7f; text-decoration-color: #7f7f7f\">747</span></a>\n",
       "</pre>\n"
      ],
      "text/plain": [
       "\u001b[2;36m15:52:52\u001b[0m\u001b[2;36m \u001b[0m\u001b[34mINFO    \u001b[0m \u001b[1m[\u001b[0mPID: \u001b[1;36m12332\u001b[0m\u001b[1m]\u001b[0m Executing dry-run\u001b[33m...\u001b[0m                                                 \u001b]8;id=804321;file:///home/strickvl/coding/zenml-projects/llm-lora-finetuning/datagen/lib/python3.10/site-packages/distilabel/pipeline.py\u001b\\\u001b[2mpipeline.py\u001b[0m\u001b]8;;\u001b\\\u001b[2m:\u001b[0m\u001b]8;id=470847;file:///home/strickvl/coding/zenml-projects/llm-lora-finetuning/datagen/lib/python3.10/site-packages/distilabel/pipeline.py#747\u001b\\\u001b[2m747\u001b[0m\u001b]8;;\u001b\\\n"
      ]
     },
     "metadata": {},
     "output_type": "display_data"
    },
    {
     "name": "stderr",
     "output_type": "stream",
     "text": [
      "/home/strickvl/coding/zenml-projects/llm-lora-finetuning/datagen/lib/python3.10/site-packages/distilabel/pipeline.py:680: UserWarning: Provided `num_generations=1` which implies that the `generator` LLM will just run once, while the `labelling` LLM expects to receive a list of N inputs to label, where N is > 1. If this is not intended, make sure to set `num_generations` to a value higher or equal to 2.\n",
      "  return self._generate(\n"
     ]
    },
    {
     "data": {
      "text/html": [
       "<pre style=\"white-space:pre;overflow-x:auto;line-height:normal;font-family:Menlo,'DejaVu Sans Mono',consolas,'Courier New',monospace\"><span style=\"color: #7fbfbf; text-decoration-color: #7fbfbf\">         </span><span style=\"color: #000080; text-decoration-color: #000080\">INFO    </span> <span style=\"font-weight: bold\">[</span>PID: <span style=\"color: #008080; text-decoration-color: #008080; font-weight: bold\">12332</span><span style=\"font-weight: bold\">]</span> Processing batch <span style=\"color: #008080; text-decoration-color: #008080; font-weight: bold\">1</span> of <span style=\"color: #008080; text-decoration-color: #008080; font-weight: bold\">1</span><span style=\"color: #808000; text-decoration-color: #808000\">...</span>                                           <a href=\"file:///home/strickvl/coding/zenml-projects/llm-lora-finetuning/datagen/lib/python3.10/site-packages/distilabel/pipeline.py\" target=\"_blank\"><span style=\"color: #7f7f7f; text-decoration-color: #7f7f7f\">pipeline.py</span></a><span style=\"color: #7f7f7f; text-decoration-color: #7f7f7f\">:</span><a href=\"file:///home/strickvl/coding/zenml-projects/llm-lora-finetuning/datagen/lib/python3.10/site-packages/distilabel/pipeline.py#577\" target=\"_blank\"><span style=\"color: #7f7f7f; text-decoration-color: #7f7f7f\">577</span></a>\n",
       "</pre>\n"
      ],
      "text/plain": [
       "\u001b[2;36m        \u001b[0m\u001b[2;36m \u001b[0m\u001b[34mINFO    \u001b[0m \u001b[1m[\u001b[0mPID: \u001b[1;36m12332\u001b[0m\u001b[1m]\u001b[0m Processing batch \u001b[1;36m1\u001b[0m of \u001b[1;36m1\u001b[0m\u001b[33m...\u001b[0m                                           \u001b]8;id=217130;file:///home/strickvl/coding/zenml-projects/llm-lora-finetuning/datagen/lib/python3.10/site-packages/distilabel/pipeline.py\u001b\\\u001b[2mpipeline.py\u001b[0m\u001b]8;;\u001b\\\u001b[2m:\u001b[0m\u001b]8;id=832361;file:///home/strickvl/coding/zenml-projects/llm-lora-finetuning/datagen/lib/python3.10/site-packages/distilabel/pipeline.py#577\u001b\\\u001b[2m577\u001b[0m\u001b]8;;\u001b\\\n"
      ]
     },
     "metadata": {},
     "output_type": "display_data"
    },
    {
     "data": {
      "text/html": [
       "<pre style=\"white-space:pre;overflow-x:auto;line-height:normal;font-family:Menlo,'DejaVu Sans Mono',consolas,'Courier New',monospace\"><span style=\"color: #7fbfbf; text-decoration-color: #7fbfbf\">         </span><span style=\"color: #000080; text-decoration-color: #000080\">INFO    </span> <span style=\"font-weight: bold\">[</span>PID: <span style=\"color: #008080; text-decoration-color: #008080; font-weight: bold\">12332</span><span style=\"font-weight: bold\">]</span> Calling generator for batch <span style=\"color: #008080; text-decoration-color: #008080; font-weight: bold\">1</span><span style=\"color: #808000; text-decoration-color: #808000\">...</span>                                     <a href=\"file:///home/strickvl/coding/zenml-projects/llm-lora-finetuning/datagen/lib/python3.10/site-packages/distilabel/pipeline.py\" target=\"_blank\"><span style=\"color: #7f7f7f; text-decoration-color: #7f7f7f\">pipeline.py</span></a><span style=\"color: #7f7f7f; text-decoration-color: #7f7f7f\">:</span><a href=\"file:///home/strickvl/coding/zenml-projects/llm-lora-finetuning/datagen/lib/python3.10/site-packages/distilabel/pipeline.py#581\" target=\"_blank\"><span style=\"color: #7f7f7f; text-decoration-color: #7f7f7f\">581</span></a>\n",
       "</pre>\n"
      ],
      "text/plain": [
       "\u001b[2;36m        \u001b[0m\u001b[2;36m \u001b[0m\u001b[34mINFO    \u001b[0m \u001b[1m[\u001b[0mPID: \u001b[1;36m12332\u001b[0m\u001b[1m]\u001b[0m Calling generator for batch \u001b[1;36m1\u001b[0m\u001b[33m...\u001b[0m                                     \u001b]8;id=310356;file:///home/strickvl/coding/zenml-projects/llm-lora-finetuning/datagen/lib/python3.10/site-packages/distilabel/pipeline.py\u001b\\\u001b[2mpipeline.py\u001b[0m\u001b]8;;\u001b\\\u001b[2m:\u001b[0m\u001b]8;id=889364;file:///home/strickvl/coding/zenml-projects/llm-lora-finetuning/datagen/lib/python3.10/site-packages/distilabel/pipeline.py#581\u001b\\\u001b[2m581\u001b[0m\u001b]8;;\u001b\\\n"
      ]
     },
     "metadata": {},
     "output_type": "display_data"
    },
    {
     "data": {
      "text/html": [
       "<pre style=\"white-space:pre;overflow-x:auto;line-height:normal;font-family:Menlo,'DejaVu Sans Mono',consolas,'Courier New',monospace\"><span style=\"color: #7fbfbf; text-decoration-color: #7fbfbf\">15:53:00 </span><span style=\"color: #000080; text-decoration-color: #000080\">INFO    </span> <span style=\"font-weight: bold\">[</span>PID: <span style=\"color: #008080; text-decoration-color: #008080; font-weight: bold\">12332</span><span style=\"font-weight: bold\">]</span> Calling labeller for batch <span style=\"color: #008080; text-decoration-color: #008080; font-weight: bold\">1</span><span style=\"color: #808000; text-decoration-color: #808000\">...</span>                                      <a href=\"file:///home/strickvl/coding/zenml-projects/llm-lora-finetuning/datagen/lib/python3.10/site-packages/distilabel/pipeline.py\" target=\"_blank\"><span style=\"color: #7f7f7f; text-decoration-color: #7f7f7f\">pipeline.py</span></a><span style=\"color: #7f7f7f; text-decoration-color: #7f7f7f\">:</span><a href=\"file:///home/strickvl/coding/zenml-projects/llm-lora-finetuning/datagen/lib/python3.10/site-packages/distilabel/pipeline.py#612\" target=\"_blank\"><span style=\"color: #7f7f7f; text-decoration-color: #7f7f7f\">612</span></a>\n",
       "</pre>\n"
      ],
      "text/plain": [
       "\u001b[2;36m15:53:00\u001b[0m\u001b[2;36m \u001b[0m\u001b[34mINFO    \u001b[0m \u001b[1m[\u001b[0mPID: \u001b[1;36m12332\u001b[0m\u001b[1m]\u001b[0m Calling labeller for batch \u001b[1;36m1\u001b[0m\u001b[33m...\u001b[0m                                      \u001b]8;id=184238;file:///home/strickvl/coding/zenml-projects/llm-lora-finetuning/datagen/lib/python3.10/site-packages/distilabel/pipeline.py\u001b\\\u001b[2mpipeline.py\u001b[0m\u001b]8;;\u001b\\\u001b[2m:\u001b[0m\u001b]8;id=190390;file:///home/strickvl/coding/zenml-projects/llm-lora-finetuning/datagen/lib/python3.10/site-packages/distilabel/pipeline.py#612\u001b\\\u001b[2m612\u001b[0m\u001b]8;;\u001b\\\n"
      ]
     },
     "metadata": {},
     "output_type": "display_data"
    },
    {
     "data": {
      "text/html": [
       "<pre style=\"white-space:pre;overflow-x:auto;line-height:normal;font-family:Menlo,'DejaVu Sans Mono',consolas,'Courier New',monospace\">\n",
       "</pre>\n"
      ],
      "text/plain": [
       "\n"
      ]
     },
     "metadata": {},
     "output_type": "display_data"
    },
    {
     "data": {
      "application/vnd.jupyter.widget-view+json": {
       "model_id": "30c3b24cf37147c3bc083de7cf8ecf09",
       "version_major": 2,
       "version_minor": 0
      },
      "text/plain": [
       "Flattening the indices:   0%|          | 0/1 [00:00<?, ? examples/s]"
      ]
     },
     "metadata": {},
     "output_type": "display_data"
    },
    {
     "data": {
      "text/html": [
       "<pre style=\"white-space:pre;overflow-x:auto;line-height:normal;font-family:Menlo,'DejaVu Sans Mono',consolas,'Courier New',monospace\"><span style=\"color: #7fbfbf; text-decoration-color: #7fbfbf\">15:53:02 </span><span style=\"color: #000080; text-decoration-color: #000080\">INFO    </span> <span style=\"font-weight: bold\">[</span>PID: <span style=\"color: #008080; text-decoration-color: #008080; font-weight: bold\">12332</span><span style=\"font-weight: bold\">]</span> Dry-run executed with no issues. Starting the actual generation<span style=\"color: #808000; text-decoration-color: #808000\">...</span>   <a href=\"file:///home/strickvl/coding/zenml-projects/llm-lora-finetuning/datagen/lib/python3.10/site-packages/distilabel/pipeline.py\" target=\"_blank\"><span style=\"color: #7f7f7f; text-decoration-color: #7f7f7f\">pipeline.py</span></a><span style=\"color: #7f7f7f; text-decoration-color: #7f7f7f\">:</span><a href=\"file:///home/strickvl/coding/zenml-projects/llm-lora-finetuning/datagen/lib/python3.10/site-packages/distilabel/pipeline.py#749\" target=\"_blank\"><span style=\"color: #7f7f7f; text-decoration-color: #7f7f7f\">749</span></a>\n",
       "</pre>\n"
      ],
      "text/plain": [
       "\u001b[2;36m15:53:02\u001b[0m\u001b[2;36m \u001b[0m\u001b[34mINFO    \u001b[0m \u001b[1m[\u001b[0mPID: \u001b[1;36m12332\u001b[0m\u001b[1m]\u001b[0m Dry-run executed with no issues. Starting the actual generation\u001b[33m...\u001b[0m   \u001b]8;id=628402;file:///home/strickvl/coding/zenml-projects/llm-lora-finetuning/datagen/lib/python3.10/site-packages/distilabel/pipeline.py\u001b\\\u001b[2mpipeline.py\u001b[0m\u001b]8;;\u001b\\\u001b[2m:\u001b[0m\u001b]8;id=830461;file:///home/strickvl/coding/zenml-projects/llm-lora-finetuning/datagen/lib/python3.10/site-packages/distilabel/pipeline.py#749\u001b\\\u001b[2m749\u001b[0m\u001b]8;;\u001b\\\n"
      ]
     },
     "metadata": {},
     "output_type": "display_data"
    },
    {
     "data": {
      "application/vnd.jupyter.widget-view+json": {
       "model_id": "d6c6019bfcbd40a0b4ea190c02d0c4e6",
       "version_major": 2,
       "version_minor": 0
      },
      "text/plain": [
       "Output()"
      ]
     },
     "metadata": {},
     "output_type": "display_data"
    },
    {
     "data": {
      "text/html": [
       "<pre style=\"white-space:pre;overflow-x:auto;line-height:normal;font-family:Menlo,'DejaVu Sans Mono',consolas,'Courier New',monospace\"><span style=\"color: #7fbfbf; text-decoration-color: #7fbfbf\">         </span><span style=\"color: #000080; text-decoration-color: #000080\">INFO    </span> <span style=\"font-weight: bold\">[</span>PID: <span style=\"color: #008080; text-decoration-color: #008080; font-weight: bold\">12332</span><span style=\"font-weight: bold\">]</span> Processing batch <span style=\"color: #008080; text-decoration-color: #008080; font-weight: bold\">1</span> of <span style=\"color: #008080; text-decoration-color: #008080; font-weight: bold\">13</span><span style=\"color: #808000; text-decoration-color: #808000\">...</span>                                          <a href=\"file:///home/strickvl/coding/zenml-projects/llm-lora-finetuning/datagen/lib/python3.10/site-packages/distilabel/pipeline.py\" target=\"_blank\"><span style=\"color: #7f7f7f; text-decoration-color: #7f7f7f\">pipeline.py</span></a><span style=\"color: #7f7f7f; text-decoration-color: #7f7f7f\">:</span><a href=\"file:///home/strickvl/coding/zenml-projects/llm-lora-finetuning/datagen/lib/python3.10/site-packages/distilabel/pipeline.py#577\" target=\"_blank\"><span style=\"color: #7f7f7f; text-decoration-color: #7f7f7f\">577</span></a>\n",
       "</pre>\n"
      ],
      "text/plain": [
       "\u001b[2;36m        \u001b[0m\u001b[2;36m \u001b[0m\u001b[34mINFO    \u001b[0m \u001b[1m[\u001b[0mPID: \u001b[1;36m12332\u001b[0m\u001b[1m]\u001b[0m Processing batch \u001b[1;36m1\u001b[0m of \u001b[1;36m13\u001b[0m\u001b[33m...\u001b[0m                                          \u001b]8;id=276491;file:///home/strickvl/coding/zenml-projects/llm-lora-finetuning/datagen/lib/python3.10/site-packages/distilabel/pipeline.py\u001b\\\u001b[2mpipeline.py\u001b[0m\u001b]8;;\u001b\\\u001b[2m:\u001b[0m\u001b]8;id=378796;file:///home/strickvl/coding/zenml-projects/llm-lora-finetuning/datagen/lib/python3.10/site-packages/distilabel/pipeline.py#577\u001b\\\u001b[2m577\u001b[0m\u001b]8;;\u001b\\\n"
      ]
     },
     "metadata": {},
     "output_type": "display_data"
    },
    {
     "data": {
      "text/html": [
       "<pre style=\"white-space:pre;overflow-x:auto;line-height:normal;font-family:Menlo,'DejaVu Sans Mono',consolas,'Courier New',monospace\"><span style=\"color: #7fbfbf; text-decoration-color: #7fbfbf\">         </span><span style=\"color: #000080; text-decoration-color: #000080\">INFO    </span> <span style=\"font-weight: bold\">[</span>PID: <span style=\"color: #008080; text-decoration-color: #008080; font-weight: bold\">12332</span><span style=\"font-weight: bold\">]</span> Calling generator for batch <span style=\"color: #008080; text-decoration-color: #008080; font-weight: bold\">1</span><span style=\"color: #808000; text-decoration-color: #808000\">...</span>                                     <a href=\"file:///home/strickvl/coding/zenml-projects/llm-lora-finetuning/datagen/lib/python3.10/site-packages/distilabel/pipeline.py\" target=\"_blank\"><span style=\"color: #7f7f7f; text-decoration-color: #7f7f7f\">pipeline.py</span></a><span style=\"color: #7f7f7f; text-decoration-color: #7f7f7f\">:</span><a href=\"file:///home/strickvl/coding/zenml-projects/llm-lora-finetuning/datagen/lib/python3.10/site-packages/distilabel/pipeline.py#581\" target=\"_blank\"><span style=\"color: #7f7f7f; text-decoration-color: #7f7f7f\">581</span></a>\n",
       "</pre>\n"
      ],
      "text/plain": [
       "\u001b[2;36m        \u001b[0m\u001b[2;36m \u001b[0m\u001b[34mINFO    \u001b[0m \u001b[1m[\u001b[0mPID: \u001b[1;36m12332\u001b[0m\u001b[1m]\u001b[0m Calling generator for batch \u001b[1;36m1\u001b[0m\u001b[33m...\u001b[0m                                     \u001b]8;id=372998;file:///home/strickvl/coding/zenml-projects/llm-lora-finetuning/datagen/lib/python3.10/site-packages/distilabel/pipeline.py\u001b\\\u001b[2mpipeline.py\u001b[0m\u001b]8;;\u001b\\\u001b[2m:\u001b[0m\u001b]8;id=802280;file:///home/strickvl/coding/zenml-projects/llm-lora-finetuning/datagen/lib/python3.10/site-packages/distilabel/pipeline.py#581\u001b\\\u001b[2m581\u001b[0m\u001b]8;;\u001b\\\n"
      ]
     },
     "metadata": {},
     "output_type": "display_data"
    },
    {
     "data": {
      "text/html": [
       "<pre style=\"white-space:pre;overflow-x:auto;line-height:normal;font-family:Menlo,'DejaVu Sans Mono',consolas,'Courier New',monospace\"><span style=\"color: #7fbfbf; text-decoration-color: #7fbfbf\">15:53:54 </span><span style=\"color: #000080; text-decoration-color: #000080\">INFO    </span> <span style=\"font-weight: bold\">[</span>PID: <span style=\"color: #008080; text-decoration-color: #008080; font-weight: bold\">12332</span><span style=\"font-weight: bold\">]</span> Calling labeller for batch <span style=\"color: #008080; text-decoration-color: #008080; font-weight: bold\">1</span><span style=\"color: #808000; text-decoration-color: #808000\">...</span>                                      <a href=\"file:///home/strickvl/coding/zenml-projects/llm-lora-finetuning/datagen/lib/python3.10/site-packages/distilabel/pipeline.py\" target=\"_blank\"><span style=\"color: #7f7f7f; text-decoration-color: #7f7f7f\">pipeline.py</span></a><span style=\"color: #7f7f7f; text-decoration-color: #7f7f7f\">:</span><a href=\"file:///home/strickvl/coding/zenml-projects/llm-lora-finetuning/datagen/lib/python3.10/site-packages/distilabel/pipeline.py#612\" target=\"_blank\"><span style=\"color: #7f7f7f; text-decoration-color: #7f7f7f\">612</span></a>\n",
       "</pre>\n"
      ],
      "text/plain": [
       "\u001b[2;36m15:53:54\u001b[0m\u001b[2;36m \u001b[0m\u001b[34mINFO    \u001b[0m \u001b[1m[\u001b[0mPID: \u001b[1;36m12332\u001b[0m\u001b[1m]\u001b[0m Calling labeller for batch \u001b[1;36m1\u001b[0m\u001b[33m...\u001b[0m                                      \u001b]8;id=298981;file:///home/strickvl/coding/zenml-projects/llm-lora-finetuning/datagen/lib/python3.10/site-packages/distilabel/pipeline.py\u001b\\\u001b[2mpipeline.py\u001b[0m\u001b]8;;\u001b\\\u001b[2m:\u001b[0m\u001b]8;id=18313;file:///home/strickvl/coding/zenml-projects/llm-lora-finetuning/datagen/lib/python3.10/site-packages/distilabel/pipeline.py#612\u001b\\\u001b[2m612\u001b[0m\u001b]8;;\u001b\\\n"
      ]
     },
     "metadata": {},
     "output_type": "display_data"
    },
    {
     "data": {
      "text/html": [
       "<pre style=\"white-space:pre;overflow-x:auto;line-height:normal;font-family:Menlo,'DejaVu Sans Mono',consolas,'Courier New',monospace\"><span style=\"color: #7fbfbf; text-decoration-color: #7fbfbf\">15:54:10 </span><span style=\"color: #000080; text-decoration-color: #000080\">INFO    </span> <span style=\"font-weight: bold\">[</span>PID: <span style=\"color: #008080; text-decoration-color: #008080; font-weight: bold\">12332</span><span style=\"font-weight: bold\">]</span> Processing batch <span style=\"color: #008080; text-decoration-color: #008080; font-weight: bold\">2</span> of <span style=\"color: #008080; text-decoration-color: #008080; font-weight: bold\">13</span><span style=\"color: #808000; text-decoration-color: #808000\">...</span>                                          <a href=\"file:///home/strickvl/coding/zenml-projects/llm-lora-finetuning/datagen/lib/python3.10/site-packages/distilabel/pipeline.py\" target=\"_blank\"><span style=\"color: #7f7f7f; text-decoration-color: #7f7f7f\">pipeline.py</span></a><span style=\"color: #7f7f7f; text-decoration-color: #7f7f7f\">:</span><a href=\"file:///home/strickvl/coding/zenml-projects/llm-lora-finetuning/datagen/lib/python3.10/site-packages/distilabel/pipeline.py#577\" target=\"_blank\"><span style=\"color: #7f7f7f; text-decoration-color: #7f7f7f\">577</span></a>\n",
       "</pre>\n"
      ],
      "text/plain": [
       "\u001b[2;36m15:54:10\u001b[0m\u001b[2;36m \u001b[0m\u001b[34mINFO    \u001b[0m \u001b[1m[\u001b[0mPID: \u001b[1;36m12332\u001b[0m\u001b[1m]\u001b[0m Processing batch \u001b[1;36m2\u001b[0m of \u001b[1;36m13\u001b[0m\u001b[33m...\u001b[0m                                          \u001b]8;id=317491;file:///home/strickvl/coding/zenml-projects/llm-lora-finetuning/datagen/lib/python3.10/site-packages/distilabel/pipeline.py\u001b\\\u001b[2mpipeline.py\u001b[0m\u001b]8;;\u001b\\\u001b[2m:\u001b[0m\u001b]8;id=906011;file:///home/strickvl/coding/zenml-projects/llm-lora-finetuning/datagen/lib/python3.10/site-packages/distilabel/pipeline.py#577\u001b\\\u001b[2m577\u001b[0m\u001b]8;;\u001b\\\n"
      ]
     },
     "metadata": {},
     "output_type": "display_data"
    },
    {
     "data": {
      "text/html": [
       "<pre style=\"white-space:pre;overflow-x:auto;line-height:normal;font-family:Menlo,'DejaVu Sans Mono',consolas,'Courier New',monospace\"><span style=\"color: #7fbfbf; text-decoration-color: #7fbfbf\">         </span><span style=\"color: #000080; text-decoration-color: #000080\">INFO    </span> <span style=\"font-weight: bold\">[</span>PID: <span style=\"color: #008080; text-decoration-color: #008080; font-weight: bold\">12332</span><span style=\"font-weight: bold\">]</span> Calling generator for batch <span style=\"color: #008080; text-decoration-color: #008080; font-weight: bold\">2</span><span style=\"color: #808000; text-decoration-color: #808000\">...</span>                                     <a href=\"file:///home/strickvl/coding/zenml-projects/llm-lora-finetuning/datagen/lib/python3.10/site-packages/distilabel/pipeline.py\" target=\"_blank\"><span style=\"color: #7f7f7f; text-decoration-color: #7f7f7f\">pipeline.py</span></a><span style=\"color: #7f7f7f; text-decoration-color: #7f7f7f\">:</span><a href=\"file:///home/strickvl/coding/zenml-projects/llm-lora-finetuning/datagen/lib/python3.10/site-packages/distilabel/pipeline.py#581\" target=\"_blank\"><span style=\"color: #7f7f7f; text-decoration-color: #7f7f7f\">581</span></a>\n",
       "</pre>\n"
      ],
      "text/plain": [
       "\u001b[2;36m        \u001b[0m\u001b[2;36m \u001b[0m\u001b[34mINFO    \u001b[0m \u001b[1m[\u001b[0mPID: \u001b[1;36m12332\u001b[0m\u001b[1m]\u001b[0m Calling generator for batch \u001b[1;36m2\u001b[0m\u001b[33m...\u001b[0m                                     \u001b]8;id=72904;file:///home/strickvl/coding/zenml-projects/llm-lora-finetuning/datagen/lib/python3.10/site-packages/distilabel/pipeline.py\u001b\\\u001b[2mpipeline.py\u001b[0m\u001b]8;;\u001b\\\u001b[2m:\u001b[0m\u001b]8;id=479297;file:///home/strickvl/coding/zenml-projects/llm-lora-finetuning/datagen/lib/python3.10/site-packages/distilabel/pipeline.py#581\u001b\\\u001b[2m581\u001b[0m\u001b]8;;\u001b\\\n"
      ]
     },
     "metadata": {},
     "output_type": "display_data"
    },
    {
     "data": {
      "text/html": [
       "<pre style=\"white-space:pre;overflow-x:auto;line-height:normal;font-family:Menlo,'DejaVu Sans Mono',consolas,'Courier New',monospace\"><span style=\"color: #7fbfbf; text-decoration-color: #7fbfbf\">15:55:05 </span><span style=\"color: #000080; text-decoration-color: #000080\">INFO    </span> <span style=\"font-weight: bold\">[</span>PID: <span style=\"color: #008080; text-decoration-color: #008080; font-weight: bold\">12332</span><span style=\"font-weight: bold\">]</span> Calling labeller for batch <span style=\"color: #008080; text-decoration-color: #008080; font-weight: bold\">2</span><span style=\"color: #808000; text-decoration-color: #808000\">...</span>                                      <a href=\"file:///home/strickvl/coding/zenml-projects/llm-lora-finetuning/datagen/lib/python3.10/site-packages/distilabel/pipeline.py\" target=\"_blank\"><span style=\"color: #7f7f7f; text-decoration-color: #7f7f7f\">pipeline.py</span></a><span style=\"color: #7f7f7f; text-decoration-color: #7f7f7f\">:</span><a href=\"file:///home/strickvl/coding/zenml-projects/llm-lora-finetuning/datagen/lib/python3.10/site-packages/distilabel/pipeline.py#612\" target=\"_blank\"><span style=\"color: #7f7f7f; text-decoration-color: #7f7f7f\">612</span></a>\n",
       "</pre>\n"
      ],
      "text/plain": [
       "\u001b[2;36m15:55:05\u001b[0m\u001b[2;36m \u001b[0m\u001b[34mINFO    \u001b[0m \u001b[1m[\u001b[0mPID: \u001b[1;36m12332\u001b[0m\u001b[1m]\u001b[0m Calling labeller for batch \u001b[1;36m2\u001b[0m\u001b[33m...\u001b[0m                                      \u001b]8;id=860428;file:///home/strickvl/coding/zenml-projects/llm-lora-finetuning/datagen/lib/python3.10/site-packages/distilabel/pipeline.py\u001b\\\u001b[2mpipeline.py\u001b[0m\u001b]8;;\u001b\\\u001b[2m:\u001b[0m\u001b]8;id=146645;file:///home/strickvl/coding/zenml-projects/llm-lora-finetuning/datagen/lib/python3.10/site-packages/distilabel/pipeline.py#612\u001b\\\u001b[2m612\u001b[0m\u001b]8;;\u001b\\\n"
      ]
     },
     "metadata": {},
     "output_type": "display_data"
    },
    {
     "data": {
      "text/html": [
       "<pre style=\"white-space:pre;overflow-x:auto;line-height:normal;font-family:Menlo,'DejaVu Sans Mono',consolas,'Courier New',monospace\"><span style=\"color: #7fbfbf; text-decoration-color: #7fbfbf\">15:55:22 </span><span style=\"color: #000080; text-decoration-color: #000080\">INFO    </span> <span style=\"font-weight: bold\">[</span>PID: <span style=\"color: #008080; text-decoration-color: #008080; font-weight: bold\">12332</span><span style=\"font-weight: bold\">]</span> Processing batch <span style=\"color: #008080; text-decoration-color: #008080; font-weight: bold\">3</span> of <span style=\"color: #008080; text-decoration-color: #008080; font-weight: bold\">13</span><span style=\"color: #808000; text-decoration-color: #808000\">...</span>                                          <a href=\"file:///home/strickvl/coding/zenml-projects/llm-lora-finetuning/datagen/lib/python3.10/site-packages/distilabel/pipeline.py\" target=\"_blank\"><span style=\"color: #7f7f7f; text-decoration-color: #7f7f7f\">pipeline.py</span></a><span style=\"color: #7f7f7f; text-decoration-color: #7f7f7f\">:</span><a href=\"file:///home/strickvl/coding/zenml-projects/llm-lora-finetuning/datagen/lib/python3.10/site-packages/distilabel/pipeline.py#577\" target=\"_blank\"><span style=\"color: #7f7f7f; text-decoration-color: #7f7f7f\">577</span></a>\n",
       "</pre>\n"
      ],
      "text/plain": [
       "\u001b[2;36m15:55:22\u001b[0m\u001b[2;36m \u001b[0m\u001b[34mINFO    \u001b[0m \u001b[1m[\u001b[0mPID: \u001b[1;36m12332\u001b[0m\u001b[1m]\u001b[0m Processing batch \u001b[1;36m3\u001b[0m of \u001b[1;36m13\u001b[0m\u001b[33m...\u001b[0m                                          \u001b]8;id=587230;file:///home/strickvl/coding/zenml-projects/llm-lora-finetuning/datagen/lib/python3.10/site-packages/distilabel/pipeline.py\u001b\\\u001b[2mpipeline.py\u001b[0m\u001b]8;;\u001b\\\u001b[2m:\u001b[0m\u001b]8;id=533370;file:///home/strickvl/coding/zenml-projects/llm-lora-finetuning/datagen/lib/python3.10/site-packages/distilabel/pipeline.py#577\u001b\\\u001b[2m577\u001b[0m\u001b]8;;\u001b\\\n"
      ]
     },
     "metadata": {},
     "output_type": "display_data"
    },
    {
     "data": {
      "text/html": [
       "<pre style=\"white-space:pre;overflow-x:auto;line-height:normal;font-family:Menlo,'DejaVu Sans Mono',consolas,'Courier New',monospace\"><span style=\"color: #7fbfbf; text-decoration-color: #7fbfbf\">         </span><span style=\"color: #000080; text-decoration-color: #000080\">INFO    </span> <span style=\"font-weight: bold\">[</span>PID: <span style=\"color: #008080; text-decoration-color: #008080; font-weight: bold\">12332</span><span style=\"font-weight: bold\">]</span> Calling generator for batch <span style=\"color: #008080; text-decoration-color: #008080; font-weight: bold\">3</span><span style=\"color: #808000; text-decoration-color: #808000\">...</span>                                     <a href=\"file:///home/strickvl/coding/zenml-projects/llm-lora-finetuning/datagen/lib/python3.10/site-packages/distilabel/pipeline.py\" target=\"_blank\"><span style=\"color: #7f7f7f; text-decoration-color: #7f7f7f\">pipeline.py</span></a><span style=\"color: #7f7f7f; text-decoration-color: #7f7f7f\">:</span><a href=\"file:///home/strickvl/coding/zenml-projects/llm-lora-finetuning/datagen/lib/python3.10/site-packages/distilabel/pipeline.py#581\" target=\"_blank\"><span style=\"color: #7f7f7f; text-decoration-color: #7f7f7f\">581</span></a>\n",
       "</pre>\n"
      ],
      "text/plain": [
       "\u001b[2;36m        \u001b[0m\u001b[2;36m \u001b[0m\u001b[34mINFO    \u001b[0m \u001b[1m[\u001b[0mPID: \u001b[1;36m12332\u001b[0m\u001b[1m]\u001b[0m Calling generator for batch \u001b[1;36m3\u001b[0m\u001b[33m...\u001b[0m                                     \u001b]8;id=947385;file:///home/strickvl/coding/zenml-projects/llm-lora-finetuning/datagen/lib/python3.10/site-packages/distilabel/pipeline.py\u001b\\\u001b[2mpipeline.py\u001b[0m\u001b]8;;\u001b\\\u001b[2m:\u001b[0m\u001b]8;id=28297;file:///home/strickvl/coding/zenml-projects/llm-lora-finetuning/datagen/lib/python3.10/site-packages/distilabel/pipeline.py#581\u001b\\\u001b[2m581\u001b[0m\u001b]8;;\u001b\\\n"
      ]
     },
     "metadata": {},
     "output_type": "display_data"
    },
    {
     "data": {
      "text/html": [
       "<pre style=\"white-space:pre;overflow-x:auto;line-height:normal;font-family:Menlo,'DejaVu Sans Mono',consolas,'Courier New',monospace\"><span style=\"color: #7fbfbf; text-decoration-color: #7fbfbf\">15:56:17 </span><span style=\"color: #000080; text-decoration-color: #000080\">INFO    </span> <span style=\"font-weight: bold\">[</span>PID: <span style=\"color: #008080; text-decoration-color: #008080; font-weight: bold\">12332</span><span style=\"font-weight: bold\">]</span> Calling labeller for batch <span style=\"color: #008080; text-decoration-color: #008080; font-weight: bold\">3</span><span style=\"color: #808000; text-decoration-color: #808000\">...</span>                                      <a href=\"file:///home/strickvl/coding/zenml-projects/llm-lora-finetuning/datagen/lib/python3.10/site-packages/distilabel/pipeline.py\" target=\"_blank\"><span style=\"color: #7f7f7f; text-decoration-color: #7f7f7f\">pipeline.py</span></a><span style=\"color: #7f7f7f; text-decoration-color: #7f7f7f\">:</span><a href=\"file:///home/strickvl/coding/zenml-projects/llm-lora-finetuning/datagen/lib/python3.10/site-packages/distilabel/pipeline.py#612\" target=\"_blank\"><span style=\"color: #7f7f7f; text-decoration-color: #7f7f7f\">612</span></a>\n",
       "</pre>\n"
      ],
      "text/plain": [
       "\u001b[2;36m15:56:17\u001b[0m\u001b[2;36m \u001b[0m\u001b[34mINFO    \u001b[0m \u001b[1m[\u001b[0mPID: \u001b[1;36m12332\u001b[0m\u001b[1m]\u001b[0m Calling labeller for batch \u001b[1;36m3\u001b[0m\u001b[33m...\u001b[0m                                      \u001b]8;id=18396;file:///home/strickvl/coding/zenml-projects/llm-lora-finetuning/datagen/lib/python3.10/site-packages/distilabel/pipeline.py\u001b\\\u001b[2mpipeline.py\u001b[0m\u001b]8;;\u001b\\\u001b[2m:\u001b[0m\u001b]8;id=673976;file:///home/strickvl/coding/zenml-projects/llm-lora-finetuning/datagen/lib/python3.10/site-packages/distilabel/pipeline.py#612\u001b\\\u001b[2m612\u001b[0m\u001b]8;;\u001b\\\n"
      ]
     },
     "metadata": {},
     "output_type": "display_data"
    },
    {
     "data": {
      "text/html": [
       "<pre style=\"white-space:pre;overflow-x:auto;line-height:normal;font-family:Menlo,'DejaVu Sans Mono',consolas,'Courier New',monospace\"><span style=\"color: #7fbfbf; text-decoration-color: #7fbfbf\">15:56:30 </span><span style=\"color: #000080; text-decoration-color: #000080\">INFO    </span> <span style=\"font-weight: bold\">[</span>PID: <span style=\"color: #008080; text-decoration-color: #008080; font-weight: bold\">12332</span><span style=\"font-weight: bold\">]</span> Processing batch <span style=\"color: #008080; text-decoration-color: #008080; font-weight: bold\">4</span> of <span style=\"color: #008080; text-decoration-color: #008080; font-weight: bold\">13</span><span style=\"color: #808000; text-decoration-color: #808000\">...</span>                                          <a href=\"file:///home/strickvl/coding/zenml-projects/llm-lora-finetuning/datagen/lib/python3.10/site-packages/distilabel/pipeline.py\" target=\"_blank\"><span style=\"color: #7f7f7f; text-decoration-color: #7f7f7f\">pipeline.py</span></a><span style=\"color: #7f7f7f; text-decoration-color: #7f7f7f\">:</span><a href=\"file:///home/strickvl/coding/zenml-projects/llm-lora-finetuning/datagen/lib/python3.10/site-packages/distilabel/pipeline.py#577\" target=\"_blank\"><span style=\"color: #7f7f7f; text-decoration-color: #7f7f7f\">577</span></a>\n",
       "</pre>\n"
      ],
      "text/plain": [
       "\u001b[2;36m15:56:30\u001b[0m\u001b[2;36m \u001b[0m\u001b[34mINFO    \u001b[0m \u001b[1m[\u001b[0mPID: \u001b[1;36m12332\u001b[0m\u001b[1m]\u001b[0m Processing batch \u001b[1;36m4\u001b[0m of \u001b[1;36m13\u001b[0m\u001b[33m...\u001b[0m                                          \u001b]8;id=591575;file:///home/strickvl/coding/zenml-projects/llm-lora-finetuning/datagen/lib/python3.10/site-packages/distilabel/pipeline.py\u001b\\\u001b[2mpipeline.py\u001b[0m\u001b]8;;\u001b\\\u001b[2m:\u001b[0m\u001b]8;id=536979;file:///home/strickvl/coding/zenml-projects/llm-lora-finetuning/datagen/lib/python3.10/site-packages/distilabel/pipeline.py#577\u001b\\\u001b[2m577\u001b[0m\u001b]8;;\u001b\\\n"
      ]
     },
     "metadata": {},
     "output_type": "display_data"
    },
    {
     "data": {
      "text/html": [
       "<pre style=\"white-space:pre;overflow-x:auto;line-height:normal;font-family:Menlo,'DejaVu Sans Mono',consolas,'Courier New',monospace\"><span style=\"color: #7fbfbf; text-decoration-color: #7fbfbf\">         </span><span style=\"color: #000080; text-decoration-color: #000080\">INFO    </span> <span style=\"font-weight: bold\">[</span>PID: <span style=\"color: #008080; text-decoration-color: #008080; font-weight: bold\">12332</span><span style=\"font-weight: bold\">]</span> Calling generator for batch <span style=\"color: #008080; text-decoration-color: #008080; font-weight: bold\">4</span><span style=\"color: #808000; text-decoration-color: #808000\">...</span>                                     <a href=\"file:///home/strickvl/coding/zenml-projects/llm-lora-finetuning/datagen/lib/python3.10/site-packages/distilabel/pipeline.py\" target=\"_blank\"><span style=\"color: #7f7f7f; text-decoration-color: #7f7f7f\">pipeline.py</span></a><span style=\"color: #7f7f7f; text-decoration-color: #7f7f7f\">:</span><a href=\"file:///home/strickvl/coding/zenml-projects/llm-lora-finetuning/datagen/lib/python3.10/site-packages/distilabel/pipeline.py#581\" target=\"_blank\"><span style=\"color: #7f7f7f; text-decoration-color: #7f7f7f\">581</span></a>\n",
       "</pre>\n"
      ],
      "text/plain": [
       "\u001b[2;36m        \u001b[0m\u001b[2;36m \u001b[0m\u001b[34mINFO    \u001b[0m \u001b[1m[\u001b[0mPID: \u001b[1;36m12332\u001b[0m\u001b[1m]\u001b[0m Calling generator for batch \u001b[1;36m4\u001b[0m\u001b[33m...\u001b[0m                                     \u001b]8;id=968763;file:///home/strickvl/coding/zenml-projects/llm-lora-finetuning/datagen/lib/python3.10/site-packages/distilabel/pipeline.py\u001b\\\u001b[2mpipeline.py\u001b[0m\u001b]8;;\u001b\\\u001b[2m:\u001b[0m\u001b]8;id=574159;file:///home/strickvl/coding/zenml-projects/llm-lora-finetuning/datagen/lib/python3.10/site-packages/distilabel/pipeline.py#581\u001b\\\u001b[2m581\u001b[0m\u001b]8;;\u001b\\\n"
      ]
     },
     "metadata": {},
     "output_type": "display_data"
    },
    {
     "data": {
      "text/html": [
       "<pre style=\"white-space:pre;overflow-x:auto;line-height:normal;font-family:Menlo,'DejaVu Sans Mono',consolas,'Courier New',monospace\"><span style=\"color: #7fbfbf; text-decoration-color: #7fbfbf\">15:57:26 </span><span style=\"color: #000080; text-decoration-color: #000080\">INFO    </span> <span style=\"font-weight: bold\">[</span>PID: <span style=\"color: #008080; text-decoration-color: #008080; font-weight: bold\">12332</span><span style=\"font-weight: bold\">]</span> Calling labeller for batch <span style=\"color: #008080; text-decoration-color: #008080; font-weight: bold\">4</span><span style=\"color: #808000; text-decoration-color: #808000\">...</span>                                      <a href=\"file:///home/strickvl/coding/zenml-projects/llm-lora-finetuning/datagen/lib/python3.10/site-packages/distilabel/pipeline.py\" target=\"_blank\"><span style=\"color: #7f7f7f; text-decoration-color: #7f7f7f\">pipeline.py</span></a><span style=\"color: #7f7f7f; text-decoration-color: #7f7f7f\">:</span><a href=\"file:///home/strickvl/coding/zenml-projects/llm-lora-finetuning/datagen/lib/python3.10/site-packages/distilabel/pipeline.py#612\" target=\"_blank\"><span style=\"color: #7f7f7f; text-decoration-color: #7f7f7f\">612</span></a>\n",
       "</pre>\n"
      ],
      "text/plain": [
       "\u001b[2;36m15:57:26\u001b[0m\u001b[2;36m \u001b[0m\u001b[34mINFO    \u001b[0m \u001b[1m[\u001b[0mPID: \u001b[1;36m12332\u001b[0m\u001b[1m]\u001b[0m Calling labeller for batch \u001b[1;36m4\u001b[0m\u001b[33m...\u001b[0m                                      \u001b]8;id=786845;file:///home/strickvl/coding/zenml-projects/llm-lora-finetuning/datagen/lib/python3.10/site-packages/distilabel/pipeline.py\u001b\\\u001b[2mpipeline.py\u001b[0m\u001b]8;;\u001b\\\u001b[2m:\u001b[0m\u001b]8;id=164605;file:///home/strickvl/coding/zenml-projects/llm-lora-finetuning/datagen/lib/python3.10/site-packages/distilabel/pipeline.py#612\u001b\\\u001b[2m612\u001b[0m\u001b]8;;\u001b\\\n"
      ]
     },
     "metadata": {},
     "output_type": "display_data"
    },
    {
     "data": {
      "text/html": [
       "<pre style=\"white-space:pre;overflow-x:auto;line-height:normal;font-family:Menlo,'DejaVu Sans Mono',consolas,'Courier New',monospace\"><span style=\"color: #7fbfbf; text-decoration-color: #7fbfbf\">15:57:39 </span><span style=\"color: #000080; text-decoration-color: #000080\">INFO    </span> <span style=\"font-weight: bold\">[</span>PID: <span style=\"color: #008080; text-decoration-color: #008080; font-weight: bold\">12332</span><span style=\"font-weight: bold\">]</span> Processing batch <span style=\"color: #008080; text-decoration-color: #008080; font-weight: bold\">5</span> of <span style=\"color: #008080; text-decoration-color: #008080; font-weight: bold\">13</span><span style=\"color: #808000; text-decoration-color: #808000\">...</span>                                          <a href=\"file:///home/strickvl/coding/zenml-projects/llm-lora-finetuning/datagen/lib/python3.10/site-packages/distilabel/pipeline.py\" target=\"_blank\"><span style=\"color: #7f7f7f; text-decoration-color: #7f7f7f\">pipeline.py</span></a><span style=\"color: #7f7f7f; text-decoration-color: #7f7f7f\">:</span><a href=\"file:///home/strickvl/coding/zenml-projects/llm-lora-finetuning/datagen/lib/python3.10/site-packages/distilabel/pipeline.py#577\" target=\"_blank\"><span style=\"color: #7f7f7f; text-decoration-color: #7f7f7f\">577</span></a>\n",
       "</pre>\n"
      ],
      "text/plain": [
       "\u001b[2;36m15:57:39\u001b[0m\u001b[2;36m \u001b[0m\u001b[34mINFO    \u001b[0m \u001b[1m[\u001b[0mPID: \u001b[1;36m12332\u001b[0m\u001b[1m]\u001b[0m Processing batch \u001b[1;36m5\u001b[0m of \u001b[1;36m13\u001b[0m\u001b[33m...\u001b[0m                                          \u001b]8;id=953280;file:///home/strickvl/coding/zenml-projects/llm-lora-finetuning/datagen/lib/python3.10/site-packages/distilabel/pipeline.py\u001b\\\u001b[2mpipeline.py\u001b[0m\u001b]8;;\u001b\\\u001b[2m:\u001b[0m\u001b]8;id=708384;file:///home/strickvl/coding/zenml-projects/llm-lora-finetuning/datagen/lib/python3.10/site-packages/distilabel/pipeline.py#577\u001b\\\u001b[2m577\u001b[0m\u001b]8;;\u001b\\\n"
      ]
     },
     "metadata": {},
     "output_type": "display_data"
    },
    {
     "data": {
      "text/html": [
       "<pre style=\"white-space:pre;overflow-x:auto;line-height:normal;font-family:Menlo,'DejaVu Sans Mono',consolas,'Courier New',monospace\"><span style=\"color: #7fbfbf; text-decoration-color: #7fbfbf\">         </span><span style=\"color: #000080; text-decoration-color: #000080\">INFO    </span> <span style=\"font-weight: bold\">[</span>PID: <span style=\"color: #008080; text-decoration-color: #008080; font-weight: bold\">12332</span><span style=\"font-weight: bold\">]</span> Calling generator for batch <span style=\"color: #008080; text-decoration-color: #008080; font-weight: bold\">5</span><span style=\"color: #808000; text-decoration-color: #808000\">...</span>                                     <a href=\"file:///home/strickvl/coding/zenml-projects/llm-lora-finetuning/datagen/lib/python3.10/site-packages/distilabel/pipeline.py\" target=\"_blank\"><span style=\"color: #7f7f7f; text-decoration-color: #7f7f7f\">pipeline.py</span></a><span style=\"color: #7f7f7f; text-decoration-color: #7f7f7f\">:</span><a href=\"file:///home/strickvl/coding/zenml-projects/llm-lora-finetuning/datagen/lib/python3.10/site-packages/distilabel/pipeline.py#581\" target=\"_blank\"><span style=\"color: #7f7f7f; text-decoration-color: #7f7f7f\">581</span></a>\n",
       "</pre>\n"
      ],
      "text/plain": [
       "\u001b[2;36m        \u001b[0m\u001b[2;36m \u001b[0m\u001b[34mINFO    \u001b[0m \u001b[1m[\u001b[0mPID: \u001b[1;36m12332\u001b[0m\u001b[1m]\u001b[0m Calling generator for batch \u001b[1;36m5\u001b[0m\u001b[33m...\u001b[0m                                     \u001b]8;id=825590;file:///home/strickvl/coding/zenml-projects/llm-lora-finetuning/datagen/lib/python3.10/site-packages/distilabel/pipeline.py\u001b\\\u001b[2mpipeline.py\u001b[0m\u001b]8;;\u001b\\\u001b[2m:\u001b[0m\u001b]8;id=747248;file:///home/strickvl/coding/zenml-projects/llm-lora-finetuning/datagen/lib/python3.10/site-packages/distilabel/pipeline.py#581\u001b\\\u001b[2m581\u001b[0m\u001b]8;;\u001b\\\n"
      ]
     },
     "metadata": {},
     "output_type": "display_data"
    },
    {
     "data": {
      "text/html": [
       "<pre style=\"white-space:pre;overflow-x:auto;line-height:normal;font-family:Menlo,'DejaVu Sans Mono',consolas,'Courier New',monospace\"><span style=\"color: #7fbfbf; text-decoration-color: #7fbfbf\">15:58:31 </span><span style=\"color: #000080; text-decoration-color: #000080\">INFO    </span> <span style=\"font-weight: bold\">[</span>PID: <span style=\"color: #008080; text-decoration-color: #008080; font-weight: bold\">12332</span><span style=\"font-weight: bold\">]</span> Calling labeller for batch <span style=\"color: #008080; text-decoration-color: #008080; font-weight: bold\">5</span><span style=\"color: #808000; text-decoration-color: #808000\">...</span>                                      <a href=\"file:///home/strickvl/coding/zenml-projects/llm-lora-finetuning/datagen/lib/python3.10/site-packages/distilabel/pipeline.py\" target=\"_blank\"><span style=\"color: #7f7f7f; text-decoration-color: #7f7f7f\">pipeline.py</span></a><span style=\"color: #7f7f7f; text-decoration-color: #7f7f7f\">:</span><a href=\"file:///home/strickvl/coding/zenml-projects/llm-lora-finetuning/datagen/lib/python3.10/site-packages/distilabel/pipeline.py#612\" target=\"_blank\"><span style=\"color: #7f7f7f; text-decoration-color: #7f7f7f\">612</span></a>\n",
       "</pre>\n"
      ],
      "text/plain": [
       "\u001b[2;36m15:58:31\u001b[0m\u001b[2;36m \u001b[0m\u001b[34mINFO    \u001b[0m \u001b[1m[\u001b[0mPID: \u001b[1;36m12332\u001b[0m\u001b[1m]\u001b[0m Calling labeller for batch \u001b[1;36m5\u001b[0m\u001b[33m...\u001b[0m                                      \u001b]8;id=155051;file:///home/strickvl/coding/zenml-projects/llm-lora-finetuning/datagen/lib/python3.10/site-packages/distilabel/pipeline.py\u001b\\\u001b[2mpipeline.py\u001b[0m\u001b]8;;\u001b\\\u001b[2m:\u001b[0m\u001b]8;id=638729;file:///home/strickvl/coding/zenml-projects/llm-lora-finetuning/datagen/lib/python3.10/site-packages/distilabel/pipeline.py#612\u001b\\\u001b[2m612\u001b[0m\u001b]8;;\u001b\\\n"
      ]
     },
     "metadata": {},
     "output_type": "display_data"
    },
    {
     "data": {
      "text/html": [
       "<pre style=\"white-space:pre;overflow-x:auto;line-height:normal;font-family:Menlo,'DejaVu Sans Mono',consolas,'Courier New',monospace\"><span style=\"color: #7fbfbf; text-decoration-color: #7fbfbf\">15:58:46 </span><span style=\"color: #000080; text-decoration-color: #000080\">INFO    </span> <span style=\"font-weight: bold\">[</span>PID: <span style=\"color: #008080; text-decoration-color: #008080; font-weight: bold\">12332</span><span style=\"font-weight: bold\">]</span> Processing batch <span style=\"color: #008080; text-decoration-color: #008080; font-weight: bold\">6</span> of <span style=\"color: #008080; text-decoration-color: #008080; font-weight: bold\">13</span><span style=\"color: #808000; text-decoration-color: #808000\">...</span>                                          <a href=\"file:///home/strickvl/coding/zenml-projects/llm-lora-finetuning/datagen/lib/python3.10/site-packages/distilabel/pipeline.py\" target=\"_blank\"><span style=\"color: #7f7f7f; text-decoration-color: #7f7f7f\">pipeline.py</span></a><span style=\"color: #7f7f7f; text-decoration-color: #7f7f7f\">:</span><a href=\"file:///home/strickvl/coding/zenml-projects/llm-lora-finetuning/datagen/lib/python3.10/site-packages/distilabel/pipeline.py#577\" target=\"_blank\"><span style=\"color: #7f7f7f; text-decoration-color: #7f7f7f\">577</span></a>\n",
       "</pre>\n"
      ],
      "text/plain": [
       "\u001b[2;36m15:58:46\u001b[0m\u001b[2;36m \u001b[0m\u001b[34mINFO    \u001b[0m \u001b[1m[\u001b[0mPID: \u001b[1;36m12332\u001b[0m\u001b[1m]\u001b[0m Processing batch \u001b[1;36m6\u001b[0m of \u001b[1;36m13\u001b[0m\u001b[33m...\u001b[0m                                          \u001b]8;id=340594;file:///home/strickvl/coding/zenml-projects/llm-lora-finetuning/datagen/lib/python3.10/site-packages/distilabel/pipeline.py\u001b\\\u001b[2mpipeline.py\u001b[0m\u001b]8;;\u001b\\\u001b[2m:\u001b[0m\u001b]8;id=115367;file:///home/strickvl/coding/zenml-projects/llm-lora-finetuning/datagen/lib/python3.10/site-packages/distilabel/pipeline.py#577\u001b\\\u001b[2m577\u001b[0m\u001b]8;;\u001b\\\n"
      ]
     },
     "metadata": {},
     "output_type": "display_data"
    },
    {
     "data": {
      "text/html": [
       "<pre style=\"white-space:pre;overflow-x:auto;line-height:normal;font-family:Menlo,'DejaVu Sans Mono',consolas,'Courier New',monospace\"><span style=\"color: #7fbfbf; text-decoration-color: #7fbfbf\">         </span><span style=\"color: #000080; text-decoration-color: #000080\">INFO    </span> <span style=\"font-weight: bold\">[</span>PID: <span style=\"color: #008080; text-decoration-color: #008080; font-weight: bold\">12332</span><span style=\"font-weight: bold\">]</span> Calling generator for batch <span style=\"color: #008080; text-decoration-color: #008080; font-weight: bold\">6</span><span style=\"color: #808000; text-decoration-color: #808000\">...</span>                                     <a href=\"file:///home/strickvl/coding/zenml-projects/llm-lora-finetuning/datagen/lib/python3.10/site-packages/distilabel/pipeline.py\" target=\"_blank\"><span style=\"color: #7f7f7f; text-decoration-color: #7f7f7f\">pipeline.py</span></a><span style=\"color: #7f7f7f; text-decoration-color: #7f7f7f\">:</span><a href=\"file:///home/strickvl/coding/zenml-projects/llm-lora-finetuning/datagen/lib/python3.10/site-packages/distilabel/pipeline.py#581\" target=\"_blank\"><span style=\"color: #7f7f7f; text-decoration-color: #7f7f7f\">581</span></a>\n",
       "</pre>\n"
      ],
      "text/plain": [
       "\u001b[2;36m        \u001b[0m\u001b[2;36m \u001b[0m\u001b[34mINFO    \u001b[0m \u001b[1m[\u001b[0mPID: \u001b[1;36m12332\u001b[0m\u001b[1m]\u001b[0m Calling generator for batch \u001b[1;36m6\u001b[0m\u001b[33m...\u001b[0m                                     \u001b]8;id=335851;file:///home/strickvl/coding/zenml-projects/llm-lora-finetuning/datagen/lib/python3.10/site-packages/distilabel/pipeline.py\u001b\\\u001b[2mpipeline.py\u001b[0m\u001b]8;;\u001b\\\u001b[2m:\u001b[0m\u001b]8;id=569474;file:///home/strickvl/coding/zenml-projects/llm-lora-finetuning/datagen/lib/python3.10/site-packages/distilabel/pipeline.py#581\u001b\\\u001b[2m581\u001b[0m\u001b]8;;\u001b\\\n"
      ]
     },
     "metadata": {},
     "output_type": "display_data"
    },
    {
     "data": {
      "text/html": [
       "<pre style=\"white-space:pre;overflow-x:auto;line-height:normal;font-family:Menlo,'DejaVu Sans Mono',consolas,'Courier New',monospace\"><span style=\"color: #7fbfbf; text-decoration-color: #7fbfbf\">15:59:39 </span><span style=\"color: #000080; text-decoration-color: #000080\">INFO    </span> <span style=\"font-weight: bold\">[</span>PID: <span style=\"color: #008080; text-decoration-color: #008080; font-weight: bold\">12332</span><span style=\"font-weight: bold\">]</span> Calling labeller for batch <span style=\"color: #008080; text-decoration-color: #008080; font-weight: bold\">6</span><span style=\"color: #808000; text-decoration-color: #808000\">...</span>                                      <a href=\"file:///home/strickvl/coding/zenml-projects/llm-lora-finetuning/datagen/lib/python3.10/site-packages/distilabel/pipeline.py\" target=\"_blank\"><span style=\"color: #7f7f7f; text-decoration-color: #7f7f7f\">pipeline.py</span></a><span style=\"color: #7f7f7f; text-decoration-color: #7f7f7f\">:</span><a href=\"file:///home/strickvl/coding/zenml-projects/llm-lora-finetuning/datagen/lib/python3.10/site-packages/distilabel/pipeline.py#612\" target=\"_blank\"><span style=\"color: #7f7f7f; text-decoration-color: #7f7f7f\">612</span></a>\n",
       "</pre>\n"
      ],
      "text/plain": [
       "\u001b[2;36m15:59:39\u001b[0m\u001b[2;36m \u001b[0m\u001b[34mINFO    \u001b[0m \u001b[1m[\u001b[0mPID: \u001b[1;36m12332\u001b[0m\u001b[1m]\u001b[0m Calling labeller for batch \u001b[1;36m6\u001b[0m\u001b[33m...\u001b[0m                                      \u001b]8;id=932527;file:///home/strickvl/coding/zenml-projects/llm-lora-finetuning/datagen/lib/python3.10/site-packages/distilabel/pipeline.py\u001b\\\u001b[2mpipeline.py\u001b[0m\u001b]8;;\u001b\\\u001b[2m:\u001b[0m\u001b]8;id=627239;file:///home/strickvl/coding/zenml-projects/llm-lora-finetuning/datagen/lib/python3.10/site-packages/distilabel/pipeline.py#612\u001b\\\u001b[2m612\u001b[0m\u001b]8;;\u001b\\\n"
      ]
     },
     "metadata": {},
     "output_type": "display_data"
    },
    {
     "data": {
      "text/html": [
       "<pre style=\"white-space:pre;overflow-x:auto;line-height:normal;font-family:Menlo,'DejaVu Sans Mono',consolas,'Courier New',monospace\"><span style=\"color: #7fbfbf; text-decoration-color: #7fbfbf\">15:59:55 </span><span style=\"color: #000080; text-decoration-color: #000080\">INFO    </span> <span style=\"font-weight: bold\">[</span>PID: <span style=\"color: #008080; text-decoration-color: #008080; font-weight: bold\">12332</span><span style=\"font-weight: bold\">]</span> Processing batch <span style=\"color: #008080; text-decoration-color: #008080; font-weight: bold\">7</span> of <span style=\"color: #008080; text-decoration-color: #008080; font-weight: bold\">13</span><span style=\"color: #808000; text-decoration-color: #808000\">...</span>                                          <a href=\"file:///home/strickvl/coding/zenml-projects/llm-lora-finetuning/datagen/lib/python3.10/site-packages/distilabel/pipeline.py\" target=\"_blank\"><span style=\"color: #7f7f7f; text-decoration-color: #7f7f7f\">pipeline.py</span></a><span style=\"color: #7f7f7f; text-decoration-color: #7f7f7f\">:</span><a href=\"file:///home/strickvl/coding/zenml-projects/llm-lora-finetuning/datagen/lib/python3.10/site-packages/distilabel/pipeline.py#577\" target=\"_blank\"><span style=\"color: #7f7f7f; text-decoration-color: #7f7f7f\">577</span></a>\n",
       "</pre>\n"
      ],
      "text/plain": [
       "\u001b[2;36m15:59:55\u001b[0m\u001b[2;36m \u001b[0m\u001b[34mINFO    \u001b[0m \u001b[1m[\u001b[0mPID: \u001b[1;36m12332\u001b[0m\u001b[1m]\u001b[0m Processing batch \u001b[1;36m7\u001b[0m of \u001b[1;36m13\u001b[0m\u001b[33m...\u001b[0m                                          \u001b]8;id=846513;file:///home/strickvl/coding/zenml-projects/llm-lora-finetuning/datagen/lib/python3.10/site-packages/distilabel/pipeline.py\u001b\\\u001b[2mpipeline.py\u001b[0m\u001b]8;;\u001b\\\u001b[2m:\u001b[0m\u001b]8;id=209144;file:///home/strickvl/coding/zenml-projects/llm-lora-finetuning/datagen/lib/python3.10/site-packages/distilabel/pipeline.py#577\u001b\\\u001b[2m577\u001b[0m\u001b]8;;\u001b\\\n"
      ]
     },
     "metadata": {},
     "output_type": "display_data"
    },
    {
     "data": {
      "text/html": [
       "<pre style=\"white-space:pre;overflow-x:auto;line-height:normal;font-family:Menlo,'DejaVu Sans Mono',consolas,'Courier New',monospace\"><span style=\"color: #7fbfbf; text-decoration-color: #7fbfbf\">         </span><span style=\"color: #000080; text-decoration-color: #000080\">INFO    </span> <span style=\"font-weight: bold\">[</span>PID: <span style=\"color: #008080; text-decoration-color: #008080; font-weight: bold\">12332</span><span style=\"font-weight: bold\">]</span> Calling generator for batch <span style=\"color: #008080; text-decoration-color: #008080; font-weight: bold\">7</span><span style=\"color: #808000; text-decoration-color: #808000\">...</span>                                     <a href=\"file:///home/strickvl/coding/zenml-projects/llm-lora-finetuning/datagen/lib/python3.10/site-packages/distilabel/pipeline.py\" target=\"_blank\"><span style=\"color: #7f7f7f; text-decoration-color: #7f7f7f\">pipeline.py</span></a><span style=\"color: #7f7f7f; text-decoration-color: #7f7f7f\">:</span><a href=\"file:///home/strickvl/coding/zenml-projects/llm-lora-finetuning/datagen/lib/python3.10/site-packages/distilabel/pipeline.py#581\" target=\"_blank\"><span style=\"color: #7f7f7f; text-decoration-color: #7f7f7f\">581</span></a>\n",
       "</pre>\n"
      ],
      "text/plain": [
       "\u001b[2;36m        \u001b[0m\u001b[2;36m \u001b[0m\u001b[34mINFO    \u001b[0m \u001b[1m[\u001b[0mPID: \u001b[1;36m12332\u001b[0m\u001b[1m]\u001b[0m Calling generator for batch \u001b[1;36m7\u001b[0m\u001b[33m...\u001b[0m                                     \u001b]8;id=374109;file:///home/strickvl/coding/zenml-projects/llm-lora-finetuning/datagen/lib/python3.10/site-packages/distilabel/pipeline.py\u001b\\\u001b[2mpipeline.py\u001b[0m\u001b]8;;\u001b\\\u001b[2m:\u001b[0m\u001b]8;id=105775;file:///home/strickvl/coding/zenml-projects/llm-lora-finetuning/datagen/lib/python3.10/site-packages/distilabel/pipeline.py#581\u001b\\\u001b[2m581\u001b[0m\u001b]8;;\u001b\\\n"
      ]
     },
     "metadata": {},
     "output_type": "display_data"
    },
    {
     "data": {
      "text/html": [
       "<pre style=\"white-space:pre;overflow-x:auto;line-height:normal;font-family:Menlo,'DejaVu Sans Mono',consolas,'Courier New',monospace\"><span style=\"color: #7fbfbf; text-decoration-color: #7fbfbf\">16:00:50 </span><span style=\"color: #000080; text-decoration-color: #000080\">INFO    </span> <span style=\"font-weight: bold\">[</span>PID: <span style=\"color: #008080; text-decoration-color: #008080; font-weight: bold\">12332</span><span style=\"font-weight: bold\">]</span> Calling labeller for batch <span style=\"color: #008080; text-decoration-color: #008080; font-weight: bold\">7</span><span style=\"color: #808000; text-decoration-color: #808000\">...</span>                                      <a href=\"file:///home/strickvl/coding/zenml-projects/llm-lora-finetuning/datagen/lib/python3.10/site-packages/distilabel/pipeline.py\" target=\"_blank\"><span style=\"color: #7f7f7f; text-decoration-color: #7f7f7f\">pipeline.py</span></a><span style=\"color: #7f7f7f; text-decoration-color: #7f7f7f\">:</span><a href=\"file:///home/strickvl/coding/zenml-projects/llm-lora-finetuning/datagen/lib/python3.10/site-packages/distilabel/pipeline.py#612\" target=\"_blank\"><span style=\"color: #7f7f7f; text-decoration-color: #7f7f7f\">612</span></a>\n",
       "</pre>\n"
      ],
      "text/plain": [
       "\u001b[2;36m16:00:50\u001b[0m\u001b[2;36m \u001b[0m\u001b[34mINFO    \u001b[0m \u001b[1m[\u001b[0mPID: \u001b[1;36m12332\u001b[0m\u001b[1m]\u001b[0m Calling labeller for batch \u001b[1;36m7\u001b[0m\u001b[33m...\u001b[0m                                      \u001b]8;id=934701;file:///home/strickvl/coding/zenml-projects/llm-lora-finetuning/datagen/lib/python3.10/site-packages/distilabel/pipeline.py\u001b\\\u001b[2mpipeline.py\u001b[0m\u001b]8;;\u001b\\\u001b[2m:\u001b[0m\u001b]8;id=808687;file:///home/strickvl/coding/zenml-projects/llm-lora-finetuning/datagen/lib/python3.10/site-packages/distilabel/pipeline.py#612\u001b\\\u001b[2m612\u001b[0m\u001b]8;;\u001b\\\n"
      ]
     },
     "metadata": {},
     "output_type": "display_data"
    },
    {
     "data": {
      "text/html": [
       "<pre style=\"white-space:pre;overflow-x:auto;line-height:normal;font-family:Menlo,'DejaVu Sans Mono',consolas,'Courier New',monospace\"><span style=\"color: #7fbfbf; text-decoration-color: #7fbfbf\">16:01:07 </span><span style=\"color: #000080; text-decoration-color: #000080\">INFO    </span> <span style=\"font-weight: bold\">[</span>PID: <span style=\"color: #008080; text-decoration-color: #008080; font-weight: bold\">12332</span><span style=\"font-weight: bold\">]</span> Processing batch <span style=\"color: #008080; text-decoration-color: #008080; font-weight: bold\">8</span> of <span style=\"color: #008080; text-decoration-color: #008080; font-weight: bold\">13</span><span style=\"color: #808000; text-decoration-color: #808000\">...</span>                                          <a href=\"file:///home/strickvl/coding/zenml-projects/llm-lora-finetuning/datagen/lib/python3.10/site-packages/distilabel/pipeline.py\" target=\"_blank\"><span style=\"color: #7f7f7f; text-decoration-color: #7f7f7f\">pipeline.py</span></a><span style=\"color: #7f7f7f; text-decoration-color: #7f7f7f\">:</span><a href=\"file:///home/strickvl/coding/zenml-projects/llm-lora-finetuning/datagen/lib/python3.10/site-packages/distilabel/pipeline.py#577\" target=\"_blank\"><span style=\"color: #7f7f7f; text-decoration-color: #7f7f7f\">577</span></a>\n",
       "</pre>\n"
      ],
      "text/plain": [
       "\u001b[2;36m16:01:07\u001b[0m\u001b[2;36m \u001b[0m\u001b[34mINFO    \u001b[0m \u001b[1m[\u001b[0mPID: \u001b[1;36m12332\u001b[0m\u001b[1m]\u001b[0m Processing batch \u001b[1;36m8\u001b[0m of \u001b[1;36m13\u001b[0m\u001b[33m...\u001b[0m                                          \u001b]8;id=898051;file:///home/strickvl/coding/zenml-projects/llm-lora-finetuning/datagen/lib/python3.10/site-packages/distilabel/pipeline.py\u001b\\\u001b[2mpipeline.py\u001b[0m\u001b]8;;\u001b\\\u001b[2m:\u001b[0m\u001b]8;id=246684;file:///home/strickvl/coding/zenml-projects/llm-lora-finetuning/datagen/lib/python3.10/site-packages/distilabel/pipeline.py#577\u001b\\\u001b[2m577\u001b[0m\u001b]8;;\u001b\\\n"
      ]
     },
     "metadata": {},
     "output_type": "display_data"
    },
    {
     "data": {
      "text/html": [
       "<pre style=\"white-space:pre;overflow-x:auto;line-height:normal;font-family:Menlo,'DejaVu Sans Mono',consolas,'Courier New',monospace\"><span style=\"color: #7fbfbf; text-decoration-color: #7fbfbf\">         </span><span style=\"color: #000080; text-decoration-color: #000080\">INFO    </span> <span style=\"font-weight: bold\">[</span>PID: <span style=\"color: #008080; text-decoration-color: #008080; font-weight: bold\">12332</span><span style=\"font-weight: bold\">]</span> Calling generator for batch <span style=\"color: #008080; text-decoration-color: #008080; font-weight: bold\">8</span><span style=\"color: #808000; text-decoration-color: #808000\">...</span>                                     <a href=\"file:///home/strickvl/coding/zenml-projects/llm-lora-finetuning/datagen/lib/python3.10/site-packages/distilabel/pipeline.py\" target=\"_blank\"><span style=\"color: #7f7f7f; text-decoration-color: #7f7f7f\">pipeline.py</span></a><span style=\"color: #7f7f7f; text-decoration-color: #7f7f7f\">:</span><a href=\"file:///home/strickvl/coding/zenml-projects/llm-lora-finetuning/datagen/lib/python3.10/site-packages/distilabel/pipeline.py#581\" target=\"_blank\"><span style=\"color: #7f7f7f; text-decoration-color: #7f7f7f\">581</span></a>\n",
       "</pre>\n"
      ],
      "text/plain": [
       "\u001b[2;36m        \u001b[0m\u001b[2;36m \u001b[0m\u001b[34mINFO    \u001b[0m \u001b[1m[\u001b[0mPID: \u001b[1;36m12332\u001b[0m\u001b[1m]\u001b[0m Calling generator for batch \u001b[1;36m8\u001b[0m\u001b[33m...\u001b[0m                                     \u001b]8;id=324708;file:///home/strickvl/coding/zenml-projects/llm-lora-finetuning/datagen/lib/python3.10/site-packages/distilabel/pipeline.py\u001b\\\u001b[2mpipeline.py\u001b[0m\u001b]8;;\u001b\\\u001b[2m:\u001b[0m\u001b]8;id=564809;file:///home/strickvl/coding/zenml-projects/llm-lora-finetuning/datagen/lib/python3.10/site-packages/distilabel/pipeline.py#581\u001b\\\u001b[2m581\u001b[0m\u001b]8;;\u001b\\\n"
      ]
     },
     "metadata": {},
     "output_type": "display_data"
    },
    {
     "data": {
      "text/html": [
       "<pre style=\"white-space:pre;overflow-x:auto;line-height:normal;font-family:Menlo,'DejaVu Sans Mono',consolas,'Courier New',monospace\"><span style=\"color: #7fbfbf; text-decoration-color: #7fbfbf\">16:01:59 </span><span style=\"color: #000080; text-decoration-color: #000080\">INFO    </span> <span style=\"font-weight: bold\">[</span>PID: <span style=\"color: #008080; text-decoration-color: #008080; font-weight: bold\">12332</span><span style=\"font-weight: bold\">]</span> Calling labeller for batch <span style=\"color: #008080; text-decoration-color: #008080; font-weight: bold\">8</span><span style=\"color: #808000; text-decoration-color: #808000\">...</span>                                      <a href=\"file:///home/strickvl/coding/zenml-projects/llm-lora-finetuning/datagen/lib/python3.10/site-packages/distilabel/pipeline.py\" target=\"_blank\"><span style=\"color: #7f7f7f; text-decoration-color: #7f7f7f\">pipeline.py</span></a><span style=\"color: #7f7f7f; text-decoration-color: #7f7f7f\">:</span><a href=\"file:///home/strickvl/coding/zenml-projects/llm-lora-finetuning/datagen/lib/python3.10/site-packages/distilabel/pipeline.py#612\" target=\"_blank\"><span style=\"color: #7f7f7f; text-decoration-color: #7f7f7f\">612</span></a>\n",
       "</pre>\n"
      ],
      "text/plain": [
       "\u001b[2;36m16:01:59\u001b[0m\u001b[2;36m \u001b[0m\u001b[34mINFO    \u001b[0m \u001b[1m[\u001b[0mPID: \u001b[1;36m12332\u001b[0m\u001b[1m]\u001b[0m Calling labeller for batch \u001b[1;36m8\u001b[0m\u001b[33m...\u001b[0m                                      \u001b]8;id=501576;file:///home/strickvl/coding/zenml-projects/llm-lora-finetuning/datagen/lib/python3.10/site-packages/distilabel/pipeline.py\u001b\\\u001b[2mpipeline.py\u001b[0m\u001b]8;;\u001b\\\u001b[2m:\u001b[0m\u001b]8;id=614327;file:///home/strickvl/coding/zenml-projects/llm-lora-finetuning/datagen/lib/python3.10/site-packages/distilabel/pipeline.py#612\u001b\\\u001b[2m612\u001b[0m\u001b]8;;\u001b\\\n"
      ]
     },
     "metadata": {},
     "output_type": "display_data"
    },
    {
     "data": {
      "text/html": [
       "<pre style=\"white-space:pre;overflow-x:auto;line-height:normal;font-family:Menlo,'DejaVu Sans Mono',consolas,'Courier New',monospace\"><span style=\"color: #7fbfbf; text-decoration-color: #7fbfbf\">16:02:14 </span><span style=\"color: #000080; text-decoration-color: #000080\">INFO    </span> <span style=\"font-weight: bold\">[</span>PID: <span style=\"color: #008080; text-decoration-color: #008080; font-weight: bold\">12332</span><span style=\"font-weight: bold\">]</span> Processing batch <span style=\"color: #008080; text-decoration-color: #008080; font-weight: bold\">9</span> of <span style=\"color: #008080; text-decoration-color: #008080; font-weight: bold\">13</span><span style=\"color: #808000; text-decoration-color: #808000\">...</span>                                          <a href=\"file:///home/strickvl/coding/zenml-projects/llm-lora-finetuning/datagen/lib/python3.10/site-packages/distilabel/pipeline.py\" target=\"_blank\"><span style=\"color: #7f7f7f; text-decoration-color: #7f7f7f\">pipeline.py</span></a><span style=\"color: #7f7f7f; text-decoration-color: #7f7f7f\">:</span><a href=\"file:///home/strickvl/coding/zenml-projects/llm-lora-finetuning/datagen/lib/python3.10/site-packages/distilabel/pipeline.py#577\" target=\"_blank\"><span style=\"color: #7f7f7f; text-decoration-color: #7f7f7f\">577</span></a>\n",
       "</pre>\n"
      ],
      "text/plain": [
       "\u001b[2;36m16:02:14\u001b[0m\u001b[2;36m \u001b[0m\u001b[34mINFO    \u001b[0m \u001b[1m[\u001b[0mPID: \u001b[1;36m12332\u001b[0m\u001b[1m]\u001b[0m Processing batch \u001b[1;36m9\u001b[0m of \u001b[1;36m13\u001b[0m\u001b[33m...\u001b[0m                                          \u001b]8;id=45479;file:///home/strickvl/coding/zenml-projects/llm-lora-finetuning/datagen/lib/python3.10/site-packages/distilabel/pipeline.py\u001b\\\u001b[2mpipeline.py\u001b[0m\u001b]8;;\u001b\\\u001b[2m:\u001b[0m\u001b]8;id=286723;file:///home/strickvl/coding/zenml-projects/llm-lora-finetuning/datagen/lib/python3.10/site-packages/distilabel/pipeline.py#577\u001b\\\u001b[2m577\u001b[0m\u001b]8;;\u001b\\\n"
      ]
     },
     "metadata": {},
     "output_type": "display_data"
    },
    {
     "data": {
      "text/html": [
       "<pre style=\"white-space:pre;overflow-x:auto;line-height:normal;font-family:Menlo,'DejaVu Sans Mono',consolas,'Courier New',monospace\"><span style=\"color: #7fbfbf; text-decoration-color: #7fbfbf\">16:03:04 </span><span style=\"color: #000080; text-decoration-color: #000080\">INFO    </span> <span style=\"font-weight: bold\">[</span>PID: <span style=\"color: #008080; text-decoration-color: #008080; font-weight: bold\">12332</span><span style=\"font-weight: bold\">]</span> Calling labeller for batch <span style=\"color: #008080; text-decoration-color: #008080; font-weight: bold\">9</span><span style=\"color: #808000; text-decoration-color: #808000\">...</span>                                      <a href=\"file:///home/strickvl/coding/zenml-projects/llm-lora-finetuning/datagen/lib/python3.10/site-packages/distilabel/pipeline.py\" target=\"_blank\"><span style=\"color: #7f7f7f; text-decoration-color: #7f7f7f\">pipeline.py</span></a><span style=\"color: #7f7f7f; text-decoration-color: #7f7f7f\">:</span><a href=\"file:///home/strickvl/coding/zenml-projects/llm-lora-finetuning/datagen/lib/python3.10/site-packages/distilabel/pipeline.py#612\" target=\"_blank\"><span style=\"color: #7f7f7f; text-decoration-color: #7f7f7f\">612</span></a>\n",
       "</pre>\n"
      ],
      "text/plain": [
       "\u001b[2;36m16:03:04\u001b[0m\u001b[2;36m \u001b[0m\u001b[34mINFO    \u001b[0m \u001b[1m[\u001b[0mPID: \u001b[1;36m12332\u001b[0m\u001b[1m]\u001b[0m Calling labeller for batch \u001b[1;36m9\u001b[0m\u001b[33m...\u001b[0m                                      \u001b]8;id=461166;file:///home/strickvl/coding/zenml-projects/llm-lora-finetuning/datagen/lib/python3.10/site-packages/distilabel/pipeline.py\u001b\\\u001b[2mpipeline.py\u001b[0m\u001b]8;;\u001b\\\u001b[2m:\u001b[0m\u001b]8;id=999973;file:///home/strickvl/coding/zenml-projects/llm-lora-finetuning/datagen/lib/python3.10/site-packages/distilabel/pipeline.py#612\u001b\\\u001b[2m612\u001b[0m\u001b]8;;\u001b\\\n"
      ]
     },
     "metadata": {},
     "output_type": "display_data"
    },
    {
     "data": {
      "text/html": [
       "<pre style=\"white-space:pre;overflow-x:auto;line-height:normal;font-family:Menlo,'DejaVu Sans Mono',consolas,'Courier New',monospace\"><span style=\"color: #7fbfbf; text-decoration-color: #7fbfbf\">16:03:20 </span><span style=\"color: #000080; text-decoration-color: #000080\">INFO    </span> <span style=\"font-weight: bold\">[</span>PID: <span style=\"color: #008080; text-decoration-color: #008080; font-weight: bold\">12332</span><span style=\"font-weight: bold\">]</span> Processing batch <span style=\"color: #008080; text-decoration-color: #008080; font-weight: bold\">10</span> of <span style=\"color: #008080; text-decoration-color: #008080; font-weight: bold\">13</span><span style=\"color: #808000; text-decoration-color: #808000\">...</span>                                         <a href=\"file:///home/strickvl/coding/zenml-projects/llm-lora-finetuning/datagen/lib/python3.10/site-packages/distilabel/pipeline.py\" target=\"_blank\"><span style=\"color: #7f7f7f; text-decoration-color: #7f7f7f\">pipeline.py</span></a><span style=\"color: #7f7f7f; text-decoration-color: #7f7f7f\">:</span><a href=\"file:///home/strickvl/coding/zenml-projects/llm-lora-finetuning/datagen/lib/python3.10/site-packages/distilabel/pipeline.py#577\" target=\"_blank\"><span style=\"color: #7f7f7f; text-decoration-color: #7f7f7f\">577</span></a>\n",
       "</pre>\n"
      ],
      "text/plain": [
       "\u001b[2;36m16:03:20\u001b[0m\u001b[2;36m \u001b[0m\u001b[34mINFO    \u001b[0m \u001b[1m[\u001b[0mPID: \u001b[1;36m12332\u001b[0m\u001b[1m]\u001b[0m Processing batch \u001b[1;36m10\u001b[0m of \u001b[1;36m13\u001b[0m\u001b[33m...\u001b[0m                                         \u001b]8;id=926042;file:///home/strickvl/coding/zenml-projects/llm-lora-finetuning/datagen/lib/python3.10/site-packages/distilabel/pipeline.py\u001b\\\u001b[2mpipeline.py\u001b[0m\u001b]8;;\u001b\\\u001b[2m:\u001b[0m\u001b]8;id=201728;file:///home/strickvl/coding/zenml-projects/llm-lora-finetuning/datagen/lib/python3.10/site-packages/distilabel/pipeline.py#577\u001b\\\u001b[2m577\u001b[0m\u001b]8;;\u001b\\\n"
      ]
     },
     "metadata": {},
     "output_type": "display_data"
    },
    {
     "data": {
      "text/html": [
       "<pre style=\"white-space:pre;overflow-x:auto;line-height:normal;font-family:Menlo,'DejaVu Sans Mono',consolas,'Courier New',monospace\"><span style=\"color: #7fbfbf; text-decoration-color: #7fbfbf\">         </span><span style=\"color: #000080; text-decoration-color: #000080\">INFO    </span> <span style=\"font-weight: bold\">[</span>PID: <span style=\"color: #008080; text-decoration-color: #008080; font-weight: bold\">12332</span><span style=\"font-weight: bold\">]</span> Calling generator for batch <span style=\"color: #008080; text-decoration-color: #008080; font-weight: bold\">10</span><span style=\"color: #808000; text-decoration-color: #808000\">...</span>                                    <a href=\"file:///home/strickvl/coding/zenml-projects/llm-lora-finetuning/datagen/lib/python3.10/site-packages/distilabel/pipeline.py\" target=\"_blank\"><span style=\"color: #7f7f7f; text-decoration-color: #7f7f7f\">pipeline.py</span></a><span style=\"color: #7f7f7f; text-decoration-color: #7f7f7f\">:</span><a href=\"file:///home/strickvl/coding/zenml-projects/llm-lora-finetuning/datagen/lib/python3.10/site-packages/distilabel/pipeline.py#581\" target=\"_blank\"><span style=\"color: #7f7f7f; text-decoration-color: #7f7f7f\">581</span></a>\n",
       "</pre>\n"
      ],
      "text/plain": [
       "\u001b[2;36m        \u001b[0m\u001b[2;36m \u001b[0m\u001b[34mINFO    \u001b[0m \u001b[1m[\u001b[0mPID: \u001b[1;36m12332\u001b[0m\u001b[1m]\u001b[0m Calling generator for batch \u001b[1;36m10\u001b[0m\u001b[33m...\u001b[0m                                    \u001b]8;id=790891;file:///home/strickvl/coding/zenml-projects/llm-lora-finetuning/datagen/lib/python3.10/site-packages/distilabel/pipeline.py\u001b\\\u001b[2mpipeline.py\u001b[0m\u001b]8;;\u001b\\\u001b[2m:\u001b[0m\u001b]8;id=619552;file:///home/strickvl/coding/zenml-projects/llm-lora-finetuning/datagen/lib/python3.10/site-packages/distilabel/pipeline.py#581\u001b\\\u001b[2m581\u001b[0m\u001b]8;;\u001b\\\n"
      ]
     },
     "metadata": {},
     "output_type": "display_data"
    },
    {
     "data": {
      "text/html": [
       "<pre style=\"white-space:pre;overflow-x:auto;line-height:normal;font-family:Menlo,'DejaVu Sans Mono',consolas,'Courier New',monospace\"><span style=\"color: #7fbfbf; text-decoration-color: #7fbfbf\">16:04:13 </span><span style=\"color: #000080; text-decoration-color: #000080\">INFO    </span> <span style=\"font-weight: bold\">[</span>PID: <span style=\"color: #008080; text-decoration-color: #008080; font-weight: bold\">12332</span><span style=\"font-weight: bold\">]</span> Calling labeller for batch <span style=\"color: #008080; text-decoration-color: #008080; font-weight: bold\">10</span><span style=\"color: #808000; text-decoration-color: #808000\">...</span>                                     <a href=\"file:///home/strickvl/coding/zenml-projects/llm-lora-finetuning/datagen/lib/python3.10/site-packages/distilabel/pipeline.py\" target=\"_blank\"><span style=\"color: #7f7f7f; text-decoration-color: #7f7f7f\">pipeline.py</span></a><span style=\"color: #7f7f7f; text-decoration-color: #7f7f7f\">:</span><a href=\"file:///home/strickvl/coding/zenml-projects/llm-lora-finetuning/datagen/lib/python3.10/site-packages/distilabel/pipeline.py#612\" target=\"_blank\"><span style=\"color: #7f7f7f; text-decoration-color: #7f7f7f\">612</span></a>\n",
       "</pre>\n"
      ],
      "text/plain": [
       "\u001b[2;36m16:04:13\u001b[0m\u001b[2;36m \u001b[0m\u001b[34mINFO    \u001b[0m \u001b[1m[\u001b[0mPID: \u001b[1;36m12332\u001b[0m\u001b[1m]\u001b[0m Calling labeller for batch \u001b[1;36m10\u001b[0m\u001b[33m...\u001b[0m                                     \u001b]8;id=298524;file:///home/strickvl/coding/zenml-projects/llm-lora-finetuning/datagen/lib/python3.10/site-packages/distilabel/pipeline.py\u001b\\\u001b[2mpipeline.py\u001b[0m\u001b]8;;\u001b\\\u001b[2m:\u001b[0m\u001b]8;id=270176;file:///home/strickvl/coding/zenml-projects/llm-lora-finetuning/datagen/lib/python3.10/site-packages/distilabel/pipeline.py#612\u001b\\\u001b[2m612\u001b[0m\u001b]8;;\u001b\\\n"
      ]
     },
     "metadata": {},
     "output_type": "display_data"
    },
    {
     "data": {
      "text/html": [
       "<pre style=\"white-space:pre;overflow-x:auto;line-height:normal;font-family:Menlo,'DejaVu Sans Mono',consolas,'Courier New',monospace\"><span style=\"color: #7fbfbf; text-decoration-color: #7fbfbf\">16:04:30 </span><span style=\"color: #000080; text-decoration-color: #000080\">INFO    </span> <span style=\"font-weight: bold\">[</span>PID: <span style=\"color: #008080; text-decoration-color: #008080; font-weight: bold\">12332</span><span style=\"font-weight: bold\">]</span> Processing batch <span style=\"color: #008080; text-decoration-color: #008080; font-weight: bold\">11</span> of <span style=\"color: #008080; text-decoration-color: #008080; font-weight: bold\">13</span><span style=\"color: #808000; text-decoration-color: #808000\">...</span>                                         <a href=\"file:///home/strickvl/coding/zenml-projects/llm-lora-finetuning/datagen/lib/python3.10/site-packages/distilabel/pipeline.py\" target=\"_blank\"><span style=\"color: #7f7f7f; text-decoration-color: #7f7f7f\">pipeline.py</span></a><span style=\"color: #7f7f7f; text-decoration-color: #7f7f7f\">:</span><a href=\"file:///home/strickvl/coding/zenml-projects/llm-lora-finetuning/datagen/lib/python3.10/site-packages/distilabel/pipeline.py#577\" target=\"_blank\"><span style=\"color: #7f7f7f; text-decoration-color: #7f7f7f\">577</span></a>\n",
       "</pre>\n"
      ],
      "text/plain": [
       "\u001b[2;36m16:04:30\u001b[0m\u001b[2;36m \u001b[0m\u001b[34mINFO    \u001b[0m \u001b[1m[\u001b[0mPID: \u001b[1;36m12332\u001b[0m\u001b[1m]\u001b[0m Processing batch \u001b[1;36m11\u001b[0m of \u001b[1;36m13\u001b[0m\u001b[33m...\u001b[0m                                         \u001b]8;id=168282;file:///home/strickvl/coding/zenml-projects/llm-lora-finetuning/datagen/lib/python3.10/site-packages/distilabel/pipeline.py\u001b\\\u001b[2mpipeline.py\u001b[0m\u001b]8;;\u001b\\\u001b[2m:\u001b[0m\u001b]8;id=168954;file:///home/strickvl/coding/zenml-projects/llm-lora-finetuning/datagen/lib/python3.10/site-packages/distilabel/pipeline.py#577\u001b\\\u001b[2m577\u001b[0m\u001b]8;;\u001b\\\n"
      ]
     },
     "metadata": {},
     "output_type": "display_data"
    },
    {
     "data": {
      "text/html": [
       "<pre style=\"white-space:pre;overflow-x:auto;line-height:normal;font-family:Menlo,'DejaVu Sans Mono',consolas,'Courier New',monospace\"><span style=\"color: #7fbfbf; text-decoration-color: #7fbfbf\">         </span><span style=\"color: #000080; text-decoration-color: #000080\">INFO    </span> <span style=\"font-weight: bold\">[</span>PID: <span style=\"color: #008080; text-decoration-color: #008080; font-weight: bold\">12332</span><span style=\"font-weight: bold\">]</span> Calling generator for batch <span style=\"color: #008080; text-decoration-color: #008080; font-weight: bold\">11</span><span style=\"color: #808000; text-decoration-color: #808000\">...</span>                                    <a href=\"file:///home/strickvl/coding/zenml-projects/llm-lora-finetuning/datagen/lib/python3.10/site-packages/distilabel/pipeline.py\" target=\"_blank\"><span style=\"color: #7f7f7f; text-decoration-color: #7f7f7f\">pipeline.py</span></a><span style=\"color: #7f7f7f; text-decoration-color: #7f7f7f\">:</span><a href=\"file:///home/strickvl/coding/zenml-projects/llm-lora-finetuning/datagen/lib/python3.10/site-packages/distilabel/pipeline.py#581\" target=\"_blank\"><span style=\"color: #7f7f7f; text-decoration-color: #7f7f7f\">581</span></a>\n",
       "</pre>\n"
      ],
      "text/plain": [
       "\u001b[2;36m        \u001b[0m\u001b[2;36m \u001b[0m\u001b[34mINFO    \u001b[0m \u001b[1m[\u001b[0mPID: \u001b[1;36m12332\u001b[0m\u001b[1m]\u001b[0m Calling generator for batch \u001b[1;36m11\u001b[0m\u001b[33m...\u001b[0m                                    \u001b]8;id=40458;file:///home/strickvl/coding/zenml-projects/llm-lora-finetuning/datagen/lib/python3.10/site-packages/distilabel/pipeline.py\u001b\\\u001b[2mpipeline.py\u001b[0m\u001b]8;;\u001b\\\u001b[2m:\u001b[0m\u001b]8;id=52299;file:///home/strickvl/coding/zenml-projects/llm-lora-finetuning/datagen/lib/python3.10/site-packages/distilabel/pipeline.py#581\u001b\\\u001b[2m581\u001b[0m\u001b]8;;\u001b\\\n"
      ]
     },
     "metadata": {},
     "output_type": "display_data"
    },
    {
     "data": {
      "text/html": [
       "<pre style=\"white-space:pre;overflow-x:auto;line-height:normal;font-family:Menlo,'DejaVu Sans Mono',consolas,'Courier New',monospace\"><span style=\"color: #7fbfbf; text-decoration-color: #7fbfbf\">16:05:23 </span><span style=\"color: #000080; text-decoration-color: #000080\">INFO    </span> <span style=\"font-weight: bold\">[</span>PID: <span style=\"color: #008080; text-decoration-color: #008080; font-weight: bold\">12332</span><span style=\"font-weight: bold\">]</span> Calling labeller for batch <span style=\"color: #008080; text-decoration-color: #008080; font-weight: bold\">11</span><span style=\"color: #808000; text-decoration-color: #808000\">...</span>                                     <a href=\"file:///home/strickvl/coding/zenml-projects/llm-lora-finetuning/datagen/lib/python3.10/site-packages/distilabel/pipeline.py\" target=\"_blank\"><span style=\"color: #7f7f7f; text-decoration-color: #7f7f7f\">pipeline.py</span></a><span style=\"color: #7f7f7f; text-decoration-color: #7f7f7f\">:</span><a href=\"file:///home/strickvl/coding/zenml-projects/llm-lora-finetuning/datagen/lib/python3.10/site-packages/distilabel/pipeline.py#612\" target=\"_blank\"><span style=\"color: #7f7f7f; text-decoration-color: #7f7f7f\">612</span></a>\n",
       "</pre>\n"
      ],
      "text/plain": [
       "\u001b[2;36m16:05:23\u001b[0m\u001b[2;36m \u001b[0m\u001b[34mINFO    \u001b[0m \u001b[1m[\u001b[0mPID: \u001b[1;36m12332\u001b[0m\u001b[1m]\u001b[0m Calling labeller for batch \u001b[1;36m11\u001b[0m\u001b[33m...\u001b[0m                                     \u001b]8;id=159109;file:///home/strickvl/coding/zenml-projects/llm-lora-finetuning/datagen/lib/python3.10/site-packages/distilabel/pipeline.py\u001b\\\u001b[2mpipeline.py\u001b[0m\u001b]8;;\u001b\\\u001b[2m:\u001b[0m\u001b]8;id=274863;file:///home/strickvl/coding/zenml-projects/llm-lora-finetuning/datagen/lib/python3.10/site-packages/distilabel/pipeline.py#612\u001b\\\u001b[2m612\u001b[0m\u001b]8;;\u001b\\\n"
      ]
     },
     "metadata": {},
     "output_type": "display_data"
    },
    {
     "data": {
      "text/html": [
       "<pre style=\"white-space:pre;overflow-x:auto;line-height:normal;font-family:Menlo,'DejaVu Sans Mono',consolas,'Courier New',monospace\"><span style=\"color: #7fbfbf; text-decoration-color: #7fbfbf\">16:05:40 </span><span style=\"color: #000080; text-decoration-color: #000080\">INFO    </span> <span style=\"font-weight: bold\">[</span>PID: <span style=\"color: #008080; text-decoration-color: #008080; font-weight: bold\">12332</span><span style=\"font-weight: bold\">]</span> Processing batch <span style=\"color: #008080; text-decoration-color: #008080; font-weight: bold\">12</span> of <span style=\"color: #008080; text-decoration-color: #008080; font-weight: bold\">13</span><span style=\"color: #808000; text-decoration-color: #808000\">...</span>                                         <a href=\"file:///home/strickvl/coding/zenml-projects/llm-lora-finetuning/datagen/lib/python3.10/site-packages/distilabel/pipeline.py\" target=\"_blank\"><span style=\"color: #7f7f7f; text-decoration-color: #7f7f7f\">pipeline.py</span></a><span style=\"color: #7f7f7f; text-decoration-color: #7f7f7f\">:</span><a href=\"file:///home/strickvl/coding/zenml-projects/llm-lora-finetuning/datagen/lib/python3.10/site-packages/distilabel/pipeline.py#577\" target=\"_blank\"><span style=\"color: #7f7f7f; text-decoration-color: #7f7f7f\">577</span></a>\n",
       "</pre>\n"
      ],
      "text/plain": [
       "\u001b[2;36m16:05:40\u001b[0m\u001b[2;36m \u001b[0m\u001b[34mINFO    \u001b[0m \u001b[1m[\u001b[0mPID: \u001b[1;36m12332\u001b[0m\u001b[1m]\u001b[0m Processing batch \u001b[1;36m12\u001b[0m of \u001b[1;36m13\u001b[0m\u001b[33m...\u001b[0m                                         \u001b]8;id=393337;file:///home/strickvl/coding/zenml-projects/llm-lora-finetuning/datagen/lib/python3.10/site-packages/distilabel/pipeline.py\u001b\\\u001b[2mpipeline.py\u001b[0m\u001b]8;;\u001b\\\u001b[2m:\u001b[0m\u001b]8;id=621624;file:///home/strickvl/coding/zenml-projects/llm-lora-finetuning/datagen/lib/python3.10/site-packages/distilabel/pipeline.py#577\u001b\\\u001b[2m577\u001b[0m\u001b]8;;\u001b\\\n"
      ]
     },
     "metadata": {},
     "output_type": "display_data"
    },
    {
     "data": {
      "text/html": [
       "<pre style=\"white-space:pre;overflow-x:auto;line-height:normal;font-family:Menlo,'DejaVu Sans Mono',consolas,'Courier New',monospace\"><span style=\"color: #7fbfbf; text-decoration-color: #7fbfbf\">         </span><span style=\"color: #000080; text-decoration-color: #000080\">INFO    </span> <span style=\"font-weight: bold\">[</span>PID: <span style=\"color: #008080; text-decoration-color: #008080; font-weight: bold\">12332</span><span style=\"font-weight: bold\">]</span> Calling generator for batch <span style=\"color: #008080; text-decoration-color: #008080; font-weight: bold\">12</span><span style=\"color: #808000; text-decoration-color: #808000\">...</span>                                    <a href=\"file:///home/strickvl/coding/zenml-projects/llm-lora-finetuning/datagen/lib/python3.10/site-packages/distilabel/pipeline.py\" target=\"_blank\"><span style=\"color: #7f7f7f; text-decoration-color: #7f7f7f\">pipeline.py</span></a><span style=\"color: #7f7f7f; text-decoration-color: #7f7f7f\">:</span><a href=\"file:///home/strickvl/coding/zenml-projects/llm-lora-finetuning/datagen/lib/python3.10/site-packages/distilabel/pipeline.py#581\" target=\"_blank\"><span style=\"color: #7f7f7f; text-decoration-color: #7f7f7f\">581</span></a>\n",
       "</pre>\n"
      ],
      "text/plain": [
       "\u001b[2;36m        \u001b[0m\u001b[2;36m \u001b[0m\u001b[34mINFO    \u001b[0m \u001b[1m[\u001b[0mPID: \u001b[1;36m12332\u001b[0m\u001b[1m]\u001b[0m Calling generator for batch \u001b[1;36m12\u001b[0m\u001b[33m...\u001b[0m                                    \u001b]8;id=296545;file:///home/strickvl/coding/zenml-projects/llm-lora-finetuning/datagen/lib/python3.10/site-packages/distilabel/pipeline.py\u001b\\\u001b[2mpipeline.py\u001b[0m\u001b]8;;\u001b\\\u001b[2m:\u001b[0m\u001b]8;id=690136;file:///home/strickvl/coding/zenml-projects/llm-lora-finetuning/datagen/lib/python3.10/site-packages/distilabel/pipeline.py#581\u001b\\\u001b[2m581\u001b[0m\u001b]8;;\u001b\\\n"
      ]
     },
     "metadata": {},
     "output_type": "display_data"
    },
    {
     "data": {
      "text/html": [
       "<pre style=\"white-space:pre;overflow-x:auto;line-height:normal;font-family:Menlo,'DejaVu Sans Mono',consolas,'Courier New',monospace\"><span style=\"color: #7fbfbf; text-decoration-color: #7fbfbf\">16:06:32 </span><span style=\"color: #000080; text-decoration-color: #000080\">INFO    </span> <span style=\"font-weight: bold\">[</span>PID: <span style=\"color: #008080; text-decoration-color: #008080; font-weight: bold\">12332</span><span style=\"font-weight: bold\">]</span> Calling labeller for batch <span style=\"color: #008080; text-decoration-color: #008080; font-weight: bold\">12</span><span style=\"color: #808000; text-decoration-color: #808000\">...</span>                                     <a href=\"file:///home/strickvl/coding/zenml-projects/llm-lora-finetuning/datagen/lib/python3.10/site-packages/distilabel/pipeline.py\" target=\"_blank\"><span style=\"color: #7f7f7f; text-decoration-color: #7f7f7f\">pipeline.py</span></a><span style=\"color: #7f7f7f; text-decoration-color: #7f7f7f\">:</span><a href=\"file:///home/strickvl/coding/zenml-projects/llm-lora-finetuning/datagen/lib/python3.10/site-packages/distilabel/pipeline.py#612\" target=\"_blank\"><span style=\"color: #7f7f7f; text-decoration-color: #7f7f7f\">612</span></a>\n",
       "</pre>\n"
      ],
      "text/plain": [
       "\u001b[2;36m16:06:32\u001b[0m\u001b[2;36m \u001b[0m\u001b[34mINFO    \u001b[0m \u001b[1m[\u001b[0mPID: \u001b[1;36m12332\u001b[0m\u001b[1m]\u001b[0m Calling labeller for batch \u001b[1;36m12\u001b[0m\u001b[33m...\u001b[0m                                     \u001b]8;id=96412;file:///home/strickvl/coding/zenml-projects/llm-lora-finetuning/datagen/lib/python3.10/site-packages/distilabel/pipeline.py\u001b\\\u001b[2mpipeline.py\u001b[0m\u001b]8;;\u001b\\\u001b[2m:\u001b[0m\u001b]8;id=991591;file:///home/strickvl/coding/zenml-projects/llm-lora-finetuning/datagen/lib/python3.10/site-packages/distilabel/pipeline.py#612\u001b\\\u001b[2m612\u001b[0m\u001b]8;;\u001b\\\n"
      ]
     },
     "metadata": {},
     "output_type": "display_data"
    },
    {
     "data": {
      "text/html": [
       "<pre style=\"white-space:pre;overflow-x:auto;line-height:normal;font-family:Menlo,'DejaVu Sans Mono',consolas,'Courier New',monospace\"><span style=\"color: #7fbfbf; text-decoration-color: #7fbfbf\">16:06:46 </span><span style=\"color: #000080; text-decoration-color: #000080\">INFO    </span> <span style=\"font-weight: bold\">[</span>PID: <span style=\"color: #008080; text-decoration-color: #008080; font-weight: bold\">12332</span><span style=\"font-weight: bold\">]</span> Processing batch <span style=\"color: #008080; text-decoration-color: #008080; font-weight: bold\">13</span> of <span style=\"color: #008080; text-decoration-color: #008080; font-weight: bold\">13</span><span style=\"color: #808000; text-decoration-color: #808000\">...</span>                                         <a href=\"file:///home/strickvl/coding/zenml-projects/llm-lora-finetuning/datagen/lib/python3.10/site-packages/distilabel/pipeline.py\" target=\"_blank\"><span style=\"color: #7f7f7f; text-decoration-color: #7f7f7f\">pipeline.py</span></a><span style=\"color: #7f7f7f; text-decoration-color: #7f7f7f\">:</span><a href=\"file:///home/strickvl/coding/zenml-projects/llm-lora-finetuning/datagen/lib/python3.10/site-packages/distilabel/pipeline.py#577\" target=\"_blank\"><span style=\"color: #7f7f7f; text-decoration-color: #7f7f7f\">577</span></a>\n",
       "</pre>\n"
      ],
      "text/plain": [
       "\u001b[2;36m16:06:46\u001b[0m\u001b[2;36m \u001b[0m\u001b[34mINFO    \u001b[0m \u001b[1m[\u001b[0mPID: \u001b[1;36m12332\u001b[0m\u001b[1m]\u001b[0m Processing batch \u001b[1;36m13\u001b[0m of \u001b[1;36m13\u001b[0m\u001b[33m...\u001b[0m                                         \u001b]8;id=239722;file:///home/strickvl/coding/zenml-projects/llm-lora-finetuning/datagen/lib/python3.10/site-packages/distilabel/pipeline.py\u001b\\\u001b[2mpipeline.py\u001b[0m\u001b]8;;\u001b\\\u001b[2m:\u001b[0m\u001b]8;id=788084;file:///home/strickvl/coding/zenml-projects/llm-lora-finetuning/datagen/lib/python3.10/site-packages/distilabel/pipeline.py#577\u001b\\\u001b[2m577\u001b[0m\u001b]8;;\u001b\\\n"
      ]
     },
     "metadata": {},
     "output_type": "display_data"
    },
    {
     "data": {
      "text/html": [
       "<pre style=\"white-space:pre;overflow-x:auto;line-height:normal;font-family:Menlo,'DejaVu Sans Mono',consolas,'Courier New',monospace\"><span style=\"color: #7fbfbf; text-decoration-color: #7fbfbf\">         </span><span style=\"color: #000080; text-decoration-color: #000080\">INFO    </span> <span style=\"font-weight: bold\">[</span>PID: <span style=\"color: #008080; text-decoration-color: #008080; font-weight: bold\">12332</span><span style=\"font-weight: bold\">]</span> Calling generator for batch <span style=\"color: #008080; text-decoration-color: #008080; font-weight: bold\">13</span><span style=\"color: #808000; text-decoration-color: #808000\">...</span>                                    <a href=\"file:///home/strickvl/coding/zenml-projects/llm-lora-finetuning/datagen/lib/python3.10/site-packages/distilabel/pipeline.py\" target=\"_blank\"><span style=\"color: #7f7f7f; text-decoration-color: #7f7f7f\">pipeline.py</span></a><span style=\"color: #7f7f7f; text-decoration-color: #7f7f7f\">:</span><a href=\"file:///home/strickvl/coding/zenml-projects/llm-lora-finetuning/datagen/lib/python3.10/site-packages/distilabel/pipeline.py#581\" target=\"_blank\"><span style=\"color: #7f7f7f; text-decoration-color: #7f7f7f\">581</span></a>\n",
       "</pre>\n"
      ],
      "text/plain": [
       "\u001b[2;36m        \u001b[0m\u001b[2;36m \u001b[0m\u001b[34mINFO    \u001b[0m \u001b[1m[\u001b[0mPID: \u001b[1;36m12332\u001b[0m\u001b[1m]\u001b[0m Calling generator for batch \u001b[1;36m13\u001b[0m\u001b[33m...\u001b[0m                                    \u001b]8;id=817786;file:///home/strickvl/coding/zenml-projects/llm-lora-finetuning/datagen/lib/python3.10/site-packages/distilabel/pipeline.py\u001b\\\u001b[2mpipeline.py\u001b[0m\u001b]8;;\u001b\\\u001b[2m:\u001b[0m\u001b]8;id=892621;file:///home/strickvl/coding/zenml-projects/llm-lora-finetuning/datagen/lib/python3.10/site-packages/distilabel/pipeline.py#581\u001b\\\u001b[2m581\u001b[0m\u001b]8;;\u001b\\\n"
      ]
     },
     "metadata": {},
     "output_type": "display_data"
    },
    {
     "data": {
      "text/html": [
       "<pre style=\"white-space:pre;overflow-x:auto;line-height:normal;font-family:Menlo,'DejaVu Sans Mono',consolas,'Courier New',monospace\"><span style=\"color: #7fbfbf; text-decoration-color: #7fbfbf\">16:07:14 </span><span style=\"color: #000080; text-decoration-color: #000080\">INFO    </span> <span style=\"font-weight: bold\">[</span>PID: <span style=\"color: #008080; text-decoration-color: #008080; font-weight: bold\">12332</span><span style=\"font-weight: bold\">]</span> Calling labeller for batch <span style=\"color: #008080; text-decoration-color: #008080; font-weight: bold\">13</span><span style=\"color: #808000; text-decoration-color: #808000\">...</span>                                     <a href=\"file:///home/strickvl/coding/zenml-projects/llm-lora-finetuning/datagen/lib/python3.10/site-packages/distilabel/pipeline.py\" target=\"_blank\"><span style=\"color: #7f7f7f; text-decoration-color: #7f7f7f\">pipeline.py</span></a><span style=\"color: #7f7f7f; text-decoration-color: #7f7f7f\">:</span><a href=\"file:///home/strickvl/coding/zenml-projects/llm-lora-finetuning/datagen/lib/python3.10/site-packages/distilabel/pipeline.py#612\" target=\"_blank\"><span style=\"color: #7f7f7f; text-decoration-color: #7f7f7f\">612</span></a>\n",
       "</pre>\n"
      ],
      "text/plain": [
       "\u001b[2;36m16:07:14\u001b[0m\u001b[2;36m \u001b[0m\u001b[34mINFO    \u001b[0m \u001b[1m[\u001b[0mPID: \u001b[1;36m12332\u001b[0m\u001b[1m]\u001b[0m Calling labeller for batch \u001b[1;36m13\u001b[0m\u001b[33m...\u001b[0m                                     \u001b]8;id=970072;file:///home/strickvl/coding/zenml-projects/llm-lora-finetuning/datagen/lib/python3.10/site-packages/distilabel/pipeline.py\u001b\\\u001b[2mpipeline.py\u001b[0m\u001b]8;;\u001b\\\u001b[2m:\u001b[0m\u001b]8;id=811005;file:///home/strickvl/coding/zenml-projects/llm-lora-finetuning/datagen/lib/python3.10/site-packages/distilabel/pipeline.py#612\u001b\\\u001b[2m612\u001b[0m\u001b]8;;\u001b\\\n"
      ]
     },
     "metadata": {},
     "output_type": "display_data"
    },
    {
     "data": {
      "text/html": [
       "<pre style=\"white-space:pre;overflow-x:auto;line-height:normal;font-family:Menlo,'DejaVu Sans Mono',consolas,'Courier New',monospace\"></pre>\n"
      ],
      "text/plain": []
     },
     "metadata": {},
     "output_type": "display_data"
    },
    {
     "data": {
      "text/html": [
       "<pre style=\"white-space:pre;overflow-x:auto;line-height:normal;font-family:Menlo,'DejaVu Sans Mono',consolas,'Courier New',monospace\">\n",
       "</pre>\n"
      ],
      "text/plain": [
       "\n"
      ]
     },
     "metadata": {},
     "output_type": "display_data"
    },
    {
     "data": {
      "application/vnd.jupyter.widget-view+json": {
       "model_id": "ef20104e9c8248a5bcba23d7648befa8",
       "version_major": 2,
       "version_minor": 0
      },
      "text/plain": [
       "Flattening the indices:   0%|          | 0/100 [00:00<?, ? examples/s]"
      ]
     },
     "metadata": {},
     "output_type": "display_data"
    },
    {
     "data": {
      "application/vnd.jupyter.widget-view+json": {
       "model_id": "d5482bc4d3834e01a3c0bc76bf723e7d",
       "version_major": 2,
       "version_minor": 0
      },
      "text/plain": [
       "Saving the dataset (0/1 shards):   0%|          | 0/100 [00:00<?, ? examples/s]"
      ]
     },
     "metadata": {},
     "output_type": "display_data"
    },
    {
     "data": {
      "text/html": [
       "<pre style=\"white-space:pre;overflow-x:auto;line-height:normal;font-family:Menlo,'DejaVu Sans Mono',consolas,'Courier New',monospace\"><span style=\"color: #7fbfbf; text-decoration-color: #7fbfbf\">16:07:21 </span><span style=\"color: #000080; text-decoration-color: #000080\">INFO    </span> <span style=\"font-weight: bold\">[</span>PID: <span style=\"color: #008080; text-decoration-color: #008080; font-weight: bold\">12332</span><span style=\"font-weight: bold\">]</span> Checkpoint saved to disk:                                             <a href=\"file:///home/strickvl/coding/zenml-projects/llm-lora-finetuning/datagen/lib/python3.10/site-packages/distilabel/dataset.py\" target=\"_blank\"><span style=\"color: #7f7f7f; text-decoration-color: #7f7f7f\">dataset.py</span></a><span style=\"color: #7f7f7f; text-decoration-color: #7f7f7f\">:</span><a href=\"file:///home/strickvl/coding/zenml-projects/llm-lora-finetuning/datagen/lib/python3.10/site-packages/distilabel/dataset.py#423\" target=\"_blank\"><span style=\"color: #7f7f7f; text-decoration-color: #7f7f7f\">423</span></a>\n",
       "<span style=\"color: #7fbfbf; text-decoration-color: #7fbfbf\">         </span>         <span style=\"color: #800080; text-decoration-color: #800080\">/home/strickvl/coding/zenml-projects/llm-lora-finetuning/data_generation/</span><span style=\"color: #ff00ff; text-decoration-color: #ff00ff\">ckpt.</span>     <span style=\"color: #7f7f7f; text-decoration-color: #7f7f7f\">              </span>\n",
       "</pre>\n"
      ],
      "text/plain": [
       "\u001b[2;36m16:07:21\u001b[0m\u001b[2;36m \u001b[0m\u001b[34mINFO    \u001b[0m \u001b[1m[\u001b[0mPID: \u001b[1;36m12332\u001b[0m\u001b[1m]\u001b[0m Checkpoint saved to disk:                                             \u001b]8;id=380370;file:///home/strickvl/coding/zenml-projects/llm-lora-finetuning/datagen/lib/python3.10/site-packages/distilabel/dataset.py\u001b\\\u001b[2mdataset.py\u001b[0m\u001b]8;;\u001b\\\u001b[2m:\u001b[0m\u001b]8;id=174018;file:///home/strickvl/coding/zenml-projects/llm-lora-finetuning/datagen/lib/python3.10/site-packages/distilabel/dataset.py#423\u001b\\\u001b[2m423\u001b[0m\u001b]8;;\u001b\\\n",
       "\u001b[2;36m         \u001b[0m         \u001b[35m/home/strickvl/coding/zenml-projects/llm-lora-finetuning/data_generation/\u001b[0m\u001b[95mckpt.\u001b[0m     \u001b[2m              \u001b[0m\n"
      ]
     },
     "metadata": {},
     "output_type": "display_data"
    },
    {
     "data": {
      "text/html": [
       "<pre style=\"white-space:pre;overflow-x:auto;line-height:normal;font-family:Menlo,'DejaVu Sans Mono',consolas,'Courier New',monospace\"><span style=\"color: #7fbfbf; text-decoration-color: #7fbfbf\">         </span><span style=\"color: #000080; text-decoration-color: #000080\">INFO    </span> <span style=\"font-weight: bold\">[</span>PID: <span style=\"color: #008080; text-decoration-color: #008080; font-weight: bold\">12332</span><span style=\"font-weight: bold\">]</span> Final dataset saved at                                               <a href=\"file:///home/strickvl/coding/zenml-projects/llm-lora-finetuning/datagen/lib/python3.10/site-packages/distilabel/pipeline.py\" target=\"_blank\"><span style=\"color: #7f7f7f; text-decoration-color: #7f7f7f\">pipeline.py</span></a><span style=\"color: #7f7f7f; text-decoration-color: #7f7f7f\">:</span><a href=\"file:///home/strickvl/coding/zenml-projects/llm-lora-finetuning/datagen/lib/python3.10/site-packages/distilabel/pipeline.py#658\" target=\"_blank\"><span style=\"color: #7f7f7f; text-decoration-color: #7f7f7f\">658</span></a>\n",
       "<span style=\"color: #7fbfbf; text-decoration-color: #7fbfbf\">         </span>         <span style=\"color: #800080; text-decoration-color: #800080\">/home/strickvl/coding/zenml-projects/llm-lora-finetuning/data_generation/</span><span style=\"color: #ff00ff; text-decoration-color: #ff00ff\">ckpt</span>     <span style=\"color: #7f7f7f; text-decoration-color: #7f7f7f\">               </span>\n",
       "</pre>\n"
      ],
      "text/plain": [
       "\u001b[2;36m        \u001b[0m\u001b[2;36m \u001b[0m\u001b[34mINFO    \u001b[0m \u001b[1m[\u001b[0mPID: \u001b[1;36m12332\u001b[0m\u001b[1m]\u001b[0m Final dataset saved at                                               \u001b]8;id=207748;file:///home/strickvl/coding/zenml-projects/llm-lora-finetuning/datagen/lib/python3.10/site-packages/distilabel/pipeline.py\u001b\\\u001b[2mpipeline.py\u001b[0m\u001b]8;;\u001b\\\u001b[2m:\u001b[0m\u001b]8;id=299139;file:///home/strickvl/coding/zenml-projects/llm-lora-finetuning/datagen/lib/python3.10/site-packages/distilabel/pipeline.py#658\u001b\\\u001b[2m658\u001b[0m\u001b]8;;\u001b\\\n",
       "\u001b[2;36m         \u001b[0m         \u001b[35m/home/strickvl/coding/zenml-projects/llm-lora-finetuning/data_generation/\u001b[0m\u001b[95mckpt\u001b[0m     \u001b[2m               \u001b[0m\n"
      ]
     },
     "metadata": {},
     "output_type": "display_data"
    },
    {
     "data": {
      "text/html": [
       "<pre style=\"white-space:pre;overflow-x:auto;line-height:normal;font-family:Menlo,'DejaVu Sans Mono',consolas,'Courier New',monospace\">\n",
       "</pre>\n"
      ],
      "text/plain": [
       "\n"
      ]
     },
     "metadata": {},
     "output_type": "display_data"
    }
   ],
   "source": [
    "preference_dataset = preference_pipeline.generate(\n",
    "    instructions_dataset,  # type: ignore\n",
    "    num_generations=2,\n",
    "    batch_size=8,\n",
    "    display_progress_bar=True,\n",
    ")"
   ]
  },
  {
   "cell_type": "code",
   "execution_count": 14,
   "metadata": {},
   "outputs": [
    {
     "data": {
      "text/plain": [
       "{'context': 'An end-to-end project\\n\\nPut your new knowledge in action with an end-to-end project\\n\\nThat was awesome! We learned so many advanced MLOps production concepts:\\n\\nThe value of deploying ZenML\\u200b\\n\\nAbstracting infrastructure configuration into stacks\\u200b\\n\\n\\u200bConnecting remote storage\\u200b\\n\\n\\u200bOrchestrating on the cloud\\u200b\\n\\n\\u200bConfiguring the pipeline to scale compute\\u200b\\n\\n\\u200bConnecting a git repository\\u200b\\n\\nWe will now combine all of these concepts into an end-to-end MLOps project powered by ZenML.\\n\\nGet started\\n\\nStart with a fresh virtual environment with no dependencies. Then let\\'s install our dependencies:\\n\\npip install \"zenml[templates,server]\" notebook\\n\\nzenml integration install sklearn -y\\n\\nWe will then use\\n\\nZenML templates\\n\\nto help us get the code we need for the project:\\n\\nmkdir zenml_batch_e2e\\n\\ncd zenml_batch_e2e\\n\\nzenml init --template e2e_batch --template-with-defaults\\n\\n# Just in case, we install the requirements again\\n\\npip install -r requirements.txt\\n\\nAbove doesn\\'t work? Here is an alternative\\n\\nThe e2e template is also available as a\\n\\nZenML example\\n\\n.',\n",
       " 'input': '\"Can you walk me through the process of setting up a ZenML project using templates?\"',\n",
       " 'instruction-rating': [],\n",
       " 'instruction-rating-suggestion': None,\n",
       " 'instruction-rating-suggestion-metadata': {'agent': None,\n",
       "  'score': None,\n",
       "  'type': None},\n",
       " 'external_id': None,\n",
       " 'metadata': '{\"length-input\": 1042, \"length-instructions\": 84, \"generation-model\": \"mixtral\", \"input_n_tokens\": 181, \"input_n_unique_tokens\": 105, \"input_n_sentences\": 5, \"input_perplexity\": 74.96, \"input_entropy\": 4.32, \"input_flesch_reading_ease\": 42.49, \"instructions_n_tokens\": 15, \"instructions_n_unique_tokens\": 15, \"instructions_n_sentences\": 1, \"instructions_perplexity\": 1.55, \"instructions_entropy\": 0.44, \"instructions_flesch_reading_ease\": 78.81}',\n",
       " 'vectors': {'input': None, 'instructions': None},\n",
       " 'generation_model': ['mixtral', 'mixtral'],\n",
       " 'generation_prompt': [[{'content': \"You are a helpful, respectful and honest assistant. Always answer as helpfully as possible, while being safe. Your answers should not include any harmful, unethical, racist, sexist, toxic, dangerous, or illegal content. Please ensure that your responses are socially unbiased and positive in nature.\\nIf a question does not make any sense, or is not factually coherent, explain why instead of answering something not correct. If you don't know the answer to a question, please don't share false information.\",\n",
       "    'role': 'system'},\n",
       "   {'content': '\"Can you walk me through the process of setting up a ZenML project using templates?\"',\n",
       "    'role': 'user'}],\n",
       "  [{'content': \"You are a helpful, respectful and honest assistant. Always answer as helpfully as possible, while being safe. Your answers should not include any harmful, unethical, racist, sexist, toxic, dangerous, or illegal content. Please ensure that your responses are socially unbiased and positive in nature.\\nIf a question does not make any sense, or is not factually coherent, explain why instead of answering something not correct. If you don't know the answer to a question, please don't share false information.\",\n",
       "    'role': 'system'},\n",
       "   {'content': '\"Can you walk me through the process of setting up a ZenML project using templates?\"',\n",
       "    'role': 'user'}]],\n",
       " 'raw_generation_responses': [' Sure, I\\'d be happy to help you set up a ZenML project using templates!\\n\\nZenML is an open-source Python library that provides a robust and flexible framework for building end-to-end machine learning pipelines. It allows you to define, execute, and manage your ML workflows in a reproducible and scalable manner.\\n\\nTo set up a ZenML project using templates, you can follow these steps:\\n\\n1. Install ZenML: If you haven\\'t already installed ZenML, you can do so by running the following command in your terminal or command prompt:\\n```\\npip install zenml\\n```\\n2. Create a new project directory: Create a new directory for your ZenML project using the `mkdir` command. For example:\\n```bash\\nmkdir my_zenml_project\\ncd my_zenml_project\\n```\\n3. Initialize a new ZenML project: Run the following command to initialize a new ZenML project in your project directory:\\n```csharp\\nzenml init --template=basic\\n```\\nThis will create a new ZenML project using the \"basic\" template, which includes',\n",
       "  \" I'm here to help! I'd be happy to guide you through the process of setting up a ZenML project using templates.\\n\\nZenML is an open-source Python library for building and deploying machine learning pipelines. To set up a new ZenML project using templates, you can follow these steps:\\n\\n1. **Install ZenML**: If you haven't already installed ZenML, you can do so by running the following command in your terminal or command prompt:\\n\\n   ```\\n   pip install zenml\\n   ```\\n   \\n2. **Create a new project directory**: Create a new directory for your ZenML project using the `mkdir` command:\\n\\n   ```\\n   mkdir my_zenml_project\\n   cd my_zenml_project\\n   ```\\n\\n3. **Initialize a new ZenML project**: Run the following command to initialize a new ZenML project in your project directory:\\n\\n   ```\\n   zenml init --template=basic\\n   ```\\n\\n   This will create a new ZenML project using the `basic` template, which includes a basic structure for organizing your machine learning pipelines and components.\\n\\n4. **Ex\"],\n",
       " 'generations': ['Sure, I\\'d be happy to help you set up a ZenML project using templates!\\n\\nZenML is an open-source Python library that provides a robust and flexible framework for building end-to-end machine learning pipelines. It allows you to define, execute, and manage your ML workflows in a reproducible and scalable manner.\\n\\nTo set up a ZenML project using templates, you can follow these steps:\\n\\n1. Install ZenML: If you haven\\'t already installed ZenML, you can do so by running the following command in your terminal or command prompt:\\n```\\npip install zenml\\n```\\n2. Create a new project directory: Create a new directory for your ZenML project using the `mkdir` command. For example:\\n```bash\\nmkdir my_zenml_project\\ncd my_zenml_project\\n```\\n3. Initialize a new ZenML project: Run the following command to initialize a new ZenML project in your project directory:\\n```csharp\\nzenml init --template=basic\\n```\\nThis will create a new ZenML project using the \"basic\" template, which includes',\n",
       "  \"I'm here to help! I'd be happy to guide you through the process of setting up a ZenML project using templates.\\n\\nZenML is an open-source Python library for building and deploying machine learning pipelines. To set up a new ZenML project using templates, you can follow these steps:\\n\\n1. **Install ZenML**: If you haven't already installed ZenML, you can do so by running the following command in your terminal or command prompt:\\n\\n   ```\\n   pip install zenml\\n   ```\\n   \\n2. **Create a new project directory**: Create a new directory for your ZenML project using the `mkdir` command:\\n\\n   ```\\n   mkdir my_zenml_project\\n   cd my_zenml_project\\n   ```\\n\\n3. **Initialize a new ZenML project**: Run the following command to initialize a new ZenML project in your project directory:\\n\\n   ```\\n   zenml init --template=basic\\n   ```\\n\\n   This will create a new ZenML project using the `basic` template, which includes a basic structure for organizing your machine learning pipelines and components.\\n\\n4. **Ex\"],\n",
       " 'labelling_model': 'gpt-3.5-turbo',\n",
       " 'labelling_prompt': [{'content': 'Your role is to evaluate text quality based on given criteria.',\n",
       "   'role': 'system'},\n",
       "  {'content': '\\n# Instruction Following Assessment\\nEvaluate alignment between output and intent. Assess understanding of task goal and restrictions.\\n**Instruction Components**: Task Goal (intended outcome), Restrictions (text styles, formats, or designated methods, etc).\\n\\n**Scoring**: Rate outputs 1 to 5:\\n\\n1. **Irrelevant**: No alignment.\\n2. **Partial Focus**: Addresses one aspect poorly.\\n3. **Partial Compliance**:\\n\\t- (1) Meets goal or restrictions, neglecting other.\\n\\t- (2) Acknowledges both but slight deviations.\\n4. **Almost There**: Near alignment, minor deviations.\\n5. **Comprehensive Compliance**: Fully aligns, meets all requirements.\\n\\n---\\n\\n## Format\\n\\n### Input\\nInstruction: [Specify task goal and restrictions]\\n\\nTexts:\\n\\n<text 1> [Text 1]\\n<text 2> [Text 2]\\n\\n### Output\\n\\n#### Output for Text 1\\nRating: [Rating for text 1]\\nRationale: [Rationale for the rating in short sentences]\\n\\n#### Output for Text 2\\nRating: [Rating for text 2]\\nRationale: [Rationale for the rating in short sentences]\\n\\n---\\n\\n## Annotation\\n\\n### Input\\nInstruction: \"Can you walk me through the process of setting up a ZenML project using templates?\"\\n\\nTexts:\\n\\n<text 1> Sure, I\\'d be happy to help you set up a ZenML project using templates!\\n\\nZenML is an open-source Python library that provides a robust and flexible framework for building end-to-end machine learning pipelines. It allows you to define, execute, and manage your ML workflows in a reproducible and scalable manner.\\n\\nTo set up a ZenML project using templates, you can follow these steps:\\n\\n1. Install ZenML: If you haven\\'t already installed ZenML, you can do so by running the following command in your terminal or command prompt:\\n```\\npip install zenml\\n```\\n2. Create a new project directory: Create a new directory for your ZenML project using the `mkdir` command. For example:\\n```bash\\nmkdir my_zenml_project\\ncd my_zenml_project\\n```\\n3. Initialize a new ZenML project: Run the following command to initialize a new ZenML project in your project directory:\\n```csharp\\nzenml init --template=basic\\n```\\nThis will create a new ZenML project using the \"basic\" template, which includes\\n<text 2> I\\'m here to help! I\\'d be happy to guide you through the process of setting up a ZenML project using templates.\\n\\nZenML is an open-source Python library for building and deploying machine learning pipelines. To set up a new ZenML project using templates, you can follow these steps:\\n\\n1. **Install ZenML**: If you haven\\'t already installed ZenML, you can do so by running the following command in your terminal or command prompt:\\n\\n   ```\\n   pip install zenml\\n   ```\\n   \\n2. **Create a new project directory**: Create a new directory for your ZenML project using the `mkdir` command:\\n\\n   ```\\n   mkdir my_zenml_project\\n   cd my_zenml_project\\n   ```\\n\\n3. **Initialize a new ZenML project**: Run the following command to initialize a new ZenML project in your project directory:\\n\\n   ```\\n   zenml init --template=basic\\n   ```\\n\\n   This will create a new ZenML project using the `basic` template, which includes a basic structure for organizing your machine learning pipelines and components.\\n\\n4. **Ex\\n\\n### Output ',\n",
       "   'role': 'user'}],\n",
       " 'raw_labelling_response': '#### Output for Text 1\\nRating: 4\\nRationale: The text provides a detailed guide on setting up a ZenML project using templates, covering the installation process, creating a new project directory, and initializing a new project. However, it lacks a clear distinction between the steps and could benefit from better organization.\\n\\n#### Output for Text 2\\nRating: 5\\nRationale: The text offers a concise and clear explanation of setting up a ZenML project using templates. It covers the installation process, creating a new project directory, and initializing a new project with the basic template. The steps are well-structured and easy to follow.',\n",
       " 'rating': [4.0, 5.0],\n",
       " 'rationale': ['The text provides a detailed guide on setting up a ZenML project using templates, covering the installation process, creating a new project directory, and initializing a new project. However, it lacks a clear distinction between the steps and could benefit from better organization.',\n",
       "  'The text offers a concise and clear explanation of setting up a ZenML project using templates. It covers the installation process, creating a new project directory, and initializing a new project with the basic template. The steps are well-structured and easy to follow.']}"
      ]
     },
     "execution_count": 14,
     "metadata": {},
     "output_type": "execute_result"
    }
   ],
   "source": [
    "preference_dataset[0]"
   ]
  },
  {
   "cell_type": "code",
   "execution_count": 16,
   "metadata": {},
   "outputs": [
    {
     "data": {
      "application/vnd.jupyter.widget-view+json": {
       "model_id": "fafc8b6ee27b4cab9de03a7489698c33",
       "version_major": 2,
       "version_minor": 0
      },
      "text/plain": [
       "Output()"
      ]
     },
     "metadata": {},
     "output_type": "display_data"
    },
    {
     "data": {
      "text/html": [
       "<pre style=\"white-space:pre;overflow-x:auto;line-height:normal;font-family:Menlo,'DejaVu Sans Mono',consolas,'Courier New',monospace\"></pre>\n"
      ],
      "text/plain": []
     },
     "metadata": {},
     "output_type": "display_data"
    },
    {
     "data": {
      "text/html": [
       "<pre style=\"white-space:pre;overflow-x:auto;line-height:normal;font-family:Menlo,'DejaVu Sans Mono',consolas,'Courier New',monospace\">\n",
       "</pre>\n"
      ],
      "text/plain": [
       "\n"
      ]
     },
     "metadata": {},
     "output_type": "display_data"
    },
    {
     "data": {
      "text/html": [
       "<pre style=\"white-space:pre;overflow-x:auto;line-height:normal;font-family:Menlo,'DejaVu Sans Mono',consolas,'Courier New',monospace\"><span style=\"color: #7fbfbf; text-decoration-color: #7fbfbf\">16:15:57 </span><span style=\"color: #000080; text-decoration-color: #000080\">INFO    </span> <span style=\"font-weight: bold\">[</span>PID: <span style=\"color: #008080; text-decoration-color: #008080; font-weight: bold\">12332</span><span style=\"font-weight: bold\">]</span> ✓ Dataset succesfully pushed to Argilla                                <a href=\"file:///home/strickvl/coding/zenml-projects/llm-lora-finetuning/datagen/lib/python3.10/site-packages/argilla/client/feedback/dataset/local/mixins.py\" target=\"_blank\"><span style=\"color: #7f7f7f; text-decoration-color: #7f7f7f\">mixins.py</span></a><span style=\"color: #7f7f7f; text-decoration-color: #7f7f7f\">:</span><a href=\"file:///home/strickvl/coding/zenml-projects/llm-lora-finetuning/datagen/lib/python3.10/site-packages/argilla/client/feedback/dataset/local/mixins.py#281\" target=\"_blank\"><span style=\"color: #7f7f7f; text-decoration-color: #7f7f7f\">281</span></a>\n",
       "</pre>\n"
      ],
      "text/plain": [
       "\u001b[2;36m16:15:57\u001b[0m\u001b[2;36m \u001b[0m\u001b[34mINFO    \u001b[0m \u001b[1m[\u001b[0mPID: \u001b[1;36m12332\u001b[0m\u001b[1m]\u001b[0m ✓ Dataset succesfully pushed to Argilla                                \u001b]8;id=211973;file:///home/strickvl/coding/zenml-projects/llm-lora-finetuning/datagen/lib/python3.10/site-packages/argilla/client/feedback/dataset/local/mixins.py\u001b\\\u001b[2mmixins.py\u001b[0m\u001b]8;;\u001b\\\u001b[2m:\u001b[0m\u001b]8;id=401136;file:///home/strickvl/coding/zenml-projects/llm-lora-finetuning/datagen/lib/python3.10/site-packages/argilla/client/feedback/dataset/local/mixins.py#281\u001b\\\u001b[2m281\u001b[0m\u001b]8;;\u001b\\\n"
      ]
     },
     "metadata": {},
     "output_type": "display_data"
    },
    {
     "data": {
      "text/html": [
       "<pre style=\"white-space:pre;overflow-x:auto;line-height:normal;font-family:Menlo,'DejaVu Sans Mono',consolas,'Courier New',monospace\"><span style=\"color: #7fbfbf; text-decoration-color: #7fbfbf\">         </span><span style=\"color: #000080; text-decoration-color: #000080\">INFO    </span> <span style=\"font-weight: bold\">[</span>PID: <span style=\"color: #008080; text-decoration-color: #008080; font-weight: bold\">12332</span><span style=\"font-weight: bold\">]</span> <span style=\"color: #800080; text-decoration-color: #800080; font-weight: bold\">RemoteFeedbackDataset</span><span style=\"font-weight: bold\">(</span>                                                 <a href=\"file:///home/strickvl/coding/zenml-projects/llm-lora-finetuning/datagen/lib/python3.10/site-packages/argilla/client/feedback/dataset/local/mixins.py\" target=\"_blank\"><span style=\"color: #7f7f7f; text-decoration-color: #7f7f7f\">mixins.py</span></a><span style=\"color: #7f7f7f; text-decoration-color: #7f7f7f\">:</span><a href=\"file:///home/strickvl/coding/zenml-projects/llm-lora-finetuning/datagen/lib/python3.10/site-packages/argilla/client/feedback/dataset/local/mixins.py#282\" target=\"_blank\"><span style=\"color: #7f7f7f; text-decoration-color: #7f7f7f\">282</span></a>\n",
       "<span style=\"color: #7fbfbf; text-decoration-color: #7fbfbf\">         </span>            <span style=\"color: #808000; text-decoration-color: #808000\">id</span>=<span style=\"color: #ffff00; text-decoration-color: #ffff00\">06ae2ab9</span><span style=\"color: #ffff00; text-decoration-color: #ffff00\">-93ed-416e-8fbe-6e8cafcdb938</span>                                          <span style=\"color: #7f7f7f; text-decoration-color: #7f7f7f\">             </span>\n",
       "<span style=\"color: #7fbfbf; text-decoration-color: #7fbfbf\">         </span>            <span style=\"color: #808000; text-decoration-color: #808000\">name</span>=<span style=\"color: #800080; text-decoration-color: #800080\">ollama_preference</span>                                                           <span style=\"color: #7f7f7f; text-decoration-color: #7f7f7f\">             </span>\n",
       "<span style=\"color: #7fbfbf; text-decoration-color: #7fbfbf\">         </span>            <span style=\"color: #808000; text-decoration-color: #808000\">workspace</span>=<span style=\"color: #800080; text-decoration-color: #800080; font-weight: bold\">Workspace</span><span style=\"font-weight: bold\">(</span><span style=\"color: #808000; text-decoration-color: #808000\">id</span>=<span style=\"color: #ffff00; text-decoration-color: #ffff00\">a4eef5c0</span><span style=\"color: #ffff00; text-decoration-color: #ffff00\">-a51c-4cce-81a7-8c5b23ce6afa</span>, <span style=\"color: #808000; text-decoration-color: #808000\">name</span>=<span style=\"color: #800080; text-decoration-color: #800080\">admin</span>,         <span style=\"color: #7f7f7f; text-decoration-color: #7f7f7f\">             </span>\n",
       "<span style=\"color: #7fbfbf; text-decoration-color: #7fbfbf\">         </span>         <span style=\"color: #808000; text-decoration-color: #808000\">inserted_at</span>=<span style=\"color: #008080; text-decoration-color: #008080; font-weight: bold\">2024</span>-<span style=\"color: #008080; text-decoration-color: #008080; font-weight: bold\">03</span>-<span style=\"color: #008080; text-decoration-color: #008080; font-weight: bold\">20</span> <span style=\"color: #00ff00; text-decoration-color: #00ff00; font-weight: bold\">12:52:24</span>.<span style=\"color: #008080; text-decoration-color: #008080; font-weight: bold\">433299</span>, <span style=\"color: #808000; text-decoration-color: #808000\">updated_at</span>=<span style=\"color: #008080; text-decoration-color: #008080; font-weight: bold\">2024</span>-<span style=\"color: #008080; text-decoration-color: #008080; font-weight: bold\">03</span>-<span style=\"color: #008080; text-decoration-color: #008080; font-weight: bold\">20</span> <span style=\"color: #00ff00; text-decoration-color: #00ff00; font-weight: bold\">12:52:24</span>.<span style=\"color: #008080; text-decoration-color: #008080; font-weight: bold\">433299</span><span style=\"font-weight: bold\">)</span>      <span style=\"color: #7f7f7f; text-decoration-color: #7f7f7f\">             </span>\n",
       "<span style=\"color: #7fbfbf; text-decoration-color: #7fbfbf\">         </span>            <span style=\"color: #808000; text-decoration-color: #808000\">url</span>=<span style=\"color: #0000ff; text-decoration-color: #0000ff; text-decoration: underline\">https://strickvl-argilla.hf.space/dataset/06ae2ab9-93ed-416e-8fbe-6e8cafcdb9</span> <span style=\"color: #7f7f7f; text-decoration-color: #7f7f7f\">             </span>\n",
       "<span style=\"color: #7fbfbf; text-decoration-color: #7fbfbf\">         </span>         <span style=\"color: #0000ff; text-decoration-color: #0000ff; text-decoration: underline\">38/annotation-mode</span>                                                                  <span style=\"color: #7f7f7f; text-decoration-color: #7f7f7f\">             </span>\n",
       "<span style=\"color: #7fbfbf; text-decoration-color: #7fbfbf\">         </span>            <span style=\"color: #808000; text-decoration-color: #808000\">fields</span>=<span style=\"font-weight: bold\">[</span><span style=\"color: #800080; text-decoration-color: #800080; font-weight: bold\">RemoteTextField</span><span style=\"font-weight: bold\">(</span><span style=\"color: #808000; text-decoration-color: #808000\">id</span>=<span style=\"color: #800080; text-decoration-color: #800080; font-weight: bold\">UUID</span><span style=\"font-weight: bold\">(</span><span style=\"color: #008000; text-decoration-color: #008000\">'fbc04a66-a228-49e0-97bc-e4a0bb3615ae'</span><span style=\"font-weight: bold\">)</span>,         <span style=\"color: #7f7f7f; text-decoration-color: #7f7f7f\">             </span>\n",
       "<span style=\"color: #7fbfbf; text-decoration-color: #7fbfbf\">         </span>         <span style=\"color: #808000; text-decoration-color: #808000\">client</span>=<span style=\"color: #800080; text-decoration-color: #800080; font-style: italic\">None</span>, <span style=\"color: #808000; text-decoration-color: #808000\">name</span>=<span style=\"color: #008000; text-decoration-color: #008000\">'input'</span>, <span style=\"color: #808000; text-decoration-color: #808000\">title</span>=<span style=\"color: #008000; text-decoration-color: #008000\">'input'</span>, <span style=\"color: #808000; text-decoration-color: #808000\">required</span>=<span style=\"color: #00ff00; text-decoration-color: #00ff00; font-style: italic\">True</span>, <span style=\"color: #808000; text-decoration-color: #808000\">type</span>=<span style=\"color: #008000; text-decoration-color: #008000\">'text'</span>,               <span style=\"color: #7f7f7f; text-decoration-color: #7f7f7f\">             </span>\n",
       "<span style=\"color: #7fbfbf; text-decoration-color: #7fbfbf\">         </span>         <span style=\"color: #808000; text-decoration-color: #808000\">use_markdown</span>=<span style=\"color: #00ff00; text-decoration-color: #00ff00; font-style: italic\">True</span><span style=\"font-weight: bold\">)</span>,                                                                 <span style=\"color: #7f7f7f; text-decoration-color: #7f7f7f\">             </span>\n",
       "<span style=\"color: #7fbfbf; text-decoration-color: #7fbfbf\">         </span>         <span style=\"color: #800080; text-decoration-color: #800080; font-weight: bold\">RemoteTextField</span><span style=\"font-weight: bold\">(</span><span style=\"color: #808000; text-decoration-color: #808000\">id</span>=<span style=\"color: #800080; text-decoration-color: #800080; font-weight: bold\">UUID</span><span style=\"font-weight: bold\">(</span><span style=\"color: #008000; text-decoration-color: #008000\">'b5a88f21-d0b9-4315-9189-059f8b0d0475'</span><span style=\"font-weight: bold\">)</span>, <span style=\"color: #808000; text-decoration-color: #808000\">client</span>=<span style=\"color: #800080; text-decoration-color: #800080; font-style: italic\">None</span>,       <span style=\"color: #7f7f7f; text-decoration-color: #7f7f7f\">             </span>\n",
       "<span style=\"color: #7fbfbf; text-decoration-color: #7fbfbf\">         </span>         <span style=\"color: #808000; text-decoration-color: #808000\">name</span>=<span style=\"color: #008000; text-decoration-color: #008000\">'generations-1'</span>, <span style=\"color: #808000; text-decoration-color: #808000\">title</span>=<span style=\"color: #008000; text-decoration-color: #008000\">'generations-1'</span>, <span style=\"color: #808000; text-decoration-color: #808000\">required</span>=<span style=\"color: #00ff00; text-decoration-color: #00ff00; font-style: italic\">True</span>, <span style=\"color: #808000; text-decoration-color: #808000\">type</span>=<span style=\"color: #008000; text-decoration-color: #008000\">'text'</span>,            <span style=\"color: #7f7f7f; text-decoration-color: #7f7f7f\">             </span>\n",
       "<span style=\"color: #7fbfbf; text-decoration-color: #7fbfbf\">         </span>         <span style=\"color: #808000; text-decoration-color: #808000\">use_markdown</span>=<span style=\"color: #00ff00; text-decoration-color: #00ff00; font-style: italic\">True</span><span style=\"font-weight: bold\">)</span>,                                                                 <span style=\"color: #7f7f7f; text-decoration-color: #7f7f7f\">             </span>\n",
       "<span style=\"color: #7fbfbf; text-decoration-color: #7fbfbf\">         </span>         <span style=\"color: #800080; text-decoration-color: #800080; font-weight: bold\">RemoteTextField</span><span style=\"font-weight: bold\">(</span><span style=\"color: #808000; text-decoration-color: #808000\">id</span>=<span style=\"color: #800080; text-decoration-color: #800080; font-weight: bold\">UUID</span><span style=\"font-weight: bold\">(</span><span style=\"color: #008000; text-decoration-color: #008000\">'16af7a33-8048-4440-b818-6fc2d7e7142d'</span><span style=\"font-weight: bold\">)</span>, <span style=\"color: #808000; text-decoration-color: #808000\">client</span>=<span style=\"color: #800080; text-decoration-color: #800080; font-style: italic\">None</span>,       <span style=\"color: #7f7f7f; text-decoration-color: #7f7f7f\">             </span>\n",
       "<span style=\"color: #7fbfbf; text-decoration-color: #7fbfbf\">         </span>         <span style=\"color: #808000; text-decoration-color: #808000\">name</span>=<span style=\"color: #008000; text-decoration-color: #008000\">'generations-2'</span>, <span style=\"color: #808000; text-decoration-color: #808000\">title</span>=<span style=\"color: #008000; text-decoration-color: #008000\">'generations-2'</span>, <span style=\"color: #808000; text-decoration-color: #808000\">required</span>=<span style=\"color: #00ff00; text-decoration-color: #00ff00; font-style: italic\">True</span>, <span style=\"color: #808000; text-decoration-color: #808000\">type</span>=<span style=\"color: #008000; text-decoration-color: #008000\">'text'</span>,            <span style=\"color: #7f7f7f; text-decoration-color: #7f7f7f\">             </span>\n",
       "<span style=\"color: #7fbfbf; text-decoration-color: #7fbfbf\">         </span>         <span style=\"color: #808000; text-decoration-color: #808000\">use_markdown</span>=<span style=\"color: #00ff00; text-decoration-color: #00ff00; font-style: italic\">True</span><span style=\"font-weight: bold\">)]</span>                                                                 <span style=\"color: #7f7f7f; text-decoration-color: #7f7f7f\">             </span>\n",
       "<span style=\"color: #7fbfbf; text-decoration-color: #7fbfbf\">         </span>            <span style=\"color: #808000; text-decoration-color: #808000\">questions</span>=<span style=\"font-weight: bold\">[</span><span style=\"color: #800080; text-decoration-color: #800080; font-weight: bold\">RemoteRatingQuestion</span><span style=\"font-weight: bold\">(</span><span style=\"color: #808000; text-decoration-color: #808000\">id</span>=<span style=\"color: #800080; text-decoration-color: #800080; font-weight: bold\">UUID</span><span style=\"font-weight: bold\">(</span><span style=\"color: #008000; text-decoration-color: #008000\">'5f43832a-dc67-4769-9fb0-58495b0adc9d'</span><span style=\"font-weight: bold\">)</span>, <span style=\"color: #7f7f7f; text-decoration-color: #7f7f7f\">             </span>\n",
       "<span style=\"color: #7fbfbf; text-decoration-color: #7fbfbf\">         </span>         <span style=\"color: #808000; text-decoration-color: #808000\">client</span>=<span style=\"color: #800080; text-decoration-color: #800080; font-style: italic\">None</span>, <span style=\"color: #808000; text-decoration-color: #808000\">name</span>=<span style=\"color: #008000; text-decoration-color: #008000\">'generations-1-rating'</span>, <span style=\"color: #808000; text-decoration-color: #808000\">title</span>=<span style=\"color: #008000; text-decoration-color: #008000\">\"What's the rating for </span>             <span style=\"color: #7f7f7f; text-decoration-color: #7f7f7f\">             </span>\n",
       "<span style=\"color: #7fbfbf; text-decoration-color: #7fbfbf\">         </span>         <span style=\"color: #008000; text-decoration-color: #008000\">generations-1?\"</span>, <span style=\"color: #808000; text-decoration-color: #808000\">description</span>=<span style=\"color: #800080; text-decoration-color: #800080; font-style: italic\">None</span>, <span style=\"color: #808000; text-decoration-color: #808000\">required</span>=<span style=\"color: #00ff00; text-decoration-color: #00ff00; font-style: italic\">True</span>, <span style=\"color: #808000; text-decoration-color: #808000\">type</span>=<span style=\"color: #008000; text-decoration-color: #008000\">'rating'</span>, <span style=\"color: #808000; text-decoration-color: #808000\">values</span>=<span style=\"font-weight: bold\">[</span><span style=\"color: #008080; text-decoration-color: #008080; font-weight: bold\">1</span>, <span style=\"color: #008080; text-decoration-color: #008080; font-weight: bold\">2</span>, <span style=\"color: #008080; text-decoration-color: #008080; font-weight: bold\">3</span>,   <span style=\"color: #7f7f7f; text-decoration-color: #7f7f7f\">             </span>\n",
       "<span style=\"color: #7fbfbf; text-decoration-color: #7fbfbf\">         </span>         <span style=\"color: #008080; text-decoration-color: #008080; font-weight: bold\">4</span>, <span style=\"color: #008080; text-decoration-color: #008080; font-weight: bold\">5</span><span style=\"font-weight: bold\">])</span>, <span style=\"color: #800080; text-decoration-color: #800080; font-weight: bold\">RemoteRatingQuestion</span><span style=\"font-weight: bold\">(</span><span style=\"color: #808000; text-decoration-color: #808000\">id</span>=<span style=\"color: #800080; text-decoration-color: #800080; font-weight: bold\">UUID</span><span style=\"font-weight: bold\">(</span><span style=\"color: #008000; text-decoration-color: #008000\">'ec479b30-8966-4d5f-8851-a9b94469440a'</span><span style=\"font-weight: bold\">)</span>,       <span style=\"color: #7f7f7f; text-decoration-color: #7f7f7f\">             </span>\n",
       "<span style=\"color: #7fbfbf; text-decoration-color: #7fbfbf\">         </span>         <span style=\"color: #808000; text-decoration-color: #808000\">client</span>=<span style=\"color: #800080; text-decoration-color: #800080; font-style: italic\">None</span>, <span style=\"color: #808000; text-decoration-color: #808000\">name</span>=<span style=\"color: #008000; text-decoration-color: #008000\">'generations-2-rating'</span>, <span style=\"color: #808000; text-decoration-color: #808000\">title</span>=<span style=\"color: #008000; text-decoration-color: #008000\">\"What's the rating for </span>             <span style=\"color: #7f7f7f; text-decoration-color: #7f7f7f\">             </span>\n",
       "<span style=\"color: #7fbfbf; text-decoration-color: #7fbfbf\">         </span>         <span style=\"color: #008000; text-decoration-color: #008000\">generations-2?\"</span>, <span style=\"color: #808000; text-decoration-color: #808000\">description</span>=<span style=\"color: #800080; text-decoration-color: #800080; font-style: italic\">None</span>, <span style=\"color: #808000; text-decoration-color: #808000\">required</span>=<span style=\"color: #00ff00; text-decoration-color: #00ff00; font-style: italic\">True</span>, <span style=\"color: #808000; text-decoration-color: #808000\">type</span>=<span style=\"color: #008000; text-decoration-color: #008000\">'rating'</span>, <span style=\"color: #808000; text-decoration-color: #808000\">values</span>=<span style=\"font-weight: bold\">[</span><span style=\"color: #008080; text-decoration-color: #008080; font-weight: bold\">1</span>, <span style=\"color: #008080; text-decoration-color: #008080; font-weight: bold\">2</span>, <span style=\"color: #008080; text-decoration-color: #008080; font-weight: bold\">3</span>,   <span style=\"color: #7f7f7f; text-decoration-color: #7f7f7f\">             </span>\n",
       "<span style=\"color: #7fbfbf; text-decoration-color: #7fbfbf\">         </span>         <span style=\"color: #008080; text-decoration-color: #008080; font-weight: bold\">4</span>, <span style=\"color: #008080; text-decoration-color: #008080; font-weight: bold\">5</span><span style=\"font-weight: bold\">])</span>, <span style=\"color: #800080; text-decoration-color: #800080; font-weight: bold\">RemoteTextQuestion</span><span style=\"font-weight: bold\">(</span><span style=\"color: #808000; text-decoration-color: #808000\">id</span>=<span style=\"color: #800080; text-decoration-color: #800080; font-weight: bold\">UUID</span><span style=\"font-weight: bold\">(</span><span style=\"color: #008000; text-decoration-color: #008000\">'be5969a4-0a8c-4db8-b22b-5361f149f557'</span><span style=\"font-weight: bold\">)</span>,         <span style=\"color: #7f7f7f; text-decoration-color: #7f7f7f\">             </span>\n",
       "<span style=\"color: #7fbfbf; text-decoration-color: #7fbfbf\">         </span>         <span style=\"color: #808000; text-decoration-color: #808000\">client</span>=<span style=\"color: #800080; text-decoration-color: #800080; font-style: italic\">None</span>, <span style=\"color: #808000; text-decoration-color: #808000\">name</span>=<span style=\"color: #008000; text-decoration-color: #008000\">'rating-rationale'</span>, <span style=\"color: #808000; text-decoration-color: #808000\">title</span>=<span style=\"color: #008000; text-decoration-color: #008000\">\"What's the rationale behind each </span>      <span style=\"color: #7f7f7f; text-decoration-color: #7f7f7f\">             </span>\n",
       "<span style=\"color: #7fbfbf; text-decoration-color: #7fbfbf\">         </span>         <span style=\"color: #008000; text-decoration-color: #008000\">rating?\"</span>, <span style=\"color: #808000; text-decoration-color: #808000\">description</span>=<span style=\"color: #800080; text-decoration-color: #800080; font-style: italic\">None</span>, <span style=\"color: #808000; text-decoration-color: #808000\">required</span>=<span style=\"color: #00ff00; text-decoration-color: #00ff00; font-style: italic\">True</span>, <span style=\"color: #808000; text-decoration-color: #808000\">type</span>=<span style=\"color: #008000; text-decoration-color: #008000\">'text'</span>, <span style=\"color: #808000; text-decoration-color: #808000\">use_markdown</span>=<span style=\"color: #ff0000; text-decoration-color: #ff0000; font-style: italic\">False</span><span style=\"font-weight: bold\">)]</span>        <span style=\"color: #7f7f7f; text-decoration-color: #7f7f7f\">             </span>\n",
       "<span style=\"color: #7fbfbf; text-decoration-color: #7fbfbf\">         </span>            <span style=\"color: #808000; text-decoration-color: #808000\">guidelines</span>=<span style=\"color: #800080; text-decoration-color: #800080; font-style: italic\">None</span>                                                                  <span style=\"color: #7f7f7f; text-decoration-color: #7f7f7f\">             </span>\n",
       "<span style=\"color: #7fbfbf; text-decoration-color: #7fbfbf\">         </span>            <span style=\"color: #808000; text-decoration-color: #808000\">metadata_properties</span>=<span style=\"font-weight: bold\">[</span><span style=\"color: #800080; text-decoration-color: #800080; font-weight: bold\">RemoteIntegerMetadataProperty</span><span style=\"font-weight: bold\">(</span><span style=\"color: #808000; text-decoration-color: #808000\">id</span>=<span style=\"color: #800080; text-decoration-color: #800080; font-weight: bold\">UUID</span><span style=\"font-weight: bold\">(</span><span style=\"color: #008000; text-decoration-color: #008000\">'5547d600-1dfd-455c-9</span> <span style=\"color: #7f7f7f; text-decoration-color: #7f7f7f\">             </span>\n",
       "<span style=\"color: #7fbfbf; text-decoration-color: #7fbfbf\">         </span>         <span style=\"color: #008000; text-decoration-color: #008000\">561-56558a3534f2'</span><span style=\"font-weight: bold\">)</span>, <span style=\"color: #808000; text-decoration-color: #808000\">client</span>=<span style=\"font-weight: bold\">&lt;</span><span style=\"color: #ff00ff; text-decoration-color: #ff00ff; font-weight: bold\">httpx.Client</span><span style=\"color: #000000; text-decoration-color: #000000\"> object at </span><span style=\"color: #008080; text-decoration-color: #008080; font-weight: bold\">0x79fd5dc31fc0</span><span style=\"color: #000000; text-decoration-color: #000000\">&gt;, </span>                <span style=\"color: #7f7f7f; text-decoration-color: #7f7f7f\">             </span>\n",
       "<span style=\"color: #7fbfbf; text-decoration-color: #7fbfbf\">         </span>         <span style=\"color: #808000; text-decoration-color: #808000\">name</span><span style=\"color: #000000; text-decoration-color: #000000\">=</span><span style=\"color: #008000; text-decoration-color: #008000\">'length-input'</span><span style=\"color: #000000; text-decoration-color: #000000\">, </span><span style=\"color: #808000; text-decoration-color: #808000\">title</span><span style=\"color: #000000; text-decoration-color: #000000\">=</span><span style=\"color: #008000; text-decoration-color: #008000\">'length-input'</span><span style=\"color: #000000; text-decoration-color: #000000\">, </span><span style=\"color: #808000; text-decoration-color: #808000\">visible_for_annotators</span><span style=\"color: #000000; text-decoration-color: #000000\">=</span><span style=\"color: #00ff00; text-decoration-color: #00ff00; font-style: italic\">True</span><span style=\"color: #000000; text-decoration-color: #000000\">, </span>            <span style=\"color: #7f7f7f; text-decoration-color: #7f7f7f\">             </span>\n",
       "<span style=\"color: #7fbfbf; text-decoration-color: #7fbfbf\">         </span>         <span style=\"color: #808000; text-decoration-color: #808000\">type</span><span style=\"color: #000000; text-decoration-color: #000000\">=</span><span style=\"color: #008000; text-decoration-color: #008000\">'integer'</span><span style=\"color: #000000; text-decoration-color: #000000\">, </span><span style=\"color: #808000; text-decoration-color: #808000\">min</span><span style=\"color: #000000; text-decoration-color: #000000\">=</span><span style=\"color: #800080; text-decoration-color: #800080; font-style: italic\">None</span><span style=\"color: #000000; text-decoration-color: #000000\">, </span><span style=\"color: #808000; text-decoration-color: #808000\">max</span><span style=\"color: #000000; text-decoration-color: #000000\">=</span><span style=\"color: #800080; text-decoration-color: #800080; font-style: italic\">None</span><span style=\"color: #000000; text-decoration-color: #000000; font-weight: bold\">)</span><span style=\"color: #000000; text-decoration-color: #000000\">, </span>                                               <span style=\"color: #7f7f7f; text-decoration-color: #7f7f7f\">             </span>\n",
       "<span style=\"color: #7fbfbf; text-decoration-color: #7fbfbf\">         </span>         <span style=\"color: #800080; text-decoration-color: #800080; font-weight: bold\">RemoteIntegerMetadataProperty</span><span style=\"color: #000000; text-decoration-color: #000000; font-weight: bold\">(</span><span style=\"color: #808000; text-decoration-color: #808000\">id</span><span style=\"color: #000000; text-decoration-color: #000000\">=</span><span style=\"color: #800080; text-decoration-color: #800080; font-weight: bold\">UUID</span><span style=\"color: #000000; text-decoration-color: #000000; font-weight: bold\">(</span><span style=\"color: #008000; text-decoration-color: #008000\">'b700b20f-d8e4-427f-9a77-0a87d78ac439'</span><span style=\"color: #000000; text-decoration-color: #000000; font-weight: bold\">)</span><span style=\"color: #000000; text-decoration-color: #000000\">, </span>     <span style=\"color: #7f7f7f; text-decoration-color: #7f7f7f\">             </span>\n",
       "<span style=\"color: #7fbfbf; text-decoration-color: #7fbfbf\">         </span>         <span style=\"color: #808000; text-decoration-color: #808000\">client</span><span style=\"color: #000000; text-decoration-color: #000000\">=&lt;httpx.Client object at </span><span style=\"color: #008080; text-decoration-color: #008080; font-weight: bold\">0x79fd5dc31fc0</span><span style=\"color: #000000; text-decoration-color: #000000\">&gt;, </span><span style=\"color: #808000; text-decoration-color: #808000\">name</span><span style=\"color: #000000; text-decoration-color: #000000\">=</span><span style=\"color: #008000; text-decoration-color: #008000\">'length-generations-1'</span><span style=\"color: #000000; text-decoration-color: #000000\">, </span>       <span style=\"color: #7f7f7f; text-decoration-color: #7f7f7f\">             </span>\n",
       "<span style=\"color: #7fbfbf; text-decoration-color: #7fbfbf\">         </span>         <span style=\"color: #808000; text-decoration-color: #808000\">title</span><span style=\"color: #000000; text-decoration-color: #000000\">=</span><span style=\"color: #008000; text-decoration-color: #008000\">'length-generations-1'</span><span style=\"color: #000000; text-decoration-color: #000000\">, </span><span style=\"color: #808000; text-decoration-color: #808000\">visible_for_annotators</span><span style=\"color: #000000; text-decoration-color: #000000\">=</span><span style=\"color: #00ff00; text-decoration-color: #00ff00; font-style: italic\">True</span><span style=\"color: #000000; text-decoration-color: #000000\">, </span><span style=\"color: #808000; text-decoration-color: #808000\">type</span><span style=\"color: #000000; text-decoration-color: #000000\">=</span><span style=\"color: #008000; text-decoration-color: #008000\">'integer'</span><span style=\"color: #000000; text-decoration-color: #000000\">, </span>         <span style=\"color: #7f7f7f; text-decoration-color: #7f7f7f\">             </span>\n",
       "<span style=\"color: #7fbfbf; text-decoration-color: #7fbfbf\">         </span>         <span style=\"color: #808000; text-decoration-color: #808000\">min</span><span style=\"color: #000000; text-decoration-color: #000000\">=</span><span style=\"color: #800080; text-decoration-color: #800080; font-style: italic\">None</span><span style=\"color: #000000; text-decoration-color: #000000\">, </span><span style=\"color: #808000; text-decoration-color: #808000\">max</span><span style=\"color: #000000; text-decoration-color: #000000\">=</span><span style=\"color: #800080; text-decoration-color: #800080; font-style: italic\">None</span><span style=\"color: #000000; text-decoration-color: #000000; font-weight: bold\">)</span><span style=\"color: #000000; text-decoration-color: #000000\">, </span>                                                               <span style=\"color: #7f7f7f; text-decoration-color: #7f7f7f\">             </span>\n",
       "<span style=\"color: #7fbfbf; text-decoration-color: #7fbfbf\">         </span>         <span style=\"color: #800080; text-decoration-color: #800080; font-weight: bold\">RemoteIntegerMetadataProperty</span><span style=\"color: #000000; text-decoration-color: #000000; font-weight: bold\">(</span><span style=\"color: #808000; text-decoration-color: #808000\">id</span><span style=\"color: #000000; text-decoration-color: #000000\">=</span><span style=\"color: #800080; text-decoration-color: #800080; font-weight: bold\">UUID</span><span style=\"color: #000000; text-decoration-color: #000000; font-weight: bold\">(</span><span style=\"color: #008000; text-decoration-color: #008000\">'c6ebf3b8-ca98-4e9f-a17f-cacbccafba3b'</span><span style=\"color: #000000; text-decoration-color: #000000; font-weight: bold\">)</span><span style=\"color: #000000; text-decoration-color: #000000\">, </span>     <span style=\"color: #7f7f7f; text-decoration-color: #7f7f7f\">             </span>\n",
       "<span style=\"color: #7fbfbf; text-decoration-color: #7fbfbf\">         </span>         <span style=\"color: #808000; text-decoration-color: #808000\">client</span><span style=\"color: #000000; text-decoration-color: #000000\">=&lt;httpx.Client object at </span><span style=\"color: #008080; text-decoration-color: #008080; font-weight: bold\">0x79fd5dc31fc0</span><span style=\"color: #000000; text-decoration-color: #000000\">&gt;, </span><span style=\"color: #808000; text-decoration-color: #808000\">name</span><span style=\"color: #000000; text-decoration-color: #000000\">=</span><span style=\"color: #008000; text-decoration-color: #008000\">'length-generations-2'</span><span style=\"color: #000000; text-decoration-color: #000000\">, </span>       <span style=\"color: #7f7f7f; text-decoration-color: #7f7f7f\">             </span>\n",
       "<span style=\"color: #7fbfbf; text-decoration-color: #7fbfbf\">         </span>         <span style=\"color: #808000; text-decoration-color: #808000\">title</span><span style=\"color: #000000; text-decoration-color: #000000\">=</span><span style=\"color: #008000; text-decoration-color: #008000\">'length-generations-2'</span><span style=\"color: #000000; text-decoration-color: #000000\">, </span><span style=\"color: #808000; text-decoration-color: #808000\">visible_for_annotators</span><span style=\"color: #000000; text-decoration-color: #000000\">=</span><span style=\"color: #00ff00; text-decoration-color: #00ff00; font-style: italic\">True</span><span style=\"color: #000000; text-decoration-color: #000000\">, </span><span style=\"color: #808000; text-decoration-color: #808000\">type</span><span style=\"color: #000000; text-decoration-color: #000000\">=</span><span style=\"color: #008000; text-decoration-color: #008000\">'integer'</span><span style=\"color: #000000; text-decoration-color: #000000\">, </span>         <span style=\"color: #7f7f7f; text-decoration-color: #7f7f7f\">             </span>\n",
       "<span style=\"color: #7fbfbf; text-decoration-color: #7fbfbf\">         </span>         <span style=\"color: #808000; text-decoration-color: #808000\">min</span><span style=\"color: #000000; text-decoration-color: #000000\">=</span><span style=\"color: #800080; text-decoration-color: #800080; font-style: italic\">None</span><span style=\"color: #000000; text-decoration-color: #000000\">, </span><span style=\"color: #808000; text-decoration-color: #808000\">max</span><span style=\"color: #000000; text-decoration-color: #000000\">=</span><span style=\"color: #800080; text-decoration-color: #800080; font-style: italic\">None</span><span style=\"color: #000000; text-decoration-color: #000000; font-weight: bold\">)</span><span style=\"color: #000000; text-decoration-color: #000000\">, </span>                                                               <span style=\"color: #7f7f7f; text-decoration-color: #7f7f7f\">             </span>\n",
       "<span style=\"color: #7fbfbf; text-decoration-color: #7fbfbf\">         </span>         <span style=\"color: #800080; text-decoration-color: #800080; font-weight: bold\">RemoteFloatMetadataProperty</span><span style=\"color: #000000; text-decoration-color: #000000; font-weight: bold\">(</span><span style=\"color: #808000; text-decoration-color: #808000\">id</span><span style=\"color: #000000; text-decoration-color: #000000\">=</span><span style=\"color: #800080; text-decoration-color: #800080; font-weight: bold\">UUID</span><span style=\"color: #000000; text-decoration-color: #000000; font-weight: bold\">(</span><span style=\"color: #008000; text-decoration-color: #008000\">'2165e938-15ff-46db-8f3b-96db7b55c823'</span><span style=\"color: #000000; text-decoration-color: #000000; font-weight: bold\">)</span><span style=\"color: #000000; text-decoration-color: #000000\">, </span>       <span style=\"color: #7f7f7f; text-decoration-color: #7f7f7f\">             </span>\n",
       "<span style=\"color: #7fbfbf; text-decoration-color: #7fbfbf\">         </span>         <span style=\"color: #808000; text-decoration-color: #808000\">client</span><span style=\"color: #000000; text-decoration-color: #000000\">=&lt;httpx.Client object at </span><span style=\"color: #008080; text-decoration-color: #008080; font-weight: bold\">0x79fd5dc31fc0</span><span style=\"color: #000000; text-decoration-color: #000000\">&gt;, </span><span style=\"color: #808000; text-decoration-color: #808000\">name</span><span style=\"color: #000000; text-decoration-color: #000000\">=</span><span style=\"color: #008000; text-decoration-color: #008000\">'distance-best-rating'</span><span style=\"color: #000000; text-decoration-color: #000000\">, </span>       <span style=\"color: #7f7f7f; text-decoration-color: #7f7f7f\">             </span>\n",
       "<span style=\"color: #7fbfbf; text-decoration-color: #7fbfbf\">         </span>         <span style=\"color: #808000; text-decoration-color: #808000\">title</span><span style=\"color: #000000; text-decoration-color: #000000\">=</span><span style=\"color: #008000; text-decoration-color: #008000\">'distance-best-rating'</span><span style=\"color: #000000; text-decoration-color: #000000\">, </span><span style=\"color: #808000; text-decoration-color: #808000\">visible_for_annotators</span><span style=\"color: #000000; text-decoration-color: #000000\">=</span><span style=\"color: #00ff00; text-decoration-color: #00ff00; font-style: italic\">True</span><span style=\"color: #000000; text-decoration-color: #000000\">, </span><span style=\"color: #808000; text-decoration-color: #808000\">type</span><span style=\"color: #000000; text-decoration-color: #000000\">=</span><span style=\"color: #008000; text-decoration-color: #008000\">'float'</span><span style=\"color: #000000; text-decoration-color: #000000\">, </span><span style=\"color: #808000; text-decoration-color: #808000\">min</span><span style=\"color: #000000; text-decoration-color: #000000\">=</span><span style=\"color: #800080; text-decoration-color: #800080; font-style: italic\">None</span><span style=\"color: #000000; text-decoration-color: #000000\">, </span> <span style=\"color: #7f7f7f; text-decoration-color: #7f7f7f\">             </span>\n",
       "<span style=\"color: #7fbfbf; text-decoration-color: #7fbfbf\">         </span>         <span style=\"color: #808000; text-decoration-color: #808000\">max</span><span style=\"color: #000000; text-decoration-color: #000000\">=</span><span style=\"color: #800080; text-decoration-color: #800080; font-style: italic\">None</span><span style=\"color: #000000; text-decoration-color: #000000; font-weight: bold\">)</span><span style=\"color: #000000; text-decoration-color: #000000\">, </span>                                                                         <span style=\"color: #7f7f7f; text-decoration-color: #7f7f7f\">             </span>\n",
       "<span style=\"color: #7fbfbf; text-decoration-color: #7fbfbf\">         </span>         <span style=\"color: #800080; text-decoration-color: #800080; font-weight: bold\">RemoteIntegerMetadataProperty</span><span style=\"color: #000000; text-decoration-color: #000000; font-weight: bold\">(</span><span style=\"color: #808000; text-decoration-color: #808000\">id</span><span style=\"color: #000000; text-decoration-color: #000000\">=</span><span style=\"color: #800080; text-decoration-color: #800080; font-weight: bold\">UUID</span><span style=\"color: #000000; text-decoration-color: #000000; font-weight: bold\">(</span><span style=\"color: #008000; text-decoration-color: #008000\">'ce2faac0-02df-48af-a16f-9ab068257b3c'</span><span style=\"color: #000000; text-decoration-color: #000000; font-weight: bold\">)</span><span style=\"color: #000000; text-decoration-color: #000000\">, </span>     <span style=\"color: #7f7f7f; text-decoration-color: #7f7f7f\">             </span>\n",
       "<span style=\"color: #7fbfbf; text-decoration-color: #7fbfbf\">         </span>         <span style=\"color: #808000; text-decoration-color: #808000\">client</span><span style=\"color: #000000; text-decoration-color: #000000\">=&lt;httpx.Client object at </span><span style=\"color: #008080; text-decoration-color: #008080; font-weight: bold\">0x79fd5dc31fc0</span><span style=\"color: #000000; text-decoration-color: #000000\">&gt;, </span><span style=\"color: #808000; text-decoration-color: #808000\">name</span><span style=\"color: #000000; text-decoration-color: #000000\">=</span><span style=\"color: #008000; text-decoration-color: #008000\">'input_n_tokens'</span><span style=\"color: #000000; text-decoration-color: #000000\">, </span><span style=\"color: #808000; text-decoration-color: #808000\">title</span><span style=\"color: #000000; text-decoration-color: #000000\">=</span><span style=\"color: #008000; text-decoration-color: #008000\">'Input</span> <span style=\"color: #7f7f7f; text-decoration-color: #7f7f7f\">             </span>\n",
       "<span style=\"color: #7fbfbf; text-decoration-color: #7fbfbf\">         </span>         <span style=\"color: #008000; text-decoration-color: #008000\">N Tokens'</span><span style=\"color: #000000; text-decoration-color: #000000\">, </span><span style=\"color: #808000; text-decoration-color: #808000\">visible_for_annotators</span><span style=\"color: #000000; text-decoration-color: #000000\">=</span><span style=\"color: #00ff00; text-decoration-color: #00ff00; font-style: italic\">True</span><span style=\"color: #000000; text-decoration-color: #000000\">, </span><span style=\"color: #808000; text-decoration-color: #808000\">type</span><span style=\"color: #000000; text-decoration-color: #000000\">=</span><span style=\"color: #008000; text-decoration-color: #008000\">'integer'</span><span style=\"color: #000000; text-decoration-color: #000000\">, </span><span style=\"color: #808000; text-decoration-color: #808000\">min</span><span style=\"color: #000000; text-decoration-color: #000000\">=</span><span style=\"color: #800080; text-decoration-color: #800080; font-style: italic\">None</span><span style=\"color: #000000; text-decoration-color: #000000\">, </span><span style=\"color: #808000; text-decoration-color: #808000\">max</span><span style=\"color: #000000; text-decoration-color: #000000\">=</span><span style=\"color: #800080; text-decoration-color: #800080; font-style: italic\">None</span><span style=\"color: #000000; text-decoration-color: #000000; font-weight: bold\">)</span><span style=\"color: #000000; text-decoration-color: #000000\">, </span>       <span style=\"color: #7f7f7f; text-decoration-color: #7f7f7f\">             </span>\n",
       "<span style=\"color: #7fbfbf; text-decoration-color: #7fbfbf\">         </span>         <span style=\"color: #800080; text-decoration-color: #800080; font-weight: bold\">RemoteIntegerMetadataProperty</span><span style=\"color: #000000; text-decoration-color: #000000; font-weight: bold\">(</span><span style=\"color: #808000; text-decoration-color: #808000\">id</span><span style=\"color: #000000; text-decoration-color: #000000\">=</span><span style=\"color: #800080; text-decoration-color: #800080; font-weight: bold\">UUID</span><span style=\"color: #000000; text-decoration-color: #000000; font-weight: bold\">(</span><span style=\"color: #008000; text-decoration-color: #008000\">'29a69cbe-3994-4334-9d26-d15ee27db188'</span><span style=\"color: #000000; text-decoration-color: #000000; font-weight: bold\">)</span><span style=\"color: #000000; text-decoration-color: #000000\">, </span>     <span style=\"color: #7f7f7f; text-decoration-color: #7f7f7f\">             </span>\n",
       "<span style=\"color: #7fbfbf; text-decoration-color: #7fbfbf\">         </span>         <span style=\"color: #808000; text-decoration-color: #808000\">client</span><span style=\"color: #000000; text-decoration-color: #000000\">=&lt;httpx.Client object at </span><span style=\"color: #008080; text-decoration-color: #008080; font-weight: bold\">0x79fd5dc31fc0</span><span style=\"color: #000000; text-decoration-color: #000000\">&gt;, </span><span style=\"color: #808000; text-decoration-color: #808000\">name</span><span style=\"color: #000000; text-decoration-color: #000000\">=</span><span style=\"color: #008000; text-decoration-color: #008000\">'input_n_unique_tokens'</span><span style=\"color: #000000; text-decoration-color: #000000\">, </span>      <span style=\"color: #7f7f7f; text-decoration-color: #7f7f7f\">             </span>\n",
       "<span style=\"color: #7fbfbf; text-decoration-color: #7fbfbf\">         </span>         <span style=\"color: #808000; text-decoration-color: #808000\">title</span><span style=\"color: #000000; text-decoration-color: #000000\">=</span><span style=\"color: #008000; text-decoration-color: #008000\">'Input N Unique Tokens'</span><span style=\"color: #000000; text-decoration-color: #000000\">, </span><span style=\"color: #808000; text-decoration-color: #808000\">visible_for_annotators</span><span style=\"color: #000000; text-decoration-color: #000000\">=</span><span style=\"color: #00ff00; text-decoration-color: #00ff00; font-style: italic\">True</span><span style=\"color: #000000; text-decoration-color: #000000\">, </span><span style=\"color: #808000; text-decoration-color: #808000\">type</span><span style=\"color: #000000; text-decoration-color: #000000\">=</span><span style=\"color: #008000; text-decoration-color: #008000\">'integer'</span><span style=\"color: #000000; text-decoration-color: #000000\">, </span>        <span style=\"color: #7f7f7f; text-decoration-color: #7f7f7f\">             </span>\n",
       "<span style=\"color: #7fbfbf; text-decoration-color: #7fbfbf\">         </span>         <span style=\"color: #808000; text-decoration-color: #808000\">min</span><span style=\"color: #000000; text-decoration-color: #000000\">=</span><span style=\"color: #800080; text-decoration-color: #800080; font-style: italic\">None</span><span style=\"color: #000000; text-decoration-color: #000000\">, </span><span style=\"color: #808000; text-decoration-color: #808000\">max</span><span style=\"color: #000000; text-decoration-color: #000000\">=</span><span style=\"color: #800080; text-decoration-color: #800080; font-style: italic\">None</span><span style=\"color: #000000; text-decoration-color: #000000; font-weight: bold\">)</span><span style=\"color: #000000; text-decoration-color: #000000\">, </span>                                                               <span style=\"color: #7f7f7f; text-decoration-color: #7f7f7f\">             </span>\n",
       "<span style=\"color: #7fbfbf; text-decoration-color: #7fbfbf\">         </span>         <span style=\"color: #800080; text-decoration-color: #800080; font-weight: bold\">RemoteIntegerMetadataProperty</span><span style=\"color: #000000; text-decoration-color: #000000; font-weight: bold\">(</span><span style=\"color: #808000; text-decoration-color: #808000\">id</span><span style=\"color: #000000; text-decoration-color: #000000\">=</span><span style=\"color: #800080; text-decoration-color: #800080; font-weight: bold\">UUID</span><span style=\"color: #000000; text-decoration-color: #000000; font-weight: bold\">(</span><span style=\"color: #008000; text-decoration-color: #008000\">'5d5eb1fc-a4bb-4e5d-a3c8-3fc9eaddf799'</span><span style=\"color: #000000; text-decoration-color: #000000; font-weight: bold\">)</span><span style=\"color: #000000; text-decoration-color: #000000\">, </span>     <span style=\"color: #7f7f7f; text-decoration-color: #7f7f7f\">             </span>\n",
       "<span style=\"color: #7fbfbf; text-decoration-color: #7fbfbf\">         </span>         <span style=\"color: #808000; text-decoration-color: #808000\">client</span><span style=\"color: #000000; text-decoration-color: #000000\">=&lt;httpx.Client object at </span><span style=\"color: #008080; text-decoration-color: #008080; font-weight: bold\">0x79fd5dc31fc0</span><span style=\"color: #000000; text-decoration-color: #000000\">&gt;, </span><span style=\"color: #808000; text-decoration-color: #808000\">name</span><span style=\"color: #000000; text-decoration-color: #000000\">=</span><span style=\"color: #008000; text-decoration-color: #008000\">'input_n_sentences'</span><span style=\"color: #000000; text-decoration-color: #000000\">, </span>          <span style=\"color: #7f7f7f; text-decoration-color: #7f7f7f\">             </span>\n",
       "<span style=\"color: #7fbfbf; text-decoration-color: #7fbfbf\">         </span>         <span style=\"color: #808000; text-decoration-color: #808000\">title</span><span style=\"color: #000000; text-decoration-color: #000000\">=</span><span style=\"color: #008000; text-decoration-color: #008000\">'Input N Sentences'</span><span style=\"color: #000000; text-decoration-color: #000000\">, </span><span style=\"color: #808000; text-decoration-color: #808000\">visible_for_annotators</span><span style=\"color: #000000; text-decoration-color: #000000\">=</span><span style=\"color: #00ff00; text-decoration-color: #00ff00; font-style: italic\">True</span><span style=\"color: #000000; text-decoration-color: #000000\">, </span><span style=\"color: #808000; text-decoration-color: #808000\">type</span><span style=\"color: #000000; text-decoration-color: #000000\">=</span><span style=\"color: #008000; text-decoration-color: #008000\">'integer'</span><span style=\"color: #000000; text-decoration-color: #000000\">, </span><span style=\"color: #808000; text-decoration-color: #808000\">min</span><span style=\"color: #000000; text-decoration-color: #000000\">=</span><span style=\"color: #800080; text-decoration-color: #800080; font-style: italic\">None</span><span style=\"color: #000000; text-decoration-color: #000000\">, </span>  <span style=\"color: #7f7f7f; text-decoration-color: #7f7f7f\">             </span>\n",
       "<span style=\"color: #7fbfbf; text-decoration-color: #7fbfbf\">         </span>         <span style=\"color: #808000; text-decoration-color: #808000\">max</span><span style=\"color: #000000; text-decoration-color: #000000\">=</span><span style=\"color: #800080; text-decoration-color: #800080; font-style: italic\">None</span><span style=\"color: #000000; text-decoration-color: #000000; font-weight: bold\">)</span><span style=\"color: #000000; text-decoration-color: #000000\">, </span>                                                                         <span style=\"color: #7f7f7f; text-decoration-color: #7f7f7f\">             </span>\n",
       "<span style=\"color: #7fbfbf; text-decoration-color: #7fbfbf\">         </span>         <span style=\"color: #800080; text-decoration-color: #800080; font-weight: bold\">RemoteFloatMetadataProperty</span><span style=\"color: #000000; text-decoration-color: #000000; font-weight: bold\">(</span><span style=\"color: #808000; text-decoration-color: #808000\">id</span><span style=\"color: #000000; text-decoration-color: #000000\">=</span><span style=\"color: #800080; text-decoration-color: #800080; font-weight: bold\">UUID</span><span style=\"color: #000000; text-decoration-color: #000000; font-weight: bold\">(</span><span style=\"color: #008000; text-decoration-color: #008000\">'5c87a276-3fa3-476b-9405-7be79d75418f'</span><span style=\"color: #000000; text-decoration-color: #000000; font-weight: bold\">)</span><span style=\"color: #000000; text-decoration-color: #000000\">, </span>       <span style=\"color: #7f7f7f; text-decoration-color: #7f7f7f\">             </span>\n",
       "<span style=\"color: #7fbfbf; text-decoration-color: #7fbfbf\">         </span>         <span style=\"color: #808000; text-decoration-color: #808000\">client</span><span style=\"color: #000000; text-decoration-color: #000000\">=&lt;httpx.Client object at </span><span style=\"color: #008080; text-decoration-color: #008080; font-weight: bold\">0x79fd5dc31fc0</span><span style=\"color: #000000; text-decoration-color: #000000\">&gt;, </span><span style=\"color: #808000; text-decoration-color: #808000\">name</span><span style=\"color: #000000; text-decoration-color: #000000\">=</span><span style=\"color: #008000; text-decoration-color: #008000\">'input_perplexity'</span><span style=\"color: #000000; text-decoration-color: #000000\">, </span>           <span style=\"color: #7f7f7f; text-decoration-color: #7f7f7f\">             </span>\n",
       "<span style=\"color: #7fbfbf; text-decoration-color: #7fbfbf\">         </span>         <span style=\"color: #808000; text-decoration-color: #808000\">title</span><span style=\"color: #000000; text-decoration-color: #000000\">=</span><span style=\"color: #008000; text-decoration-color: #008000\">'Input Perplexity'</span><span style=\"color: #000000; text-decoration-color: #000000\">, </span><span style=\"color: #808000; text-decoration-color: #808000\">visible_for_annotators</span><span style=\"color: #000000; text-decoration-color: #000000\">=</span><span style=\"color: #00ff00; text-decoration-color: #00ff00; font-style: italic\">True</span><span style=\"color: #000000; text-decoration-color: #000000\">, </span><span style=\"color: #808000; text-decoration-color: #808000\">type</span><span style=\"color: #000000; text-decoration-color: #000000\">=</span><span style=\"color: #008000; text-decoration-color: #008000\">'float'</span><span style=\"color: #000000; text-decoration-color: #000000\">, </span><span style=\"color: #808000; text-decoration-color: #808000\">min</span><span style=\"color: #000000; text-decoration-color: #000000\">=</span><span style=\"color: #800080; text-decoration-color: #800080; font-style: italic\">None</span><span style=\"color: #000000; text-decoration-color: #000000\">, </span>     <span style=\"color: #7f7f7f; text-decoration-color: #7f7f7f\">             </span>\n",
       "<span style=\"color: #7fbfbf; text-decoration-color: #7fbfbf\">         </span>         <span style=\"color: #808000; text-decoration-color: #808000\">max</span><span style=\"color: #000000; text-decoration-color: #000000\">=</span><span style=\"color: #800080; text-decoration-color: #800080; font-style: italic\">None</span><span style=\"color: #000000; text-decoration-color: #000000; font-weight: bold\">)</span><span style=\"color: #000000; text-decoration-color: #000000\">, </span>                                                                         <span style=\"color: #7f7f7f; text-decoration-color: #7f7f7f\">             </span>\n",
       "<span style=\"color: #7fbfbf; text-decoration-color: #7fbfbf\">         </span>         <span style=\"color: #800080; text-decoration-color: #800080; font-weight: bold\">RemoteFloatMetadataProperty</span><span style=\"color: #000000; text-decoration-color: #000000; font-weight: bold\">(</span><span style=\"color: #808000; text-decoration-color: #808000\">id</span><span style=\"color: #000000; text-decoration-color: #000000\">=</span><span style=\"color: #800080; text-decoration-color: #800080; font-weight: bold\">UUID</span><span style=\"color: #000000; text-decoration-color: #000000; font-weight: bold\">(</span><span style=\"color: #008000; text-decoration-color: #008000\">'1a368390-dd83-4aaf-9c1b-8b2938153ef3'</span><span style=\"color: #000000; text-decoration-color: #000000; font-weight: bold\">)</span><span style=\"color: #000000; text-decoration-color: #000000\">, </span>       <span style=\"color: #7f7f7f; text-decoration-color: #7f7f7f\">             </span>\n",
       "<span style=\"color: #7fbfbf; text-decoration-color: #7fbfbf\">         </span>         <span style=\"color: #808000; text-decoration-color: #808000\">client</span><span style=\"color: #000000; text-decoration-color: #000000\">=&lt;httpx.Client object at </span><span style=\"color: #008080; text-decoration-color: #008080; font-weight: bold\">0x79fd5dc31fc0</span><span style=\"color: #000000; text-decoration-color: #000000\">&gt;, </span><span style=\"color: #808000; text-decoration-color: #808000\">name</span><span style=\"color: #000000; text-decoration-color: #000000\">=</span><span style=\"color: #008000; text-decoration-color: #008000\">'input_entropy'</span><span style=\"color: #000000; text-decoration-color: #000000\">, </span><span style=\"color: #808000; text-decoration-color: #808000\">title</span><span style=\"color: #000000; text-decoration-color: #000000\">=</span><span style=\"color: #008000; text-decoration-color: #008000\">'Input </span> <span style=\"color: #7f7f7f; text-decoration-color: #7f7f7f\">             </span>\n",
       "<span style=\"color: #7fbfbf; text-decoration-color: #7fbfbf\">         </span>         <span style=\"color: #008000; text-decoration-color: #008000\">Entropy'</span><span style=\"color: #000000; text-decoration-color: #000000\">, </span><span style=\"color: #808000; text-decoration-color: #808000\">visible_for_annotators</span><span style=\"color: #000000; text-decoration-color: #000000\">=</span><span style=\"color: #00ff00; text-decoration-color: #00ff00; font-style: italic\">True</span><span style=\"color: #000000; text-decoration-color: #000000\">, </span><span style=\"color: #808000; text-decoration-color: #808000\">type</span><span style=\"color: #000000; text-decoration-color: #000000\">=</span><span style=\"color: #008000; text-decoration-color: #008000\">'float'</span><span style=\"color: #000000; text-decoration-color: #000000\">, </span><span style=\"color: #808000; text-decoration-color: #808000\">min</span><span style=\"color: #000000; text-decoration-color: #000000\">=</span><span style=\"color: #800080; text-decoration-color: #800080; font-style: italic\">None</span><span style=\"color: #000000; text-decoration-color: #000000\">, </span><span style=\"color: #808000; text-decoration-color: #808000\">max</span><span style=\"color: #000000; text-decoration-color: #000000\">=</span><span style=\"color: #800080; text-decoration-color: #800080; font-style: italic\">None</span><span style=\"color: #000000; text-decoration-color: #000000; font-weight: bold\">)</span><span style=\"color: #000000; text-decoration-color: #000000\">, </span>          <span style=\"color: #7f7f7f; text-decoration-color: #7f7f7f\">             </span>\n",
       "<span style=\"color: #7fbfbf; text-decoration-color: #7fbfbf\">         </span>         <span style=\"color: #800080; text-decoration-color: #800080; font-weight: bold\">RemoteFloatMetadataProperty</span><span style=\"color: #000000; text-decoration-color: #000000; font-weight: bold\">(</span><span style=\"color: #808000; text-decoration-color: #808000\">id</span><span style=\"color: #000000; text-decoration-color: #000000\">=</span><span style=\"color: #800080; text-decoration-color: #800080; font-weight: bold\">UUID</span><span style=\"color: #000000; text-decoration-color: #000000; font-weight: bold\">(</span><span style=\"color: #008000; text-decoration-color: #008000\">'3383d73b-900a-42be-b5bf-e064b3a3d42d'</span><span style=\"color: #000000; text-decoration-color: #000000; font-weight: bold\">)</span><span style=\"color: #000000; text-decoration-color: #000000\">, </span>       <span style=\"color: #7f7f7f; text-decoration-color: #7f7f7f\">             </span>\n",
       "<span style=\"color: #7fbfbf; text-decoration-color: #7fbfbf\">         </span>         <span style=\"color: #808000; text-decoration-color: #808000\">client</span><span style=\"color: #000000; text-decoration-color: #000000\">=&lt;httpx.Client object at </span><span style=\"color: #008080; text-decoration-color: #008080; font-weight: bold\">0x79fd5dc31fc0</span><span style=\"color: #000000; text-decoration-color: #000000\">&gt;, </span><span style=\"color: #808000; text-decoration-color: #808000\">name</span><span style=\"color: #000000; text-decoration-color: #000000\">=</span><span style=\"color: #008000; text-decoration-color: #008000\">'input_flesch_reading_ease'</span><span style=\"color: #000000; text-decoration-color: #000000\">, </span>  <span style=\"color: #7f7f7f; text-decoration-color: #7f7f7f\">             </span>\n",
       "<span style=\"color: #7fbfbf; text-decoration-color: #7fbfbf\">         </span>         <span style=\"color: #808000; text-decoration-color: #808000\">title</span><span style=\"color: #000000; text-decoration-color: #000000\">=</span><span style=\"color: #008000; text-decoration-color: #008000\">'Input Flesch Reading Ease'</span><span style=\"color: #000000; text-decoration-color: #000000\">, </span><span style=\"color: #808000; text-decoration-color: #808000\">visible_for_annotators</span><span style=\"color: #000000; text-decoration-color: #000000\">=</span><span style=\"color: #00ff00; text-decoration-color: #00ff00; font-style: italic\">True</span><span style=\"color: #000000; text-decoration-color: #000000\">, </span><span style=\"color: #808000; text-decoration-color: #808000\">type</span><span style=\"color: #000000; text-decoration-color: #000000\">=</span><span style=\"color: #008000; text-decoration-color: #008000\">'float'</span><span style=\"color: #000000; text-decoration-color: #000000\">, </span>      <span style=\"color: #7f7f7f; text-decoration-color: #7f7f7f\">             </span>\n",
       "<span style=\"color: #7fbfbf; text-decoration-color: #7fbfbf\">         </span>         <span style=\"color: #808000; text-decoration-color: #808000\">min</span><span style=\"color: #000000; text-decoration-color: #000000\">=</span><span style=\"color: #800080; text-decoration-color: #800080; font-style: italic\">None</span><span style=\"color: #000000; text-decoration-color: #000000\">, </span><span style=\"color: #808000; text-decoration-color: #808000\">max</span><span style=\"color: #000000; text-decoration-color: #000000\">=</span><span style=\"color: #800080; text-decoration-color: #800080; font-style: italic\">None</span><span style=\"color: #000000; text-decoration-color: #000000; font-weight: bold\">)</span><span style=\"color: #000000; text-decoration-color: #000000\">, </span>                                                               <span style=\"color: #7f7f7f; text-decoration-color: #7f7f7f\">             </span>\n",
       "<span style=\"color: #7fbfbf; text-decoration-color: #7fbfbf\">         </span>         <span style=\"color: #800080; text-decoration-color: #800080; font-weight: bold\">RemoteIntegerMetadataProperty</span><span style=\"color: #000000; text-decoration-color: #000000; font-weight: bold\">(</span><span style=\"color: #808000; text-decoration-color: #808000\">id</span><span style=\"color: #000000; text-decoration-color: #000000\">=</span><span style=\"color: #800080; text-decoration-color: #800080; font-weight: bold\">UUID</span><span style=\"color: #000000; text-decoration-color: #000000; font-weight: bold\">(</span><span style=\"color: #008000; text-decoration-color: #008000\">'cf3d788e-7717-434b-bf97-fea59bc50fd2'</span><span style=\"color: #000000; text-decoration-color: #000000; font-weight: bold\">)</span><span style=\"color: #000000; text-decoration-color: #000000\">, </span>     <span style=\"color: #7f7f7f; text-decoration-color: #7f7f7f\">             </span>\n",
       "<span style=\"color: #7fbfbf; text-decoration-color: #7fbfbf\">         </span>         <span style=\"color: #808000; text-decoration-color: #808000\">client</span><span style=\"color: #000000; text-decoration-color: #000000\">=&lt;httpx.Client object at </span><span style=\"color: #008080; text-decoration-color: #008080; font-weight: bold\">0x79fd5dc31fc0</span><span style=\"color: #000000; text-decoration-color: #000000\">&gt;, </span><span style=\"color: #808000; text-decoration-color: #808000\">name</span><span style=\"color: #000000; text-decoration-color: #000000\">=</span><span style=\"color: #008000; text-decoration-color: #008000\">'generations_1_n_tokens'</span><span style=\"color: #000000; text-decoration-color: #000000\">, </span>     <span style=\"color: #7f7f7f; text-decoration-color: #7f7f7f\">             </span>\n",
       "<span style=\"color: #7fbfbf; text-decoration-color: #7fbfbf\">         </span>         <span style=\"color: #808000; text-decoration-color: #808000\">title</span><span style=\"color: #000000; text-decoration-color: #000000\">=</span><span style=\"color: #008000; text-decoration-color: #008000\">'Generations 1 N Tokens'</span><span style=\"color: #000000; text-decoration-color: #000000\">, </span><span style=\"color: #808000; text-decoration-color: #808000\">visible_for_annotators</span><span style=\"color: #000000; text-decoration-color: #000000\">=</span><span style=\"color: #00ff00; text-decoration-color: #00ff00; font-style: italic\">True</span><span style=\"color: #000000; text-decoration-color: #000000\">, </span><span style=\"color: #808000; text-decoration-color: #808000\">type</span><span style=\"color: #000000; text-decoration-color: #000000\">=</span><span style=\"color: #008000; text-decoration-color: #008000\">'integer'</span><span style=\"color: #000000; text-decoration-color: #000000\">, </span>       <span style=\"color: #7f7f7f; text-decoration-color: #7f7f7f\">             </span>\n",
       "<span style=\"color: #7fbfbf; text-decoration-color: #7fbfbf\">         </span>         <span style=\"color: #808000; text-decoration-color: #808000\">min</span><span style=\"color: #000000; text-decoration-color: #000000\">=</span><span style=\"color: #800080; text-decoration-color: #800080; font-style: italic\">None</span><span style=\"color: #000000; text-decoration-color: #000000\">, </span><span style=\"color: #808000; text-decoration-color: #808000\">max</span><span style=\"color: #000000; text-decoration-color: #000000\">=</span><span style=\"color: #800080; text-decoration-color: #800080; font-style: italic\">None</span><span style=\"color: #000000; text-decoration-color: #000000; font-weight: bold\">)</span><span style=\"color: #000000; text-decoration-color: #000000\">, </span>                                                               <span style=\"color: #7f7f7f; text-decoration-color: #7f7f7f\">             </span>\n",
       "<span style=\"color: #7fbfbf; text-decoration-color: #7fbfbf\">         </span>         <span style=\"color: #800080; text-decoration-color: #800080; font-weight: bold\">RemoteIntegerMetadataProperty</span><span style=\"color: #000000; text-decoration-color: #000000; font-weight: bold\">(</span><span style=\"color: #808000; text-decoration-color: #808000\">id</span><span style=\"color: #000000; text-decoration-color: #000000\">=</span><span style=\"color: #800080; text-decoration-color: #800080; font-weight: bold\">UUID</span><span style=\"color: #000000; text-decoration-color: #000000; font-weight: bold\">(</span><span style=\"color: #008000; text-decoration-color: #008000\">'6dd43911-4dae-4df9-9928-f5134003438a'</span><span style=\"color: #000000; text-decoration-color: #000000; font-weight: bold\">)</span><span style=\"color: #000000; text-decoration-color: #000000\">, </span>     <span style=\"color: #7f7f7f; text-decoration-color: #7f7f7f\">             </span>\n",
       "<span style=\"color: #7fbfbf; text-decoration-color: #7fbfbf\">         </span>         <span style=\"color: #808000; text-decoration-color: #808000\">client</span><span style=\"color: #000000; text-decoration-color: #000000\">=&lt;httpx.Client object at </span><span style=\"color: #008080; text-decoration-color: #008080; font-weight: bold\">0x79fd5dc31fc0</span><span style=\"color: #000000; text-decoration-color: #000000\">&gt;, </span>                                    <span style=\"color: #7f7f7f; text-decoration-color: #7f7f7f\">             </span>\n",
       "<span style=\"color: #7fbfbf; text-decoration-color: #7fbfbf\">         </span>         <span style=\"color: #808000; text-decoration-color: #808000\">name</span><span style=\"color: #000000; text-decoration-color: #000000\">=</span><span style=\"color: #008000; text-decoration-color: #008000\">'generations_1_n_unique_tokens'</span><span style=\"color: #000000; text-decoration-color: #000000\">, </span><span style=\"color: #808000; text-decoration-color: #808000\">title</span><span style=\"color: #000000; text-decoration-color: #000000\">=</span><span style=\"color: #008000; text-decoration-color: #008000\">'Generations 1 N Unique Tokens'</span><span style=\"color: #000000; text-decoration-color: #000000\">, </span>       <span style=\"color: #7f7f7f; text-decoration-color: #7f7f7f\">             </span>\n",
       "<span style=\"color: #7fbfbf; text-decoration-color: #7fbfbf\">         </span>         <span style=\"color: #808000; text-decoration-color: #808000\">visible_for_annotators</span><span style=\"color: #000000; text-decoration-color: #000000\">=</span><span style=\"color: #00ff00; text-decoration-color: #00ff00; font-style: italic\">True</span><span style=\"color: #000000; text-decoration-color: #000000\">, </span><span style=\"color: #808000; text-decoration-color: #808000\">type</span><span style=\"color: #000000; text-decoration-color: #000000\">=</span><span style=\"color: #008000; text-decoration-color: #008000\">'integer'</span><span style=\"color: #000000; text-decoration-color: #000000\">, </span><span style=\"color: #808000; text-decoration-color: #808000\">min</span><span style=\"color: #000000; text-decoration-color: #000000\">=</span><span style=\"color: #800080; text-decoration-color: #800080; font-style: italic\">None</span><span style=\"color: #000000; text-decoration-color: #000000\">, </span><span style=\"color: #808000; text-decoration-color: #808000\">max</span><span style=\"color: #000000; text-decoration-color: #000000\">=</span><span style=\"color: #800080; text-decoration-color: #800080; font-style: italic\">None</span><span style=\"color: #000000; text-decoration-color: #000000; font-weight: bold\">)</span><span style=\"color: #000000; text-decoration-color: #000000\">, </span>                  <span style=\"color: #7f7f7f; text-decoration-color: #7f7f7f\">             </span>\n",
       "<span style=\"color: #7fbfbf; text-decoration-color: #7fbfbf\">         </span>         <span style=\"color: #800080; text-decoration-color: #800080; font-weight: bold\">RemoteIntegerMetadataProperty</span><span style=\"color: #000000; text-decoration-color: #000000; font-weight: bold\">(</span><span style=\"color: #808000; text-decoration-color: #808000\">id</span><span style=\"color: #000000; text-decoration-color: #000000\">=</span><span style=\"color: #800080; text-decoration-color: #800080; font-weight: bold\">UUID</span><span style=\"color: #000000; text-decoration-color: #000000; font-weight: bold\">(</span><span style=\"color: #008000; text-decoration-color: #008000\">'eb5b3e58-d674-4daa-90a8-652de08bcf5d'</span><span style=\"color: #000000; text-decoration-color: #000000; font-weight: bold\">)</span><span style=\"color: #000000; text-decoration-color: #000000\">, </span>     <span style=\"color: #7f7f7f; text-decoration-color: #7f7f7f\">             </span>\n",
       "<span style=\"color: #7fbfbf; text-decoration-color: #7fbfbf\">         </span>         <span style=\"color: #808000; text-decoration-color: #808000\">client</span><span style=\"color: #000000; text-decoration-color: #000000\">=&lt;httpx.Client object at </span><span style=\"color: #008080; text-decoration-color: #008080; font-weight: bold\">0x79fd5dc31fc0</span><span style=\"color: #000000; text-decoration-color: #000000\">&gt;, </span><span style=\"color: #808000; text-decoration-color: #808000\">name</span><span style=\"color: #000000; text-decoration-color: #000000\">=</span><span style=\"color: #008000; text-decoration-color: #008000\">'generations_1_n_sentences'</span><span style=\"color: #000000; text-decoration-color: #000000\">, </span>  <span style=\"color: #7f7f7f; text-decoration-color: #7f7f7f\">             </span>\n",
       "<span style=\"color: #7fbfbf; text-decoration-color: #7fbfbf\">         </span>         <span style=\"color: #808000; text-decoration-color: #808000\">title</span><span style=\"color: #000000; text-decoration-color: #000000\">=</span><span style=\"color: #008000; text-decoration-color: #008000\">'Generations 1 N Sentences'</span><span style=\"color: #000000; text-decoration-color: #000000\">, </span><span style=\"color: #808000; text-decoration-color: #808000\">visible_for_annotators</span><span style=\"color: #000000; text-decoration-color: #000000\">=</span><span style=\"color: #00ff00; text-decoration-color: #00ff00; font-style: italic\">True</span><span style=\"color: #000000; text-decoration-color: #000000\">, </span><span style=\"color: #808000; text-decoration-color: #808000\">type</span><span style=\"color: #000000; text-decoration-color: #000000\">=</span><span style=\"color: #008000; text-decoration-color: #008000\">'integer'</span><span style=\"color: #000000; text-decoration-color: #000000\">, </span>    <span style=\"color: #7f7f7f; text-decoration-color: #7f7f7f\">             </span>\n",
       "<span style=\"color: #7fbfbf; text-decoration-color: #7fbfbf\">         </span>         <span style=\"color: #808000; text-decoration-color: #808000\">min</span><span style=\"color: #000000; text-decoration-color: #000000\">=</span><span style=\"color: #800080; text-decoration-color: #800080; font-style: italic\">None</span><span style=\"color: #000000; text-decoration-color: #000000\">, </span><span style=\"color: #808000; text-decoration-color: #808000\">max</span><span style=\"color: #000000; text-decoration-color: #000000\">=</span><span style=\"color: #800080; text-decoration-color: #800080; font-style: italic\">None</span><span style=\"color: #000000; text-decoration-color: #000000; font-weight: bold\">)</span><span style=\"color: #000000; text-decoration-color: #000000\">, </span>                                                               <span style=\"color: #7f7f7f; text-decoration-color: #7f7f7f\">             </span>\n",
       "<span style=\"color: #7fbfbf; text-decoration-color: #7fbfbf\">         </span>         <span style=\"color: #800080; text-decoration-color: #800080; font-weight: bold\">RemoteFloatMetadataProperty</span><span style=\"color: #000000; text-decoration-color: #000000; font-weight: bold\">(</span><span style=\"color: #808000; text-decoration-color: #808000\">id</span><span style=\"color: #000000; text-decoration-color: #000000\">=</span><span style=\"color: #800080; text-decoration-color: #800080; font-weight: bold\">UUID</span><span style=\"color: #000000; text-decoration-color: #000000; font-weight: bold\">(</span><span style=\"color: #008000; text-decoration-color: #008000\">'1e3f397e-0e2d-4731-90ef-fa3178a12f36'</span><span style=\"color: #000000; text-decoration-color: #000000; font-weight: bold\">)</span><span style=\"color: #000000; text-decoration-color: #000000\">, </span>       <span style=\"color: #7f7f7f; text-decoration-color: #7f7f7f\">             </span>\n",
       "<span style=\"color: #7fbfbf; text-decoration-color: #7fbfbf\">         </span>         <span style=\"color: #808000; text-decoration-color: #808000\">client</span><span style=\"color: #000000; text-decoration-color: #000000\">=&lt;httpx.Client object at </span><span style=\"color: #008080; text-decoration-color: #008080; font-weight: bold\">0x79fd5dc31fc0</span><span style=\"color: #000000; text-decoration-color: #000000\">&gt;, </span><span style=\"color: #808000; text-decoration-color: #808000\">name</span><span style=\"color: #000000; text-decoration-color: #000000\">=</span><span style=\"color: #008000; text-decoration-color: #008000\">'generations_1_perplexity'</span><span style=\"color: #000000; text-decoration-color: #000000\">, </span>   <span style=\"color: #7f7f7f; text-decoration-color: #7f7f7f\">             </span>\n",
       "<span style=\"color: #7fbfbf; text-decoration-color: #7fbfbf\">         </span>         <span style=\"color: #808000; text-decoration-color: #808000\">title</span><span style=\"color: #000000; text-decoration-color: #000000\">=</span><span style=\"color: #008000; text-decoration-color: #008000\">'Generations 1 Perplexity'</span><span style=\"color: #000000; text-decoration-color: #000000\">, </span><span style=\"color: #808000; text-decoration-color: #808000\">visible_for_annotators</span><span style=\"color: #000000; text-decoration-color: #000000\">=</span><span style=\"color: #00ff00; text-decoration-color: #00ff00; font-style: italic\">True</span><span style=\"color: #000000; text-decoration-color: #000000\">, </span><span style=\"color: #808000; text-decoration-color: #808000\">type</span><span style=\"color: #000000; text-decoration-color: #000000\">=</span><span style=\"color: #008000; text-decoration-color: #008000\">'float'</span><span style=\"color: #000000; text-decoration-color: #000000\">, </span>       <span style=\"color: #7f7f7f; text-decoration-color: #7f7f7f\">             </span>\n",
       "<span style=\"color: #7fbfbf; text-decoration-color: #7fbfbf\">         </span>         <span style=\"color: #808000; text-decoration-color: #808000\">min</span><span style=\"color: #000000; text-decoration-color: #000000\">=</span><span style=\"color: #800080; text-decoration-color: #800080; font-style: italic\">None</span><span style=\"color: #000000; text-decoration-color: #000000\">, </span><span style=\"color: #808000; text-decoration-color: #808000\">max</span><span style=\"color: #000000; text-decoration-color: #000000\">=</span><span style=\"color: #800080; text-decoration-color: #800080; font-style: italic\">None</span><span style=\"color: #000000; text-decoration-color: #000000; font-weight: bold\">)</span><span style=\"color: #000000; text-decoration-color: #000000\">, </span>                                                               <span style=\"color: #7f7f7f; text-decoration-color: #7f7f7f\">             </span>\n",
       "<span style=\"color: #7fbfbf; text-decoration-color: #7fbfbf\">         </span>         <span style=\"color: #800080; text-decoration-color: #800080; font-weight: bold\">RemoteFloatMetadataProperty</span><span style=\"color: #000000; text-decoration-color: #000000; font-weight: bold\">(</span><span style=\"color: #808000; text-decoration-color: #808000\">id</span><span style=\"color: #000000; text-decoration-color: #000000\">=</span><span style=\"color: #800080; text-decoration-color: #800080; font-weight: bold\">UUID</span><span style=\"color: #000000; text-decoration-color: #000000; font-weight: bold\">(</span><span style=\"color: #008000; text-decoration-color: #008000\">'b0950414-28f1-4efb-956f-fc95786bc725'</span><span style=\"color: #000000; text-decoration-color: #000000; font-weight: bold\">)</span><span style=\"color: #000000; text-decoration-color: #000000\">, </span>       <span style=\"color: #7f7f7f; text-decoration-color: #7f7f7f\">             </span>\n",
       "<span style=\"color: #7fbfbf; text-decoration-color: #7fbfbf\">         </span>         <span style=\"color: #808000; text-decoration-color: #808000\">client</span><span style=\"color: #000000; text-decoration-color: #000000\">=&lt;httpx.Client object at </span><span style=\"color: #008080; text-decoration-color: #008080; font-weight: bold\">0x79fd5dc31fc0</span><span style=\"color: #000000; text-decoration-color: #000000\">&gt;, </span><span style=\"color: #808000; text-decoration-color: #808000\">name</span><span style=\"color: #000000; text-decoration-color: #000000\">=</span><span style=\"color: #008000; text-decoration-color: #008000\">'generations_1_entropy'</span><span style=\"color: #000000; text-decoration-color: #000000\">, </span>      <span style=\"color: #7f7f7f; text-decoration-color: #7f7f7f\">             </span>\n",
       "<span style=\"color: #7fbfbf; text-decoration-color: #7fbfbf\">         </span>         <span style=\"color: #808000; text-decoration-color: #808000\">title</span><span style=\"color: #000000; text-decoration-color: #000000\">=</span><span style=\"color: #008000; text-decoration-color: #008000\">'Generations 1 Entropy'</span><span style=\"color: #000000; text-decoration-color: #000000\">, </span><span style=\"color: #808000; text-decoration-color: #808000\">visible_for_annotators</span><span style=\"color: #000000; text-decoration-color: #000000\">=</span><span style=\"color: #00ff00; text-decoration-color: #00ff00; font-style: italic\">True</span><span style=\"color: #000000; text-decoration-color: #000000\">, </span><span style=\"color: #808000; text-decoration-color: #808000\">type</span><span style=\"color: #000000; text-decoration-color: #000000\">=</span><span style=\"color: #008000; text-decoration-color: #008000\">'float'</span><span style=\"color: #000000; text-decoration-color: #000000\">, </span><span style=\"color: #808000; text-decoration-color: #808000\">min</span><span style=\"color: #000000; text-decoration-color: #000000\">=</span><span style=\"color: #800080; text-decoration-color: #800080; font-style: italic\">None</span><span style=\"color: #000000; text-decoration-color: #000000\">,</span> <span style=\"color: #7f7f7f; text-decoration-color: #7f7f7f\">             </span>\n",
       "<span style=\"color: #7fbfbf; text-decoration-color: #7fbfbf\">         </span>         <span style=\"color: #808000; text-decoration-color: #808000\">max</span><span style=\"color: #000000; text-decoration-color: #000000\">=</span><span style=\"color: #800080; text-decoration-color: #800080; font-style: italic\">None</span><span style=\"color: #000000; text-decoration-color: #000000; font-weight: bold\">)</span><span style=\"color: #000000; text-decoration-color: #000000\">, </span>                                                                         <span style=\"color: #7f7f7f; text-decoration-color: #7f7f7f\">             </span>\n",
       "<span style=\"color: #7fbfbf; text-decoration-color: #7fbfbf\">         </span>         <span style=\"color: #800080; text-decoration-color: #800080; font-weight: bold\">RemoteFloatMetadataProperty</span><span style=\"color: #000000; text-decoration-color: #000000; font-weight: bold\">(</span><span style=\"color: #808000; text-decoration-color: #808000\">id</span><span style=\"color: #000000; text-decoration-color: #000000\">=</span><span style=\"color: #800080; text-decoration-color: #800080; font-weight: bold\">UUID</span><span style=\"color: #000000; text-decoration-color: #000000; font-weight: bold\">(</span><span style=\"color: #008000; text-decoration-color: #008000\">'3d6a1faa-50b7-4129-bc0c-e8f212c3a95f'</span><span style=\"color: #000000; text-decoration-color: #000000; font-weight: bold\">)</span><span style=\"color: #000000; text-decoration-color: #000000\">, </span>       <span style=\"color: #7f7f7f; text-decoration-color: #7f7f7f\">             </span>\n",
       "<span style=\"color: #7fbfbf; text-decoration-color: #7fbfbf\">         </span>         <span style=\"color: #808000; text-decoration-color: #808000\">client</span><span style=\"color: #000000; text-decoration-color: #000000\">=&lt;httpx.Client object at </span><span style=\"color: #008080; text-decoration-color: #008080; font-weight: bold\">0x79fd5dc31fc0</span><span style=\"color: #000000; text-decoration-color: #000000\">&gt;, </span>                                    <span style=\"color: #7f7f7f; text-decoration-color: #7f7f7f\">             </span>\n",
       "<span style=\"color: #7fbfbf; text-decoration-color: #7fbfbf\">         </span>         <span style=\"color: #808000; text-decoration-color: #808000\">name</span><span style=\"color: #000000; text-decoration-color: #000000\">=</span><span style=\"color: #008000; text-decoration-color: #008000\">'generations_1_flesch_reading_ease'</span><span style=\"color: #000000; text-decoration-color: #000000\">, </span><span style=\"color: #808000; text-decoration-color: #808000\">title</span><span style=\"color: #000000; text-decoration-color: #000000\">=</span><span style=\"color: #008000; text-decoration-color: #008000\">'Generations 1 Flesch Reading </span>      <span style=\"color: #7f7f7f; text-decoration-color: #7f7f7f\">             </span>\n",
       "<span style=\"color: #7fbfbf; text-decoration-color: #7fbfbf\">         </span>         <span style=\"color: #008000; text-decoration-color: #008000\">Ease'</span><span style=\"color: #000000; text-decoration-color: #000000\">, </span><span style=\"color: #808000; text-decoration-color: #808000\">visible_for_annotators</span><span style=\"color: #000000; text-decoration-color: #000000\">=</span><span style=\"color: #00ff00; text-decoration-color: #00ff00; font-style: italic\">True</span><span style=\"color: #000000; text-decoration-color: #000000\">, </span><span style=\"color: #808000; text-decoration-color: #808000\">type</span><span style=\"color: #000000; text-decoration-color: #000000\">=</span><span style=\"color: #008000; text-decoration-color: #008000\">'float'</span><span style=\"color: #000000; text-decoration-color: #000000\">, </span><span style=\"color: #808000; text-decoration-color: #808000\">min</span><span style=\"color: #000000; text-decoration-color: #000000\">=</span><span style=\"color: #800080; text-decoration-color: #800080; font-style: italic\">None</span><span style=\"color: #000000; text-decoration-color: #000000\">, </span><span style=\"color: #808000; text-decoration-color: #808000\">max</span><span style=\"color: #000000; text-decoration-color: #000000\">=</span><span style=\"color: #800080; text-decoration-color: #800080; font-style: italic\">None</span><span style=\"color: #000000; text-decoration-color: #000000; font-weight: bold\">)</span><span style=\"color: #000000; text-decoration-color: #000000\">, </span>             <span style=\"color: #7f7f7f; text-decoration-color: #7f7f7f\">             </span>\n",
       "<span style=\"color: #7fbfbf; text-decoration-color: #7fbfbf\">         </span>         <span style=\"color: #800080; text-decoration-color: #800080; font-weight: bold\">RemoteIntegerMetadataProperty</span><span style=\"color: #000000; text-decoration-color: #000000; font-weight: bold\">(</span><span style=\"color: #808000; text-decoration-color: #808000\">id</span><span style=\"color: #000000; text-decoration-color: #000000\">=</span><span style=\"color: #800080; text-decoration-color: #800080; font-weight: bold\">UUID</span><span style=\"color: #000000; text-decoration-color: #000000; font-weight: bold\">(</span><span style=\"color: #008000; text-decoration-color: #008000\">'aa774007-d8b2-400f-b596-9507fbb791a4'</span><span style=\"color: #000000; text-decoration-color: #000000; font-weight: bold\">)</span><span style=\"color: #000000; text-decoration-color: #000000\">, </span>     <span style=\"color: #7f7f7f; text-decoration-color: #7f7f7f\">             </span>\n",
       "<span style=\"color: #7fbfbf; text-decoration-color: #7fbfbf\">         </span>         <span style=\"color: #808000; text-decoration-color: #808000\">client</span><span style=\"color: #000000; text-decoration-color: #000000\">=&lt;httpx.Client object at </span><span style=\"color: #008080; text-decoration-color: #008080; font-weight: bold\">0x79fd5dc31fc0</span><span style=\"color: #000000; text-decoration-color: #000000\">&gt;, </span><span style=\"color: #808000; text-decoration-color: #808000\">name</span><span style=\"color: #000000; text-decoration-color: #000000\">=</span><span style=\"color: #008000; text-decoration-color: #008000\">'generations_2_n_tokens'</span><span style=\"color: #000000; text-decoration-color: #000000\">, </span>     <span style=\"color: #7f7f7f; text-decoration-color: #7f7f7f\">             </span>\n",
       "<span style=\"color: #7fbfbf; text-decoration-color: #7fbfbf\">         </span>         <span style=\"color: #808000; text-decoration-color: #808000\">title</span><span style=\"color: #000000; text-decoration-color: #000000\">=</span><span style=\"color: #008000; text-decoration-color: #008000\">'Generations 2 N Tokens'</span><span style=\"color: #000000; text-decoration-color: #000000\">, </span><span style=\"color: #808000; text-decoration-color: #808000\">visible_for_annotators</span><span style=\"color: #000000; text-decoration-color: #000000\">=</span><span style=\"color: #00ff00; text-decoration-color: #00ff00; font-style: italic\">True</span><span style=\"color: #000000; text-decoration-color: #000000\">, </span><span style=\"color: #808000; text-decoration-color: #808000\">type</span><span style=\"color: #000000; text-decoration-color: #000000\">=</span><span style=\"color: #008000; text-decoration-color: #008000\">'integer'</span><span style=\"color: #000000; text-decoration-color: #000000\">, </span>       <span style=\"color: #7f7f7f; text-decoration-color: #7f7f7f\">             </span>\n",
       "<span style=\"color: #7fbfbf; text-decoration-color: #7fbfbf\">         </span>         <span style=\"color: #808000; text-decoration-color: #808000\">min</span><span style=\"color: #000000; text-decoration-color: #000000\">=</span><span style=\"color: #800080; text-decoration-color: #800080; font-style: italic\">None</span><span style=\"color: #000000; text-decoration-color: #000000\">, </span><span style=\"color: #808000; text-decoration-color: #808000\">max</span><span style=\"color: #000000; text-decoration-color: #000000\">=</span><span style=\"color: #800080; text-decoration-color: #800080; font-style: italic\">None</span><span style=\"color: #000000; text-decoration-color: #000000; font-weight: bold\">)</span><span style=\"color: #000000; text-decoration-color: #000000\">, </span>                                                               <span style=\"color: #7f7f7f; text-decoration-color: #7f7f7f\">             </span>\n",
       "<span style=\"color: #7fbfbf; text-decoration-color: #7fbfbf\">         </span>         <span style=\"color: #800080; text-decoration-color: #800080; font-weight: bold\">RemoteIntegerMetadataProperty</span><span style=\"color: #000000; text-decoration-color: #000000; font-weight: bold\">(</span><span style=\"color: #808000; text-decoration-color: #808000\">id</span><span style=\"color: #000000; text-decoration-color: #000000\">=</span><span style=\"color: #800080; text-decoration-color: #800080; font-weight: bold\">UUID</span><span style=\"color: #000000; text-decoration-color: #000000; font-weight: bold\">(</span><span style=\"color: #008000; text-decoration-color: #008000\">'8bf6e681-2eb3-4696-8a47-5ab48708ba9b'</span><span style=\"color: #000000; text-decoration-color: #000000; font-weight: bold\">)</span><span style=\"color: #000000; text-decoration-color: #000000\">, </span>     <span style=\"color: #7f7f7f; text-decoration-color: #7f7f7f\">             </span>\n",
       "<span style=\"color: #7fbfbf; text-decoration-color: #7fbfbf\">         </span>         <span style=\"color: #808000; text-decoration-color: #808000\">client</span><span style=\"color: #000000; text-decoration-color: #000000\">=&lt;httpx.Client object at </span><span style=\"color: #008080; text-decoration-color: #008080; font-weight: bold\">0x79fd5dc31fc0</span><span style=\"color: #000000; text-decoration-color: #000000\">&gt;, </span>                                    <span style=\"color: #7f7f7f; text-decoration-color: #7f7f7f\">             </span>\n",
       "<span style=\"color: #7fbfbf; text-decoration-color: #7fbfbf\">         </span>         <span style=\"color: #808000; text-decoration-color: #808000\">name</span><span style=\"color: #000000; text-decoration-color: #000000\">=</span><span style=\"color: #008000; text-decoration-color: #008000\">'generations_2_n_unique_tokens'</span><span style=\"color: #000000; text-decoration-color: #000000\">, </span><span style=\"color: #808000; text-decoration-color: #808000\">title</span><span style=\"color: #000000; text-decoration-color: #000000\">=</span><span style=\"color: #008000; text-decoration-color: #008000\">'Generations 2 N Unique Tokens'</span><span style=\"color: #000000; text-decoration-color: #000000\">, </span>       <span style=\"color: #7f7f7f; text-decoration-color: #7f7f7f\">             </span>\n",
       "<span style=\"color: #7fbfbf; text-decoration-color: #7fbfbf\">         </span>         <span style=\"color: #808000; text-decoration-color: #808000\">visible_for_annotators</span><span style=\"color: #000000; text-decoration-color: #000000\">=</span><span style=\"color: #00ff00; text-decoration-color: #00ff00; font-style: italic\">True</span><span style=\"color: #000000; text-decoration-color: #000000\">, </span><span style=\"color: #808000; text-decoration-color: #808000\">type</span><span style=\"color: #000000; text-decoration-color: #000000\">=</span><span style=\"color: #008000; text-decoration-color: #008000\">'integer'</span><span style=\"color: #000000; text-decoration-color: #000000\">, </span><span style=\"color: #808000; text-decoration-color: #808000\">min</span><span style=\"color: #000000; text-decoration-color: #000000\">=</span><span style=\"color: #800080; text-decoration-color: #800080; font-style: italic\">None</span><span style=\"color: #000000; text-decoration-color: #000000\">, </span><span style=\"color: #808000; text-decoration-color: #808000\">max</span><span style=\"color: #000000; text-decoration-color: #000000\">=</span><span style=\"color: #800080; text-decoration-color: #800080; font-style: italic\">None</span><span style=\"color: #000000; text-decoration-color: #000000; font-weight: bold\">)</span><span style=\"color: #000000; text-decoration-color: #000000\">, </span>                  <span style=\"color: #7f7f7f; text-decoration-color: #7f7f7f\">             </span>\n",
       "<span style=\"color: #7fbfbf; text-decoration-color: #7fbfbf\">         </span>         <span style=\"color: #800080; text-decoration-color: #800080; font-weight: bold\">RemoteIntegerMetadataProperty</span><span style=\"color: #000000; text-decoration-color: #000000; font-weight: bold\">(</span><span style=\"color: #808000; text-decoration-color: #808000\">id</span><span style=\"color: #000000; text-decoration-color: #000000\">=</span><span style=\"color: #800080; text-decoration-color: #800080; font-weight: bold\">UUID</span><span style=\"color: #000000; text-decoration-color: #000000; font-weight: bold\">(</span><span style=\"color: #008000; text-decoration-color: #008000\">'d8793d7c-ceb6-4beb-a646-0554a94f673c'</span><span style=\"color: #000000; text-decoration-color: #000000; font-weight: bold\">)</span><span style=\"color: #000000; text-decoration-color: #000000\">, </span>     <span style=\"color: #7f7f7f; text-decoration-color: #7f7f7f\">             </span>\n",
       "<span style=\"color: #7fbfbf; text-decoration-color: #7fbfbf\">         </span>         <span style=\"color: #808000; text-decoration-color: #808000\">client</span><span style=\"color: #000000; text-decoration-color: #000000\">=&lt;httpx.Client object at </span><span style=\"color: #008080; text-decoration-color: #008080; font-weight: bold\">0x79fd5dc31fc0</span><span style=\"color: #000000; text-decoration-color: #000000\">&gt;, </span><span style=\"color: #808000; text-decoration-color: #808000\">name</span><span style=\"color: #000000; text-decoration-color: #000000\">=</span><span style=\"color: #008000; text-decoration-color: #008000\">'generations_2_n_sentences'</span><span style=\"color: #000000; text-decoration-color: #000000\">, </span>  <span style=\"color: #7f7f7f; text-decoration-color: #7f7f7f\">             </span>\n",
       "<span style=\"color: #7fbfbf; text-decoration-color: #7fbfbf\">         </span>         <span style=\"color: #808000; text-decoration-color: #808000\">title</span><span style=\"color: #000000; text-decoration-color: #000000\">=</span><span style=\"color: #008000; text-decoration-color: #008000\">'Generations 2 N Sentences'</span><span style=\"color: #000000; text-decoration-color: #000000\">, </span><span style=\"color: #808000; text-decoration-color: #808000\">visible_for_annotators</span><span style=\"color: #000000; text-decoration-color: #000000\">=</span><span style=\"color: #00ff00; text-decoration-color: #00ff00; font-style: italic\">True</span><span style=\"color: #000000; text-decoration-color: #000000\">, </span><span style=\"color: #808000; text-decoration-color: #808000\">type</span><span style=\"color: #000000; text-decoration-color: #000000\">=</span><span style=\"color: #008000; text-decoration-color: #008000\">'integer'</span><span style=\"color: #000000; text-decoration-color: #000000\">, </span>    <span style=\"color: #7f7f7f; text-decoration-color: #7f7f7f\">             </span>\n",
       "<span style=\"color: #7fbfbf; text-decoration-color: #7fbfbf\">         </span>         <span style=\"color: #808000; text-decoration-color: #808000\">min</span><span style=\"color: #000000; text-decoration-color: #000000\">=</span><span style=\"color: #800080; text-decoration-color: #800080; font-style: italic\">None</span><span style=\"color: #000000; text-decoration-color: #000000\">, </span><span style=\"color: #808000; text-decoration-color: #808000\">max</span><span style=\"color: #000000; text-decoration-color: #000000\">=</span><span style=\"color: #800080; text-decoration-color: #800080; font-style: italic\">None</span><span style=\"color: #000000; text-decoration-color: #000000; font-weight: bold\">)</span><span style=\"color: #000000; text-decoration-color: #000000\">, </span>                                                               <span style=\"color: #7f7f7f; text-decoration-color: #7f7f7f\">             </span>\n",
       "<span style=\"color: #7fbfbf; text-decoration-color: #7fbfbf\">         </span>         <span style=\"color: #800080; text-decoration-color: #800080; font-weight: bold\">RemoteFloatMetadataProperty</span><span style=\"color: #000000; text-decoration-color: #000000; font-weight: bold\">(</span><span style=\"color: #808000; text-decoration-color: #808000\">id</span><span style=\"color: #000000; text-decoration-color: #000000\">=</span><span style=\"color: #800080; text-decoration-color: #800080; font-weight: bold\">UUID</span><span style=\"color: #000000; text-decoration-color: #000000; font-weight: bold\">(</span><span style=\"color: #008000; text-decoration-color: #008000\">'95c7d074-9d63-48b1-8e1d-fcab0aee4695'</span><span style=\"color: #000000; text-decoration-color: #000000; font-weight: bold\">)</span><span style=\"color: #000000; text-decoration-color: #000000\">, </span>       <span style=\"color: #7f7f7f; text-decoration-color: #7f7f7f\">             </span>\n",
       "<span style=\"color: #7fbfbf; text-decoration-color: #7fbfbf\">         </span>         <span style=\"color: #808000; text-decoration-color: #808000\">client</span><span style=\"color: #000000; text-decoration-color: #000000\">=&lt;httpx.Client object at </span><span style=\"color: #008080; text-decoration-color: #008080; font-weight: bold\">0x79fd5dc31fc0</span><span style=\"color: #000000; text-decoration-color: #000000\">&gt;, </span><span style=\"color: #808000; text-decoration-color: #808000\">name</span><span style=\"color: #000000; text-decoration-color: #000000\">=</span><span style=\"color: #008000; text-decoration-color: #008000\">'generations_2_perplexity'</span><span style=\"color: #000000; text-decoration-color: #000000\">, </span>   <span style=\"color: #7f7f7f; text-decoration-color: #7f7f7f\">             </span>\n",
       "<span style=\"color: #7fbfbf; text-decoration-color: #7fbfbf\">         </span>         <span style=\"color: #808000; text-decoration-color: #808000\">title</span><span style=\"color: #000000; text-decoration-color: #000000\">=</span><span style=\"color: #008000; text-decoration-color: #008000\">'Generations 2 Perplexity'</span><span style=\"color: #000000; text-decoration-color: #000000\">, </span><span style=\"color: #808000; text-decoration-color: #808000\">visible_for_annotators</span><span style=\"color: #000000; text-decoration-color: #000000\">=</span><span style=\"color: #00ff00; text-decoration-color: #00ff00; font-style: italic\">True</span><span style=\"color: #000000; text-decoration-color: #000000\">, </span><span style=\"color: #808000; text-decoration-color: #808000\">type</span><span style=\"color: #000000; text-decoration-color: #000000\">=</span><span style=\"color: #008000; text-decoration-color: #008000\">'float'</span><span style=\"color: #000000; text-decoration-color: #000000\">, </span>       <span style=\"color: #7f7f7f; text-decoration-color: #7f7f7f\">             </span>\n",
       "<span style=\"color: #7fbfbf; text-decoration-color: #7fbfbf\">         </span>         <span style=\"color: #808000; text-decoration-color: #808000\">min</span><span style=\"color: #000000; text-decoration-color: #000000\">=</span><span style=\"color: #800080; text-decoration-color: #800080; font-style: italic\">None</span><span style=\"color: #000000; text-decoration-color: #000000\">, </span><span style=\"color: #808000; text-decoration-color: #808000\">max</span><span style=\"color: #000000; text-decoration-color: #000000\">=</span><span style=\"color: #800080; text-decoration-color: #800080; font-style: italic\">None</span><span style=\"color: #000000; text-decoration-color: #000000; font-weight: bold\">)</span><span style=\"color: #000000; text-decoration-color: #000000\">, </span>                                                               <span style=\"color: #7f7f7f; text-decoration-color: #7f7f7f\">             </span>\n",
       "<span style=\"color: #7fbfbf; text-decoration-color: #7fbfbf\">         </span>         <span style=\"color: #800080; text-decoration-color: #800080; font-weight: bold\">RemoteFloatMetadataProperty</span><span style=\"color: #000000; text-decoration-color: #000000; font-weight: bold\">(</span><span style=\"color: #808000; text-decoration-color: #808000\">id</span><span style=\"color: #000000; text-decoration-color: #000000\">=</span><span style=\"color: #800080; text-decoration-color: #800080; font-weight: bold\">UUID</span><span style=\"color: #000000; text-decoration-color: #000000; font-weight: bold\">(</span><span style=\"color: #008000; text-decoration-color: #008000\">'95df313c-bdd2-45d7-a849-474c8833da33'</span><span style=\"color: #000000; text-decoration-color: #000000; font-weight: bold\">)</span><span style=\"color: #000000; text-decoration-color: #000000\">, </span>       <span style=\"color: #7f7f7f; text-decoration-color: #7f7f7f\">             </span>\n",
       "<span style=\"color: #7fbfbf; text-decoration-color: #7fbfbf\">         </span>         <span style=\"color: #808000; text-decoration-color: #808000\">client</span><span style=\"color: #000000; text-decoration-color: #000000\">=&lt;httpx.Client object at </span><span style=\"color: #008080; text-decoration-color: #008080; font-weight: bold\">0x79fd5dc31fc0</span><span style=\"color: #000000; text-decoration-color: #000000\">&gt;, </span><span style=\"color: #808000; text-decoration-color: #808000\">name</span><span style=\"color: #000000; text-decoration-color: #000000\">=</span><span style=\"color: #008000; text-decoration-color: #008000\">'generations_2_entropy'</span><span style=\"color: #000000; text-decoration-color: #000000\">, </span>      <span style=\"color: #7f7f7f; text-decoration-color: #7f7f7f\">             </span>\n",
       "<span style=\"color: #7fbfbf; text-decoration-color: #7fbfbf\">         </span>         <span style=\"color: #808000; text-decoration-color: #808000\">title</span><span style=\"color: #000000; text-decoration-color: #000000\">=</span><span style=\"color: #008000; text-decoration-color: #008000\">'Generations 2 Entropy'</span><span style=\"color: #000000; text-decoration-color: #000000\">, </span><span style=\"color: #808000; text-decoration-color: #808000\">visible_for_annotators</span><span style=\"color: #000000; text-decoration-color: #000000\">=</span><span style=\"color: #00ff00; text-decoration-color: #00ff00; font-style: italic\">True</span><span style=\"color: #000000; text-decoration-color: #000000\">, </span><span style=\"color: #808000; text-decoration-color: #808000\">type</span><span style=\"color: #000000; text-decoration-color: #000000\">=</span><span style=\"color: #008000; text-decoration-color: #008000\">'float'</span><span style=\"color: #000000; text-decoration-color: #000000\">, </span><span style=\"color: #808000; text-decoration-color: #808000\">min</span><span style=\"color: #000000; text-decoration-color: #000000\">=</span><span style=\"color: #800080; text-decoration-color: #800080; font-style: italic\">None</span><span style=\"color: #000000; text-decoration-color: #000000\">,</span> <span style=\"color: #7f7f7f; text-decoration-color: #7f7f7f\">             </span>\n",
       "<span style=\"color: #7fbfbf; text-decoration-color: #7fbfbf\">         </span>         <span style=\"color: #808000; text-decoration-color: #808000\">max</span><span style=\"color: #000000; text-decoration-color: #000000\">=</span><span style=\"color: #800080; text-decoration-color: #800080; font-style: italic\">None</span><span style=\"color: #000000; text-decoration-color: #000000; font-weight: bold\">)</span><span style=\"color: #000000; text-decoration-color: #000000\">, </span>                                                                         <span style=\"color: #7f7f7f; text-decoration-color: #7f7f7f\">             </span>\n",
       "<span style=\"color: #7fbfbf; text-decoration-color: #7fbfbf\">         </span>         <span style=\"color: #800080; text-decoration-color: #800080; font-weight: bold\">RemoteFloatMetadataProperty</span><span style=\"color: #000000; text-decoration-color: #000000; font-weight: bold\">(</span><span style=\"color: #808000; text-decoration-color: #808000\">id</span><span style=\"color: #000000; text-decoration-color: #000000\">=</span><span style=\"color: #800080; text-decoration-color: #800080; font-weight: bold\">UUID</span><span style=\"color: #000000; text-decoration-color: #000000; font-weight: bold\">(</span><span style=\"color: #008000; text-decoration-color: #008000\">'3467a8a4-1693-452e-bb28-eb4cd4ca3937'</span><span style=\"color: #000000; text-decoration-color: #000000; font-weight: bold\">)</span><span style=\"color: #000000; text-decoration-color: #000000\">, </span>       <span style=\"color: #7f7f7f; text-decoration-color: #7f7f7f\">             </span>\n",
       "<span style=\"color: #7fbfbf; text-decoration-color: #7fbfbf\">         </span>         <span style=\"color: #808000; text-decoration-color: #808000\">client</span><span style=\"color: #000000; text-decoration-color: #000000\">=&lt;httpx.Client object at </span><span style=\"color: #008080; text-decoration-color: #008080; font-weight: bold\">0x79fd5dc31fc0</span><span style=\"font-weight: bold\">&gt;</span>,                                     <span style=\"color: #7f7f7f; text-decoration-color: #7f7f7f\">             </span>\n",
       "<span style=\"color: #7fbfbf; text-decoration-color: #7fbfbf\">         </span>         <span style=\"color: #808000; text-decoration-color: #808000\">name</span>=<span style=\"color: #008000; text-decoration-color: #008000\">'generations_2_flesch_reading_ease'</span>, <span style=\"color: #808000; text-decoration-color: #808000\">title</span>=<span style=\"color: #008000; text-decoration-color: #008000\">'Generations 2 Flesch Reading </span>      <span style=\"color: #7f7f7f; text-decoration-color: #7f7f7f\">             </span>\n",
       "<span style=\"color: #7fbfbf; text-decoration-color: #7fbfbf\">         </span>         <span style=\"color: #008000; text-decoration-color: #008000\">Ease'</span>, <span style=\"color: #808000; text-decoration-color: #808000\">visible_for_annotators</span>=<span style=\"color: #00ff00; text-decoration-color: #00ff00; font-style: italic\">True</span>, <span style=\"color: #808000; text-decoration-color: #808000\">type</span>=<span style=\"color: #008000; text-decoration-color: #008000\">'float'</span>, <span style=\"color: #808000; text-decoration-color: #808000\">min</span>=<span style=\"color: #800080; text-decoration-color: #800080; font-style: italic\">None</span>, <span style=\"color: #808000; text-decoration-color: #808000\">max</span>=<span style=\"color: #800080; text-decoration-color: #800080; font-style: italic\">None</span><span style=\"font-weight: bold\">)]</span>              <span style=\"color: #7f7f7f; text-decoration-color: #7f7f7f\">             </span>\n",
       "<span style=\"color: #7fbfbf; text-decoration-color: #7fbfbf\">         </span>            <span style=\"color: #808000; text-decoration-color: #808000\">vectors_settings</span>=<span style=\"font-weight: bold\">[</span><span style=\"color: #800080; text-decoration-color: #800080; font-weight: bold\">RemoteVectorSettings</span><span style=\"font-weight: bold\">(</span><span style=\"color: #808000; text-decoration-color: #808000\">name</span>=<span style=\"color: #008000; text-decoration-color: #008000\">'input'</span>, <span style=\"color: #808000; text-decoration-color: #808000\">title</span>=<span style=\"color: #008000; text-decoration-color: #008000\">'input'</span>,              <span style=\"color: #7f7f7f; text-decoration-color: #7f7f7f\">             </span>\n",
       "<span style=\"color: #7fbfbf; text-decoration-color: #7fbfbf\">         </span>         <span style=\"color: #808000; text-decoration-color: #808000\">dimensions</span>=<span style=\"color: #008080; text-decoration-color: #008080; font-weight: bold\">384</span>, <span style=\"color: #808000; text-decoration-color: #808000\">id</span>=<span style=\"color: #800080; text-decoration-color: #800080; font-weight: bold\">UUID</span><span style=\"font-weight: bold\">(</span><span style=\"color: #008000; text-decoration-color: #008000\">'ceadca6a-5142-4e54-9eab-b1c5ea1a32b5'</span><span style=\"font-weight: bold\">)</span>,                    <span style=\"color: #7f7f7f; text-decoration-color: #7f7f7f\">             </span>\n",
       "<span style=\"color: #7fbfbf; text-decoration-color: #7fbfbf\">         </span>         <span style=\"color: #808000; text-decoration-color: #808000\">inserted_at</span>=<span style=\"color: #800080; text-decoration-color: #800080; font-weight: bold\">datetime</span><span style=\"color: #800080; text-decoration-color: #800080; font-weight: bold\">.datetime</span><span style=\"font-weight: bold\">(</span><span style=\"color: #008080; text-decoration-color: #008080; font-weight: bold\">2024</span>, <span style=\"color: #008080; text-decoration-color: #008080; font-weight: bold\">3</span>, <span style=\"color: #008080; text-decoration-color: #008080; font-weight: bold\">20</span>, <span style=\"color: #008080; text-decoration-color: #008080; font-weight: bold\">15</span>, <span style=\"color: #008080; text-decoration-color: #008080; font-weight: bold\">15</span>, <span style=\"color: #008080; text-decoration-color: #008080; font-weight: bold\">48</span>, <span style=\"color: #008080; text-decoration-color: #008080; font-weight: bold\">589056</span><span style=\"font-weight: bold\">)</span>,                     <span style=\"color: #7f7f7f; text-decoration-color: #7f7f7f\">             </span>\n",
       "<span style=\"color: #7fbfbf; text-decoration-color: #7fbfbf\">         </span>         <span style=\"color: #808000; text-decoration-color: #808000\">updated_at</span>=<span style=\"color: #800080; text-decoration-color: #800080; font-weight: bold\">datetime</span><span style=\"color: #800080; text-decoration-color: #800080; font-weight: bold\">.datetime</span><span style=\"font-weight: bold\">(</span><span style=\"color: #008080; text-decoration-color: #008080; font-weight: bold\">2024</span>, <span style=\"color: #008080; text-decoration-color: #008080; font-weight: bold\">3</span>, <span style=\"color: #008080; text-decoration-color: #008080; font-weight: bold\">20</span>, <span style=\"color: #008080; text-decoration-color: #008080; font-weight: bold\">15</span>, <span style=\"color: #008080; text-decoration-color: #008080; font-weight: bold\">15</span>, <span style=\"color: #008080; text-decoration-color: #008080; font-weight: bold\">48</span>, <span style=\"color: #008080; text-decoration-color: #008080; font-weight: bold\">589056</span><span style=\"font-weight: bold\">))</span>,                     <span style=\"color: #7f7f7f; text-decoration-color: #7f7f7f\">             </span>\n",
       "<span style=\"color: #7fbfbf; text-decoration-color: #7fbfbf\">         </span>         <span style=\"color: #800080; text-decoration-color: #800080; font-weight: bold\">RemoteVectorSettings</span><span style=\"font-weight: bold\">(</span><span style=\"color: #808000; text-decoration-color: #808000\">name</span>=<span style=\"color: #008000; text-decoration-color: #008000\">'generations-1'</span>, <span style=\"color: #808000; text-decoration-color: #808000\">title</span>=<span style=\"color: #008000; text-decoration-color: #008000\">'generations-1'</span>, <span style=\"color: #808000; text-decoration-color: #808000\">dimensions</span>=<span style=\"color: #008080; text-decoration-color: #008080; font-weight: bold\">384</span>,   <span style=\"color: #7f7f7f; text-decoration-color: #7f7f7f\">             </span>\n",
       "<span style=\"color: #7fbfbf; text-decoration-color: #7fbfbf\">         </span>         <span style=\"color: #808000; text-decoration-color: #808000\">id</span>=<span style=\"color: #800080; text-decoration-color: #800080; font-weight: bold\">UUID</span><span style=\"font-weight: bold\">(</span><span style=\"color: #008000; text-decoration-color: #008000\">'6b56c559-c675-4974-861c-ae164438e319'</span><span style=\"font-weight: bold\">)</span>,                                    <span style=\"color: #7f7f7f; text-decoration-color: #7f7f7f\">             </span>\n",
       "<span style=\"color: #7fbfbf; text-decoration-color: #7fbfbf\">         </span>         <span style=\"color: #808000; text-decoration-color: #808000\">inserted_at</span>=<span style=\"color: #800080; text-decoration-color: #800080; font-weight: bold\">datetime</span><span style=\"color: #800080; text-decoration-color: #800080; font-weight: bold\">.datetime</span><span style=\"font-weight: bold\">(</span><span style=\"color: #008080; text-decoration-color: #008080; font-weight: bold\">2024</span>, <span style=\"color: #008080; text-decoration-color: #008080; font-weight: bold\">3</span>, <span style=\"color: #008080; text-decoration-color: #008080; font-weight: bold\">20</span>, <span style=\"color: #008080; text-decoration-color: #008080; font-weight: bold\">15</span>, <span style=\"color: #008080; text-decoration-color: #008080; font-weight: bold\">15</span>, <span style=\"color: #008080; text-decoration-color: #008080; font-weight: bold\">48</span>, <span style=\"color: #008080; text-decoration-color: #008080; font-weight: bold\">778784</span><span style=\"font-weight: bold\">)</span>,                     <span style=\"color: #7f7f7f; text-decoration-color: #7f7f7f\">             </span>\n",
       "<span style=\"color: #7fbfbf; text-decoration-color: #7fbfbf\">         </span>         <span style=\"color: #808000; text-decoration-color: #808000\">updated_at</span>=<span style=\"color: #800080; text-decoration-color: #800080; font-weight: bold\">datetime</span><span style=\"color: #800080; text-decoration-color: #800080; font-weight: bold\">.datetime</span><span style=\"font-weight: bold\">(</span><span style=\"color: #008080; text-decoration-color: #008080; font-weight: bold\">2024</span>, <span style=\"color: #008080; text-decoration-color: #008080; font-weight: bold\">3</span>, <span style=\"color: #008080; text-decoration-color: #008080; font-weight: bold\">20</span>, <span style=\"color: #008080; text-decoration-color: #008080; font-weight: bold\">15</span>, <span style=\"color: #008080; text-decoration-color: #008080; font-weight: bold\">15</span>, <span style=\"color: #008080; text-decoration-color: #008080; font-weight: bold\">48</span>, <span style=\"color: #008080; text-decoration-color: #008080; font-weight: bold\">778784</span><span style=\"font-weight: bold\">))</span>,                     <span style=\"color: #7f7f7f; text-decoration-color: #7f7f7f\">             </span>\n",
       "<span style=\"color: #7fbfbf; text-decoration-color: #7fbfbf\">         </span>         <span style=\"color: #800080; text-decoration-color: #800080; font-weight: bold\">RemoteVectorSettings</span><span style=\"font-weight: bold\">(</span><span style=\"color: #808000; text-decoration-color: #808000\">name</span>=<span style=\"color: #008000; text-decoration-color: #008000\">'generations-2'</span>, <span style=\"color: #808000; text-decoration-color: #808000\">title</span>=<span style=\"color: #008000; text-decoration-color: #008000\">'generations-2'</span>, <span style=\"color: #808000; text-decoration-color: #808000\">dimensions</span>=<span style=\"color: #008080; text-decoration-color: #008080; font-weight: bold\">384</span>,   <span style=\"color: #7f7f7f; text-decoration-color: #7f7f7f\">             </span>\n",
       "<span style=\"color: #7fbfbf; text-decoration-color: #7fbfbf\">         </span>         <span style=\"color: #808000; text-decoration-color: #808000\">id</span>=<span style=\"color: #800080; text-decoration-color: #800080; font-weight: bold\">UUID</span><span style=\"font-weight: bold\">(</span><span style=\"color: #008000; text-decoration-color: #008000\">'1c66fe3b-5c1e-4d3a-80d7-1bbe545a4416'</span><span style=\"font-weight: bold\">)</span>,                                    <span style=\"color: #7f7f7f; text-decoration-color: #7f7f7f\">             </span>\n",
       "<span style=\"color: #7fbfbf; text-decoration-color: #7fbfbf\">         </span>         <span style=\"color: #808000; text-decoration-color: #808000\">inserted_at</span>=<span style=\"color: #800080; text-decoration-color: #800080; font-weight: bold\">datetime</span><span style=\"color: #800080; text-decoration-color: #800080; font-weight: bold\">.datetime</span><span style=\"font-weight: bold\">(</span><span style=\"color: #008080; text-decoration-color: #008080; font-weight: bold\">2024</span>, <span style=\"color: #008080; text-decoration-color: #008080; font-weight: bold\">3</span>, <span style=\"color: #008080; text-decoration-color: #008080; font-weight: bold\">20</span>, <span style=\"color: #008080; text-decoration-color: #008080; font-weight: bold\">15</span>, <span style=\"color: #008080; text-decoration-color: #008080; font-weight: bold\">15</span>, <span style=\"color: #008080; text-decoration-color: #008080; font-weight: bold\">48</span>, <span style=\"color: #008080; text-decoration-color: #008080; font-weight: bold\">916306</span><span style=\"font-weight: bold\">)</span>,                     <span style=\"color: #7f7f7f; text-decoration-color: #7f7f7f\">             </span>\n",
       "<span style=\"color: #7fbfbf; text-decoration-color: #7fbfbf\">         </span>         <span style=\"color: #808000; text-decoration-color: #808000\">updated_at</span>=<span style=\"color: #800080; text-decoration-color: #800080; font-weight: bold\">datetime</span><span style=\"color: #800080; text-decoration-color: #800080; font-weight: bold\">.datetime</span><span style=\"font-weight: bold\">(</span><span style=\"color: #008080; text-decoration-color: #008080; font-weight: bold\">2024</span>, <span style=\"color: #008080; text-decoration-color: #008080; font-weight: bold\">3</span>, <span style=\"color: #008080; text-decoration-color: #008080; font-weight: bold\">20</span>, <span style=\"color: #008080; text-decoration-color: #008080; font-weight: bold\">15</span>, <span style=\"color: #008080; text-decoration-color: #008080; font-weight: bold\">15</span>, <span style=\"color: #008080; text-decoration-color: #008080; font-weight: bold\">48</span>, <span style=\"color: #008080; text-decoration-color: #008080; font-weight: bold\">916306</span><span style=\"font-weight: bold\">))]</span>                     <span style=\"color: #7f7f7f; text-decoration-color: #7f7f7f\">             </span>\n",
       "<span style=\"color: #7fbfbf; text-decoration-color: #7fbfbf\">         </span>         <span style=\"font-weight: bold\">)</span>                                                                                   <span style=\"color: #7f7f7f; text-decoration-color: #7f7f7f\">             </span>\n",
       "</pre>\n"
      ],
      "text/plain": [
       "\u001b[2;36m        \u001b[0m\u001b[2;36m \u001b[0m\u001b[34mINFO    \u001b[0m \u001b[1m[\u001b[0mPID: \u001b[1;36m12332\u001b[0m\u001b[1m]\u001b[0m \u001b[1;35mRemoteFeedbackDataset\u001b[0m\u001b[1m(\u001b[0m                                                 \u001b]8;id=926497;file:///home/strickvl/coding/zenml-projects/llm-lora-finetuning/datagen/lib/python3.10/site-packages/argilla/client/feedback/dataset/local/mixins.py\u001b\\\u001b[2mmixins.py\u001b[0m\u001b]8;;\u001b\\\u001b[2m:\u001b[0m\u001b]8;id=453481;file:///home/strickvl/coding/zenml-projects/llm-lora-finetuning/datagen/lib/python3.10/site-packages/argilla/client/feedback/dataset/local/mixins.py#282\u001b\\\u001b[2m282\u001b[0m\u001b]8;;\u001b\\\n",
       "\u001b[2;36m         \u001b[0m            \u001b[33mid\u001b[0m=\u001b[93m06ae2ab9\u001b[0m\u001b[93m-93ed-416e-8fbe-6e8cafcdb938\u001b[0m                                          \u001b[2m             \u001b[0m\n",
       "\u001b[2;36m         \u001b[0m            \u001b[33mname\u001b[0m=\u001b[35mollama_preference\u001b[0m                                                           \u001b[2m             \u001b[0m\n",
       "\u001b[2;36m         \u001b[0m            \u001b[33mworkspace\u001b[0m=\u001b[1;35mWorkspace\u001b[0m\u001b[1m(\u001b[0m\u001b[33mid\u001b[0m=\u001b[93ma4eef5c0\u001b[0m\u001b[93m-a51c-4cce-81a7-8c5b23ce6afa\u001b[0m, \u001b[33mname\u001b[0m=\u001b[35madmin\u001b[0m,         \u001b[2m             \u001b[0m\n",
       "\u001b[2;36m         \u001b[0m         \u001b[33minserted_at\u001b[0m=\u001b[1;36m2024\u001b[0m-\u001b[1;36m03\u001b[0m-\u001b[1;36m20\u001b[0m \u001b[1;92m12:52:24\u001b[0m.\u001b[1;36m433299\u001b[0m, \u001b[33mupdated_at\u001b[0m=\u001b[1;36m2024\u001b[0m-\u001b[1;36m03\u001b[0m-\u001b[1;36m20\u001b[0m \u001b[1;92m12:52:24\u001b[0m.\u001b[1;36m433299\u001b[0m\u001b[1m)\u001b[0m      \u001b[2m             \u001b[0m\n",
       "\u001b[2;36m         \u001b[0m            \u001b[33murl\u001b[0m=\u001b[4;94mhttps\u001b[0m\u001b[4;94m://strickvl-argilla.hf.space/dataset/06ae2ab9-93ed-416e-8fbe-6e8cafcdb9\u001b[0m \u001b[2m             \u001b[0m\n",
       "\u001b[2;36m         \u001b[0m         \u001b[4;94m38/annotation-mode\u001b[0m                                                                  \u001b[2m             \u001b[0m\n",
       "\u001b[2;36m         \u001b[0m            \u001b[33mfields\u001b[0m=\u001b[1m[\u001b[0m\u001b[1;35mRemoteTextField\u001b[0m\u001b[1m(\u001b[0m\u001b[33mid\u001b[0m=\u001b[1;35mUUID\u001b[0m\u001b[1m(\u001b[0m\u001b[32m'fbc04a66-a228-49e0-97bc-e4a0bb3615ae'\u001b[0m\u001b[1m)\u001b[0m,         \u001b[2m             \u001b[0m\n",
       "\u001b[2;36m         \u001b[0m         \u001b[33mclient\u001b[0m=\u001b[3;35mNone\u001b[0m, \u001b[33mname\u001b[0m=\u001b[32m'input'\u001b[0m, \u001b[33mtitle\u001b[0m=\u001b[32m'input'\u001b[0m, \u001b[33mrequired\u001b[0m=\u001b[3;92mTrue\u001b[0m, \u001b[33mtype\u001b[0m=\u001b[32m'text'\u001b[0m,               \u001b[2m             \u001b[0m\n",
       "\u001b[2;36m         \u001b[0m         \u001b[33muse_markdown\u001b[0m=\u001b[3;92mTrue\u001b[0m\u001b[1m)\u001b[0m,                                                                 \u001b[2m             \u001b[0m\n",
       "\u001b[2;36m         \u001b[0m         \u001b[1;35mRemoteTextField\u001b[0m\u001b[1m(\u001b[0m\u001b[33mid\u001b[0m=\u001b[1;35mUUID\u001b[0m\u001b[1m(\u001b[0m\u001b[32m'b5a88f21-d0b9-4315-9189-059f8b0d0475'\u001b[0m\u001b[1m)\u001b[0m, \u001b[33mclient\u001b[0m=\u001b[3;35mNone\u001b[0m,       \u001b[2m             \u001b[0m\n",
       "\u001b[2;36m         \u001b[0m         \u001b[33mname\u001b[0m=\u001b[32m'generations-1'\u001b[0m, \u001b[33mtitle\u001b[0m=\u001b[32m'generations-1'\u001b[0m, \u001b[33mrequired\u001b[0m=\u001b[3;92mTrue\u001b[0m, \u001b[33mtype\u001b[0m=\u001b[32m'text'\u001b[0m,            \u001b[2m             \u001b[0m\n",
       "\u001b[2;36m         \u001b[0m         \u001b[33muse_markdown\u001b[0m=\u001b[3;92mTrue\u001b[0m\u001b[1m)\u001b[0m,                                                                 \u001b[2m             \u001b[0m\n",
       "\u001b[2;36m         \u001b[0m         \u001b[1;35mRemoteTextField\u001b[0m\u001b[1m(\u001b[0m\u001b[33mid\u001b[0m=\u001b[1;35mUUID\u001b[0m\u001b[1m(\u001b[0m\u001b[32m'16af7a33-8048-4440-b818-6fc2d7e7142d'\u001b[0m\u001b[1m)\u001b[0m, \u001b[33mclient\u001b[0m=\u001b[3;35mNone\u001b[0m,       \u001b[2m             \u001b[0m\n",
       "\u001b[2;36m         \u001b[0m         \u001b[33mname\u001b[0m=\u001b[32m'generations-2'\u001b[0m, \u001b[33mtitle\u001b[0m=\u001b[32m'generations-2'\u001b[0m, \u001b[33mrequired\u001b[0m=\u001b[3;92mTrue\u001b[0m, \u001b[33mtype\u001b[0m=\u001b[32m'text'\u001b[0m,            \u001b[2m             \u001b[0m\n",
       "\u001b[2;36m         \u001b[0m         \u001b[33muse_markdown\u001b[0m=\u001b[3;92mTrue\u001b[0m\u001b[1m)\u001b[0m\u001b[1m]\u001b[0m                                                                 \u001b[2m             \u001b[0m\n",
       "\u001b[2;36m         \u001b[0m            \u001b[33mquestions\u001b[0m=\u001b[1m[\u001b[0m\u001b[1;35mRemoteRatingQuestion\u001b[0m\u001b[1m(\u001b[0m\u001b[33mid\u001b[0m=\u001b[1;35mUUID\u001b[0m\u001b[1m(\u001b[0m\u001b[32m'5f43832a-dc67-4769-9fb0-58495b0adc9d'\u001b[0m\u001b[1m)\u001b[0m, \u001b[2m             \u001b[0m\n",
       "\u001b[2;36m         \u001b[0m         \u001b[33mclient\u001b[0m=\u001b[3;35mNone\u001b[0m, \u001b[33mname\u001b[0m=\u001b[32m'generations-1-rating'\u001b[0m, \u001b[33mtitle\u001b[0m=\u001b[32m\"What\u001b[0m\u001b[32m's the rating for \u001b[0m             \u001b[2m             \u001b[0m\n",
       "\u001b[2;36m         \u001b[0m         \u001b[32mgenerations-1?\"\u001b[0m, \u001b[33mdescription\u001b[0m=\u001b[3;35mNone\u001b[0m, \u001b[33mrequired\u001b[0m=\u001b[3;92mTrue\u001b[0m, \u001b[33mtype\u001b[0m=\u001b[32m'rating'\u001b[0m, \u001b[33mvalues\u001b[0m=\u001b[1m[\u001b[0m\u001b[1;36m1\u001b[0m, \u001b[1;36m2\u001b[0m, \u001b[1;36m3\u001b[0m,   \u001b[2m             \u001b[0m\n",
       "\u001b[2;36m         \u001b[0m         \u001b[1;36m4\u001b[0m, \u001b[1;36m5\u001b[0m\u001b[1m]\u001b[0m\u001b[1m)\u001b[0m, \u001b[1;35mRemoteRatingQuestion\u001b[0m\u001b[1m(\u001b[0m\u001b[33mid\u001b[0m=\u001b[1;35mUUID\u001b[0m\u001b[1m(\u001b[0m\u001b[32m'ec479b30-8966-4d5f-8851-a9b94469440a'\u001b[0m\u001b[1m)\u001b[0m,       \u001b[2m             \u001b[0m\n",
       "\u001b[2;36m         \u001b[0m         \u001b[33mclient\u001b[0m=\u001b[3;35mNone\u001b[0m, \u001b[33mname\u001b[0m=\u001b[32m'generations-2-rating'\u001b[0m, \u001b[33mtitle\u001b[0m=\u001b[32m\"What\u001b[0m\u001b[32m's the rating for \u001b[0m             \u001b[2m             \u001b[0m\n",
       "\u001b[2;36m         \u001b[0m         \u001b[32mgenerations-2?\"\u001b[0m, \u001b[33mdescription\u001b[0m=\u001b[3;35mNone\u001b[0m, \u001b[33mrequired\u001b[0m=\u001b[3;92mTrue\u001b[0m, \u001b[33mtype\u001b[0m=\u001b[32m'rating'\u001b[0m, \u001b[33mvalues\u001b[0m=\u001b[1m[\u001b[0m\u001b[1;36m1\u001b[0m, \u001b[1;36m2\u001b[0m, \u001b[1;36m3\u001b[0m,   \u001b[2m             \u001b[0m\n",
       "\u001b[2;36m         \u001b[0m         \u001b[1;36m4\u001b[0m, \u001b[1;36m5\u001b[0m\u001b[1m]\u001b[0m\u001b[1m)\u001b[0m, \u001b[1;35mRemoteTextQuestion\u001b[0m\u001b[1m(\u001b[0m\u001b[33mid\u001b[0m=\u001b[1;35mUUID\u001b[0m\u001b[1m(\u001b[0m\u001b[32m'be5969a4-0a8c-4db8-b22b-5361f149f557'\u001b[0m\u001b[1m)\u001b[0m,         \u001b[2m             \u001b[0m\n",
       "\u001b[2;36m         \u001b[0m         \u001b[33mclient\u001b[0m=\u001b[3;35mNone\u001b[0m, \u001b[33mname\u001b[0m=\u001b[32m'rating-rationale'\u001b[0m, \u001b[33mtitle\u001b[0m=\u001b[32m\"What\u001b[0m\u001b[32m's the rationale behind each \u001b[0m      \u001b[2m             \u001b[0m\n",
       "\u001b[2;36m         \u001b[0m         \u001b[32mrating?\"\u001b[0m, \u001b[33mdescription\u001b[0m=\u001b[3;35mNone\u001b[0m, \u001b[33mrequired\u001b[0m=\u001b[3;92mTrue\u001b[0m, \u001b[33mtype\u001b[0m=\u001b[32m'text'\u001b[0m, \u001b[33muse_markdown\u001b[0m=\u001b[3;91mFalse\u001b[0m\u001b[1m)\u001b[0m\u001b[1m]\u001b[0m        \u001b[2m             \u001b[0m\n",
       "\u001b[2;36m         \u001b[0m            \u001b[33mguidelines\u001b[0m=\u001b[3;35mNone\u001b[0m                                                                  \u001b[2m             \u001b[0m\n",
       "\u001b[2;36m         \u001b[0m            \u001b[33mmetadata_properties\u001b[0m=\u001b[1m[\u001b[0m\u001b[1;35mRemoteIntegerMetadataProperty\u001b[0m\u001b[1m(\u001b[0m\u001b[33mid\u001b[0m=\u001b[1;35mUUID\u001b[0m\u001b[1m(\u001b[0m\u001b[32m'5547d600-1dfd-455c-9\u001b[0m \u001b[2m             \u001b[0m\n",
       "\u001b[2;36m         \u001b[0m         \u001b[32m561-56558a3534f2'\u001b[0m\u001b[1m)\u001b[0m, \u001b[33mclient\u001b[0m=\u001b[1m<\u001b[0m\u001b[1;95mhttpx.Client\u001b[0m\u001b[39m object at \u001b[0m\u001b[1;36m0x79fd5dc31fc0\u001b[0m\u001b[39m>, \u001b[0m                \u001b[2m             \u001b[0m\n",
       "\u001b[2;36m         \u001b[0m         \u001b[33mname\u001b[0m\u001b[39m=\u001b[0m\u001b[32m'length-input'\u001b[0m\u001b[39m, \u001b[0m\u001b[33mtitle\u001b[0m\u001b[39m=\u001b[0m\u001b[32m'length-input'\u001b[0m\u001b[39m, \u001b[0m\u001b[33mvisible_for_annotators\u001b[0m\u001b[39m=\u001b[0m\u001b[3;92mTrue\u001b[0m\u001b[39m, \u001b[0m            \u001b[2m             \u001b[0m\n",
       "\u001b[2;36m         \u001b[0m         \u001b[33mtype\u001b[0m\u001b[39m=\u001b[0m\u001b[32m'integer'\u001b[0m\u001b[39m, \u001b[0m\u001b[33mmin\u001b[0m\u001b[39m=\u001b[0m\u001b[3;35mNone\u001b[0m\u001b[39m, \u001b[0m\u001b[33mmax\u001b[0m\u001b[39m=\u001b[0m\u001b[3;35mNone\u001b[0m\u001b[1;39m)\u001b[0m\u001b[39m, \u001b[0m                                               \u001b[2m             \u001b[0m\n",
       "\u001b[2;36m         \u001b[0m         \u001b[1;35mRemoteIntegerMetadataProperty\u001b[0m\u001b[1;39m(\u001b[0m\u001b[33mid\u001b[0m\u001b[39m=\u001b[0m\u001b[1;35mUUID\u001b[0m\u001b[1;39m(\u001b[0m\u001b[32m'b700b20f-d8e4-427f-9a77-0a87d78ac439'\u001b[0m\u001b[1;39m)\u001b[0m\u001b[39m, \u001b[0m     \u001b[2m             \u001b[0m\n",
       "\u001b[2;36m         \u001b[0m         \u001b[33mclient\u001b[0m\u001b[39m=<httpx.Client object at \u001b[0m\u001b[1;36m0x79fd5dc31fc0\u001b[0m\u001b[39m>, \u001b[0m\u001b[33mname\u001b[0m\u001b[39m=\u001b[0m\u001b[32m'length-generations-1'\u001b[0m\u001b[39m, \u001b[0m       \u001b[2m             \u001b[0m\n",
       "\u001b[2;36m         \u001b[0m         \u001b[33mtitle\u001b[0m\u001b[39m=\u001b[0m\u001b[32m'length-generations-1'\u001b[0m\u001b[39m, \u001b[0m\u001b[33mvisible_for_annotators\u001b[0m\u001b[39m=\u001b[0m\u001b[3;92mTrue\u001b[0m\u001b[39m, \u001b[0m\u001b[33mtype\u001b[0m\u001b[39m=\u001b[0m\u001b[32m'integer'\u001b[0m\u001b[39m, \u001b[0m         \u001b[2m             \u001b[0m\n",
       "\u001b[2;36m         \u001b[0m         \u001b[33mmin\u001b[0m\u001b[39m=\u001b[0m\u001b[3;35mNone\u001b[0m\u001b[39m, \u001b[0m\u001b[33mmax\u001b[0m\u001b[39m=\u001b[0m\u001b[3;35mNone\u001b[0m\u001b[1;39m)\u001b[0m\u001b[39m, \u001b[0m                                                               \u001b[2m             \u001b[0m\n",
       "\u001b[2;36m         \u001b[0m         \u001b[1;35mRemoteIntegerMetadataProperty\u001b[0m\u001b[1;39m(\u001b[0m\u001b[33mid\u001b[0m\u001b[39m=\u001b[0m\u001b[1;35mUUID\u001b[0m\u001b[1;39m(\u001b[0m\u001b[32m'c6ebf3b8-ca98-4e9f-a17f-cacbccafba3b'\u001b[0m\u001b[1;39m)\u001b[0m\u001b[39m, \u001b[0m     \u001b[2m             \u001b[0m\n",
       "\u001b[2;36m         \u001b[0m         \u001b[33mclient\u001b[0m\u001b[39m=<httpx.Client object at \u001b[0m\u001b[1;36m0x79fd5dc31fc0\u001b[0m\u001b[39m>, \u001b[0m\u001b[33mname\u001b[0m\u001b[39m=\u001b[0m\u001b[32m'length-generations-2'\u001b[0m\u001b[39m, \u001b[0m       \u001b[2m             \u001b[0m\n",
       "\u001b[2;36m         \u001b[0m         \u001b[33mtitle\u001b[0m\u001b[39m=\u001b[0m\u001b[32m'length-generations-2'\u001b[0m\u001b[39m, \u001b[0m\u001b[33mvisible_for_annotators\u001b[0m\u001b[39m=\u001b[0m\u001b[3;92mTrue\u001b[0m\u001b[39m, \u001b[0m\u001b[33mtype\u001b[0m\u001b[39m=\u001b[0m\u001b[32m'integer'\u001b[0m\u001b[39m, \u001b[0m         \u001b[2m             \u001b[0m\n",
       "\u001b[2;36m         \u001b[0m         \u001b[33mmin\u001b[0m\u001b[39m=\u001b[0m\u001b[3;35mNone\u001b[0m\u001b[39m, \u001b[0m\u001b[33mmax\u001b[0m\u001b[39m=\u001b[0m\u001b[3;35mNone\u001b[0m\u001b[1;39m)\u001b[0m\u001b[39m, \u001b[0m                                                               \u001b[2m             \u001b[0m\n",
       "\u001b[2;36m         \u001b[0m         \u001b[1;35mRemoteFloatMetadataProperty\u001b[0m\u001b[1;39m(\u001b[0m\u001b[33mid\u001b[0m\u001b[39m=\u001b[0m\u001b[1;35mUUID\u001b[0m\u001b[1;39m(\u001b[0m\u001b[32m'2165e938-15ff-46db-8f3b-96db7b55c823'\u001b[0m\u001b[1;39m)\u001b[0m\u001b[39m, \u001b[0m       \u001b[2m             \u001b[0m\n",
       "\u001b[2;36m         \u001b[0m         \u001b[33mclient\u001b[0m\u001b[39m=<httpx.Client object at \u001b[0m\u001b[1;36m0x79fd5dc31fc0\u001b[0m\u001b[39m>, \u001b[0m\u001b[33mname\u001b[0m\u001b[39m=\u001b[0m\u001b[32m'distance-best-rating'\u001b[0m\u001b[39m, \u001b[0m       \u001b[2m             \u001b[0m\n",
       "\u001b[2;36m         \u001b[0m         \u001b[33mtitle\u001b[0m\u001b[39m=\u001b[0m\u001b[32m'distance-best-rating'\u001b[0m\u001b[39m, \u001b[0m\u001b[33mvisible_for_annotators\u001b[0m\u001b[39m=\u001b[0m\u001b[3;92mTrue\u001b[0m\u001b[39m, \u001b[0m\u001b[33mtype\u001b[0m\u001b[39m=\u001b[0m\u001b[32m'float'\u001b[0m\u001b[39m, \u001b[0m\u001b[33mmin\u001b[0m\u001b[39m=\u001b[0m\u001b[3;35mNone\u001b[0m\u001b[39m, \u001b[0m \u001b[2m             \u001b[0m\n",
       "\u001b[2;36m         \u001b[0m         \u001b[33mmax\u001b[0m\u001b[39m=\u001b[0m\u001b[3;35mNone\u001b[0m\u001b[1;39m)\u001b[0m\u001b[39m, \u001b[0m                                                                         \u001b[2m             \u001b[0m\n",
       "\u001b[2;36m         \u001b[0m         \u001b[1;35mRemoteIntegerMetadataProperty\u001b[0m\u001b[1;39m(\u001b[0m\u001b[33mid\u001b[0m\u001b[39m=\u001b[0m\u001b[1;35mUUID\u001b[0m\u001b[1;39m(\u001b[0m\u001b[32m'ce2faac0-02df-48af-a16f-9ab068257b3c'\u001b[0m\u001b[1;39m)\u001b[0m\u001b[39m, \u001b[0m     \u001b[2m             \u001b[0m\n",
       "\u001b[2;36m         \u001b[0m         \u001b[33mclient\u001b[0m\u001b[39m=<httpx.Client object at \u001b[0m\u001b[1;36m0x79fd5dc31fc0\u001b[0m\u001b[39m>, \u001b[0m\u001b[33mname\u001b[0m\u001b[39m=\u001b[0m\u001b[32m'input_n_tokens'\u001b[0m\u001b[39m, \u001b[0m\u001b[33mtitle\u001b[0m\u001b[39m=\u001b[0m\u001b[32m'Input\u001b[0m \u001b[2m             \u001b[0m\n",
       "\u001b[2;36m         \u001b[0m         \u001b[32mN Tokens'\u001b[0m\u001b[39m, \u001b[0m\u001b[33mvisible_for_annotators\u001b[0m\u001b[39m=\u001b[0m\u001b[3;92mTrue\u001b[0m\u001b[39m, \u001b[0m\u001b[33mtype\u001b[0m\u001b[39m=\u001b[0m\u001b[32m'integer'\u001b[0m\u001b[39m, \u001b[0m\u001b[33mmin\u001b[0m\u001b[39m=\u001b[0m\u001b[3;35mNone\u001b[0m\u001b[39m, \u001b[0m\u001b[33mmax\u001b[0m\u001b[39m=\u001b[0m\u001b[3;35mNone\u001b[0m\u001b[1;39m)\u001b[0m\u001b[39m, \u001b[0m       \u001b[2m             \u001b[0m\n",
       "\u001b[2;36m         \u001b[0m         \u001b[1;35mRemoteIntegerMetadataProperty\u001b[0m\u001b[1;39m(\u001b[0m\u001b[33mid\u001b[0m\u001b[39m=\u001b[0m\u001b[1;35mUUID\u001b[0m\u001b[1;39m(\u001b[0m\u001b[32m'29a69cbe-3994-4334-9d26-d15ee27db188'\u001b[0m\u001b[1;39m)\u001b[0m\u001b[39m, \u001b[0m     \u001b[2m             \u001b[0m\n",
       "\u001b[2;36m         \u001b[0m         \u001b[33mclient\u001b[0m\u001b[39m=<httpx.Client object at \u001b[0m\u001b[1;36m0x79fd5dc31fc0\u001b[0m\u001b[39m>, \u001b[0m\u001b[33mname\u001b[0m\u001b[39m=\u001b[0m\u001b[32m'input_n_unique_tokens'\u001b[0m\u001b[39m, \u001b[0m      \u001b[2m             \u001b[0m\n",
       "\u001b[2;36m         \u001b[0m         \u001b[33mtitle\u001b[0m\u001b[39m=\u001b[0m\u001b[32m'Input N Unique Tokens'\u001b[0m\u001b[39m, \u001b[0m\u001b[33mvisible_for_annotators\u001b[0m\u001b[39m=\u001b[0m\u001b[3;92mTrue\u001b[0m\u001b[39m, \u001b[0m\u001b[33mtype\u001b[0m\u001b[39m=\u001b[0m\u001b[32m'integer'\u001b[0m\u001b[39m, \u001b[0m        \u001b[2m             \u001b[0m\n",
       "\u001b[2;36m         \u001b[0m         \u001b[33mmin\u001b[0m\u001b[39m=\u001b[0m\u001b[3;35mNone\u001b[0m\u001b[39m, \u001b[0m\u001b[33mmax\u001b[0m\u001b[39m=\u001b[0m\u001b[3;35mNone\u001b[0m\u001b[1;39m)\u001b[0m\u001b[39m, \u001b[0m                                                               \u001b[2m             \u001b[0m\n",
       "\u001b[2;36m         \u001b[0m         \u001b[1;35mRemoteIntegerMetadataProperty\u001b[0m\u001b[1;39m(\u001b[0m\u001b[33mid\u001b[0m\u001b[39m=\u001b[0m\u001b[1;35mUUID\u001b[0m\u001b[1;39m(\u001b[0m\u001b[32m'5d5eb1fc-a4bb-4e5d-a3c8-3fc9eaddf799'\u001b[0m\u001b[1;39m)\u001b[0m\u001b[39m, \u001b[0m     \u001b[2m             \u001b[0m\n",
       "\u001b[2;36m         \u001b[0m         \u001b[33mclient\u001b[0m\u001b[39m=<httpx.Client object at \u001b[0m\u001b[1;36m0x79fd5dc31fc0\u001b[0m\u001b[39m>, \u001b[0m\u001b[33mname\u001b[0m\u001b[39m=\u001b[0m\u001b[32m'input_n_sentences'\u001b[0m\u001b[39m, \u001b[0m          \u001b[2m             \u001b[0m\n",
       "\u001b[2;36m         \u001b[0m         \u001b[33mtitle\u001b[0m\u001b[39m=\u001b[0m\u001b[32m'Input N Sentences'\u001b[0m\u001b[39m, \u001b[0m\u001b[33mvisible_for_annotators\u001b[0m\u001b[39m=\u001b[0m\u001b[3;92mTrue\u001b[0m\u001b[39m, \u001b[0m\u001b[33mtype\u001b[0m\u001b[39m=\u001b[0m\u001b[32m'integer'\u001b[0m\u001b[39m, \u001b[0m\u001b[33mmin\u001b[0m\u001b[39m=\u001b[0m\u001b[3;35mNone\u001b[0m\u001b[39m, \u001b[0m  \u001b[2m             \u001b[0m\n",
       "\u001b[2;36m         \u001b[0m         \u001b[33mmax\u001b[0m\u001b[39m=\u001b[0m\u001b[3;35mNone\u001b[0m\u001b[1;39m)\u001b[0m\u001b[39m, \u001b[0m                                                                         \u001b[2m             \u001b[0m\n",
       "\u001b[2;36m         \u001b[0m         \u001b[1;35mRemoteFloatMetadataProperty\u001b[0m\u001b[1;39m(\u001b[0m\u001b[33mid\u001b[0m\u001b[39m=\u001b[0m\u001b[1;35mUUID\u001b[0m\u001b[1;39m(\u001b[0m\u001b[32m'5c87a276-3fa3-476b-9405-7be79d75418f'\u001b[0m\u001b[1;39m)\u001b[0m\u001b[39m, \u001b[0m       \u001b[2m             \u001b[0m\n",
       "\u001b[2;36m         \u001b[0m         \u001b[33mclient\u001b[0m\u001b[39m=<httpx.Client object at \u001b[0m\u001b[1;36m0x79fd5dc31fc0\u001b[0m\u001b[39m>, \u001b[0m\u001b[33mname\u001b[0m\u001b[39m=\u001b[0m\u001b[32m'input_perplexity'\u001b[0m\u001b[39m, \u001b[0m           \u001b[2m             \u001b[0m\n",
       "\u001b[2;36m         \u001b[0m         \u001b[33mtitle\u001b[0m\u001b[39m=\u001b[0m\u001b[32m'Input Perplexity'\u001b[0m\u001b[39m, \u001b[0m\u001b[33mvisible_for_annotators\u001b[0m\u001b[39m=\u001b[0m\u001b[3;92mTrue\u001b[0m\u001b[39m, \u001b[0m\u001b[33mtype\u001b[0m\u001b[39m=\u001b[0m\u001b[32m'float'\u001b[0m\u001b[39m, \u001b[0m\u001b[33mmin\u001b[0m\u001b[39m=\u001b[0m\u001b[3;35mNone\u001b[0m\u001b[39m, \u001b[0m     \u001b[2m             \u001b[0m\n",
       "\u001b[2;36m         \u001b[0m         \u001b[33mmax\u001b[0m\u001b[39m=\u001b[0m\u001b[3;35mNone\u001b[0m\u001b[1;39m)\u001b[0m\u001b[39m, \u001b[0m                                                                         \u001b[2m             \u001b[0m\n",
       "\u001b[2;36m         \u001b[0m         \u001b[1;35mRemoteFloatMetadataProperty\u001b[0m\u001b[1;39m(\u001b[0m\u001b[33mid\u001b[0m\u001b[39m=\u001b[0m\u001b[1;35mUUID\u001b[0m\u001b[1;39m(\u001b[0m\u001b[32m'1a368390-dd83-4aaf-9c1b-8b2938153ef3'\u001b[0m\u001b[1;39m)\u001b[0m\u001b[39m, \u001b[0m       \u001b[2m             \u001b[0m\n",
       "\u001b[2;36m         \u001b[0m         \u001b[33mclient\u001b[0m\u001b[39m=<httpx.Client object at \u001b[0m\u001b[1;36m0x79fd5dc31fc0\u001b[0m\u001b[39m>, \u001b[0m\u001b[33mname\u001b[0m\u001b[39m=\u001b[0m\u001b[32m'input_entropy'\u001b[0m\u001b[39m, \u001b[0m\u001b[33mtitle\u001b[0m\u001b[39m=\u001b[0m\u001b[32m'Input \u001b[0m \u001b[2m             \u001b[0m\n",
       "\u001b[2;36m         \u001b[0m         \u001b[32mEntropy'\u001b[0m\u001b[39m, \u001b[0m\u001b[33mvisible_for_annotators\u001b[0m\u001b[39m=\u001b[0m\u001b[3;92mTrue\u001b[0m\u001b[39m, \u001b[0m\u001b[33mtype\u001b[0m\u001b[39m=\u001b[0m\u001b[32m'float'\u001b[0m\u001b[39m, \u001b[0m\u001b[33mmin\u001b[0m\u001b[39m=\u001b[0m\u001b[3;35mNone\u001b[0m\u001b[39m, \u001b[0m\u001b[33mmax\u001b[0m\u001b[39m=\u001b[0m\u001b[3;35mNone\u001b[0m\u001b[1;39m)\u001b[0m\u001b[39m, \u001b[0m          \u001b[2m             \u001b[0m\n",
       "\u001b[2;36m         \u001b[0m         \u001b[1;35mRemoteFloatMetadataProperty\u001b[0m\u001b[1;39m(\u001b[0m\u001b[33mid\u001b[0m\u001b[39m=\u001b[0m\u001b[1;35mUUID\u001b[0m\u001b[1;39m(\u001b[0m\u001b[32m'3383d73b-900a-42be-b5bf-e064b3a3d42d'\u001b[0m\u001b[1;39m)\u001b[0m\u001b[39m, \u001b[0m       \u001b[2m             \u001b[0m\n",
       "\u001b[2;36m         \u001b[0m         \u001b[33mclient\u001b[0m\u001b[39m=<httpx.Client object at \u001b[0m\u001b[1;36m0x79fd5dc31fc0\u001b[0m\u001b[39m>, \u001b[0m\u001b[33mname\u001b[0m\u001b[39m=\u001b[0m\u001b[32m'input_flesch_reading_ease'\u001b[0m\u001b[39m, \u001b[0m  \u001b[2m             \u001b[0m\n",
       "\u001b[2;36m         \u001b[0m         \u001b[33mtitle\u001b[0m\u001b[39m=\u001b[0m\u001b[32m'Input Flesch Reading Ease'\u001b[0m\u001b[39m, \u001b[0m\u001b[33mvisible_for_annotators\u001b[0m\u001b[39m=\u001b[0m\u001b[3;92mTrue\u001b[0m\u001b[39m, \u001b[0m\u001b[33mtype\u001b[0m\u001b[39m=\u001b[0m\u001b[32m'float'\u001b[0m\u001b[39m, \u001b[0m      \u001b[2m             \u001b[0m\n",
       "\u001b[2;36m         \u001b[0m         \u001b[33mmin\u001b[0m\u001b[39m=\u001b[0m\u001b[3;35mNone\u001b[0m\u001b[39m, \u001b[0m\u001b[33mmax\u001b[0m\u001b[39m=\u001b[0m\u001b[3;35mNone\u001b[0m\u001b[1;39m)\u001b[0m\u001b[39m, \u001b[0m                                                               \u001b[2m             \u001b[0m\n",
       "\u001b[2;36m         \u001b[0m         \u001b[1;35mRemoteIntegerMetadataProperty\u001b[0m\u001b[1;39m(\u001b[0m\u001b[33mid\u001b[0m\u001b[39m=\u001b[0m\u001b[1;35mUUID\u001b[0m\u001b[1;39m(\u001b[0m\u001b[32m'cf3d788e-7717-434b-bf97-fea59bc50fd2'\u001b[0m\u001b[1;39m)\u001b[0m\u001b[39m, \u001b[0m     \u001b[2m             \u001b[0m\n",
       "\u001b[2;36m         \u001b[0m         \u001b[33mclient\u001b[0m\u001b[39m=<httpx.Client object at \u001b[0m\u001b[1;36m0x79fd5dc31fc0\u001b[0m\u001b[39m>, \u001b[0m\u001b[33mname\u001b[0m\u001b[39m=\u001b[0m\u001b[32m'generations_1_n_tokens'\u001b[0m\u001b[39m, \u001b[0m     \u001b[2m             \u001b[0m\n",
       "\u001b[2;36m         \u001b[0m         \u001b[33mtitle\u001b[0m\u001b[39m=\u001b[0m\u001b[32m'Generations 1 N Tokens'\u001b[0m\u001b[39m, \u001b[0m\u001b[33mvisible_for_annotators\u001b[0m\u001b[39m=\u001b[0m\u001b[3;92mTrue\u001b[0m\u001b[39m, \u001b[0m\u001b[33mtype\u001b[0m\u001b[39m=\u001b[0m\u001b[32m'integer'\u001b[0m\u001b[39m, \u001b[0m       \u001b[2m             \u001b[0m\n",
       "\u001b[2;36m         \u001b[0m         \u001b[33mmin\u001b[0m\u001b[39m=\u001b[0m\u001b[3;35mNone\u001b[0m\u001b[39m, \u001b[0m\u001b[33mmax\u001b[0m\u001b[39m=\u001b[0m\u001b[3;35mNone\u001b[0m\u001b[1;39m)\u001b[0m\u001b[39m, \u001b[0m                                                               \u001b[2m             \u001b[0m\n",
       "\u001b[2;36m         \u001b[0m         \u001b[1;35mRemoteIntegerMetadataProperty\u001b[0m\u001b[1;39m(\u001b[0m\u001b[33mid\u001b[0m\u001b[39m=\u001b[0m\u001b[1;35mUUID\u001b[0m\u001b[1;39m(\u001b[0m\u001b[32m'6dd43911-4dae-4df9-9928-f5134003438a'\u001b[0m\u001b[1;39m)\u001b[0m\u001b[39m, \u001b[0m     \u001b[2m             \u001b[0m\n",
       "\u001b[2;36m         \u001b[0m         \u001b[33mclient\u001b[0m\u001b[39m=<httpx.Client object at \u001b[0m\u001b[1;36m0x79fd5dc31fc0\u001b[0m\u001b[39m>, \u001b[0m                                    \u001b[2m             \u001b[0m\n",
       "\u001b[2;36m         \u001b[0m         \u001b[33mname\u001b[0m\u001b[39m=\u001b[0m\u001b[32m'generations_1_n_unique_tokens'\u001b[0m\u001b[39m, \u001b[0m\u001b[33mtitle\u001b[0m\u001b[39m=\u001b[0m\u001b[32m'Generations 1 N Unique Tokens'\u001b[0m\u001b[39m, \u001b[0m       \u001b[2m             \u001b[0m\n",
       "\u001b[2;36m         \u001b[0m         \u001b[33mvisible_for_annotators\u001b[0m\u001b[39m=\u001b[0m\u001b[3;92mTrue\u001b[0m\u001b[39m, \u001b[0m\u001b[33mtype\u001b[0m\u001b[39m=\u001b[0m\u001b[32m'integer'\u001b[0m\u001b[39m, \u001b[0m\u001b[33mmin\u001b[0m\u001b[39m=\u001b[0m\u001b[3;35mNone\u001b[0m\u001b[39m, \u001b[0m\u001b[33mmax\u001b[0m\u001b[39m=\u001b[0m\u001b[3;35mNone\u001b[0m\u001b[1;39m)\u001b[0m\u001b[39m, \u001b[0m                  \u001b[2m             \u001b[0m\n",
       "\u001b[2;36m         \u001b[0m         \u001b[1;35mRemoteIntegerMetadataProperty\u001b[0m\u001b[1;39m(\u001b[0m\u001b[33mid\u001b[0m\u001b[39m=\u001b[0m\u001b[1;35mUUID\u001b[0m\u001b[1;39m(\u001b[0m\u001b[32m'eb5b3e58-d674-4daa-90a8-652de08bcf5d'\u001b[0m\u001b[1;39m)\u001b[0m\u001b[39m, \u001b[0m     \u001b[2m             \u001b[0m\n",
       "\u001b[2;36m         \u001b[0m         \u001b[33mclient\u001b[0m\u001b[39m=<httpx.Client object at \u001b[0m\u001b[1;36m0x79fd5dc31fc0\u001b[0m\u001b[39m>, \u001b[0m\u001b[33mname\u001b[0m\u001b[39m=\u001b[0m\u001b[32m'generations_1_n_sentences'\u001b[0m\u001b[39m, \u001b[0m  \u001b[2m             \u001b[0m\n",
       "\u001b[2;36m         \u001b[0m         \u001b[33mtitle\u001b[0m\u001b[39m=\u001b[0m\u001b[32m'Generations 1 N Sentences'\u001b[0m\u001b[39m, \u001b[0m\u001b[33mvisible_for_annotators\u001b[0m\u001b[39m=\u001b[0m\u001b[3;92mTrue\u001b[0m\u001b[39m, \u001b[0m\u001b[33mtype\u001b[0m\u001b[39m=\u001b[0m\u001b[32m'integer'\u001b[0m\u001b[39m, \u001b[0m    \u001b[2m             \u001b[0m\n",
       "\u001b[2;36m         \u001b[0m         \u001b[33mmin\u001b[0m\u001b[39m=\u001b[0m\u001b[3;35mNone\u001b[0m\u001b[39m, \u001b[0m\u001b[33mmax\u001b[0m\u001b[39m=\u001b[0m\u001b[3;35mNone\u001b[0m\u001b[1;39m)\u001b[0m\u001b[39m, \u001b[0m                                                               \u001b[2m             \u001b[0m\n",
       "\u001b[2;36m         \u001b[0m         \u001b[1;35mRemoteFloatMetadataProperty\u001b[0m\u001b[1;39m(\u001b[0m\u001b[33mid\u001b[0m\u001b[39m=\u001b[0m\u001b[1;35mUUID\u001b[0m\u001b[1;39m(\u001b[0m\u001b[32m'1e3f397e-0e2d-4731-90ef-fa3178a12f36'\u001b[0m\u001b[1;39m)\u001b[0m\u001b[39m, \u001b[0m       \u001b[2m             \u001b[0m\n",
       "\u001b[2;36m         \u001b[0m         \u001b[33mclient\u001b[0m\u001b[39m=<httpx.Client object at \u001b[0m\u001b[1;36m0x79fd5dc31fc0\u001b[0m\u001b[39m>, \u001b[0m\u001b[33mname\u001b[0m\u001b[39m=\u001b[0m\u001b[32m'generations_1_perplexity'\u001b[0m\u001b[39m, \u001b[0m   \u001b[2m             \u001b[0m\n",
       "\u001b[2;36m         \u001b[0m         \u001b[33mtitle\u001b[0m\u001b[39m=\u001b[0m\u001b[32m'Generations 1 Perplexity'\u001b[0m\u001b[39m, \u001b[0m\u001b[33mvisible_for_annotators\u001b[0m\u001b[39m=\u001b[0m\u001b[3;92mTrue\u001b[0m\u001b[39m, \u001b[0m\u001b[33mtype\u001b[0m\u001b[39m=\u001b[0m\u001b[32m'float'\u001b[0m\u001b[39m, \u001b[0m       \u001b[2m             \u001b[0m\n",
       "\u001b[2;36m         \u001b[0m         \u001b[33mmin\u001b[0m\u001b[39m=\u001b[0m\u001b[3;35mNone\u001b[0m\u001b[39m, \u001b[0m\u001b[33mmax\u001b[0m\u001b[39m=\u001b[0m\u001b[3;35mNone\u001b[0m\u001b[1;39m)\u001b[0m\u001b[39m, \u001b[0m                                                               \u001b[2m             \u001b[0m\n",
       "\u001b[2;36m         \u001b[0m         \u001b[1;35mRemoteFloatMetadataProperty\u001b[0m\u001b[1;39m(\u001b[0m\u001b[33mid\u001b[0m\u001b[39m=\u001b[0m\u001b[1;35mUUID\u001b[0m\u001b[1;39m(\u001b[0m\u001b[32m'b0950414-28f1-4efb-956f-fc95786bc725'\u001b[0m\u001b[1;39m)\u001b[0m\u001b[39m, \u001b[0m       \u001b[2m             \u001b[0m\n",
       "\u001b[2;36m         \u001b[0m         \u001b[33mclient\u001b[0m\u001b[39m=<httpx.Client object at \u001b[0m\u001b[1;36m0x79fd5dc31fc0\u001b[0m\u001b[39m>, \u001b[0m\u001b[33mname\u001b[0m\u001b[39m=\u001b[0m\u001b[32m'generations_1_entropy'\u001b[0m\u001b[39m, \u001b[0m      \u001b[2m             \u001b[0m\n",
       "\u001b[2;36m         \u001b[0m         \u001b[33mtitle\u001b[0m\u001b[39m=\u001b[0m\u001b[32m'Generations 1 Entropy'\u001b[0m\u001b[39m, \u001b[0m\u001b[33mvisible_for_annotators\u001b[0m\u001b[39m=\u001b[0m\u001b[3;92mTrue\u001b[0m\u001b[39m, \u001b[0m\u001b[33mtype\u001b[0m\u001b[39m=\u001b[0m\u001b[32m'float'\u001b[0m\u001b[39m, \u001b[0m\u001b[33mmin\u001b[0m\u001b[39m=\u001b[0m\u001b[3;35mNone\u001b[0m\u001b[39m,\u001b[0m \u001b[2m             \u001b[0m\n",
       "\u001b[2;36m         \u001b[0m         \u001b[33mmax\u001b[0m\u001b[39m=\u001b[0m\u001b[3;35mNone\u001b[0m\u001b[1;39m)\u001b[0m\u001b[39m, \u001b[0m                                                                         \u001b[2m             \u001b[0m\n",
       "\u001b[2;36m         \u001b[0m         \u001b[1;35mRemoteFloatMetadataProperty\u001b[0m\u001b[1;39m(\u001b[0m\u001b[33mid\u001b[0m\u001b[39m=\u001b[0m\u001b[1;35mUUID\u001b[0m\u001b[1;39m(\u001b[0m\u001b[32m'3d6a1faa-50b7-4129-bc0c-e8f212c3a95f'\u001b[0m\u001b[1;39m)\u001b[0m\u001b[39m, \u001b[0m       \u001b[2m             \u001b[0m\n",
       "\u001b[2;36m         \u001b[0m         \u001b[33mclient\u001b[0m\u001b[39m=<httpx.Client object at \u001b[0m\u001b[1;36m0x79fd5dc31fc0\u001b[0m\u001b[39m>, \u001b[0m                                    \u001b[2m             \u001b[0m\n",
       "\u001b[2;36m         \u001b[0m         \u001b[33mname\u001b[0m\u001b[39m=\u001b[0m\u001b[32m'generations_1_flesch_reading_ease'\u001b[0m\u001b[39m, \u001b[0m\u001b[33mtitle\u001b[0m\u001b[39m=\u001b[0m\u001b[32m'Generations 1 Flesch Reading \u001b[0m      \u001b[2m             \u001b[0m\n",
       "\u001b[2;36m         \u001b[0m         \u001b[32mEase'\u001b[0m\u001b[39m, \u001b[0m\u001b[33mvisible_for_annotators\u001b[0m\u001b[39m=\u001b[0m\u001b[3;92mTrue\u001b[0m\u001b[39m, \u001b[0m\u001b[33mtype\u001b[0m\u001b[39m=\u001b[0m\u001b[32m'float'\u001b[0m\u001b[39m, \u001b[0m\u001b[33mmin\u001b[0m\u001b[39m=\u001b[0m\u001b[3;35mNone\u001b[0m\u001b[39m, \u001b[0m\u001b[33mmax\u001b[0m\u001b[39m=\u001b[0m\u001b[3;35mNone\u001b[0m\u001b[1;39m)\u001b[0m\u001b[39m, \u001b[0m             \u001b[2m             \u001b[0m\n",
       "\u001b[2;36m         \u001b[0m         \u001b[1;35mRemoteIntegerMetadataProperty\u001b[0m\u001b[1;39m(\u001b[0m\u001b[33mid\u001b[0m\u001b[39m=\u001b[0m\u001b[1;35mUUID\u001b[0m\u001b[1;39m(\u001b[0m\u001b[32m'aa774007-d8b2-400f-b596-9507fbb791a4'\u001b[0m\u001b[1;39m)\u001b[0m\u001b[39m, \u001b[0m     \u001b[2m             \u001b[0m\n",
       "\u001b[2;36m         \u001b[0m         \u001b[33mclient\u001b[0m\u001b[39m=<httpx.Client object at \u001b[0m\u001b[1;36m0x79fd5dc31fc0\u001b[0m\u001b[39m>, \u001b[0m\u001b[33mname\u001b[0m\u001b[39m=\u001b[0m\u001b[32m'generations_2_n_tokens'\u001b[0m\u001b[39m, \u001b[0m     \u001b[2m             \u001b[0m\n",
       "\u001b[2;36m         \u001b[0m         \u001b[33mtitle\u001b[0m\u001b[39m=\u001b[0m\u001b[32m'Generations 2 N Tokens'\u001b[0m\u001b[39m, \u001b[0m\u001b[33mvisible_for_annotators\u001b[0m\u001b[39m=\u001b[0m\u001b[3;92mTrue\u001b[0m\u001b[39m, \u001b[0m\u001b[33mtype\u001b[0m\u001b[39m=\u001b[0m\u001b[32m'integer'\u001b[0m\u001b[39m, \u001b[0m       \u001b[2m             \u001b[0m\n",
       "\u001b[2;36m         \u001b[0m         \u001b[33mmin\u001b[0m\u001b[39m=\u001b[0m\u001b[3;35mNone\u001b[0m\u001b[39m, \u001b[0m\u001b[33mmax\u001b[0m\u001b[39m=\u001b[0m\u001b[3;35mNone\u001b[0m\u001b[1;39m)\u001b[0m\u001b[39m, \u001b[0m                                                               \u001b[2m             \u001b[0m\n",
       "\u001b[2;36m         \u001b[0m         \u001b[1;35mRemoteIntegerMetadataProperty\u001b[0m\u001b[1;39m(\u001b[0m\u001b[33mid\u001b[0m\u001b[39m=\u001b[0m\u001b[1;35mUUID\u001b[0m\u001b[1;39m(\u001b[0m\u001b[32m'8bf6e681-2eb3-4696-8a47-5ab48708ba9b'\u001b[0m\u001b[1;39m)\u001b[0m\u001b[39m, \u001b[0m     \u001b[2m             \u001b[0m\n",
       "\u001b[2;36m         \u001b[0m         \u001b[33mclient\u001b[0m\u001b[39m=<httpx.Client object at \u001b[0m\u001b[1;36m0x79fd5dc31fc0\u001b[0m\u001b[39m>, \u001b[0m                                    \u001b[2m             \u001b[0m\n",
       "\u001b[2;36m         \u001b[0m         \u001b[33mname\u001b[0m\u001b[39m=\u001b[0m\u001b[32m'generations_2_n_unique_tokens'\u001b[0m\u001b[39m, \u001b[0m\u001b[33mtitle\u001b[0m\u001b[39m=\u001b[0m\u001b[32m'Generations 2 N Unique Tokens'\u001b[0m\u001b[39m, \u001b[0m       \u001b[2m             \u001b[0m\n",
       "\u001b[2;36m         \u001b[0m         \u001b[33mvisible_for_annotators\u001b[0m\u001b[39m=\u001b[0m\u001b[3;92mTrue\u001b[0m\u001b[39m, \u001b[0m\u001b[33mtype\u001b[0m\u001b[39m=\u001b[0m\u001b[32m'integer'\u001b[0m\u001b[39m, \u001b[0m\u001b[33mmin\u001b[0m\u001b[39m=\u001b[0m\u001b[3;35mNone\u001b[0m\u001b[39m, \u001b[0m\u001b[33mmax\u001b[0m\u001b[39m=\u001b[0m\u001b[3;35mNone\u001b[0m\u001b[1;39m)\u001b[0m\u001b[39m, \u001b[0m                  \u001b[2m             \u001b[0m\n",
       "\u001b[2;36m         \u001b[0m         \u001b[1;35mRemoteIntegerMetadataProperty\u001b[0m\u001b[1;39m(\u001b[0m\u001b[33mid\u001b[0m\u001b[39m=\u001b[0m\u001b[1;35mUUID\u001b[0m\u001b[1;39m(\u001b[0m\u001b[32m'd8793d7c-ceb6-4beb-a646-0554a94f673c'\u001b[0m\u001b[1;39m)\u001b[0m\u001b[39m, \u001b[0m     \u001b[2m             \u001b[0m\n",
       "\u001b[2;36m         \u001b[0m         \u001b[33mclient\u001b[0m\u001b[39m=<httpx.Client object at \u001b[0m\u001b[1;36m0x79fd5dc31fc0\u001b[0m\u001b[39m>, \u001b[0m\u001b[33mname\u001b[0m\u001b[39m=\u001b[0m\u001b[32m'generations_2_n_sentences'\u001b[0m\u001b[39m, \u001b[0m  \u001b[2m             \u001b[0m\n",
       "\u001b[2;36m         \u001b[0m         \u001b[33mtitle\u001b[0m\u001b[39m=\u001b[0m\u001b[32m'Generations 2 N Sentences'\u001b[0m\u001b[39m, \u001b[0m\u001b[33mvisible_for_annotators\u001b[0m\u001b[39m=\u001b[0m\u001b[3;92mTrue\u001b[0m\u001b[39m, \u001b[0m\u001b[33mtype\u001b[0m\u001b[39m=\u001b[0m\u001b[32m'integer'\u001b[0m\u001b[39m, \u001b[0m    \u001b[2m             \u001b[0m\n",
       "\u001b[2;36m         \u001b[0m         \u001b[33mmin\u001b[0m\u001b[39m=\u001b[0m\u001b[3;35mNone\u001b[0m\u001b[39m, \u001b[0m\u001b[33mmax\u001b[0m\u001b[39m=\u001b[0m\u001b[3;35mNone\u001b[0m\u001b[1;39m)\u001b[0m\u001b[39m, \u001b[0m                                                               \u001b[2m             \u001b[0m\n",
       "\u001b[2;36m         \u001b[0m         \u001b[1;35mRemoteFloatMetadataProperty\u001b[0m\u001b[1;39m(\u001b[0m\u001b[33mid\u001b[0m\u001b[39m=\u001b[0m\u001b[1;35mUUID\u001b[0m\u001b[1;39m(\u001b[0m\u001b[32m'95c7d074-9d63-48b1-8e1d-fcab0aee4695'\u001b[0m\u001b[1;39m)\u001b[0m\u001b[39m, \u001b[0m       \u001b[2m             \u001b[0m\n",
       "\u001b[2;36m         \u001b[0m         \u001b[33mclient\u001b[0m\u001b[39m=<httpx.Client object at \u001b[0m\u001b[1;36m0x79fd5dc31fc0\u001b[0m\u001b[39m>, \u001b[0m\u001b[33mname\u001b[0m\u001b[39m=\u001b[0m\u001b[32m'generations_2_perplexity'\u001b[0m\u001b[39m, \u001b[0m   \u001b[2m             \u001b[0m\n",
       "\u001b[2;36m         \u001b[0m         \u001b[33mtitle\u001b[0m\u001b[39m=\u001b[0m\u001b[32m'Generations 2 Perplexity'\u001b[0m\u001b[39m, \u001b[0m\u001b[33mvisible_for_annotators\u001b[0m\u001b[39m=\u001b[0m\u001b[3;92mTrue\u001b[0m\u001b[39m, \u001b[0m\u001b[33mtype\u001b[0m\u001b[39m=\u001b[0m\u001b[32m'float'\u001b[0m\u001b[39m, \u001b[0m       \u001b[2m             \u001b[0m\n",
       "\u001b[2;36m         \u001b[0m         \u001b[33mmin\u001b[0m\u001b[39m=\u001b[0m\u001b[3;35mNone\u001b[0m\u001b[39m, \u001b[0m\u001b[33mmax\u001b[0m\u001b[39m=\u001b[0m\u001b[3;35mNone\u001b[0m\u001b[1;39m)\u001b[0m\u001b[39m, \u001b[0m                                                               \u001b[2m             \u001b[0m\n",
       "\u001b[2;36m         \u001b[0m         \u001b[1;35mRemoteFloatMetadataProperty\u001b[0m\u001b[1;39m(\u001b[0m\u001b[33mid\u001b[0m\u001b[39m=\u001b[0m\u001b[1;35mUUID\u001b[0m\u001b[1;39m(\u001b[0m\u001b[32m'95df313c-bdd2-45d7-a849-474c8833da33'\u001b[0m\u001b[1;39m)\u001b[0m\u001b[39m, \u001b[0m       \u001b[2m             \u001b[0m\n",
       "\u001b[2;36m         \u001b[0m         \u001b[33mclient\u001b[0m\u001b[39m=<httpx.Client object at \u001b[0m\u001b[1;36m0x79fd5dc31fc0\u001b[0m\u001b[39m>, \u001b[0m\u001b[33mname\u001b[0m\u001b[39m=\u001b[0m\u001b[32m'generations_2_entropy'\u001b[0m\u001b[39m, \u001b[0m      \u001b[2m             \u001b[0m\n",
       "\u001b[2;36m         \u001b[0m         \u001b[33mtitle\u001b[0m\u001b[39m=\u001b[0m\u001b[32m'Generations 2 Entropy'\u001b[0m\u001b[39m, \u001b[0m\u001b[33mvisible_for_annotators\u001b[0m\u001b[39m=\u001b[0m\u001b[3;92mTrue\u001b[0m\u001b[39m, \u001b[0m\u001b[33mtype\u001b[0m\u001b[39m=\u001b[0m\u001b[32m'float'\u001b[0m\u001b[39m, \u001b[0m\u001b[33mmin\u001b[0m\u001b[39m=\u001b[0m\u001b[3;35mNone\u001b[0m\u001b[39m,\u001b[0m \u001b[2m             \u001b[0m\n",
       "\u001b[2;36m         \u001b[0m         \u001b[33mmax\u001b[0m\u001b[39m=\u001b[0m\u001b[3;35mNone\u001b[0m\u001b[1;39m)\u001b[0m\u001b[39m, \u001b[0m                                                                         \u001b[2m             \u001b[0m\n",
       "\u001b[2;36m         \u001b[0m         \u001b[1;35mRemoteFloatMetadataProperty\u001b[0m\u001b[1;39m(\u001b[0m\u001b[33mid\u001b[0m\u001b[39m=\u001b[0m\u001b[1;35mUUID\u001b[0m\u001b[1;39m(\u001b[0m\u001b[32m'3467a8a4-1693-452e-bb28-eb4cd4ca3937'\u001b[0m\u001b[1;39m)\u001b[0m\u001b[39m, \u001b[0m       \u001b[2m             \u001b[0m\n",
       "\u001b[2;36m         \u001b[0m         \u001b[33mclient\u001b[0m\u001b[39m=<httpx.Client object at \u001b[0m\u001b[1;36m0x79fd5dc31fc0\u001b[0m\u001b[1m>\u001b[0m,                                     \u001b[2m             \u001b[0m\n",
       "\u001b[2;36m         \u001b[0m         \u001b[33mname\u001b[0m=\u001b[32m'generations_2_flesch_reading_ease'\u001b[0m, \u001b[33mtitle\u001b[0m=\u001b[32m'Generations 2 Flesch Reading \u001b[0m      \u001b[2m             \u001b[0m\n",
       "\u001b[2;36m         \u001b[0m         \u001b[32mEase'\u001b[0m, \u001b[33mvisible_for_annotators\u001b[0m=\u001b[3;92mTrue\u001b[0m, \u001b[33mtype\u001b[0m=\u001b[32m'float'\u001b[0m, \u001b[33mmin\u001b[0m=\u001b[3;35mNone\u001b[0m, \u001b[33mmax\u001b[0m=\u001b[3;35mNone\u001b[0m\u001b[1m)\u001b[0m\u001b[1m]\u001b[0m              \u001b[2m             \u001b[0m\n",
       "\u001b[2;36m         \u001b[0m            \u001b[33mvectors_settings\u001b[0m=\u001b[1m[\u001b[0m\u001b[1;35mRemoteVectorSettings\u001b[0m\u001b[1m(\u001b[0m\u001b[33mname\u001b[0m=\u001b[32m'input'\u001b[0m, \u001b[33mtitle\u001b[0m=\u001b[32m'input'\u001b[0m,              \u001b[2m             \u001b[0m\n",
       "\u001b[2;36m         \u001b[0m         \u001b[33mdimensions\u001b[0m=\u001b[1;36m384\u001b[0m, \u001b[33mid\u001b[0m=\u001b[1;35mUUID\u001b[0m\u001b[1m(\u001b[0m\u001b[32m'ceadca6a-5142-4e54-9eab-b1c5ea1a32b5'\u001b[0m\u001b[1m)\u001b[0m,                    \u001b[2m             \u001b[0m\n",
       "\u001b[2;36m         \u001b[0m         \u001b[33minserted_at\u001b[0m=\u001b[1;35mdatetime\u001b[0m\u001b[1;35m.datetime\u001b[0m\u001b[1m(\u001b[0m\u001b[1;36m2024\u001b[0m, \u001b[1;36m3\u001b[0m, \u001b[1;36m20\u001b[0m, \u001b[1;36m15\u001b[0m, \u001b[1;36m15\u001b[0m, \u001b[1;36m48\u001b[0m, \u001b[1;36m589056\u001b[0m\u001b[1m)\u001b[0m,                     \u001b[2m             \u001b[0m\n",
       "\u001b[2;36m         \u001b[0m         \u001b[33mupdated_at\u001b[0m=\u001b[1;35mdatetime\u001b[0m\u001b[1;35m.datetime\u001b[0m\u001b[1m(\u001b[0m\u001b[1;36m2024\u001b[0m, \u001b[1;36m3\u001b[0m, \u001b[1;36m20\u001b[0m, \u001b[1;36m15\u001b[0m, \u001b[1;36m15\u001b[0m, \u001b[1;36m48\u001b[0m, \u001b[1;36m589056\u001b[0m\u001b[1m)\u001b[0m\u001b[1m)\u001b[0m,                     \u001b[2m             \u001b[0m\n",
       "\u001b[2;36m         \u001b[0m         \u001b[1;35mRemoteVectorSettings\u001b[0m\u001b[1m(\u001b[0m\u001b[33mname\u001b[0m=\u001b[32m'generations-1'\u001b[0m, \u001b[33mtitle\u001b[0m=\u001b[32m'generations-1'\u001b[0m, \u001b[33mdimensions\u001b[0m=\u001b[1;36m384\u001b[0m,   \u001b[2m             \u001b[0m\n",
       "\u001b[2;36m         \u001b[0m         \u001b[33mid\u001b[0m=\u001b[1;35mUUID\u001b[0m\u001b[1m(\u001b[0m\u001b[32m'6b56c559-c675-4974-861c-ae164438e319'\u001b[0m\u001b[1m)\u001b[0m,                                    \u001b[2m             \u001b[0m\n",
       "\u001b[2;36m         \u001b[0m         \u001b[33minserted_at\u001b[0m=\u001b[1;35mdatetime\u001b[0m\u001b[1;35m.datetime\u001b[0m\u001b[1m(\u001b[0m\u001b[1;36m2024\u001b[0m, \u001b[1;36m3\u001b[0m, \u001b[1;36m20\u001b[0m, \u001b[1;36m15\u001b[0m, \u001b[1;36m15\u001b[0m, \u001b[1;36m48\u001b[0m, \u001b[1;36m778784\u001b[0m\u001b[1m)\u001b[0m,                     \u001b[2m             \u001b[0m\n",
       "\u001b[2;36m         \u001b[0m         \u001b[33mupdated_at\u001b[0m=\u001b[1;35mdatetime\u001b[0m\u001b[1;35m.datetime\u001b[0m\u001b[1m(\u001b[0m\u001b[1;36m2024\u001b[0m, \u001b[1;36m3\u001b[0m, \u001b[1;36m20\u001b[0m, \u001b[1;36m15\u001b[0m, \u001b[1;36m15\u001b[0m, \u001b[1;36m48\u001b[0m, \u001b[1;36m778784\u001b[0m\u001b[1m)\u001b[0m\u001b[1m)\u001b[0m,                     \u001b[2m             \u001b[0m\n",
       "\u001b[2;36m         \u001b[0m         \u001b[1;35mRemoteVectorSettings\u001b[0m\u001b[1m(\u001b[0m\u001b[33mname\u001b[0m=\u001b[32m'generations-2'\u001b[0m, \u001b[33mtitle\u001b[0m=\u001b[32m'generations-2'\u001b[0m, \u001b[33mdimensions\u001b[0m=\u001b[1;36m384\u001b[0m,   \u001b[2m             \u001b[0m\n",
       "\u001b[2;36m         \u001b[0m         \u001b[33mid\u001b[0m=\u001b[1;35mUUID\u001b[0m\u001b[1m(\u001b[0m\u001b[32m'1c66fe3b-5c1e-4d3a-80d7-1bbe545a4416'\u001b[0m\u001b[1m)\u001b[0m,                                    \u001b[2m             \u001b[0m\n",
       "\u001b[2;36m         \u001b[0m         \u001b[33minserted_at\u001b[0m=\u001b[1;35mdatetime\u001b[0m\u001b[1;35m.datetime\u001b[0m\u001b[1m(\u001b[0m\u001b[1;36m2024\u001b[0m, \u001b[1;36m3\u001b[0m, \u001b[1;36m20\u001b[0m, \u001b[1;36m15\u001b[0m, \u001b[1;36m15\u001b[0m, \u001b[1;36m48\u001b[0m, \u001b[1;36m916306\u001b[0m\u001b[1m)\u001b[0m,                     \u001b[2m             \u001b[0m\n",
       "\u001b[2;36m         \u001b[0m         \u001b[33mupdated_at\u001b[0m=\u001b[1;35mdatetime\u001b[0m\u001b[1;35m.datetime\u001b[0m\u001b[1m(\u001b[0m\u001b[1;36m2024\u001b[0m, \u001b[1;36m3\u001b[0m, \u001b[1;36m20\u001b[0m, \u001b[1;36m15\u001b[0m, \u001b[1;36m15\u001b[0m, \u001b[1;36m48\u001b[0m, \u001b[1;36m916306\u001b[0m\u001b[1m)\u001b[0m\u001b[1m)\u001b[0m\u001b[1m]\u001b[0m                     \u001b[2m             \u001b[0m\n",
       "\u001b[2;36m         \u001b[0m         \u001b[1m)\u001b[0m                                                                                   \u001b[2m             \u001b[0m\n"
      ]
     },
     "metadata": {},
     "output_type": "display_data"
    },
    {
     "data": {
      "text/plain": [
       "RemoteFeedbackDataset(\n",
       "   id=06ae2ab9-93ed-416e-8fbe-6e8cafcdb938\n",
       "   name=ollama_preference\n",
       "   workspace=Workspace(id=a4eef5c0-a51c-4cce-81a7-8c5b23ce6afa, name=admin, inserted_at=2024-03-20 12:52:24.433299, updated_at=2024-03-20 12:52:24.433299)\n",
       "   url=https://strickvl-argilla.hf.space/dataset/06ae2ab9-93ed-416e-8fbe-6e8cafcdb938/annotation-mode\n",
       "   fields=[RemoteTextField(id=UUID('fbc04a66-a228-49e0-97bc-e4a0bb3615ae'), client=None, name='input', title='input', required=True, type='text', use_markdown=True), RemoteTextField(id=UUID('b5a88f21-d0b9-4315-9189-059f8b0d0475'), client=None, name='generations-1', title='generations-1', required=True, type='text', use_markdown=True), RemoteTextField(id=UUID('16af7a33-8048-4440-b818-6fc2d7e7142d'), client=None, name='generations-2', title='generations-2', required=True, type='text', use_markdown=True)]\n",
       "   questions=[RemoteRatingQuestion(id=UUID('5f43832a-dc67-4769-9fb0-58495b0adc9d'), client=None, name='generations-1-rating', title=\"What's the rating for generations-1?\", description=None, required=True, type='rating', values=[1, 2, 3, 4, 5]), RemoteRatingQuestion(id=UUID('ec479b30-8966-4d5f-8851-a9b94469440a'), client=None, name='generations-2-rating', title=\"What's the rating for generations-2?\", description=None, required=True, type='rating', values=[1, 2, 3, 4, 5]), RemoteTextQuestion(id=UUID('be5969a4-0a8c-4db8-b22b-5361f149f557'), client=None, name='rating-rationale', title=\"What's the rationale behind each rating?\", description=None, required=True, type='text', use_markdown=False)]\n",
       "   guidelines=None\n",
       "   metadata_properties=[RemoteIntegerMetadataProperty(id=UUID('5547d600-1dfd-455c-9561-56558a3534f2'), client=<httpx.Client object at 0x79fd5dc31fc0>, name='length-input', title='length-input', visible_for_annotators=True, type='integer', min=None, max=None), RemoteIntegerMetadataProperty(id=UUID('b700b20f-d8e4-427f-9a77-0a87d78ac439'), client=<httpx.Client object at 0x79fd5dc31fc0>, name='length-generations-1', title='length-generations-1', visible_for_annotators=True, type='integer', min=None, max=None), RemoteIntegerMetadataProperty(id=UUID('c6ebf3b8-ca98-4e9f-a17f-cacbccafba3b'), client=<httpx.Client object at 0x79fd5dc31fc0>, name='length-generations-2', title='length-generations-2', visible_for_annotators=True, type='integer', min=None, max=None), RemoteFloatMetadataProperty(id=UUID('2165e938-15ff-46db-8f3b-96db7b55c823'), client=<httpx.Client object at 0x79fd5dc31fc0>, name='distance-best-rating', title='distance-best-rating', visible_for_annotators=True, type='float', min=None, max=None), RemoteIntegerMetadataProperty(id=UUID('ce2faac0-02df-48af-a16f-9ab068257b3c'), client=<httpx.Client object at 0x79fd5dc31fc0>, name='input_n_tokens', title='Input N Tokens', visible_for_annotators=True, type='integer', min=None, max=None), RemoteIntegerMetadataProperty(id=UUID('29a69cbe-3994-4334-9d26-d15ee27db188'), client=<httpx.Client object at 0x79fd5dc31fc0>, name='input_n_unique_tokens', title='Input N Unique Tokens', visible_for_annotators=True, type='integer', min=None, max=None), RemoteIntegerMetadataProperty(id=UUID('5d5eb1fc-a4bb-4e5d-a3c8-3fc9eaddf799'), client=<httpx.Client object at 0x79fd5dc31fc0>, name='input_n_sentences', title='Input N Sentences', visible_for_annotators=True, type='integer', min=None, max=None), RemoteFloatMetadataProperty(id=UUID('5c87a276-3fa3-476b-9405-7be79d75418f'), client=<httpx.Client object at 0x79fd5dc31fc0>, name='input_perplexity', title='Input Perplexity', visible_for_annotators=True, type='float', min=None, max=None), RemoteFloatMetadataProperty(id=UUID('1a368390-dd83-4aaf-9c1b-8b2938153ef3'), client=<httpx.Client object at 0x79fd5dc31fc0>, name='input_entropy', title='Input Entropy', visible_for_annotators=True, type='float', min=None, max=None), RemoteFloatMetadataProperty(id=UUID('3383d73b-900a-42be-b5bf-e064b3a3d42d'), client=<httpx.Client object at 0x79fd5dc31fc0>, name='input_flesch_reading_ease', title='Input Flesch Reading Ease', visible_for_annotators=True, type='float', min=None, max=None), RemoteIntegerMetadataProperty(id=UUID('cf3d788e-7717-434b-bf97-fea59bc50fd2'), client=<httpx.Client object at 0x79fd5dc31fc0>, name='generations_1_n_tokens', title='Generations 1 N Tokens', visible_for_annotators=True, type='integer', min=None, max=None), RemoteIntegerMetadataProperty(id=UUID('6dd43911-4dae-4df9-9928-f5134003438a'), client=<httpx.Client object at 0x79fd5dc31fc0>, name='generations_1_n_unique_tokens', title='Generations 1 N Unique Tokens', visible_for_annotators=True, type='integer', min=None, max=None), RemoteIntegerMetadataProperty(id=UUID('eb5b3e58-d674-4daa-90a8-652de08bcf5d'), client=<httpx.Client object at 0x79fd5dc31fc0>, name='generations_1_n_sentences', title='Generations 1 N Sentences', visible_for_annotators=True, type='integer', min=None, max=None), RemoteFloatMetadataProperty(id=UUID('1e3f397e-0e2d-4731-90ef-fa3178a12f36'), client=<httpx.Client object at 0x79fd5dc31fc0>, name='generations_1_perplexity', title='Generations 1 Perplexity', visible_for_annotators=True, type='float', min=None, max=None), RemoteFloatMetadataProperty(id=UUID('b0950414-28f1-4efb-956f-fc95786bc725'), client=<httpx.Client object at 0x79fd5dc31fc0>, name='generations_1_entropy', title='Generations 1 Entropy', visible_for_annotators=True, type='float', min=None, max=None), RemoteFloatMetadataProperty(id=UUID('3d6a1faa-50b7-4129-bc0c-e8f212c3a95f'), client=<httpx.Client object at 0x79fd5dc31fc0>, name='generations_1_flesch_reading_ease', title='Generations 1 Flesch Reading Ease', visible_for_annotators=True, type='float', min=None, max=None), RemoteIntegerMetadataProperty(id=UUID('aa774007-d8b2-400f-b596-9507fbb791a4'), client=<httpx.Client object at 0x79fd5dc31fc0>, name='generations_2_n_tokens', title='Generations 2 N Tokens', visible_for_annotators=True, type='integer', min=None, max=None), RemoteIntegerMetadataProperty(id=UUID('8bf6e681-2eb3-4696-8a47-5ab48708ba9b'), client=<httpx.Client object at 0x79fd5dc31fc0>, name='generations_2_n_unique_tokens', title='Generations 2 N Unique Tokens', visible_for_annotators=True, type='integer', min=None, max=None), RemoteIntegerMetadataProperty(id=UUID('d8793d7c-ceb6-4beb-a646-0554a94f673c'), client=<httpx.Client object at 0x79fd5dc31fc0>, name='generations_2_n_sentences', title='Generations 2 N Sentences', visible_for_annotators=True, type='integer', min=None, max=None), RemoteFloatMetadataProperty(id=UUID('95c7d074-9d63-48b1-8e1d-fcab0aee4695'), client=<httpx.Client object at 0x79fd5dc31fc0>, name='generations_2_perplexity', title='Generations 2 Perplexity', visible_for_annotators=True, type='float', min=None, max=None), RemoteFloatMetadataProperty(id=UUID('95df313c-bdd2-45d7-a849-474c8833da33'), client=<httpx.Client object at 0x79fd5dc31fc0>, name='generations_2_entropy', title='Generations 2 Entropy', visible_for_annotators=True, type='float', min=None, max=None), RemoteFloatMetadataProperty(id=UUID('3467a8a4-1693-452e-bb28-eb4cd4ca3937'), client=<httpx.Client object at 0x79fd5dc31fc0>, name='generations_2_flesch_reading_ease', title='Generations 2 Flesch Reading Ease', visible_for_annotators=True, type='float', min=None, max=None)]\n",
       "   vectors_settings=[RemoteVectorSettings(name='input', title='input', dimensions=384, id=UUID('ceadca6a-5142-4e54-9eab-b1c5ea1a32b5'), inserted_at=datetime.datetime(2024, 3, 20, 15, 15, 48, 589056), updated_at=datetime.datetime(2024, 3, 20, 15, 15, 48, 589056)), RemoteVectorSettings(name='generations-1', title='generations-1', dimensions=384, id=UUID('6b56c559-c675-4974-861c-ae164438e319'), inserted_at=datetime.datetime(2024, 3, 20, 15, 15, 48, 778784), updated_at=datetime.datetime(2024, 3, 20, 15, 15, 48, 778784)), RemoteVectorSettings(name='generations-2', title='generations-2', dimensions=384, id=UUID('1c66fe3b-5c1e-4d3a-80d7-1bbe545a4416'), inserted_at=datetime.datetime(2024, 3, 20, 15, 15, 48, 916306), updated_at=datetime.datetime(2024, 3, 20, 15, 15, 48, 916306))]\n",
       ")"
      ]
     },
     "execution_count": 16,
     "metadata": {},
     "output_type": "execute_result"
    }
   ],
   "source": [
    "# Uploading the Preference Dataset\n",
    "preference_rg_dataset = preference_dataset.to_argilla()\n",
    "\n",
    "# Adding the context as a metadata property in the new Feedback dataset, as this\n",
    "# information will be useful later.\n",
    "for record_feedback, record_huggingface in zip(\n",
    "    preference_rg_dataset, preference_dataset\n",
    "):\n",
    "    record_feedback.metadata[\"context\"] = record_huggingface[\"context\"]\n",
    "\n",
    "preference_rg_dataset.push_to_argilla(name=f\"ollama_preference\", workspace=\"admin\")"
   ]
  },
  {
   "cell_type": "code",
   "execution_count": 17,
   "metadata": {},
   "outputs": [
    {
     "data": {
      "application/vnd.jupyter.widget-view+json": {
       "model_id": "a764fb92fb044b428f114b55512bdce8",
       "version_major": 2,
       "version_minor": 0
      },
      "text/plain": [
       "Uploading the dataset shards:   0%|          | 0/1 [00:00<?, ?it/s]"
      ]
     },
     "metadata": {},
     "output_type": "display_data"
    },
    {
     "data": {
      "application/vnd.jupyter.widget-view+json": {
       "model_id": "159cb2b7af0149da98e7ad4dedbdf549",
       "version_major": 2,
       "version_minor": 0
      },
      "text/plain": [
       "Creating parquet from Arrow format:   0%|          | 0/1 [00:00<?, ?ba/s]"
      ]
     },
     "metadata": {},
     "output_type": "display_data"
    }
   ],
   "source": [
    "preference_rg_dataset.push_to_huggingface(\"strickvl/ollama_preference_zenml\")"
   ]
  },
  {
   "cell_type": "code",
   "execution_count": null,
   "metadata": {},
   "outputs": [],
   "source": []
  }
 ],
 "metadata": {
  "kernelspec": {
   "display_name": "datagen",
   "language": "python",
   "name": "python3"
  },
  "language_info": {
   "codemirror_mode": {
    "name": "ipython",
    "version": 3
   },
   "file_extension": ".py",
   "mimetype": "text/x-python",
   "name": "python",
   "nbconvert_exporter": "python",
   "pygments_lexer": "ipython3",
   "version": "3.10.12"
  }
 },
 "nbformat": 4,
 "nbformat_minor": 2
}
