{
 "cells": [
  {
   "cell_type": "code",
   "execution_count": null,
   "metadata": {},
   "outputs": [],
   "source": [
    "from steps import (\n",
    "    evaluate_model,\n",
    "    finetune,\n",
    "    prepare_data,\n",
    "    promote,\n",
    "    log_metadata_from_step_artifact,\n",
    ")\n",
    "from zenml import pipeline"
   ]
  },
  {
   "cell_type": "code",
   "execution_count": null,
   "metadata": {},
   "outputs": [],
   "source": []
  }
 ],
 "metadata": {
  "language_info": {
   "name": "python"
  }
 },
 "nbformat": 4,
 "nbformat_minor": 2
}
