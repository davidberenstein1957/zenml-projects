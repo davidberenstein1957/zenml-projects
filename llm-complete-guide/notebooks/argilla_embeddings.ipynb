{
 "cells": [
  {
   "cell_type": "markdown",
   "metadata": {},
   "source": [
    "# Download the dataset\n",
    "\n",
    "Our data is available on the Hugging Face Hub so we can download it directly.\n",
    "There is only a single split (`train`) so we'll have to make a split ourselves\n",
    "after we download it.\n",
    "\n",
    "After that we can re-upload the dataset to the Hub with the new split."
   ]
  },
  {
   "cell_type": "code",
   "execution_count": 23,
   "metadata": {},
   "outputs": [
    {
     "data": {
      "application/vnd.jupyter.widget-view+json": {
       "model_id": "0e44a2a677024d07acd207918c8d1a5b",
       "version_major": 2,
       "version_minor": 0
      },
      "text/plain": [
       "Downloading readme:   0%|          | 0.00/683 [00:00<?, ?B/s]"
      ]
     },
     "metadata": {},
     "output_type": "display_data"
    },
    {
     "name": "stderr",
     "output_type": "stream",
     "text": [
      "Downloading data: 100%|██████████| 5.69M/5.69M [00:00<00:00, 10.6MB/s]\n",
      "Downloading data: 100%|██████████| 1.56M/1.56M [00:00<00:00, 4.47MB/s]\n"
     ]
    },
    {
     "data": {
      "application/vnd.jupyter.widget-view+json": {
       "model_id": "9b407274b6754dbfb7d8c9f6a010c809",
       "version_major": 2,
       "version_minor": 0
      },
      "text/plain": [
       "Generating train split:   0%|          | 0/1656 [00:00<?, ? examples/s]"
      ]
     },
     "metadata": {},
     "output_type": "display_data"
    },
    {
     "data": {
      "application/vnd.jupyter.widget-view+json": {
       "model_id": "e6fa13ab2b7443c2b937d050a0a90010",
       "version_major": 2,
       "version_minor": 0
      },
      "text/plain": [
       "Generating test split:   0%|          | 0/414 [00:00<?, ? examples/s]"
      ]
     },
     "metadata": {},
     "output_type": "display_data"
    },
    {
     "data": {
      "text/plain": [
       "DatasetDict({\n",
       "    train: Dataset({\n",
       "        features: ['page_content', 'filename', 'parent_section', 'url', 'embedding', 'token_count', 'generated_questions'],\n",
       "        num_rows: 1656\n",
       "    })\n",
       "    test: Dataset({\n",
       "        features: ['page_content', 'filename', 'parent_section', 'url', 'embedding', 'token_count', 'generated_questions'],\n",
       "        num_rows: 414\n",
       "    })\n",
       "})"
      ]
     },
     "execution_count": 23,
     "metadata": {},
     "output_type": "execute_result"
    }
   ],
   "source": [
    "from datasets import load_dataset\n",
    "\n",
    "repo_name = \"zenml/rag_qa_embedding_questions_0_60_0\"\n",
    "\n",
    "dataset = load_dataset(repo_name)\n",
    "\n",
    "dataset"
   ]
  },
  {
   "cell_type": "code",
   "execution_count": 24,
   "metadata": {},
   "outputs": [
    {
     "data": {
      "text/plain": [
       "Dataset({\n",
       "    features: ['page_content', 'filename', 'parent_section', 'url', 'embedding', 'token_count', 'generated_questions'],\n",
       "    num_rows: 1656\n",
       "})"
      ]
     },
     "execution_count": 24,
     "metadata": {},
     "output_type": "execute_result"
    }
   ],
   "source": [
    "training_data = dataset[\"train\"]\n",
    "\n",
    "training_data"
   ]
  },
  {
   "cell_type": "code",
   "execution_count": null,
   "metadata": {},
   "outputs": [],
   "source": []
  }
 ],
 "metadata": {
  "kernelspec": {
   "display_name": "new-rag",
   "language": "python",
   "name": "python3"
  },
  "language_info": {
   "codemirror_mode": {
    "name": "ipython",
    "version": 3
   },
   "file_extension": ".py",
   "mimetype": "text/x-python",
   "name": "python",
   "nbconvert_exporter": "python",
   "pygments_lexer": "ipython3",
   "version": "3.10.12"
  }
 },
 "nbformat": 4,
 "nbformat_minor": 2
}
